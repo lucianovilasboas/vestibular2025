{
 "cells": [
  {
   "cell_type": "code",
   "execution_count": 3,
   "metadata": {},
   "outputs": [],
   "source": [
    "import pandas as pd\n",
    "import streamlit as st \n",
    "import plotly.express as px\n",
    "\n",
    "from funcoes import *"
   ]
  },
  {
   "cell_type": "code",
   "execution_count": 4,
   "metadata": {},
   "outputs": [],
   "source": [
    "dfT2024 = process_file_for_tec(\"dados/2024-1_GestaoResultado_ResumoInscricoes_TEC.xlsx\")\n",
    "# dfS2024 = process_file_for_sub(\"dados/2024-1_GestaoResultado_ResumoInscricoes_SUB.xlsx\")\n",
    "dfG2024 = process_file_for_grad(\"dados/2024-1_GestaoResultado_ResumoInscricoes_GRAD.xlsx\")\n",
    "\n",
    "dfT2025 = process_file_for_tec(\"dados/2025-1_GestaoResultado_ResumoInscricoes_TEC.xlsx\")\n",
    "dfS2025 = process_file_for_sub(\"dados/2025-1_GestaoResultado_ResumoInscricoes_SUB.xlsx\")\n",
    "dfG2025 = process_file_for_grad(\"dados/2025-1_GestaoResultado_ResumoInscricoes_GRAD.xlsx\")\n",
    "\n"
   ]
  },
  {
   "cell_type": "code",
   "execution_count": 5,
   "metadata": {},
   "outputs": [],
   "source": [
    "dfAll2024 = pd.concat([dfT2024, dfG2024])\n",
    "dfAll2025 = pd.concat([dfT2025, dfS2025, dfG2025])\n"
   ]
  },
  {
   "cell_type": "code",
   "execution_count": 4,
   "metadata": {},
   "outputs": [
    {
     "data": {
      "text/html": [
       "<div>\n",
       "<style scoped>\n",
       "    .dataframe tbody tr th:only-of-type {\n",
       "        vertical-align: middle;\n",
       "    }\n",
       "\n",
       "    .dataframe tbody tr th {\n",
       "        vertical-align: top;\n",
       "    }\n",
       "\n",
       "    .dataframe thead th {\n",
       "        text-align: right;\n",
       "    }\n",
       "</style>\n",
       "<table border=\"1\" class=\"dataframe\">\n",
       "  <thead>\n",
       "    <tr style=\"text-align: right;\">\n",
       "      <th></th>\n",
       "      <th>Curso</th>\n",
       "      <th>Modalidade</th>\n",
       "      <th>Campus</th>\n",
       "      <th>Turno</th>\n",
       "      <th>Nivel</th>\n",
       "      <th>Inscritos</th>\n",
       "      <th>Pagos</th>\n",
       "      <th>Deferidas</th>\n",
       "      <th>Homologadas</th>\n",
       "      <th>FormaIngresso</th>\n",
       "    </tr>\n",
       "  </thead>\n",
       "  <tbody>\n",
       "    <tr>\n",
       "      <th>0</th>\n",
       "      <td>ADMINISTRAÇÃO</td>\n",
       "      <td>Integrado</td>\n",
       "      <td>FORMIGA</td>\n",
       "      <td>Turno Integral</td>\n",
       "      <td>Nível Fundamental</td>\n",
       "      <td>84</td>\n",
       "      <td>54</td>\n",
       "      <td>14</td>\n",
       "      <td>68</td>\n",
       "      <td>Processo Seletivo</td>\n",
       "    </tr>\n",
       "    <tr>\n",
       "      <th>1</th>\n",
       "      <td>ADMINISTRAÇÃO</td>\n",
       "      <td>Integrado</td>\n",
       "      <td>BAMBUÍ</td>\n",
       "      <td>Turno Integral</td>\n",
       "      <td>Nível Fundamental</td>\n",
       "      <td>66</td>\n",
       "      <td>47</td>\n",
       "      <td>4</td>\n",
       "      <td>51</td>\n",
       "      <td>Processo Seletivo</td>\n",
       "    </tr>\n",
       "    <tr>\n",
       "      <th>2</th>\n",
       "      <td>ADMINISTRAÇÃO</td>\n",
       "      <td>Integrado</td>\n",
       "      <td>OURO BRANCO</td>\n",
       "      <td>Turno Integral</td>\n",
       "      <td>Nível Fundamental</td>\n",
       "      <td>221</td>\n",
       "      <td>171</td>\n",
       "      <td>25</td>\n",
       "      <td>196</td>\n",
       "      <td>Processo Seletivo</td>\n",
       "    </tr>\n",
       "    <tr>\n",
       "      <th>3</th>\n",
       "      <td>ADMINISTRAÇÃO</td>\n",
       "      <td>Integrado</td>\n",
       "      <td>OURO PRETO</td>\n",
       "      <td>Turno Integral</td>\n",
       "      <td>Nível Fundamental</td>\n",
       "      <td>273</td>\n",
       "      <td>223</td>\n",
       "      <td>22</td>\n",
       "      <td>245</td>\n",
       "      <td>Processo Seletivo</td>\n",
       "    </tr>\n",
       "    <tr>\n",
       "      <th>4</th>\n",
       "      <td>ADMINISTRAÇÃO</td>\n",
       "      <td>Integrado</td>\n",
       "      <td>PONTE NOVA</td>\n",
       "      <td>Turno Integral</td>\n",
       "      <td>Nível Fundamental</td>\n",
       "      <td>339</td>\n",
       "      <td>282</td>\n",
       "      <td>28</td>\n",
       "      <td>310</td>\n",
       "      <td>Processo Seletivo</td>\n",
       "    </tr>\n",
       "    <tr>\n",
       "      <th>...</th>\n",
       "      <td>...</td>\n",
       "      <td>...</td>\n",
       "      <td>...</td>\n",
       "      <td>...</td>\n",
       "      <td>...</td>\n",
       "      <td>...</td>\n",
       "      <td>...</td>\n",
       "      <td>...</td>\n",
       "      <td>...</td>\n",
       "      <td>...</td>\n",
       "    </tr>\n",
       "    <tr>\n",
       "      <th>66</th>\n",
       "      <td>SISTEMAS DE INFORMAÇÃO</td>\n",
       "      <td>Bacharelado</td>\n",
       "      <td>OURO BRANCO</td>\n",
       "      <td>Turno Noturno</td>\n",
       "      <td>Nível Médio</td>\n",
       "      <td>108</td>\n",
       "      <td>64</td>\n",
       "      <td>22</td>\n",
       "      <td>86</td>\n",
       "      <td>Aproveitamento de notas obtidas no ENEM</td>\n",
       "    </tr>\n",
       "    <tr>\n",
       "      <th>67</th>\n",
       "      <td>SISTEMAS DE INFORMAÇÃO</td>\n",
       "      <td>Bacharelado</td>\n",
       "      <td>SABARÁ</td>\n",
       "      <td>Turno Matutino</td>\n",
       "      <td>Nível Médio</td>\n",
       "      <td>120</td>\n",
       "      <td>73</td>\n",
       "      <td>21</td>\n",
       "      <td>94</td>\n",
       "      <td>Aproveitamento de notas obtidas no ENEM</td>\n",
       "    </tr>\n",
       "    <tr>\n",
       "      <th>68</th>\n",
       "      <td>PROCESSOS GERENCIAIS</td>\n",
       "      <td>Tecnológico</td>\n",
       "      <td>PONTE NOVA</td>\n",
       "      <td>Turno Noturno</td>\n",
       "      <td>Nível Médio</td>\n",
       "      <td>23</td>\n",
       "      <td>8</td>\n",
       "      <td>4</td>\n",
       "      <td>12</td>\n",
       "      <td>Analise de Desempenho Escolar mais uma prova d...</td>\n",
       "    </tr>\n",
       "    <tr>\n",
       "      <th>69</th>\n",
       "      <td>PROCESSOS GERENCIAIS</td>\n",
       "      <td>Tecnológico</td>\n",
       "      <td>PONTE NOVA</td>\n",
       "      <td>Turno Noturno</td>\n",
       "      <td>Nível Médio</td>\n",
       "      <td>35</td>\n",
       "      <td>11</td>\n",
       "      <td>8</td>\n",
       "      <td>19</td>\n",
       "      <td>Aproveitamento de notas obtidas no ENEM</td>\n",
       "    </tr>\n",
       "    <tr>\n",
       "      <th>70</th>\n",
       "      <td>ZOOTECNIA</td>\n",
       "      <td>Bacharelado</td>\n",
       "      <td>BAMBUÍ</td>\n",
       "      <td>Turno Integral</td>\n",
       "      <td>Nível Médio</td>\n",
       "      <td>26</td>\n",
       "      <td>14</td>\n",
       "      <td>9</td>\n",
       "      <td>23</td>\n",
       "      <td>Aproveitamento de notas obtidas no ENEM</td>\n",
       "    </tr>\n",
       "  </tbody>\n",
       "</table>\n",
       "<p>142 rows × 10 columns</p>\n",
       "</div>"
      ],
      "text/plain": [
       "                     Curso   Modalidade       Campus           Turno  \\\n",
       "0            ADMINISTRAÇÃO    Integrado      FORMIGA  Turno Integral   \n",
       "1            ADMINISTRAÇÃO    Integrado       BAMBUÍ  Turno Integral   \n",
       "2            ADMINISTRAÇÃO    Integrado  OURO BRANCO  Turno Integral   \n",
       "3            ADMINISTRAÇÃO    Integrado   OURO PRETO  Turno Integral   \n",
       "4            ADMINISTRAÇÃO    Integrado   PONTE NOVA  Turno Integral   \n",
       "..                     ...          ...          ...             ...   \n",
       "66  SISTEMAS DE INFORMAÇÃO  Bacharelado  OURO BRANCO   Turno Noturno   \n",
       "67  SISTEMAS DE INFORMAÇÃO  Bacharelado       SABARÁ  Turno Matutino   \n",
       "68    PROCESSOS GERENCIAIS  Tecnológico   PONTE NOVA   Turno Noturno   \n",
       "69    PROCESSOS GERENCIAIS  Tecnológico   PONTE NOVA   Turno Noturno   \n",
       "70               ZOOTECNIA  Bacharelado       BAMBUÍ  Turno Integral   \n",
       "\n",
       "                Nivel  Inscritos  Pagos  Deferidas  Homologadas  \\\n",
       "0   Nível Fundamental         84     54         14           68   \n",
       "1   Nível Fundamental         66     47          4           51   \n",
       "2   Nível Fundamental        221    171         25          196   \n",
       "3   Nível Fundamental        273    223         22          245   \n",
       "4   Nível Fundamental        339    282         28          310   \n",
       "..                ...        ...    ...        ...          ...   \n",
       "66        Nível Médio        108     64         22           86   \n",
       "67        Nível Médio        120     73         21           94   \n",
       "68        Nível Médio         23      8          4           12   \n",
       "69        Nível Médio         35     11          8           19   \n",
       "70        Nível Médio         26     14          9           23   \n",
       "\n",
       "                                        FormaIngresso  \n",
       "0                                   Processo Seletivo  \n",
       "1                                   Processo Seletivo  \n",
       "2                                   Processo Seletivo  \n",
       "3                                   Processo Seletivo  \n",
       "4                                   Processo Seletivo  \n",
       "..                                                ...  \n",
       "66            Aproveitamento de notas obtidas no ENEM  \n",
       "67            Aproveitamento de notas obtidas no ENEM  \n",
       "68  Analise de Desempenho Escolar mais uma prova d...  \n",
       "69            Aproveitamento de notas obtidas no ENEM  \n",
       "70            Aproveitamento de notas obtidas no ENEM  \n",
       "\n",
       "[142 rows x 10 columns]"
      ]
     },
     "execution_count": 4,
     "metadata": {},
     "output_type": "execute_result"
    }
   ],
   "source": [
    "dfAll2024"
   ]
  },
  {
   "cell_type": "code",
   "execution_count": 5,
   "metadata": {},
   "outputs": [
    {
     "data": {
      "text/html": [
       "<div>\n",
       "<style scoped>\n",
       "    .dataframe tbody tr th:only-of-type {\n",
       "        vertical-align: middle;\n",
       "    }\n",
       "\n",
       "    .dataframe tbody tr th {\n",
       "        vertical-align: top;\n",
       "    }\n",
       "\n",
       "    .dataframe thead th {\n",
       "        text-align: right;\n",
       "    }\n",
       "</style>\n",
       "<table border=\"1\" class=\"dataframe\">\n",
       "  <thead>\n",
       "    <tr style=\"text-align: right;\">\n",
       "      <th></th>\n",
       "      <th>Curso</th>\n",
       "      <th>Modalidade</th>\n",
       "      <th>Campus</th>\n",
       "      <th>Turno</th>\n",
       "      <th>Nivel</th>\n",
       "      <th>Inscritos</th>\n",
       "      <th>Pagos</th>\n",
       "      <th>Deferidas</th>\n",
       "      <th>Homologadas</th>\n",
       "      <th>FormaIngresso</th>\n",
       "    </tr>\n",
       "  </thead>\n",
       "  <tbody>\n",
       "    <tr>\n",
       "      <th>0</th>\n",
       "      <td>ADMINISTRAÇÃO</td>\n",
       "      <td>Integrado</td>\n",
       "      <td>ARCOS</td>\n",
       "      <td>Turnos Manhã e Tarde</td>\n",
       "      <td>Médio</td>\n",
       "      <td>48</td>\n",
       "      <td>25</td>\n",
       "      <td>0</td>\n",
       "      <td>25</td>\n",
       "      <td>Processo Seletivo</td>\n",
       "    </tr>\n",
       "    <tr>\n",
       "      <th>1</th>\n",
       "      <td>MECÂNICA</td>\n",
       "      <td>Integrado</td>\n",
       "      <td>ARCOS</td>\n",
       "      <td>Turnos Manhã e Tarde</td>\n",
       "      <td>médio</td>\n",
       "      <td>17</td>\n",
       "      <td>11</td>\n",
       "      <td>0</td>\n",
       "      <td>11</td>\n",
       "      <td>Processo Seletivo</td>\n",
       "    </tr>\n",
       "    <tr>\n",
       "      <th>2</th>\n",
       "      <td>ADMINISTRAÇÃO</td>\n",
       "      <td>Integrado</td>\n",
       "      <td>BAMBUÍ</td>\n",
       "      <td>Turnos Manhã e Tarde</td>\n",
       "      <td>médio</td>\n",
       "      <td>11</td>\n",
       "      <td>6</td>\n",
       "      <td>0</td>\n",
       "      <td>6</td>\n",
       "      <td>Processo Seletivo</td>\n",
       "    </tr>\n",
       "    <tr>\n",
       "      <th>3</th>\n",
       "      <td>AGROPECUÁRIA</td>\n",
       "      <td>Integrado</td>\n",
       "      <td>BAMBUÍ</td>\n",
       "      <td>Turnos Manhã e Tarde</td>\n",
       "      <td>médio</td>\n",
       "      <td>40</td>\n",
       "      <td>18</td>\n",
       "      <td>0</td>\n",
       "      <td>18</td>\n",
       "      <td>Processo Seletivo</td>\n",
       "    </tr>\n",
       "    <tr>\n",
       "      <th>4</th>\n",
       "      <td>BIOTECNOLOGIA</td>\n",
       "      <td>Integrado</td>\n",
       "      <td>BAMBUÍ</td>\n",
       "      <td>Turnos Manhã e Tarde</td>\n",
       "      <td>médio</td>\n",
       "      <td>15</td>\n",
       "      <td>8</td>\n",
       "      <td>0</td>\n",
       "      <td>8</td>\n",
       "      <td>Processo Seletivo</td>\n",
       "    </tr>\n",
       "    <tr>\n",
       "      <th>...</th>\n",
       "      <td>...</td>\n",
       "      <td>...</td>\n",
       "      <td>...</td>\n",
       "      <td>...</td>\n",
       "      <td>...</td>\n",
       "      <td>...</td>\n",
       "      <td>...</td>\n",
       "      <td>...</td>\n",
       "      <td>...</td>\n",
       "      <td>...</td>\n",
       "    </tr>\n",
       "    <tr>\n",
       "      <th>83</th>\n",
       "      <td>MATEMÁTICA</td>\n",
       "      <td>Licenciatura</td>\n",
       "      <td>SÃO JOÃO EVANGELISTA</td>\n",
       "      <td>Turno Noturno</td>\n",
       "      <td>Superior</td>\n",
       "      <td>1</td>\n",
       "      <td>0</td>\n",
       "      <td>0</td>\n",
       "      <td>0</td>\n",
       "      <td>Notas do Enem</td>\n",
       "    </tr>\n",
       "    <tr>\n",
       "      <th>84</th>\n",
       "      <td>MATEMÁTICA</td>\n",
       "      <td>Licenciatura</td>\n",
       "      <td>SÃO JOÃO EVANGELISTA</td>\n",
       "      <td>Turno Noturno</td>\n",
       "      <td>Superior</td>\n",
       "      <td>0</td>\n",
       "      <td>0</td>\n",
       "      <td>0</td>\n",
       "      <td>0</td>\n",
       "      <td>Redação Online</td>\n",
       "    </tr>\n",
       "    <tr>\n",
       "      <th>85</th>\n",
       "      <td>SISTEMAS DE INFORMAÇÃO</td>\n",
       "      <td>Bacharelado</td>\n",
       "      <td>SÃO JOÃO EVANGELISTA</td>\n",
       "      <td>Turno Manhã e Tarde</td>\n",
       "      <td>Superior</td>\n",
       "      <td>3</td>\n",
       "      <td>1</td>\n",
       "      <td>0</td>\n",
       "      <td>1</td>\n",
       "      <td>Notas do Enem</td>\n",
       "    </tr>\n",
       "    <tr>\n",
       "      <th>86</th>\n",
       "      <td>SISTEMAS DE INFORMAÇÃO</td>\n",
       "      <td>Bacharelado</td>\n",
       "      <td>SÃO JOÃO EVANGELISTA</td>\n",
       "      <td>Turno Manhã e Tarde</td>\n",
       "      <td>Superior</td>\n",
       "      <td>0</td>\n",
       "      <td>0</td>\n",
       "      <td>0</td>\n",
       "      <td>0</td>\n",
       "      <td>Redação Online</td>\n",
       "    </tr>\n",
       "    <tr>\n",
       "      <th>87</th>\n",
       "      <td>ENGENHARIA DE CONTROLE E AUTOMAÇÃO</td>\n",
       "      <td>Bacharelado</td>\n",
       "      <td>IBIRITÉ</td>\n",
       "      <td>Turno Manhã e Tarde</td>\n",
       "      <td>Superior</td>\n",
       "      <td>9</td>\n",
       "      <td>3</td>\n",
       "      <td>0</td>\n",
       "      <td>3</td>\n",
       "      <td>Notas do Enem</td>\n",
       "    </tr>\n",
       "  </tbody>\n",
       "</table>\n",
       "<p>156 rows × 10 columns</p>\n",
       "</div>"
      ],
      "text/plain": [
       "                                 Curso    Modalidade                Campus  \\\n",
       "0                        ADMINISTRAÇÃO     Integrado                 ARCOS   \n",
       "1                             MECÂNICA     Integrado                 ARCOS   \n",
       "2                        ADMINISTRAÇÃO     Integrado                BAMBUÍ   \n",
       "3                         AGROPECUÁRIA     Integrado                BAMBUÍ   \n",
       "4                        BIOTECNOLOGIA     Integrado                BAMBUÍ   \n",
       "..                                 ...           ...                   ...   \n",
       "83                          MATEMÁTICA  Licenciatura  SÃO JOÃO EVANGELISTA   \n",
       "84                          MATEMÁTICA  Licenciatura  SÃO JOÃO EVANGELISTA   \n",
       "85              SISTEMAS DE INFORMAÇÃO   Bacharelado  SÃO JOÃO EVANGELISTA   \n",
       "86              SISTEMAS DE INFORMAÇÃO   Bacharelado  SÃO JOÃO EVANGELISTA   \n",
       "87  ENGENHARIA DE CONTROLE E AUTOMAÇÃO   Bacharelado               IBIRITÉ   \n",
       "\n",
       "                   Turno     Nivel  Inscritos  Pagos  Deferidas  Homologadas  \\\n",
       "0   Turnos Manhã e Tarde     Médio         48     25          0           25   \n",
       "1   Turnos Manhã e Tarde     médio         17     11          0           11   \n",
       "2   Turnos Manhã e Tarde     médio         11      6          0            6   \n",
       "3   Turnos Manhã e Tarde     médio         40     18          0           18   \n",
       "4   Turnos Manhã e Tarde     médio         15      8          0            8   \n",
       "..                   ...       ...        ...    ...        ...          ...   \n",
       "83         Turno Noturno  Superior          1      0          0            0   \n",
       "84         Turno Noturno  Superior          0      0          0            0   \n",
       "85   Turno Manhã e Tarde  Superior          3      1          0            1   \n",
       "86   Turno Manhã e Tarde  Superior          0      0          0            0   \n",
       "87   Turno Manhã e Tarde  Superior          9      3          0            3   \n",
       "\n",
       "        FormaIngresso  \n",
       "0   Processo Seletivo  \n",
       "1   Processo Seletivo  \n",
       "2   Processo Seletivo  \n",
       "3   Processo Seletivo  \n",
       "4   Processo Seletivo  \n",
       "..                ...  \n",
       "83      Notas do Enem  \n",
       "84     Redação Online  \n",
       "85      Notas do Enem  \n",
       "86     Redação Online  \n",
       "87      Notas do Enem  \n",
       "\n",
       "[156 rows x 10 columns]"
      ]
     },
     "execution_count": 5,
     "metadata": {},
     "output_type": "execute_result"
    }
   ],
   "source": [
    "dfAll2025"
   ]
  },
  {
   "cell_type": "code",
   "execution_count": 26,
   "metadata": {},
   "outputs": [
    {
     "data": {
      "text/html": [
       "<div>\n",
       "<style scoped>\n",
       "    .dataframe tbody tr th:only-of-type {\n",
       "        vertical-align: middle;\n",
       "    }\n",
       "\n",
       "    .dataframe tbody tr th {\n",
       "        vertical-align: top;\n",
       "    }\n",
       "\n",
       "    .dataframe thead th {\n",
       "        text-align: right;\n",
       "    }\n",
       "</style>\n",
       "<table border=\"1\" class=\"dataframe\">\n",
       "  <thead>\n",
       "    <tr style=\"text-align: right;\">\n",
       "      <th></th>\n",
       "      <th>Modalidade</th>\n",
       "      <th>Curso</th>\n",
       "      <th>Inscritos</th>\n",
       "    </tr>\n",
       "  </thead>\n",
       "  <tbody>\n",
       "    <tr>\n",
       "      <th>0</th>\n",
       "      <td>Bacharelado</td>\n",
       "      <td>ADMINISTRAÇÃO</td>\n",
       "      <td>88</td>\n",
       "    </tr>\n",
       "    <tr>\n",
       "      <th>16</th>\n",
       "      <td>Bacharelado</td>\n",
       "      <td>ZOOTECNIA</td>\n",
       "      <td>5</td>\n",
       "    </tr>\n",
       "    <tr>\n",
       "      <th>14</th>\n",
       "      <td>Bacharelado</td>\n",
       "      <td>MEDICINA VETERINÁRIA</td>\n",
       "      <td>66</td>\n",
       "    </tr>\n",
       "    <tr>\n",
       "      <th>13</th>\n",
       "      <td>Bacharelado</td>\n",
       "      <td>ENGENHARIA METALÚRGICA</td>\n",
       "      <td>20</td>\n",
       "    </tr>\n",
       "    <tr>\n",
       "      <th>12</th>\n",
       "      <td>Bacharelado</td>\n",
       "      <td>ENGENHARIA MECÂNICA</td>\n",
       "      <td>48</td>\n",
       "    </tr>\n",
       "    <tr>\n",
       "      <th>11</th>\n",
       "      <td>Bacharelado</td>\n",
       "      <td>ENGENHARIA FLORESTAL</td>\n",
       "      <td>1</td>\n",
       "    </tr>\n",
       "    <tr>\n",
       "      <th>10</th>\n",
       "      <td>Bacharelado</td>\n",
       "      <td>ENGENHARIA ELÉTRICA</td>\n",
       "      <td>37</td>\n",
       "    </tr>\n",
       "    <tr>\n",
       "      <th>9</th>\n",
       "      <td>Bacharelado</td>\n",
       "      <td>ENGENHARIA DE PRODUÇÃO</td>\n",
       "      <td>22</td>\n",
       "    </tr>\n",
       "    <tr>\n",
       "      <th>15</th>\n",
       "      <td>Bacharelado</td>\n",
       "      <td>SISTEMAS DE INFORMAÇÃO</td>\n",
       "      <td>51</td>\n",
       "    </tr>\n",
       "    <tr>\n",
       "      <th>7</th>\n",
       "      <td>Bacharelado</td>\n",
       "      <td>ENGENHARIA DE ALIMENTOS</td>\n",
       "      <td>0</td>\n",
       "    </tr>\n",
       "    <tr>\n",
       "      <th>6</th>\n",
       "      <td>Bacharelado</td>\n",
       "      <td>ENGENHARIA DA COMPUTAÇÃO</td>\n",
       "      <td>8</td>\n",
       "    </tr>\n",
       "    <tr>\n",
       "      <th>5</th>\n",
       "      <td>Bacharelado</td>\n",
       "      <td>ENGENHARIA CIVIL</td>\n",
       "      <td>44</td>\n",
       "    </tr>\n",
       "    <tr>\n",
       "      <th>4</th>\n",
       "      <td>Bacharelado</td>\n",
       "      <td>ENGENHARIA AMBIENTAL E SANITÁRIA</td>\n",
       "      <td>8</td>\n",
       "    </tr>\n",
       "    <tr>\n",
       "      <th>3</th>\n",
       "      <td>Bacharelado</td>\n",
       "      <td>CIÊNCIA DA COMPUTAÇÃO</td>\n",
       "      <td>41</td>\n",
       "    </tr>\n",
       "    <tr>\n",
       "      <th>2</th>\n",
       "      <td>Bacharelado</td>\n",
       "      <td>ARQUITETURA E URBANISMO</td>\n",
       "      <td>21</td>\n",
       "    </tr>\n",
       "    <tr>\n",
       "      <th>1</th>\n",
       "      <td>Bacharelado</td>\n",
       "      <td>AGRONOMIA</td>\n",
       "      <td>22</td>\n",
       "    </tr>\n",
       "    <tr>\n",
       "      <th>8</th>\n",
       "      <td>Bacharelado</td>\n",
       "      <td>ENGENHARIA DE CONTROLE E AUTOMAÇÃO</td>\n",
       "      <td>68</td>\n",
       "    </tr>\n",
       "    <tr>\n",
       "      <th>45</th>\n",
       "      <td>Licenciatura</td>\n",
       "      <td>PEDAGOGIA</td>\n",
       "      <td>17</td>\n",
       "    </tr>\n",
       "    <tr>\n",
       "      <th>44</th>\n",
       "      <td>Licenciatura</td>\n",
       "      <td>MATEMÁTICA</td>\n",
       "      <td>3</td>\n",
       "    </tr>\n",
       "    <tr>\n",
       "      <th>43</th>\n",
       "      <td>Licenciatura</td>\n",
       "      <td>LETRAS (PORTUGUÊS INGLÊS)</td>\n",
       "      <td>4</td>\n",
       "    </tr>\n",
       "    <tr>\n",
       "      <th>41</th>\n",
       "      <td>Licenciatura</td>\n",
       "      <td>FÍSICA</td>\n",
       "      <td>5</td>\n",
       "    </tr>\n",
       "    <tr>\n",
       "      <th>40</th>\n",
       "      <td>Licenciatura</td>\n",
       "      <td>EDUCAÇÃO FÍSICA</td>\n",
       "      <td>6</td>\n",
       "    </tr>\n",
       "    <tr>\n",
       "      <th>39</th>\n",
       "      <td>Licenciatura</td>\n",
       "      <td>CIÊNCIAS BIOLÓGICAS</td>\n",
       "      <td>4</td>\n",
       "    </tr>\n",
       "    <tr>\n",
       "      <th>42</th>\n",
       "      <td>Licenciatura</td>\n",
       "      <td>GEOGRAFIA</td>\n",
       "      <td>4</td>\n",
       "    </tr>\n",
       "    <tr>\n",
       "      <th>62</th>\n",
       "      <td>Tecnológico</td>\n",
       "      <td>LOGÍSTICA</td>\n",
       "      <td>14</td>\n",
       "    </tr>\n",
       "    <tr>\n",
       "      <th>57</th>\n",
       "      <td>Tecnológico</td>\n",
       "      <td>ANÁLISE E DESENVOLVIMENTO DE SISTEMAS</td>\n",
       "      <td>22</td>\n",
       "    </tr>\n",
       "    <tr>\n",
       "      <th>58</th>\n",
       "      <td>Tecnológico</td>\n",
       "      <td>CONSERVAÇÃO E RESTAURO</td>\n",
       "      <td>4</td>\n",
       "    </tr>\n",
       "    <tr>\n",
       "      <th>59</th>\n",
       "      <td>Tecnológico</td>\n",
       "      <td>DESIGN DE INTERIORES</td>\n",
       "      <td>8</td>\n",
       "    </tr>\n",
       "    <tr>\n",
       "      <th>60</th>\n",
       "      <td>Tecnológico</td>\n",
       "      <td>GESTÃO AMBIENTAL</td>\n",
       "      <td>2</td>\n",
       "    </tr>\n",
       "    <tr>\n",
       "      <th>61</th>\n",
       "      <td>Tecnológico</td>\n",
       "      <td>GESTÃO DA QUALIDADE</td>\n",
       "      <td>6</td>\n",
       "    </tr>\n",
       "    <tr>\n",
       "      <th>63</th>\n",
       "      <td>Tecnológico</td>\n",
       "      <td>PROCESSOS GERENCIAIS</td>\n",
       "      <td>18</td>\n",
       "    </tr>\n",
       "  </tbody>\n",
       "</table>\n",
       "</div>"
      ],
      "text/plain": [
       "      Modalidade                                  Curso  Inscritos\n",
       "0    Bacharelado                          ADMINISTRAÇÃO         88\n",
       "16   Bacharelado                              ZOOTECNIA          5\n",
       "14   Bacharelado                   MEDICINA VETERINÁRIA         66\n",
       "13   Bacharelado                 ENGENHARIA METALÚRGICA         20\n",
       "12   Bacharelado                    ENGENHARIA MECÂNICA         48\n",
       "11   Bacharelado                   ENGENHARIA FLORESTAL          1\n",
       "10   Bacharelado                    ENGENHARIA ELÉTRICA         37\n",
       "9    Bacharelado                 ENGENHARIA DE PRODUÇÃO         22\n",
       "15   Bacharelado                 SISTEMAS DE INFORMAÇÃO         51\n",
       "7    Bacharelado                ENGENHARIA DE ALIMENTOS          0\n",
       "6    Bacharelado               ENGENHARIA DA COMPUTAÇÃO          8\n",
       "5    Bacharelado                       ENGENHARIA CIVIL         44\n",
       "4    Bacharelado       ENGENHARIA AMBIENTAL E SANITÁRIA          8\n",
       "3    Bacharelado                  CIÊNCIA DA COMPUTAÇÃO         41\n",
       "2    Bacharelado                ARQUITETURA E URBANISMO         21\n",
       "1    Bacharelado                              AGRONOMIA         22\n",
       "8    Bacharelado     ENGENHARIA DE CONTROLE E AUTOMAÇÃO         68\n",
       "45  Licenciatura                              PEDAGOGIA         17\n",
       "44  Licenciatura                             MATEMÁTICA          3\n",
       "43  Licenciatura              LETRAS (PORTUGUÊS INGLÊS)          4\n",
       "41  Licenciatura                                 FÍSICA          5\n",
       "40  Licenciatura                        EDUCAÇÃO FÍSICA          6\n",
       "39  Licenciatura                    CIÊNCIAS BIOLÓGICAS          4\n",
       "42  Licenciatura                              GEOGRAFIA          4\n",
       "62   Tecnológico                              LOGÍSTICA         14\n",
       "57   Tecnológico  ANÁLISE E DESENVOLVIMENTO DE SISTEMAS         22\n",
       "58   Tecnológico                 CONSERVAÇÃO E RESTAURO          4\n",
       "59   Tecnológico                   DESIGN DE INTERIORES          8\n",
       "60   Tecnológico                       GESTÃO AMBIENTAL          2\n",
       "61   Tecnológico                    GESTÃO DA QUALIDADE          6\n",
       "63   Tecnológico                   PROCESSOS GERENCIAIS         18"
      ]
     },
     "execution_count": 26,
     "metadata": {},
     "output_type": "execute_result"
    }
   ],
   "source": [
    "dfx = dfAll2025.groupby([\"Modalidade\",\"Curso\"])[[\"Inscritos\"]].sum().reset_index()\n",
    "dfx[(dfx['Modalidade'] != \"Integrado\") & (dfx['Modalidade'] != \"Subsequente\")].sort_values(by='Modalidade')"
   ]
  },
  {
   "cell_type": "code",
   "execution_count": 29,
   "metadata": {},
   "outputs": [],
   "source": [
    "lista_licenciatura = [\"PEDAGOGIA\",\"MATEMÁTICA\",\"FÍSICA\",\"EDUCAÇÃO FÍSICA\",\"CIÊNCIAS BIOLÓGICAS\",\"GEOGRAFIA\"]\n",
    "lista_tecnologico =  [\"LOGÍSTICA\",\"ANÁLISE E DESENVOLVIMENTO DE SISTEMAS\",\"CONSERVAÇÃO E RESTAURO\",\"DESIGN DE INTERIORES\",\"GESTÃO AMBIENTAL\",\"GESTÃO DA QUALIDADE\",\"PROCESSOS GERENCIAIS\"]\n",
    "\n",
    "def tipo_curso(x):\n",
    "    if x in lista_licenciatura: return \"Licenciatura\"\n",
    "    if x in lista_tecnologico: return \"Tecnológico\"\n",
    "    return \"Bacharelado\""
   ]
  },
  {
   "cell_type": "code",
   "execution_count": 30,
   "metadata": {},
   "outputs": [
    {
     "data": {
      "text/plain": [
       "0     Bacharelado\n",
       "1     Bacharelado\n",
       "2     Bacharelado\n",
       "3     Bacharelado\n",
       "4     Bacharelado\n",
       "         ...     \n",
       "66    Bacharelado\n",
       "67    Bacharelado\n",
       "68    Tecnológico\n",
       "69    Tecnológico\n",
       "70    Bacharelado\n",
       "Name: Curso, Length: 142, dtype: object"
      ]
     },
     "execution_count": 30,
     "metadata": {},
     "output_type": "execute_result"
    }
   ],
   "source": [
    "dfAll2024[\"Modalidade\"] =  dfAll2024[\"Curso\"].apply(tipo_curso)"
   ]
  },
  {
   "cell_type": "code",
   "execution_count": 6,
   "metadata": {},
   "outputs": [
    {
     "data": {
      "text/html": [
       "<div>\n",
       "<style scoped>\n",
       "    .dataframe tbody tr th:only-of-type {\n",
       "        vertical-align: middle;\n",
       "    }\n",
       "\n",
       "    .dataframe tbody tr th {\n",
       "        vertical-align: top;\n",
       "    }\n",
       "\n",
       "    .dataframe thead th {\n",
       "        text-align: right;\n",
       "    }\n",
       "</style>\n",
       "<table border=\"1\" class=\"dataframe\">\n",
       "  <thead>\n",
       "    <tr style=\"text-align: right;\">\n",
       "      <th></th>\n",
       "      <th>Modalidade</th>\n",
       "      <th>Inscritos</th>\n",
       "    </tr>\n",
       "  </thead>\n",
       "  <tbody>\n",
       "    <tr>\n",
       "      <th>2</th>\n",
       "      <td>Integrado</td>\n",
       "      <td>13574</td>\n",
       "    </tr>\n",
       "    <tr>\n",
       "      <th>1</th>\n",
       "      <td>Bacharelado</td>\n",
       "      <td>2985</td>\n",
       "    </tr>\n",
       "    <tr>\n",
       "      <th>4</th>\n",
       "      <td>Subsequente</td>\n",
       "      <td>1319</td>\n",
       "    </tr>\n",
       "    <tr>\n",
       "      <th>5</th>\n",
       "      <td>Tecnológico</td>\n",
       "      <td>390</td>\n",
       "    </tr>\n",
       "    <tr>\n",
       "      <th>3</th>\n",
       "      <td>Licenciatura</td>\n",
       "      <td>300</td>\n",
       "    </tr>\n",
       "    <tr>\n",
       "      <th>0</th>\n",
       "      <td>-1</td>\n",
       "      <td>3</td>\n",
       "    </tr>\n",
       "  </tbody>\n",
       "</table>\n",
       "</div>"
      ],
      "text/plain": [
       "     Modalidade  Inscritos\n",
       "2     Integrado      13574\n",
       "1   Bacharelado       2985\n",
       "4   Subsequente       1319\n",
       "5   Tecnológico        390\n",
       "3  Licenciatura        300\n",
       "0            -1          3"
      ]
     },
     "execution_count": 6,
     "metadata": {},
     "output_type": "execute_result"
    }
   ],
   "source": [
    "dfAll2024.groupby(\"Modalidade\")[[\"Inscritos\"]].sum().reset_index().sort_values(by='Inscritos', ascending=False)"
   ]
  },
  {
   "cell_type": "code",
   "execution_count": 7,
   "metadata": {},
   "outputs": [
    {
     "data": {
      "text/html": [
       "<div>\n",
       "<style scoped>\n",
       "    .dataframe tbody tr th:only-of-type {\n",
       "        vertical-align: middle;\n",
       "    }\n",
       "\n",
       "    .dataframe tbody tr th {\n",
       "        vertical-align: top;\n",
       "    }\n",
       "\n",
       "    .dataframe thead th {\n",
       "        text-align: right;\n",
       "    }\n",
       "</style>\n",
       "<table border=\"1\" class=\"dataframe\">\n",
       "  <thead>\n",
       "    <tr style=\"text-align: right;\">\n",
       "      <th></th>\n",
       "      <th>Modalidade</th>\n",
       "      <th>Inscritos</th>\n",
       "    </tr>\n",
       "  </thead>\n",
       "  <tbody>\n",
       "    <tr>\n",
       "      <th>1</th>\n",
       "      <td>Integrado</td>\n",
       "      <td>2393</td>\n",
       "    </tr>\n",
       "    <tr>\n",
       "      <th>0</th>\n",
       "      <td>Bacharelado</td>\n",
       "      <td>554</td>\n",
       "    </tr>\n",
       "    <tr>\n",
       "      <th>3</th>\n",
       "      <td>Subsequente</td>\n",
       "      <td>276</td>\n",
       "    </tr>\n",
       "    <tr>\n",
       "      <th>4</th>\n",
       "      <td>Tecnológico</td>\n",
       "      <td>74</td>\n",
       "    </tr>\n",
       "    <tr>\n",
       "      <th>2</th>\n",
       "      <td>Licenciatura</td>\n",
       "      <td>39</td>\n",
       "    </tr>\n",
       "  </tbody>\n",
       "</table>\n",
       "</div>"
      ],
      "text/plain": [
       "     Modalidade  Inscritos\n",
       "1     Integrado       2393\n",
       "0   Bacharelado        554\n",
       "3   Subsequente        276\n",
       "4   Tecnológico         74\n",
       "2  Licenciatura         39"
      ]
     },
     "execution_count": 7,
     "metadata": {},
     "output_type": "execute_result"
    }
   ],
   "source": [
    "dfAll2025.groupby(\"Modalidade\")[[\"Inscritos\"]].sum().reset_index().sort_values(by='Inscritos', ascending=False)"
   ]
  },
  {
   "cell_type": "code",
   "execution_count": 10,
   "metadata": {},
   "outputs": [
    {
     "data": {
      "text/html": [
       "<div>\n",
       "<style scoped>\n",
       "    .dataframe tbody tr th:only-of-type {\n",
       "        vertical-align: middle;\n",
       "    }\n",
       "\n",
       "    .dataframe tbody tr th {\n",
       "        vertical-align: top;\n",
       "    }\n",
       "\n",
       "    .dataframe thead th {\n",
       "        text-align: right;\n",
       "    }\n",
       "</style>\n",
       "<table border=\"1\" class=\"dataframe\">\n",
       "  <thead>\n",
       "    <tr style=\"text-align: right;\">\n",
       "      <th></th>\n",
       "      <th>Modalidade</th>\n",
       "      <th>Inscritos</th>\n",
       "      <th>Pagos</th>\n",
       "      <th>Deferidas</th>\n",
       "      <th>Homologadas</th>\n",
       "    </tr>\n",
       "  </thead>\n",
       "  <tbody>\n",
       "    <tr>\n",
       "      <th>2</th>\n",
       "      <td>Integrado</td>\n",
       "      <td>-11181.0</td>\n",
       "      <td>-9452.0</td>\n",
       "      <td>-1392.0</td>\n",
       "      <td>-10844.0</td>\n",
       "    </tr>\n",
       "    <tr>\n",
       "      <th>1</th>\n",
       "      <td>Bacharelado</td>\n",
       "      <td>-2431.0</td>\n",
       "      <td>-1340.0</td>\n",
       "      <td>-549.0</td>\n",
       "      <td>-1889.0</td>\n",
       "    </tr>\n",
       "    <tr>\n",
       "      <th>4</th>\n",
       "      <td>Subsequente</td>\n",
       "      <td>-1043.0</td>\n",
       "      <td>-383.0</td>\n",
       "      <td>-152.0</td>\n",
       "      <td>-535.0</td>\n",
       "    </tr>\n",
       "    <tr>\n",
       "      <th>5</th>\n",
       "      <td>Tecnológico</td>\n",
       "      <td>-316.0</td>\n",
       "      <td>-131.0</td>\n",
       "      <td>-78.0</td>\n",
       "      <td>-209.0</td>\n",
       "    </tr>\n",
       "    <tr>\n",
       "      <th>3</th>\n",
       "      <td>Licenciatura</td>\n",
       "      <td>-261.0</td>\n",
       "      <td>-133.0</td>\n",
       "      <td>-69.0</td>\n",
       "      <td>-202.0</td>\n",
       "    </tr>\n",
       "    <tr>\n",
       "      <th>0</th>\n",
       "      <td>-1</td>\n",
       "      <td>NaN</td>\n",
       "      <td>NaN</td>\n",
       "      <td>NaN</td>\n",
       "      <td>NaN</td>\n",
       "    </tr>\n",
       "  </tbody>\n",
       "</table>\n",
       "</div>"
      ],
      "text/plain": [
       "     Modalidade  Inscritos   Pagos  Deferidas  Homologadas\n",
       "2     Integrado   -11181.0 -9452.0    -1392.0     -10844.0\n",
       "1   Bacharelado    -2431.0 -1340.0     -549.0      -1889.0\n",
       "4   Subsequente    -1043.0  -383.0     -152.0       -535.0\n",
       "5   Tecnológico     -316.0  -131.0      -78.0       -209.0\n",
       "3  Licenciatura     -261.0  -133.0      -69.0       -202.0\n",
       "0            -1        NaN     NaN        NaN          NaN"
      ]
     },
     "execution_count": 10,
     "metadata": {},
     "output_type": "execute_result"
    }
   ],
   "source": [
    "diff(dfAll2024,dfAll2025, \"Modalidade\")"
   ]
  },
  {
   "cell_type": "code",
   "execution_count": 7,
   "metadata": {},
   "outputs": [
    {
     "data": {
      "text/html": [
       "<div>\n",
       "<style scoped>\n",
       "    .dataframe tbody tr th:only-of-type {\n",
       "        vertical-align: middle;\n",
       "    }\n",
       "\n",
       "    .dataframe tbody tr th {\n",
       "        vertical-align: top;\n",
       "    }\n",
       "\n",
       "    .dataframe thead th {\n",
       "        text-align: right;\n",
       "    }\n",
       "</style>\n",
       "<table border=\"1\" class=\"dataframe\">\n",
       "  <thead>\n",
       "    <tr style=\"text-align: right;\">\n",
       "      <th></th>\n",
       "      <th>Curso</th>\n",
       "      <th>Modalidade</th>\n",
       "      <th>Campus</th>\n",
       "      <th>Turno</th>\n",
       "      <th>Nivel</th>\n",
       "      <th>Inscritos</th>\n",
       "      <th>Pagos</th>\n",
       "      <th>Deferidas</th>\n",
       "      <th>Homologadas</th>\n",
       "      <th>FormaIngresso</th>\n",
       "    </tr>\n",
       "  </thead>\n",
       "  <tbody>\n",
       "    <tr>\n",
       "      <th>0</th>\n",
       "      <td>ADMINISTRAÇÃO</td>\n",
       "      <td>Integrado</td>\n",
       "      <td>ARCOS</td>\n",
       "      <td>Turnos Manhã e Tarde</td>\n",
       "      <td>Médio</td>\n",
       "      <td>51</td>\n",
       "      <td>29</td>\n",
       "      <td>0</td>\n",
       "      <td>29</td>\n",
       "      <td>Processo Seletivo</td>\n",
       "    </tr>\n",
       "    <tr>\n",
       "      <th>1</th>\n",
       "      <td>MECÂNICA</td>\n",
       "      <td>Integrado</td>\n",
       "      <td>ARCOS</td>\n",
       "      <td>Turnos Manhã e Tarde</td>\n",
       "      <td>médio</td>\n",
       "      <td>17</td>\n",
       "      <td>14</td>\n",
       "      <td>0</td>\n",
       "      <td>14</td>\n",
       "      <td>Processo Seletivo</td>\n",
       "    </tr>\n",
       "    <tr>\n",
       "      <th>2</th>\n",
       "      <td>ADMINISTRAÇÃO</td>\n",
       "      <td>Integrado</td>\n",
       "      <td>BAMBUÍ</td>\n",
       "      <td>Turnos Manhã e Tarde</td>\n",
       "      <td>médio</td>\n",
       "      <td>12</td>\n",
       "      <td>6</td>\n",
       "      <td>0</td>\n",
       "      <td>6</td>\n",
       "      <td>Processo Seletivo</td>\n",
       "    </tr>\n",
       "    <tr>\n",
       "      <th>3</th>\n",
       "      <td>AGROPECUÁRIA</td>\n",
       "      <td>Integrado</td>\n",
       "      <td>BAMBUÍ</td>\n",
       "      <td>Turnos Manhã e Tarde</td>\n",
       "      <td>médio</td>\n",
       "      <td>47</td>\n",
       "      <td>22</td>\n",
       "      <td>0</td>\n",
       "      <td>22</td>\n",
       "      <td>Processo Seletivo</td>\n",
       "    </tr>\n",
       "    <tr>\n",
       "      <th>4</th>\n",
       "      <td>BIOTECNOLOGIA</td>\n",
       "      <td>Integrado</td>\n",
       "      <td>BAMBUÍ</td>\n",
       "      <td>Turnos Manhã e Tarde</td>\n",
       "      <td>médio</td>\n",
       "      <td>15</td>\n",
       "      <td>8</td>\n",
       "      <td>0</td>\n",
       "      <td>8</td>\n",
       "      <td>Processo Seletivo</td>\n",
       "    </tr>\n",
       "    <tr>\n",
       "      <th>...</th>\n",
       "      <td>...</td>\n",
       "      <td>...</td>\n",
       "      <td>...</td>\n",
       "      <td>...</td>\n",
       "      <td>...</td>\n",
       "      <td>...</td>\n",
       "      <td>...</td>\n",
       "      <td>...</td>\n",
       "      <td>...</td>\n",
       "      <td>...</td>\n",
       "    </tr>\n",
       "    <tr>\n",
       "      <th>83</th>\n",
       "      <td>MATEMÁTICA</td>\n",
       "      <td>Licenciatura</td>\n",
       "      <td>SÃO JOÃO EVANGELISTA</td>\n",
       "      <td>Turno Noturno</td>\n",
       "      <td>Superior</td>\n",
       "      <td>1</td>\n",
       "      <td>0</td>\n",
       "      <td>0</td>\n",
       "      <td>0</td>\n",
       "      <td>Notas do Enem</td>\n",
       "    </tr>\n",
       "    <tr>\n",
       "      <th>84</th>\n",
       "      <td>MATEMÁTICA</td>\n",
       "      <td>Licenciatura</td>\n",
       "      <td>SÃO JOÃO EVANGELISTA</td>\n",
       "      <td>Turno Noturno</td>\n",
       "      <td>Superior</td>\n",
       "      <td>0</td>\n",
       "      <td>0</td>\n",
       "      <td>0</td>\n",
       "      <td>0</td>\n",
       "      <td>Redação Online</td>\n",
       "    </tr>\n",
       "    <tr>\n",
       "      <th>85</th>\n",
       "      <td>SISTEMAS DE INFORMAÇÃO</td>\n",
       "      <td>Bacharelado</td>\n",
       "      <td>SÃO JOÃO EVANGELISTA</td>\n",
       "      <td>Turno Manhã e Tarde</td>\n",
       "      <td>Superior</td>\n",
       "      <td>3</td>\n",
       "      <td>1</td>\n",
       "      <td>0</td>\n",
       "      <td>1</td>\n",
       "      <td>Notas do Enem</td>\n",
       "    </tr>\n",
       "    <tr>\n",
       "      <th>86</th>\n",
       "      <td>SISTEMAS DE INFORMAÇÃO</td>\n",
       "      <td>Bacharelado</td>\n",
       "      <td>SÃO JOÃO EVANGELISTA</td>\n",
       "      <td>Turno Manhã e Tarde</td>\n",
       "      <td>Superior</td>\n",
       "      <td>0</td>\n",
       "      <td>0</td>\n",
       "      <td>0</td>\n",
       "      <td>0</td>\n",
       "      <td>Redação Online</td>\n",
       "    </tr>\n",
       "    <tr>\n",
       "      <th>87</th>\n",
       "      <td>ENGENHARIA DE CONTROLE E AUTOMAÇÃO</td>\n",
       "      <td>Bacharelado</td>\n",
       "      <td>IBIRITÉ</td>\n",
       "      <td>Turno Manhã e Tarde</td>\n",
       "      <td>Superior</td>\n",
       "      <td>10</td>\n",
       "      <td>3</td>\n",
       "      <td>0</td>\n",
       "      <td>3</td>\n",
       "      <td>Notas do Enem</td>\n",
       "    </tr>\n",
       "  </tbody>\n",
       "</table>\n",
       "<p>156 rows × 10 columns</p>\n",
       "</div>"
      ],
      "text/plain": [
       "                                 Curso    Modalidade                Campus  \\\n",
       "0                        ADMINISTRAÇÃO     Integrado                 ARCOS   \n",
       "1                             MECÂNICA     Integrado                 ARCOS   \n",
       "2                        ADMINISTRAÇÃO     Integrado                BAMBUÍ   \n",
       "3                         AGROPECUÁRIA     Integrado                BAMBUÍ   \n",
       "4                        BIOTECNOLOGIA     Integrado                BAMBUÍ   \n",
       "..                                 ...           ...                   ...   \n",
       "83                          MATEMÁTICA  Licenciatura  SÃO JOÃO EVANGELISTA   \n",
       "84                          MATEMÁTICA  Licenciatura  SÃO JOÃO EVANGELISTA   \n",
       "85              SISTEMAS DE INFORMAÇÃO   Bacharelado  SÃO JOÃO EVANGELISTA   \n",
       "86              SISTEMAS DE INFORMAÇÃO   Bacharelado  SÃO JOÃO EVANGELISTA   \n",
       "87  ENGENHARIA DE CONTROLE E AUTOMAÇÃO   Bacharelado               IBIRITÉ   \n",
       "\n",
       "                   Turno     Nivel  Inscritos  Pagos  Deferidas  Homologadas  \\\n",
       "0   Turnos Manhã e Tarde     Médio         51     29          0           29   \n",
       "1   Turnos Manhã e Tarde     médio         17     14          0           14   \n",
       "2   Turnos Manhã e Tarde     médio         12      6          0            6   \n",
       "3   Turnos Manhã e Tarde     médio         47     22          0           22   \n",
       "4   Turnos Manhã e Tarde     médio         15      8          0            8   \n",
       "..                   ...       ...        ...    ...        ...          ...   \n",
       "83         Turno Noturno  Superior          1      0          0            0   \n",
       "84         Turno Noturno  Superior          0      0          0            0   \n",
       "85   Turno Manhã e Tarde  Superior          3      1          0            1   \n",
       "86   Turno Manhã e Tarde  Superior          0      0          0            0   \n",
       "87   Turno Manhã e Tarde  Superior         10      3          0            3   \n",
       "\n",
       "        FormaIngresso  \n",
       "0   Processo Seletivo  \n",
       "1   Processo Seletivo  \n",
       "2   Processo Seletivo  \n",
       "3   Processo Seletivo  \n",
       "4   Processo Seletivo  \n",
       "..                ...  \n",
       "83      Notas do Enem  \n",
       "84     Redação Online  \n",
       "85      Notas do Enem  \n",
       "86     Redação Online  \n",
       "87      Notas do Enem  \n",
       "\n",
       "[156 rows x 10 columns]"
      ]
     },
     "execution_count": 7,
     "metadata": {},
     "output_type": "execute_result"
    }
   ],
   "source": [
    "dfAll2025"
   ]
  },
  {
   "cell_type": "code",
   "execution_count": 29,
   "metadata": {},
   "outputs": [
    {
     "data": {
      "text/html": [
       "<div>\n",
       "<style scoped>\n",
       "    .dataframe tbody tr th:only-of-type {\n",
       "        vertical-align: middle;\n",
       "    }\n",
       "\n",
       "    .dataframe tbody tr th {\n",
       "        vertical-align: top;\n",
       "    }\n",
       "\n",
       "    .dataframe thead th {\n",
       "        text-align: right;\n",
       "    }\n",
       "</style>\n",
       "<table border=\"1\" class=\"dataframe\">\n",
       "  <thead>\n",
       "    <tr style=\"text-align: right;\">\n",
       "      <th></th>\n",
       "      <th>index</th>\n",
       "      <th>total</th>\n",
       "    </tr>\n",
       "  </thead>\n",
       "  <tbody>\n",
       "    <tr>\n",
       "      <th>0</th>\n",
       "      <td>Inscritos</td>\n",
       "      <td>3655</td>\n",
       "    </tr>\n",
       "    <tr>\n",
       "      <th>1</th>\n",
       "      <td>Pagos</td>\n",
       "      <td>1365</td>\n",
       "    </tr>\n",
       "    <tr>\n",
       "      <th>2</th>\n",
       "      <td>Deferidas</td>\n",
       "      <td>0</td>\n",
       "    </tr>\n",
       "    <tr>\n",
       "      <th>3</th>\n",
       "      <td>Homologadas</td>\n",
       "      <td>1365</td>\n",
       "    </tr>\n",
       "  </tbody>\n",
       "</table>\n",
       "</div>"
      ],
      "text/plain": [
       "         index  total\n",
       "0    Inscritos   3655\n",
       "1        Pagos   1365\n",
       "2    Deferidas      0\n",
       "3  Homologadas   1365"
      ]
     },
     "execution_count": 29,
     "metadata": {},
     "output_type": "execute_result"
    }
   ],
   "source": [
    "soma_colunas = dfAll2025[[\"Inscritos\", \"Pagos\", \"Deferidas\", \"Homologadas\"]].sum()\n",
    "df_soma = pd.DataFrame(soma_colunas, columns=[\"total\"]).reset_index()\n",
    "df_soma"
   ]
  },
  {
   "cell_type": "code",
   "execution_count": 30,
   "metadata": {},
   "outputs": [
    {
     "data": {
      "application/vnd.plotly.v1+json": {
       "config": {
        "plotlyServerURL": "https://plot.ly"
       },
       "data": [
        {
         "domain": {
          "x": [
           0,
           1
          ],
          "y": [
           0,
           1
          ]
         },
         "hovertemplate": "index=%{label}<br>total=%{value}<extra></extra>",
         "labels": [
          "Inscritos",
          "Pagos",
          "Deferidas",
          "Homologadas"
         ],
         "legendgroup": "",
         "name": "",
         "showlegend": true,
         "type": "pie",
         "values": [
          3655,
          1365,
          0,
          1365
         ]
        }
       ],
       "layout": {
        "legend": {
         "tracegroupgap": 0
        },
        "template": {
         "data": {
          "candlestick": [
           {
            "decreasing": {
             "line": {
              "color": "#000033"
             }
            },
            "increasing": {
             "line": {
              "color": "#000032"
             }
            },
            "type": "candlestick"
           }
          ],
          "contour": [
           {
            "colorscale": [
             [
              0,
              "#000011"
             ],
             [
              0.1111111111111111,
              "#000012"
             ],
             [
              0.2222222222222222,
              "#000013"
             ],
             [
              0.3333333333333333,
              "#000014"
             ],
             [
              0.4444444444444444,
              "#000015"
             ],
             [
              0.5555555555555556,
              "#000016"
             ],
             [
              0.6666666666666666,
              "#000017"
             ],
             [
              0.7777777777777778,
              "#000018"
             ],
             [
              0.8888888888888888,
              "#000019"
             ],
             [
              1,
              "#000020"
             ]
            ],
            "type": "contour"
           }
          ],
          "contourcarpet": [
           {
            "colorscale": [
             [
              0,
              "#000011"
             ],
             [
              0.1111111111111111,
              "#000012"
             ],
             [
              0.2222222222222222,
              "#000013"
             ],
             [
              0.3333333333333333,
              "#000014"
             ],
             [
              0.4444444444444444,
              "#000015"
             ],
             [
              0.5555555555555556,
              "#000016"
             ],
             [
              0.6666666666666666,
              "#000017"
             ],
             [
              0.7777777777777778,
              "#000018"
             ],
             [
              0.8888888888888888,
              "#000019"
             ],
             [
              1,
              "#000020"
             ]
            ],
            "type": "contourcarpet"
           }
          ],
          "heatmap": [
           {
            "colorscale": [
             [
              0,
              "#000011"
             ],
             [
              0.1111111111111111,
              "#000012"
             ],
             [
              0.2222222222222222,
              "#000013"
             ],
             [
              0.3333333333333333,
              "#000014"
             ],
             [
              0.4444444444444444,
              "#000015"
             ],
             [
              0.5555555555555556,
              "#000016"
             ],
             [
              0.6666666666666666,
              "#000017"
             ],
             [
              0.7777777777777778,
              "#000018"
             ],
             [
              0.8888888888888888,
              "#000019"
             ],
             [
              1,
              "#000020"
             ]
            ],
            "type": "heatmap"
           }
          ],
          "histogram2d": [
           {
            "colorscale": [
             [
              0,
              "#000011"
             ],
             [
              0.1111111111111111,
              "#000012"
             ],
             [
              0.2222222222222222,
              "#000013"
             ],
             [
              0.3333333333333333,
              "#000014"
             ],
             [
              0.4444444444444444,
              "#000015"
             ],
             [
              0.5555555555555556,
              "#000016"
             ],
             [
              0.6666666666666666,
              "#000017"
             ],
             [
              0.7777777777777778,
              "#000018"
             ],
             [
              0.8888888888888888,
              "#000019"
             ],
             [
              1,
              "#000020"
             ]
            ],
            "type": "histogram2d"
           }
          ],
          "icicle": [
           {
            "textfont": {
             "color": "white"
            },
            "type": "icicle"
           }
          ],
          "sankey": [
           {
            "textfont": {
             "color": "#000036"
            },
            "type": "sankey"
           }
          ],
          "scatter": [
           {
            "marker": {
             "line": {
              "width": 0
             }
            },
            "type": "scatter"
           }
          ],
          "table": [
           {
            "cells": {
             "fill": {
              "color": "#000038"
             },
             "font": {
              "color": "#000037"
             },
             "line": {
              "color": "#000039"
             }
            },
            "header": {
             "fill": {
              "color": "#000040"
             },
             "font": {
              "color": "#000036"
             },
             "line": {
              "color": "#000039"
             }
            },
            "type": "table"
           }
          ],
          "waterfall": [
           {
            "connector": {
             "line": {
              "color": "#000036",
              "width": 2
             }
            },
            "decreasing": {
             "marker": {
              "color": "#000033"
             }
            },
            "increasing": {
             "marker": {
              "color": "#000032"
             }
            },
            "totals": {
             "marker": {
              "color": "#000034"
             }
            },
            "type": "waterfall"
           }
          ]
         },
         "layout": {
          "coloraxis": {
           "colorscale": [
            [
             0,
             "#000011"
            ],
            [
             0.1111111111111111,
             "#000012"
            ],
            [
             0.2222222222222222,
             "#000013"
            ],
            [
             0.3333333333333333,
             "#000014"
            ],
            [
             0.4444444444444444,
             "#000015"
            ],
            [
             0.5555555555555556,
             "#000016"
            ],
            [
             0.6666666666666666,
             "#000017"
            ],
            [
             0.7777777777777778,
             "#000018"
            ],
            [
             0.8888888888888888,
             "#000019"
            ],
            [
             1,
             "#000020"
            ]
           ]
          },
          "colorscale": {
           "diverging": [
            [
             0,
             "#000021"
            ],
            [
             0.1,
             "#000022"
            ],
            [
             0.2,
             "#000023"
            ],
            [
             0.3,
             "#000024"
            ],
            [
             0.4,
             "#000025"
            ],
            [
             0.5,
             "#000026"
            ],
            [
             0.6,
             "#000027"
            ],
            [
             0.7,
             "#000028"
            ],
            [
             0.8,
             "#000029"
            ],
            [
             0.9,
             "#000030"
            ],
            [
             1,
             "#000031"
            ]
           ],
           "sequential": [
            [
             0,
             "#000011"
            ],
            [
             0.1111111111111111,
             "#000012"
            ],
            [
             0.2222222222222222,
             "#000013"
            ],
            [
             0.3333333333333333,
             "#000014"
            ],
            [
             0.4444444444444444,
             "#000015"
            ],
            [
             0.5555555555555556,
             "#000016"
            ],
            [
             0.6666666666666666,
             "#000017"
            ],
            [
             0.7777777777777778,
             "#000018"
            ],
            [
             0.8888888888888888,
             "#000019"
            ],
            [
             1,
             "#000020"
            ]
           ],
           "sequentialminus": [
            [
             0,
             "#000011"
            ],
            [
             0.1111111111111111,
             "#000012"
            ],
            [
             0.2222222222222222,
             "#000013"
            ],
            [
             0.3333333333333333,
             "#000014"
            ],
            [
             0.4444444444444444,
             "#000015"
            ],
            [
             0.5555555555555556,
             "#000016"
            ],
            [
             0.6666666666666666,
             "#000017"
            ],
            [
             0.7777777777777778,
             "#000018"
            ],
            [
             0.8888888888888888,
             "#000019"
            ],
            [
             1,
             "#000020"
            ]
           ]
          },
          "colorway": [
           "#000001",
           "#000002",
           "#000003",
           "#000004",
           "#000005",
           "#000006",
           "#000007",
           "#000008",
           "#000009",
           "#000010"
          ]
         }
        },
        "title": {
         "text": "Population of European continent"
        }
       }
      }
     },
     "metadata": {},
     "output_type": "display_data"
    }
   ],
   "source": [
    "fig = px.pie(df_soma, values='total', names='index', title='Population of European continent')\n",
    "fig.show()\n"
   ]
  }
 ],
 "metadata": {
  "kernelspec": {
   "display_name": "Python 3 (ipykernel)",
   "language": "python",
   "name": "python3"
  },
  "language_info": {
   "codemirror_mode": {
    "name": "ipython",
    "version": 3
   },
   "file_extension": ".py",
   "mimetype": "text/x-python",
   "name": "python",
   "nbconvert_exporter": "python",
   "pygments_lexer": "ipython3",
   "version": "3.8.19"
  }
 },
 "nbformat": 4,
 "nbformat_minor": 4
}
