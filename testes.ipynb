{
 "cells": [
  {
   "cell_type": "code",
   "execution_count": 3,
   "metadata": {},
   "outputs": [],
   "source": [
    "import pandas as pd\n",
    "import streamlit as st \n",
    "import plotly.express as px"
   ]
  },
  {
   "cell_type": "code",
   "execution_count": 88,
   "metadata": {},
   "outputs": [],
   "source": [
    "\n",
    "def ler_excel(excel):\n",
    "\n",
    "    df = pd.read_excel(excel)\n",
    "    if excel.find(\"2025\") > 0:\n",
    "        if excel.find(\"_TEC\") > 0:\n",
    "            df[['Curso','Campus','Turno']]  = df['Cargo'].str.split('-',expand=True)\n",
    "        else:\n",
    "            df[['Curso','Modalidade','Campus','Turno', 'FormaIngresso']]  = df['Cargo'].str.split('-',expand=True)\n",
    "    else:\n",
    "        df[['Curso','Campus','Turno']]  = df['Cargo'].str.split('-',expand=True)\n",
    "\n",
    "    df  = df[['Curso','Campus','Turno',\"Nivel\",\"Inscritos\",\"Pagos\", \"Isenções deferidas\",\"Inscrições homologadas\"]]\n",
    "    df.rename({\"Isenções deferidas\": 'Deferidas', \"Inscrições homologadas\": 'Homologadas'}, axis=1, inplace=True) \n",
    "    df['Campus'] = df['Campus'].apply(lambda r: r.replace(\"Campus\",\"\").replace(\"campus\",\"\").strip().upper() )\n",
    "    df['Curso'] = df['Curso'].apply(lambda r: r\n",
    "                                    .replace(\"Técnico Integrado em\",\"\")\n",
    "                                    .replace(\"Técnico Integrado\",\"\")\n",
    "                                    .replace(\"Técnico Subsequente em\",\"\").strip().upper())\n",
    "\n",
    "    return df \n",
    "\n",
    "def diferenca(ano1,ano2):\n",
    "\n",
    "    dfMed_ano1 = ler_excel(ano1)\n",
    "    dfMed_ano2 = ler_excel(ano2)\n",
    "\n",
    "\n",
    "    dff = pd.DataFrame()\n",
    "\n",
    "    dff['Curso'] = dfMed_ano1['Curso']\n",
    "    dff['Campus'] = dfMed_ano1['Campus']\n",
    "    dff['Nivel'] = dfMed_ano1['Nivel']\n",
    "    dff['ano1_Inscritos'] = dfMed_ano1['Inscritos']\n",
    "    dff['ano2_Inscritos'] = dfMed_ano2['Inscritos']\n",
    "    dff['ano1_Homologadas'] = dfMed_ano1['Homologadas']\n",
    "    dff['ano2_Homologadas'] = dfMed_ano2['Homologadas']\n",
    "    \n",
    "    dff['diff_Inscritos'] = dfMed_ano2['Inscritos'] - dfMed_ano1['Inscritos']\n",
    "    dff['diff_Homologadas'] = dfMed_ano2['Homologadas'] - dfMed_ano1['Homologadas']\n",
    "\n",
    "    return dff\n",
    "\n",
    "\n",
    "def diff(df1, df2, tipo=\"Curso\"):\n",
    "    \n",
    "    df11 = df1.groupby(tipo)[[\"Inscritos\",\"Pagos\", \"Deferidas\",\"Homologadas\"]].sum().reset_index().sort_values(by='Inscritos', ascending=False)\n",
    "    df11.set_index(tipo, inplace=True)\n",
    "\n",
    "    df22 = df2.groupby(tipo)[[\"Inscritos\",\"Pagos\", \"Deferidas\",\"Homologadas\"]].sum().reset_index().sort_values(by='Inscritos', ascending=False)\n",
    "    df22.set_index(tipo, inplace=True)\n",
    "\n",
    "    return (df22 - df11).reset_index().sort_values(\"Inscritos\")"
   ]
  },
  {
   "cell_type": "code",
   "execution_count": 106,
   "metadata": {},
   "outputs": [],
   "source": [
    "def process_file_for_grad(file_path):\n",
    "    \"\"\"\n",
    "    Function to process files for Graduação (Superior).\n",
    "    Renames 'Tipo de Vaga' to 'Forma de Ingresso' for Graduação level.\n",
    "    \"\"\"\n",
    "    df = pd.read_excel(file_path)\n",
    "    \n",
    "    # Splitting the \"Cargo\" column into 'Curso', 'Modalidade', 'Campus', 'Turno', 'Tipo de Vaga'\n",
    "    cargo_split = df['Cargo'].str.split(' - ', expand=True)\n",
    "    \n",
    "    if cargo_split.shape[1] == 3:\n",
    "        df['Curso'] = cargo_split[0]\n",
    "        df['Campus'] = cargo_split[1]\n",
    "        df['Turno'] = cargo_split[2]\n",
    "        df['Modalidade'] = 'Superior'\n",
    "        df['FormaIngresso'] = df['Tipo de Vaga']\n",
    "    else: \n",
    "        df['Curso'] = cargo_split[0]\n",
    "        df['Modalidade'] = cargo_split[1]\n",
    "        df['Campus'] = cargo_split[2]\n",
    "        df['Turno'] = cargo_split[3]\n",
    "        df['FormaIngresso'] = cargo_split[4]\n",
    "    \n",
    "\n",
    "    df.rename({\"Isenções deferidas\": 'Deferidas', \"Inscrições homologadas\": 'Homologadas'}, axis=1, inplace=True) \n",
    "    df['Campus'] = df['Campus'].apply(lambda r: r.replace(\"Campus\",\"\").replace(\"campus\",\"\").strip().upper() )\n",
    "    df['Curso'] = df['Curso'].apply(lambda r: r\n",
    "                                    .replace(\"Tecnologia em\",\"\").strip().upper())\n",
    "\n",
    "\n",
    "    # Selecting and reordering the desired columns\n",
    "    final_df = df[['Curso', 'Modalidade', 'Campus', 'Turno', 'Nivel', 'Inscritos', 'Pagos', 'Deferidas', 'Homologadas', 'FormaIngresso']]\n",
    "    \n",
    "    return final_df\n",
    "\n",
    "\n",
    "def process_file_for_tec(file_path):\n",
    "    \"\"\"\n",
    "    Function to process files for Técnico level.\n",
    "    Keeps the column name as 'Tipo de Vaga'.\n",
    "    \"\"\"\n",
    "    df = pd.read_excel(file_path)\n",
    "    \n",
    "    # Splitting the \"Cargo\" column into 'Curso', 'Modalidade', 'Campus', 'Turno', 'Tipo de Vaga'\n",
    "    cargo_split = df['Cargo'].str.split(' - ', expand=True)\n",
    "    \n",
    "    df['Curso'] = cargo_split[0]\n",
    "    df['Campus'] = cargo_split[1]\n",
    "    df['Turno'] = cargo_split[2]\n",
    "    df['Modalidade'] = df['Tipo de Vaga'] if 'Tipo de Vaga' in df.columns else 'Curso Técnico Integrado'\n",
    "    df['FormaIngresso'] = 'Processo Seletivo'\n",
    "        \n",
    "    \n",
    "    df.rename({\"Isenções deferidas\": 'Deferidas', \"Inscrições homologadas\": 'Homologadas'}, axis=1, inplace=True) \n",
    "    df['Campus'] = df['Campus'].apply(lambda r: r.replace(\"Campus\",\"\").replace(\"campus\",\"\").strip().upper() )\n",
    "    df['Curso'] = df['Curso'].apply(lambda r: r\n",
    "                                    .replace(\"Técnico Integrado em\",\"\")\n",
    "                                    .replace(\"Técnico Integrado\",\"\")\n",
    "                                    .replace(\"Técnico Subsequente em\",\"\").strip().upper())\n",
    "\n",
    "    # Selecting and reordering the desired columns\n",
    "    final_df = df[['Curso', 'Modalidade', 'Campus', 'Turno', 'Nivel', 'Inscritos', 'Pagos', \n",
    "                   'Deferidas', 'Homologadas', 'FormaIngresso']]\n",
    "    \n",
    "    return final_df\n"
   ]
  },
  {
   "cell_type": "code",
   "execution_count": 19,
   "metadata": {},
   "outputs": [],
   "source": [
    "df_tec_2024_1 = ler_excel(\"dados/2024-1_GestaoResultado_ResumoInscricoes_TEC.xlsx\")\n",
    "df_gra_2024_1 = ler_excel(\"dados/2024-1_GestaoResultado_ResumoInscricoes_GRAD.xlsx\")\n",
    "\n",
    "df_tec_2025_1 = ler_excel(\"dados/2025-1_GestaoResultado_ResumoInscricoes_TEC.xlsx\")\n",
    "df_gra_2025_1 = ler_excel(\"dados/2025-1_GestaoResultado_ResumoInscricoes_GRAD.xlsx\")"
   ]
  },
  {
   "cell_type": "code",
   "execution_count": 23,
   "metadata": {},
   "outputs": [
    {
     "data": {
      "text/html": [
       "<div>\n",
       "<style scoped>\n",
       "    .dataframe tbody tr th:only-of-type {\n",
       "        vertical-align: middle;\n",
       "    }\n",
       "\n",
       "    .dataframe tbody tr th {\n",
       "        vertical-align: top;\n",
       "    }\n",
       "\n",
       "    .dataframe thead th {\n",
       "        text-align: right;\n",
       "    }\n",
       "</style>\n",
       "<table border=\"1\" class=\"dataframe\">\n",
       "  <thead>\n",
       "    <tr style=\"text-align: right;\">\n",
       "      <th></th>\n",
       "      <th>Curso</th>\n",
       "      <th>Campus</th>\n",
       "      <th>Turno</th>\n",
       "      <th>Nivel</th>\n",
       "      <th>Inscritos</th>\n",
       "      <th>Pagos</th>\n",
       "      <th>Deferidas</th>\n",
       "      <th>Homologadas</th>\n",
       "    </tr>\n",
       "  </thead>\n",
       "  <tbody>\n",
       "    <tr>\n",
       "      <th>4</th>\n",
       "      <td>ADMINISTRAÇÃO</td>\n",
       "      <td>PONTE NOVA</td>\n",
       "      <td>Turno Integral</td>\n",
       "      <td>Nível Fundamental</td>\n",
       "      <td>339</td>\n",
       "      <td>282</td>\n",
       "      <td>28</td>\n",
       "      <td>310</td>\n",
       "    </tr>\n",
       "    <tr>\n",
       "      <th>30</th>\n",
       "      <td>INFORMÁTICA</td>\n",
       "      <td>PONTE NOVA</td>\n",
       "      <td>Turno Integral</td>\n",
       "      <td>Nível Fundamental</td>\n",
       "      <td>291</td>\n",
       "      <td>241</td>\n",
       "      <td>26</td>\n",
       "      <td>267</td>\n",
       "    </tr>\n",
       "  </tbody>\n",
       "</table>\n",
       "</div>"
      ],
      "text/plain": [
       "            Curso      Campus            Turno              Nivel  Inscritos  \\\n",
       "4   ADMINISTRAÇÃO  PONTE NOVA   Turno Integral  Nível Fundamental        339   \n",
       "30    INFORMÁTICA  PONTE NOVA   Turno Integral  Nível Fundamental        291   \n",
       "\n",
       "    Pagos  Deferidas  Homologadas  \n",
       "4     282         28          310  \n",
       "30    241         26          267  "
      ]
     },
     "execution_count": 23,
     "metadata": {},
     "output_type": "execute_result"
    }
   ],
   "source": [
    "df_tec_2024_1[df_tec_2024_1['Campus']==\"PONTE NOVA\"].head()"
   ]
  },
  {
   "cell_type": "code",
   "execution_count": 24,
   "metadata": {},
   "outputs": [
    {
     "data": {
      "text/html": [
       "<div>\n",
       "<style scoped>\n",
       "    .dataframe tbody tr th:only-of-type {\n",
       "        vertical-align: middle;\n",
       "    }\n",
       "\n",
       "    .dataframe tbody tr th {\n",
       "        vertical-align: top;\n",
       "    }\n",
       "\n",
       "    .dataframe thead th {\n",
       "        text-align: right;\n",
       "    }\n",
       "</style>\n",
       "<table border=\"1\" class=\"dataframe\">\n",
       "  <thead>\n",
       "    <tr style=\"text-align: right;\">\n",
       "      <th></th>\n",
       "      <th>Curso</th>\n",
       "      <th>Campus</th>\n",
       "      <th>Turno</th>\n",
       "      <th>Nivel</th>\n",
       "      <th>Inscritos</th>\n",
       "      <th>Pagos</th>\n",
       "      <th>Deferidas</th>\n",
       "      <th>Homologadas</th>\n",
       "    </tr>\n",
       "  </thead>\n",
       "  <tbody>\n",
       "    <tr>\n",
       "      <th>37</th>\n",
       "      <td>ADMINISTRAÇÃO</td>\n",
       "      <td>PONTE NOVA</td>\n",
       "      <td>Turnos Manhã e Tarde</td>\n",
       "      <td>médio</td>\n",
       "      <td>58</td>\n",
       "      <td>24</td>\n",
       "      <td>0</td>\n",
       "      <td>24</td>\n",
       "    </tr>\n",
       "    <tr>\n",
       "      <th>38</th>\n",
       "      <td>INFORMÁTICA</td>\n",
       "      <td>PONTE NOVA</td>\n",
       "      <td>Turnos Manhã e Tarde</td>\n",
       "      <td>médio</td>\n",
       "      <td>73</td>\n",
       "      <td>24</td>\n",
       "      <td>0</td>\n",
       "      <td>24</td>\n",
       "    </tr>\n",
       "  </tbody>\n",
       "</table>\n",
       "</div>"
      ],
      "text/plain": [
       "            Curso      Campus                  Turno  Nivel  Inscritos  Pagos  \\\n",
       "37  ADMINISTRAÇÃO  PONTE NOVA   Turnos Manhã e Tarde  médio         58     24   \n",
       "38    INFORMÁTICA  PONTE NOVA   Turnos Manhã e Tarde  médio         73     24   \n",
       "\n",
       "    Deferidas  Homologadas  \n",
       "37          0           24  \n",
       "38          0           24  "
      ]
     },
     "execution_count": 24,
     "metadata": {},
     "output_type": "execute_result"
    }
   ],
   "source": [
    "df_tec_2025_1[df_tec_2025_1['Campus']==\"PONTE NOVA\"].head()"
   ]
  },
  {
   "cell_type": "code",
   "execution_count": 21,
   "metadata": {},
   "outputs": [
    {
     "data": {
      "text/html": [
       "<div>\n",
       "<style scoped>\n",
       "    .dataframe tbody tr th:only-of-type {\n",
       "        vertical-align: middle;\n",
       "    }\n",
       "\n",
       "    .dataframe tbody tr th {\n",
       "        vertical-align: top;\n",
       "    }\n",
       "\n",
       "    .dataframe thead th {\n",
       "        text-align: right;\n",
       "    }\n",
       "</style>\n",
       "<table border=\"1\" class=\"dataframe\">\n",
       "  <thead>\n",
       "    <tr style=\"text-align: right;\">\n",
       "      <th></th>\n",
       "      <th>Curso</th>\n",
       "      <th>Campus</th>\n",
       "      <th>Turno</th>\n",
       "      <th>Nivel</th>\n",
       "      <th>Inscritos</th>\n",
       "      <th>Pagos</th>\n",
       "      <th>Deferidas</th>\n",
       "      <th>Homologadas</th>\n",
       "    </tr>\n",
       "  </thead>\n",
       "  <tbody>\n",
       "    <tr>\n",
       "      <th>0</th>\n",
       "      <td>ENGENHARIA MECÂNICA</td>\n",
       "      <td>ARCOS</td>\n",
       "      <td>Turno Noite</td>\n",
       "      <td>Superior</td>\n",
       "      <td>15</td>\n",
       "      <td>6</td>\n",
       "      <td>0</td>\n",
       "      <td>6</td>\n",
       "    </tr>\n",
       "    <tr>\n",
       "      <th>1</th>\n",
       "      <td>ADMINISTRAÇÃO</td>\n",
       "      <td>BAMBUÍ</td>\n",
       "      <td>Turno Noturno</td>\n",
       "      <td>Superior</td>\n",
       "      <td>6</td>\n",
       "      <td>1</td>\n",
       "      <td>0</td>\n",
       "      <td>1</td>\n",
       "    </tr>\n",
       "    <tr>\n",
       "      <th>2</th>\n",
       "      <td>AGRONOMIA</td>\n",
       "      <td>SÃO JOÃO EVANGELISTA</td>\n",
       "      <td>Turno manhã e tarde</td>\n",
       "      <td>Superior</td>\n",
       "      <td>2</td>\n",
       "      <td>0</td>\n",
       "      <td>0</td>\n",
       "      <td>0</td>\n",
       "    </tr>\n",
       "    <tr>\n",
       "      <th>3</th>\n",
       "      <td>CIÊNCIAS BIOLÓGICAS</td>\n",
       "      <td>BAMBUÍ</td>\n",
       "      <td>Turno Noturno</td>\n",
       "      <td>Superior</td>\n",
       "      <td>0</td>\n",
       "      <td>0</td>\n",
       "      <td>0</td>\n",
       "      <td>0</td>\n",
       "    </tr>\n",
       "    <tr>\n",
       "      <th>4</th>\n",
       "      <td>CIÊNCIAS BIOLÓGICAS</td>\n",
       "      <td>BAMBUÍ</td>\n",
       "      <td>Turno Noturno</td>\n",
       "      <td>Superior</td>\n",
       "      <td>1</td>\n",
       "      <td>0</td>\n",
       "      <td>0</td>\n",
       "      <td>0</td>\n",
       "    </tr>\n",
       "  </tbody>\n",
       "</table>\n",
       "</div>"
      ],
      "text/plain": [
       "                 Curso                Campus                  Turno     Nivel  \\\n",
       "0  ENGENHARIA MECÂNICA                 ARCOS           Turno Noite   Superior   \n",
       "1        ADMINISTRAÇÃO                BAMBUÍ         Turno Noturno   Superior   \n",
       "2            AGRONOMIA  SÃO JOÃO EVANGELISTA   Turno manhã e tarde   Superior   \n",
       "3  CIÊNCIAS BIOLÓGICAS                BAMBUÍ         Turno Noturno   Superior   \n",
       "4  CIÊNCIAS BIOLÓGICAS                BAMBUÍ         Turno Noturno   Superior   \n",
       "\n",
       "   Inscritos  Pagos  Deferidas  Homologadas  \n",
       "0         15      6          0            6  \n",
       "1          6      1          0            1  \n",
       "2          2      0          0            0  \n",
       "3          0      0          0            0  \n",
       "4          1      0          0            0  "
      ]
     },
     "execution_count": 21,
     "metadata": {},
     "output_type": "execute_result"
    }
   ],
   "source": [
    "df_gra_2025_1.head()"
   ]
  },
  {
   "cell_type": "code",
   "execution_count": 29,
   "metadata": {},
   "outputs": [
    {
     "data": {
      "text/html": [
       "<div>\n",
       "<style scoped>\n",
       "    .dataframe tbody tr th:only-of-type {\n",
       "        vertical-align: middle;\n",
       "    }\n",
       "\n",
       "    .dataframe tbody tr th {\n",
       "        vertical-align: top;\n",
       "    }\n",
       "\n",
       "    .dataframe thead th {\n",
       "        text-align: right;\n",
       "    }\n",
       "</style>\n",
       "<table border=\"1\" class=\"dataframe\">\n",
       "  <thead>\n",
       "    <tr style=\"text-align: right;\">\n",
       "      <th></th>\n",
       "      <th>Curso</th>\n",
       "      <th>Campus</th>\n",
       "      <th>Nivel</th>\n",
       "      <th>ano1_Inscritos</th>\n",
       "      <th>ano2_Inscritos</th>\n",
       "      <th>ano1_Homologadas</th>\n",
       "      <th>ano2_Homologadas</th>\n",
       "      <th>diff_Inscritos</th>\n",
       "      <th>diff_Homologadas</th>\n",
       "    </tr>\n",
       "  </thead>\n",
       "  <tbody>\n",
       "    <tr>\n",
       "      <th>68</th>\n",
       "      <td>TECNOLOGIA EM PROCESSOS GERENCIAIS</td>\n",
       "      <td>PONTE NOVA</td>\n",
       "      <td>Nível Médio</td>\n",
       "      <td>23</td>\n",
       "      <td>8</td>\n",
       "      <td>12</td>\n",
       "      <td>3</td>\n",
       "      <td>-15.0</td>\n",
       "      <td>-9.0</td>\n",
       "    </tr>\n",
       "    <tr>\n",
       "      <th>69</th>\n",
       "      <td>TECNOLOGIA EM PROCESSOS GERENCIAIS</td>\n",
       "      <td>PONTE NOVA</td>\n",
       "      <td>Nível Médio</td>\n",
       "      <td>35</td>\n",
       "      <td>5</td>\n",
       "      <td>19</td>\n",
       "      <td>2</td>\n",
       "      <td>-30.0</td>\n",
       "      <td>-17.0</td>\n",
       "    </tr>\n",
       "  </tbody>\n",
       "</table>\n",
       "</div>"
      ],
      "text/plain": [
       "                                 Curso      Campus        Nivel  \\\n",
       "68  TECNOLOGIA EM PROCESSOS GERENCIAIS  PONTE NOVA  Nível Médio   \n",
       "69  TECNOLOGIA EM PROCESSOS GERENCIAIS  PONTE NOVA  Nível Médio   \n",
       "\n",
       "    ano1_Inscritos  ano2_Inscritos  ano1_Homologadas  ano2_Homologadas  \\\n",
       "68              23               8                12                 3   \n",
       "69              35               5                19                 2   \n",
       "\n",
       "    diff_Inscritos  diff_Homologadas  \n",
       "68           -15.0              -9.0  \n",
       "69           -30.0             -17.0  "
      ]
     },
     "execution_count": 29,
     "metadata": {},
     "output_type": "execute_result"
    }
   ],
   "source": [
    "d = diferenca(\"dados/2024-1_GestaoResultado_ResumoInscricoes_GRAD.xlsx\",\n",
    "              \"dados/2025-1_GestaoResultado_ResumoInscricoes_GRAD.xlsx\")\n",
    "\n",
    "d[d['Campus'] == 'PONTE NOVA']"
   ]
  },
  {
   "cell_type": "code",
   "execution_count": 89,
   "metadata": {},
   "outputs": [
    {
     "data": {
      "text/html": [
       "<div>\n",
       "<style scoped>\n",
       "    .dataframe tbody tr th:only-of-type {\n",
       "        vertical-align: middle;\n",
       "    }\n",
       "\n",
       "    .dataframe tbody tr th {\n",
       "        vertical-align: top;\n",
       "    }\n",
       "\n",
       "    .dataframe thead th {\n",
       "        text-align: right;\n",
       "    }\n",
       "</style>\n",
       "<table border=\"1\" class=\"dataframe\">\n",
       "  <thead>\n",
       "    <tr style=\"text-align: right;\">\n",
       "      <th></th>\n",
       "      <th>Campus</th>\n",
       "      <th>Curso</th>\n",
       "      <th>Inscritos</th>\n",
       "      <th>Pagos</th>\n",
       "      <th>Deferidas</th>\n",
       "      <th>Homologadas</th>\n",
       "    </tr>\n",
       "  </thead>\n",
       "  <tbody>\n",
       "    <tr>\n",
       "      <th>49</th>\n",
       "      <td>SANTA LUZIA</td>\n",
       "      <td>EDIFICAÇÕES</td>\n",
       "      <td>-809.0</td>\n",
       "      <td>-634.0</td>\n",
       "      <td>-105.0</td>\n",
       "      <td>-739.0</td>\n",
       "    </tr>\n",
       "    <tr>\n",
       "      <th>11</th>\n",
       "      <td>BETIM</td>\n",
       "      <td>QUÍMICA</td>\n",
       "      <td>-797.0</td>\n",
       "      <td>-667.0</td>\n",
       "      <td>-73.0</td>\n",
       "      <td>-740.0</td>\n",
       "    </tr>\n",
       "    <tr>\n",
       "      <th>9</th>\n",
       "      <td>BETIM</td>\n",
       "      <td>AUTOMAÇÃO INDUSTRIAL</td>\n",
       "      <td>-734.0</td>\n",
       "      <td>-612.0</td>\n",
       "      <td>-72.0</td>\n",
       "      <td>-684.0</td>\n",
       "    </tr>\n",
       "    <tr>\n",
       "      <th>45</th>\n",
       "      <td>RIBEIRÃO DAS NEVES</td>\n",
       "      <td>INFORMÁTICA</td>\n",
       "      <td>-491.0</td>\n",
       "      <td>-366.0</td>\n",
       "      <td>-81.0</td>\n",
       "      <td>-447.0</td>\n",
       "    </tr>\n",
       "    <tr>\n",
       "      <th>10</th>\n",
       "      <td>BETIM</td>\n",
       "      <td>MECÂNICA</td>\n",
       "      <td>-432.0</td>\n",
       "      <td>-350.0</td>\n",
       "      <td>-33.0</td>\n",
       "      <td>-383.0</td>\n",
       "    </tr>\n",
       "    <tr>\n",
       "      <th>48</th>\n",
       "      <td>SABARÁ</td>\n",
       "      <td>INFORMÁTICA</td>\n",
       "      <td>-430.0</td>\n",
       "      <td>-358.0</td>\n",
       "      <td>-46.0</td>\n",
       "      <td>-404.0</td>\n",
       "    </tr>\n",
       "    <tr>\n",
       "      <th>22</th>\n",
       "      <td>GOVERNADOR VALADARES</td>\n",
       "      <td>SEGURANÇA DO TRABALHO</td>\n",
       "      <td>-420.0</td>\n",
       "      <td>-244.0</td>\n",
       "      <td>-73.0</td>\n",
       "      <td>-317.0</td>\n",
       "    </tr>\n",
       "    <tr>\n",
       "      <th>46</th>\n",
       "      <td>SABARÁ</td>\n",
       "      <td>ADMINISTRAÇÃO</td>\n",
       "      <td>-390.0</td>\n",
       "      <td>-315.0</td>\n",
       "      <td>-56.0</td>\n",
       "      <td>-371.0</td>\n",
       "    </tr>\n",
       "    <tr>\n",
       "      <th>26</th>\n",
       "      <td>IPATINGA</td>\n",
       "      <td>AUTOMAÇÃO INDUSTRIAL</td>\n",
       "      <td>-385.0</td>\n",
       "      <td>-313.0</td>\n",
       "      <td>-30.0</td>\n",
       "      <td>-343.0</td>\n",
       "    </tr>\n",
       "    <tr>\n",
       "      <th>23</th>\n",
       "      <td>IBIRITÉ</td>\n",
       "      <td>AUTOMAÇÃO INDUSTRIAL</td>\n",
       "      <td>-375.0</td>\n",
       "      <td>-328.0</td>\n",
       "      <td>-30.0</td>\n",
       "      <td>-358.0</td>\n",
       "    </tr>\n",
       "    <tr>\n",
       "      <th>15</th>\n",
       "      <td>CONSELHEIRO LAFAIETE</td>\n",
       "      <td>ELETROTÉCNICA</td>\n",
       "      <td>-364.0</td>\n",
       "      <td>-248.0</td>\n",
       "      <td>-42.0</td>\n",
       "      <td>-290.0</td>\n",
       "    </tr>\n",
       "    <tr>\n",
       "      <th>43</th>\n",
       "      <td>RIBEIRÃO DAS NEVES</td>\n",
       "      <td>ADMINISTRAÇÃO</td>\n",
       "      <td>-332.0</td>\n",
       "      <td>-254.0</td>\n",
       "      <td>-50.0</td>\n",
       "      <td>-304.0</td>\n",
       "    </tr>\n",
       "    <tr>\n",
       "      <th>38</th>\n",
       "      <td>OURO PRETO</td>\n",
       "      <td>MINERAÇÃO</td>\n",
       "      <td>-313.0</td>\n",
       "      <td>-233.0</td>\n",
       "      <td>-29.0</td>\n",
       "      <td>-262.0</td>\n",
       "    </tr>\n",
       "    <tr>\n",
       "      <th>14</th>\n",
       "      <td>CONGONHAS</td>\n",
       "      <td>MINERAÇÃO</td>\n",
       "      <td>-287.0</td>\n",
       "      <td>-197.0</td>\n",
       "      <td>-42.0</td>\n",
       "      <td>-239.0</td>\n",
       "    </tr>\n",
       "    <tr>\n",
       "      <th>41</th>\n",
       "      <td>PONTE NOVA</td>\n",
       "      <td>ADMINISTRAÇÃO</td>\n",
       "      <td>-281.0</td>\n",
       "      <td>-258.0</td>\n",
       "      <td>-28.0</td>\n",
       "      <td>-286.0</td>\n",
       "    </tr>\n",
       "    <tr>\n",
       "      <th>27</th>\n",
       "      <td>IPATINGA</td>\n",
       "      <td>ELETROTÉCNICA</td>\n",
       "      <td>-269.0</td>\n",
       "      <td>-223.0</td>\n",
       "      <td>-26.0</td>\n",
       "      <td>-249.0</td>\n",
       "    </tr>\n",
       "    <tr>\n",
       "      <th>12</th>\n",
       "      <td>CONGONHAS</td>\n",
       "      <td>EDIFICAÇÕES</td>\n",
       "      <td>-246.0</td>\n",
       "      <td>-200.0</td>\n",
       "      <td>-39.0</td>\n",
       "      <td>-239.0</td>\n",
       "    </tr>\n",
       "    <tr>\n",
       "      <th>34</th>\n",
       "      <td>OURO PRETO</td>\n",
       "      <td>EDIFICAÇÕES</td>\n",
       "      <td>-243.0</td>\n",
       "      <td>-207.0</td>\n",
       "      <td>-20.0</td>\n",
       "      <td>-227.0</td>\n",
       "    </tr>\n",
       "    <tr>\n",
       "      <th>25</th>\n",
       "      <td>IBIRITÉ</td>\n",
       "      <td>SISTEMAS DE ENERGIA RENOVÁVEL</td>\n",
       "      <td>-238.0</td>\n",
       "      <td>-191.0</td>\n",
       "      <td>-30.0</td>\n",
       "      <td>-221.0</td>\n",
       "    </tr>\n",
       "    <tr>\n",
       "      <th>24</th>\n",
       "      <td>IBIRITÉ</td>\n",
       "      <td>MECATRÔNICA</td>\n",
       "      <td>-236.0</td>\n",
       "      <td>-202.0</td>\n",
       "      <td>-31.0</td>\n",
       "      <td>-233.0</td>\n",
       "    </tr>\n",
       "    <tr>\n",
       "      <th>21</th>\n",
       "      <td>GOVERNADOR VALADARES</td>\n",
       "      <td>MEIO AMBIENTE</td>\n",
       "      <td>-231.0</td>\n",
       "      <td>-191.0</td>\n",
       "      <td>-29.0</td>\n",
       "      <td>-220.0</td>\n",
       "    </tr>\n",
       "    <tr>\n",
       "      <th>28</th>\n",
       "      <td>ITABIRITO</td>\n",
       "      <td>AUTOMAÇÃO INDUSTRIAL</td>\n",
       "      <td>-229.0</td>\n",
       "      <td>-203.0</td>\n",
       "      <td>-27.0</td>\n",
       "      <td>-230.0</td>\n",
       "    </tr>\n",
       "    <tr>\n",
       "      <th>42</th>\n",
       "      <td>PONTE NOVA</td>\n",
       "      <td>INFORMÁTICA</td>\n",
       "      <td>-218.0</td>\n",
       "      <td>-217.0</td>\n",
       "      <td>-26.0</td>\n",
       "      <td>-243.0</td>\n",
       "    </tr>\n",
       "    <tr>\n",
       "      <th>3</th>\n",
       "      <td>BAMBUÍ</td>\n",
       "      <td>AGROPECUÁRIA</td>\n",
       "      <td>-216.0</td>\n",
       "      <td>-157.0</td>\n",
       "      <td>-22.0</td>\n",
       "      <td>-179.0</td>\n",
       "    </tr>\n",
       "    <tr>\n",
       "      <th>33</th>\n",
       "      <td>OURO PRETO</td>\n",
       "      <td>AUTOMAÇÃO INDUSTRIAL</td>\n",
       "      <td>-210.0</td>\n",
       "      <td>-200.0</td>\n",
       "      <td>-25.0</td>\n",
       "      <td>-225.0</td>\n",
       "    </tr>\n",
       "    <tr>\n",
       "      <th>16</th>\n",
       "      <td>CONSELHEIRO LAFAIETE</td>\n",
       "      <td>MECÂNICA</td>\n",
       "      <td>-205.0</td>\n",
       "      <td>-130.0</td>\n",
       "      <td>-16.0</td>\n",
       "      <td>-146.0</td>\n",
       "    </tr>\n",
       "    <tr>\n",
       "      <th>47</th>\n",
       "      <td>SABARÁ</td>\n",
       "      <td>ELETRÔNICA</td>\n",
       "      <td>-204.0</td>\n",
       "      <td>-169.0</td>\n",
       "      <td>-14.0</td>\n",
       "      <td>-183.0</td>\n",
       "    </tr>\n",
       "    <tr>\n",
       "      <th>32</th>\n",
       "      <td>OURO PRETO</td>\n",
       "      <td>ADMINISTRAÇÃO</td>\n",
       "      <td>-203.0</td>\n",
       "      <td>-197.0</td>\n",
       "      <td>-22.0</td>\n",
       "      <td>-219.0</td>\n",
       "    </tr>\n",
       "    <tr>\n",
       "      <th>30</th>\n",
       "      <td>OURO BRANCO</td>\n",
       "      <td>INFORMÁTICA</td>\n",
       "      <td>-195.0</td>\n",
       "      <td>-177.0</td>\n",
       "      <td>-22.0</td>\n",
       "      <td>-199.0</td>\n",
       "    </tr>\n",
       "    <tr>\n",
       "      <th>29</th>\n",
       "      <td>OURO BRANCO</td>\n",
       "      <td>ADMINISTRAÇÃO</td>\n",
       "      <td>-177.0</td>\n",
       "      <td>-153.0</td>\n",
       "      <td>-25.0</td>\n",
       "      <td>-178.0</td>\n",
       "    </tr>\n",
       "    <tr>\n",
       "      <th>44</th>\n",
       "      <td>RIBEIRÃO DAS NEVES</td>\n",
       "      <td>ELETROELETRÔNICA</td>\n",
       "      <td>-175.0</td>\n",
       "      <td>-141.0</td>\n",
       "      <td>-25.0</td>\n",
       "      <td>-166.0</td>\n",
       "    </tr>\n",
       "    <tr>\n",
       "      <th>51</th>\n",
       "      <td>SANTA LUZIA</td>\n",
       "      <td>SEGURANÇA DO TRABALHO</td>\n",
       "      <td>-167.0</td>\n",
       "      <td>-35.0</td>\n",
       "      <td>-31.0</td>\n",
       "      <td>-66.0</td>\n",
       "    </tr>\n",
       "    <tr>\n",
       "      <th>20</th>\n",
       "      <td>GOVERNADOR VALADARES</td>\n",
       "      <td>EDIFICAÇÕES</td>\n",
       "      <td>-160.0</td>\n",
       "      <td>-133.0</td>\n",
       "      <td>-22.0</td>\n",
       "      <td>-155.0</td>\n",
       "    </tr>\n",
       "    <tr>\n",
       "      <th>13</th>\n",
       "      <td>CONGONHAS</td>\n",
       "      <td>MECÂNICA</td>\n",
       "      <td>-135.0</td>\n",
       "      <td>-91.0</td>\n",
       "      <td>-29.0</td>\n",
       "      <td>-120.0</td>\n",
       "    </tr>\n",
       "    <tr>\n",
       "      <th>31</th>\n",
       "      <td>OURO BRANCO</td>\n",
       "      <td>METALURGIA</td>\n",
       "      <td>-109.0</td>\n",
       "      <td>-66.0</td>\n",
       "      <td>-15.0</td>\n",
       "      <td>-81.0</td>\n",
       "    </tr>\n",
       "    <tr>\n",
       "      <th>1</th>\n",
       "      <td>ARCOS</td>\n",
       "      <td>MECÂNICA</td>\n",
       "      <td>-102.0</td>\n",
       "      <td>-67.0</td>\n",
       "      <td>-5.0</td>\n",
       "      <td>-72.0</td>\n",
       "    </tr>\n",
       "    <tr>\n",
       "      <th>40</th>\n",
       "      <td>PIUMHI</td>\n",
       "      <td>EDIFICAÇÕES</td>\n",
       "      <td>-101.0</td>\n",
       "      <td>-85.0</td>\n",
       "      <td>-10.0</td>\n",
       "      <td>-95.0</td>\n",
       "    </tr>\n",
       "    <tr>\n",
       "      <th>37</th>\n",
       "      <td>OURO PRETO</td>\n",
       "      <td>METALURGIA</td>\n",
       "      <td>-79.0</td>\n",
       "      <td>-69.0</td>\n",
       "      <td>-8.0</td>\n",
       "      <td>-77.0</td>\n",
       "    </tr>\n",
       "    <tr>\n",
       "      <th>17</th>\n",
       "      <td>FORMIGA</td>\n",
       "      <td>ADMINISTRAÇÃO</td>\n",
       "      <td>-70.0</td>\n",
       "      <td>-51.0</td>\n",
       "      <td>-14.0</td>\n",
       "      <td>-65.0</td>\n",
       "    </tr>\n",
       "    <tr>\n",
       "      <th>19</th>\n",
       "      <td>FORMIGA</td>\n",
       "      <td>INFORMÁTICA</td>\n",
       "      <td>-64.0</td>\n",
       "      <td>-54.0</td>\n",
       "      <td>-17.0</td>\n",
       "      <td>-71.0</td>\n",
       "    </tr>\n",
       "    <tr>\n",
       "      <th>2</th>\n",
       "      <td>BAMBUÍ</td>\n",
       "      <td>ADMINISTRAÇÃO</td>\n",
       "      <td>-56.0</td>\n",
       "      <td>-41.0</td>\n",
       "      <td>-4.0</td>\n",
       "      <td>-45.0</td>\n",
       "    </tr>\n",
       "    <tr>\n",
       "      <th>6</th>\n",
       "      <td>BAMBUÍ</td>\n",
       "      <td>INFORMÁTICA</td>\n",
       "      <td>-51.0</td>\n",
       "      <td>-48.0</td>\n",
       "      <td>-4.0</td>\n",
       "      <td>-52.0</td>\n",
       "    </tr>\n",
       "    <tr>\n",
       "      <th>4</th>\n",
       "      <td>BAMBUÍ</td>\n",
       "      <td>BIOTECNOLOGIA</td>\n",
       "      <td>-33.0</td>\n",
       "      <td>-29.0</td>\n",
       "      <td>-4.0</td>\n",
       "      <td>-33.0</td>\n",
       "    </tr>\n",
       "    <tr>\n",
       "      <th>5</th>\n",
       "      <td>BAMBUÍ</td>\n",
       "      <td>ELETROMECÂNICA</td>\n",
       "      <td>-26.0</td>\n",
       "      <td>-21.0</td>\n",
       "      <td>0.0</td>\n",
       "      <td>-21.0</td>\n",
       "    </tr>\n",
       "    <tr>\n",
       "      <th>8</th>\n",
       "      <td>BAMBUÍ</td>\n",
       "      <td>MEIO AMBIENTE</td>\n",
       "      <td>-12.0</td>\n",
       "      <td>-12.0</td>\n",
       "      <td>-1.0</td>\n",
       "      <td>-13.0</td>\n",
       "    </tr>\n",
       "    <tr>\n",
       "      <th>18</th>\n",
       "      <td>FORMIGA</td>\n",
       "      <td>ELETROTÉCNICA</td>\n",
       "      <td>-10.0</td>\n",
       "      <td>-10.0</td>\n",
       "      <td>-2.0</td>\n",
       "      <td>-12.0</td>\n",
       "    </tr>\n",
       "    <tr>\n",
       "      <th>0</th>\n",
       "      <td>ARCOS</td>\n",
       "      <td>ADMINISTRAÇÃO</td>\n",
       "      <td>NaN</td>\n",
       "      <td>NaN</td>\n",
       "      <td>NaN</td>\n",
       "      <td>NaN</td>\n",
       "    </tr>\n",
       "    <tr>\n",
       "      <th>7</th>\n",
       "      <td>BAMBUÍ</td>\n",
       "      <td>MANUTENÇÃO AUTOMOTIVA</td>\n",
       "      <td>NaN</td>\n",
       "      <td>NaN</td>\n",
       "      <td>NaN</td>\n",
       "      <td>NaN</td>\n",
       "    </tr>\n",
       "    <tr>\n",
       "      <th>35</th>\n",
       "      <td>OURO PRETO</td>\n",
       "      <td>JOALHERIA</td>\n",
       "      <td>NaN</td>\n",
       "      <td>NaN</td>\n",
       "      <td>NaN</td>\n",
       "      <td>NaN</td>\n",
       "    </tr>\n",
       "    <tr>\n",
       "      <th>36</th>\n",
       "      <td>OURO PRETO</td>\n",
       "      <td>MEIO AMBIENTE</td>\n",
       "      <td>NaN</td>\n",
       "      <td>NaN</td>\n",
       "      <td>NaN</td>\n",
       "      <td>NaN</td>\n",
       "    </tr>\n",
       "    <tr>\n",
       "      <th>39</th>\n",
       "      <td>OURO PRETO</td>\n",
       "      <td>SEGURANÇA DO TRABALHO</td>\n",
       "      <td>NaN</td>\n",
       "      <td>NaN</td>\n",
       "      <td>NaN</td>\n",
       "      <td>NaN</td>\n",
       "    </tr>\n",
       "    <tr>\n",
       "      <th>50</th>\n",
       "      <td>SANTA LUZIA</td>\n",
       "      <td>PAISAGISMO</td>\n",
       "      <td>NaN</td>\n",
       "      <td>NaN</td>\n",
       "      <td>NaN</td>\n",
       "      <td>NaN</td>\n",
       "    </tr>\n",
       "    <tr>\n",
       "      <th>52</th>\n",
       "      <td>SÃO JOÃO EVANGELISTA</td>\n",
       "      <td>AGRIMENSURA</td>\n",
       "      <td>NaN</td>\n",
       "      <td>NaN</td>\n",
       "      <td>NaN</td>\n",
       "      <td>NaN</td>\n",
       "    </tr>\n",
       "    <tr>\n",
       "      <th>53</th>\n",
       "      <td>SÃO JOÃO EVANGELISTA</td>\n",
       "      <td>AGROPECUÁRIA</td>\n",
       "      <td>NaN</td>\n",
       "      <td>NaN</td>\n",
       "      <td>NaN</td>\n",
       "      <td>NaN</td>\n",
       "    </tr>\n",
       "    <tr>\n",
       "      <th>54</th>\n",
       "      <td>SÃO JOÃO EVANGELISTA</td>\n",
       "      <td>INFORMÁTICA</td>\n",
       "      <td>NaN</td>\n",
       "      <td>NaN</td>\n",
       "      <td>NaN</td>\n",
       "      <td>NaN</td>\n",
       "    </tr>\n",
       "    <tr>\n",
       "      <th>55</th>\n",
       "      <td>SÃO JOÃO EVANGELISTA</td>\n",
       "      <td>NUTRIÇÃO E DIETÉTICA</td>\n",
       "      <td>NaN</td>\n",
       "      <td>NaN</td>\n",
       "      <td>NaN</td>\n",
       "      <td>NaN</td>\n",
       "    </tr>\n",
       "    <tr>\n",
       "      <th>56</th>\n",
       "      <td>SÃO JOÃO EVANGELISTA</td>\n",
       "      <td>TÉCNICO EM AGRIMENSURA</td>\n",
       "      <td>NaN</td>\n",
       "      <td>NaN</td>\n",
       "      <td>NaN</td>\n",
       "      <td>NaN</td>\n",
       "    </tr>\n",
       "    <tr>\n",
       "      <th>57</th>\n",
       "      <td>SÃO JOÃO EVANGELISTA</td>\n",
       "      <td>TÉCNICO EM AGROPECUÁRIA</td>\n",
       "      <td>NaN</td>\n",
       "      <td>NaN</td>\n",
       "      <td>NaN</td>\n",
       "      <td>NaN</td>\n",
       "    </tr>\n",
       "    <tr>\n",
       "      <th>58</th>\n",
       "      <td>SÃO JOÃO EVANGELISTA</td>\n",
       "      <td>TÉCNICO EM INFORMÁTICA</td>\n",
       "      <td>NaN</td>\n",
       "      <td>NaN</td>\n",
       "      <td>NaN</td>\n",
       "      <td>NaN</td>\n",
       "    </tr>\n",
       "    <tr>\n",
       "      <th>59</th>\n",
       "      <td>SÃO JOÃO EVANGELISTA</td>\n",
       "      <td>TÉCNICO EM NUTRIÇÃO E DIETÉTICA</td>\n",
       "      <td>NaN</td>\n",
       "      <td>NaN</td>\n",
       "      <td>NaN</td>\n",
       "      <td>NaN</td>\n",
       "    </tr>\n",
       "  </tbody>\n",
       "</table>\n",
       "</div>"
      ],
      "text/plain": [
       "                  Campus                            Curso  Inscritos  Pagos  \\\n",
       "49           SANTA LUZIA                      EDIFICAÇÕES     -809.0 -634.0   \n",
       "11                 BETIM                          QUÍMICA     -797.0 -667.0   \n",
       "9                  BETIM             AUTOMAÇÃO INDUSTRIAL     -734.0 -612.0   \n",
       "45    RIBEIRÃO DAS NEVES                      INFORMÁTICA     -491.0 -366.0   \n",
       "10                 BETIM                         MECÂNICA     -432.0 -350.0   \n",
       "48                SABARÁ                      INFORMÁTICA     -430.0 -358.0   \n",
       "22  GOVERNADOR VALADARES            SEGURANÇA DO TRABALHO     -420.0 -244.0   \n",
       "46                SABARÁ                    ADMINISTRAÇÃO     -390.0 -315.0   \n",
       "26              IPATINGA             AUTOMAÇÃO INDUSTRIAL     -385.0 -313.0   \n",
       "23               IBIRITÉ             AUTOMAÇÃO INDUSTRIAL     -375.0 -328.0   \n",
       "15  CONSELHEIRO LAFAIETE                    ELETROTÉCNICA     -364.0 -248.0   \n",
       "43    RIBEIRÃO DAS NEVES                    ADMINISTRAÇÃO     -332.0 -254.0   \n",
       "38            OURO PRETO                        MINERAÇÃO     -313.0 -233.0   \n",
       "14             CONGONHAS                        MINERAÇÃO     -287.0 -197.0   \n",
       "41            PONTE NOVA                    ADMINISTRAÇÃO     -281.0 -258.0   \n",
       "27              IPATINGA                    ELETROTÉCNICA     -269.0 -223.0   \n",
       "12             CONGONHAS                      EDIFICAÇÕES     -246.0 -200.0   \n",
       "34            OURO PRETO                      EDIFICAÇÕES     -243.0 -207.0   \n",
       "25               IBIRITÉ    SISTEMAS DE ENERGIA RENOVÁVEL     -238.0 -191.0   \n",
       "24               IBIRITÉ                      MECATRÔNICA     -236.0 -202.0   \n",
       "21  GOVERNADOR VALADARES                    MEIO AMBIENTE     -231.0 -191.0   \n",
       "28             ITABIRITO             AUTOMAÇÃO INDUSTRIAL     -229.0 -203.0   \n",
       "42            PONTE NOVA                      INFORMÁTICA     -218.0 -217.0   \n",
       "3                 BAMBUÍ                     AGROPECUÁRIA     -216.0 -157.0   \n",
       "33            OURO PRETO             AUTOMAÇÃO INDUSTRIAL     -210.0 -200.0   \n",
       "16  CONSELHEIRO LAFAIETE                         MECÂNICA     -205.0 -130.0   \n",
       "47                SABARÁ                       ELETRÔNICA     -204.0 -169.0   \n",
       "32            OURO PRETO                    ADMINISTRAÇÃO     -203.0 -197.0   \n",
       "30           OURO BRANCO                      INFORMÁTICA     -195.0 -177.0   \n",
       "29           OURO BRANCO                    ADMINISTRAÇÃO     -177.0 -153.0   \n",
       "44    RIBEIRÃO DAS NEVES                 ELETROELETRÔNICA     -175.0 -141.0   \n",
       "51           SANTA LUZIA            SEGURANÇA DO TRABALHO     -167.0  -35.0   \n",
       "20  GOVERNADOR VALADARES                      EDIFICAÇÕES     -160.0 -133.0   \n",
       "13             CONGONHAS                         MECÂNICA     -135.0  -91.0   \n",
       "31           OURO BRANCO                       METALURGIA     -109.0  -66.0   \n",
       "1                  ARCOS                         MECÂNICA     -102.0  -67.0   \n",
       "40                PIUMHI                      EDIFICAÇÕES     -101.0  -85.0   \n",
       "37            OURO PRETO                       METALURGIA      -79.0  -69.0   \n",
       "17               FORMIGA                    ADMINISTRAÇÃO      -70.0  -51.0   \n",
       "19               FORMIGA                      INFORMÁTICA      -64.0  -54.0   \n",
       "2                 BAMBUÍ                    ADMINISTRAÇÃO      -56.0  -41.0   \n",
       "6                 BAMBUÍ                      INFORMÁTICA      -51.0  -48.0   \n",
       "4                 BAMBUÍ                    BIOTECNOLOGIA      -33.0  -29.0   \n",
       "5                 BAMBUÍ                   ELETROMECÂNICA      -26.0  -21.0   \n",
       "8                 BAMBUÍ                    MEIO AMBIENTE      -12.0  -12.0   \n",
       "18               FORMIGA                    ELETROTÉCNICA      -10.0  -10.0   \n",
       "0                  ARCOS                    ADMINISTRAÇÃO        NaN    NaN   \n",
       "7                 BAMBUÍ            MANUTENÇÃO AUTOMOTIVA        NaN    NaN   \n",
       "35            OURO PRETO                        JOALHERIA        NaN    NaN   \n",
       "36            OURO PRETO                    MEIO AMBIENTE        NaN    NaN   \n",
       "39            OURO PRETO            SEGURANÇA DO TRABALHO        NaN    NaN   \n",
       "50           SANTA LUZIA                       PAISAGISMO        NaN    NaN   \n",
       "52  SÃO JOÃO EVANGELISTA                      AGRIMENSURA        NaN    NaN   \n",
       "53  SÃO JOÃO EVANGELISTA                     AGROPECUÁRIA        NaN    NaN   \n",
       "54  SÃO JOÃO EVANGELISTA                      INFORMÁTICA        NaN    NaN   \n",
       "55  SÃO JOÃO EVANGELISTA             NUTRIÇÃO E DIETÉTICA        NaN    NaN   \n",
       "56  SÃO JOÃO EVANGELISTA           TÉCNICO EM AGRIMENSURA        NaN    NaN   \n",
       "57  SÃO JOÃO EVANGELISTA          TÉCNICO EM AGROPECUÁRIA        NaN    NaN   \n",
       "58  SÃO JOÃO EVANGELISTA           TÉCNICO EM INFORMÁTICA        NaN    NaN   \n",
       "59  SÃO JOÃO EVANGELISTA  TÉCNICO EM NUTRIÇÃO E DIETÉTICA        NaN    NaN   \n",
       "\n",
       "    Deferidas  Homologadas  \n",
       "49     -105.0       -739.0  \n",
       "11      -73.0       -740.0  \n",
       "9       -72.0       -684.0  \n",
       "45      -81.0       -447.0  \n",
       "10      -33.0       -383.0  \n",
       "48      -46.0       -404.0  \n",
       "22      -73.0       -317.0  \n",
       "46      -56.0       -371.0  \n",
       "26      -30.0       -343.0  \n",
       "23      -30.0       -358.0  \n",
       "15      -42.0       -290.0  \n",
       "43      -50.0       -304.0  \n",
       "38      -29.0       -262.0  \n",
       "14      -42.0       -239.0  \n",
       "41      -28.0       -286.0  \n",
       "27      -26.0       -249.0  \n",
       "12      -39.0       -239.0  \n",
       "34      -20.0       -227.0  \n",
       "25      -30.0       -221.0  \n",
       "24      -31.0       -233.0  \n",
       "21      -29.0       -220.0  \n",
       "28      -27.0       -230.0  \n",
       "42      -26.0       -243.0  \n",
       "3       -22.0       -179.0  \n",
       "33      -25.0       -225.0  \n",
       "16      -16.0       -146.0  \n",
       "47      -14.0       -183.0  \n",
       "32      -22.0       -219.0  \n",
       "30      -22.0       -199.0  \n",
       "29      -25.0       -178.0  \n",
       "44      -25.0       -166.0  \n",
       "51      -31.0        -66.0  \n",
       "20      -22.0       -155.0  \n",
       "13      -29.0       -120.0  \n",
       "31      -15.0        -81.0  \n",
       "1        -5.0        -72.0  \n",
       "40      -10.0        -95.0  \n",
       "37       -8.0        -77.0  \n",
       "17      -14.0        -65.0  \n",
       "19      -17.0        -71.0  \n",
       "2        -4.0        -45.0  \n",
       "6        -4.0        -52.0  \n",
       "4        -4.0        -33.0  \n",
       "5         0.0        -21.0  \n",
       "8        -1.0        -13.0  \n",
       "18       -2.0        -12.0  \n",
       "0         NaN          NaN  \n",
       "7         NaN          NaN  \n",
       "35        NaN          NaN  \n",
       "36        NaN          NaN  \n",
       "39        NaN          NaN  \n",
       "50        NaN          NaN  \n",
       "52        NaN          NaN  \n",
       "53        NaN          NaN  \n",
       "54        NaN          NaN  \n",
       "55        NaN          NaN  \n",
       "56        NaN          NaN  \n",
       "57        NaN          NaN  \n",
       "58        NaN          NaN  \n",
       "59        NaN          NaN  "
      ]
     },
     "execution_count": 89,
     "metadata": {},
     "output_type": "execute_result"
    }
   ],
   "source": [
    "diff(df_tec_2024_1, df_tec_2025_1, tipo=[\"Campus\",\"Curso\"])"
   ]
  },
  {
   "cell_type": "code",
   "execution_count": 98,
   "metadata": {},
   "outputs": [
    {
     "data": {
      "text/html": [
       "<div>\n",
       "<style scoped>\n",
       "    .dataframe tbody tr th:only-of-type {\n",
       "        vertical-align: middle;\n",
       "    }\n",
       "\n",
       "    .dataframe tbody tr th {\n",
       "        vertical-align: top;\n",
       "    }\n",
       "\n",
       "    .dataframe thead th {\n",
       "        text-align: right;\n",
       "    }\n",
       "</style>\n",
       "<table border=\"1\" class=\"dataframe\">\n",
       "  <thead>\n",
       "    <tr style=\"text-align: right;\">\n",
       "      <th></th>\n",
       "      <th>Curso</th>\n",
       "      <th>Modalidade</th>\n",
       "      <th>Campus</th>\n",
       "      <th>Turno</th>\n",
       "      <th>Nivel</th>\n",
       "      <th>Inscritos</th>\n",
       "      <th>Pagos</th>\n",
       "      <th>Deferidas</th>\n",
       "      <th>Homologadas</th>\n",
       "      <th>FormaIngresso</th>\n",
       "    </tr>\n",
       "  </thead>\n",
       "  <tbody>\n",
       "    <tr>\n",
       "      <th>0</th>\n",
       "      <td>ENGENHARIA MECÂNICA</td>\n",
       "      <td>Bacharelado</td>\n",
       "      <td>ARCOS</td>\n",
       "      <td>Turno Noite</td>\n",
       "      <td>Superior</td>\n",
       "      <td>15</td>\n",
       "      <td>6</td>\n",
       "      <td>0</td>\n",
       "      <td>6</td>\n",
       "      <td>Redação Online</td>\n",
       "    </tr>\n",
       "    <tr>\n",
       "      <th>1</th>\n",
       "      <td>ADMINISTRAÇÃO</td>\n",
       "      <td>Bacharelado</td>\n",
       "      <td>BAMBUÍ</td>\n",
       "      <td>Turno Noturno</td>\n",
       "      <td>Superior</td>\n",
       "      <td>6</td>\n",
       "      <td>1</td>\n",
       "      <td>0</td>\n",
       "      <td>1</td>\n",
       "      <td>Notas do Enem</td>\n",
       "    </tr>\n",
       "    <tr>\n",
       "      <th>2</th>\n",
       "      <td>AGRONOMIA</td>\n",
       "      <td>Bacharelado</td>\n",
       "      <td>SÃO JOÃO EVANGELISTA</td>\n",
       "      <td>Turno manhã e tarde</td>\n",
       "      <td>Superior</td>\n",
       "      <td>2</td>\n",
       "      <td>0</td>\n",
       "      <td>0</td>\n",
       "      <td>0</td>\n",
       "      <td>Redação Online</td>\n",
       "    </tr>\n",
       "    <tr>\n",
       "      <th>3</th>\n",
       "      <td>CIÊNCIAS BIOLÓGICAS</td>\n",
       "      <td>Licenciatura</td>\n",
       "      <td>BAMBUÍ</td>\n",
       "      <td>Turno Noturno</td>\n",
       "      <td>Superior</td>\n",
       "      <td>0</td>\n",
       "      <td>0</td>\n",
       "      <td>0</td>\n",
       "      <td>0</td>\n",
       "      <td>Notas do Enem</td>\n",
       "    </tr>\n",
       "    <tr>\n",
       "      <th>4</th>\n",
       "      <td>CIÊNCIAS BIOLÓGICAS</td>\n",
       "      <td>Licenciatura</td>\n",
       "      <td>BAMBUÍ</td>\n",
       "      <td>Turno Noturno</td>\n",
       "      <td>Superior</td>\n",
       "      <td>1</td>\n",
       "      <td>0</td>\n",
       "      <td>0</td>\n",
       "      <td>0</td>\n",
       "      <td>Redação Online</td>\n",
       "    </tr>\n",
       "    <tr>\n",
       "      <th>...</th>\n",
       "      <td>...</td>\n",
       "      <td>...</td>\n",
       "      <td>...</td>\n",
       "      <td>...</td>\n",
       "      <td>...</td>\n",
       "      <td>...</td>\n",
       "      <td>...</td>\n",
       "      <td>...</td>\n",
       "      <td>...</td>\n",
       "      <td>...</td>\n",
       "    </tr>\n",
       "    <tr>\n",
       "      <th>83</th>\n",
       "      <td>MATEMÁTICA</td>\n",
       "      <td>Licenciatura</td>\n",
       "      <td>SÃO JOÃO EVANGELISTA</td>\n",
       "      <td>Turno Noturno</td>\n",
       "      <td>Superior</td>\n",
       "      <td>1</td>\n",
       "      <td>0</td>\n",
       "      <td>0</td>\n",
       "      <td>0</td>\n",
       "      <td>Notas do Enem</td>\n",
       "    </tr>\n",
       "    <tr>\n",
       "      <th>84</th>\n",
       "      <td>MATEMÁTICA</td>\n",
       "      <td>Licenciatura</td>\n",
       "      <td>SÃO JOÃO EVANGELISTA</td>\n",
       "      <td>Turno Noturno</td>\n",
       "      <td>Superior</td>\n",
       "      <td>0</td>\n",
       "      <td>0</td>\n",
       "      <td>0</td>\n",
       "      <td>0</td>\n",
       "      <td>Redação Online</td>\n",
       "    </tr>\n",
       "    <tr>\n",
       "      <th>85</th>\n",
       "      <td>SISTEMAS DE INFORMAÇÃO</td>\n",
       "      <td>Bacharelado</td>\n",
       "      <td>SÃO JOÃO EVANGELISTA</td>\n",
       "      <td>Turno Manhã e Tarde</td>\n",
       "      <td>Superior</td>\n",
       "      <td>3</td>\n",
       "      <td>1</td>\n",
       "      <td>0</td>\n",
       "      <td>1</td>\n",
       "      <td>Notas do Enem</td>\n",
       "    </tr>\n",
       "    <tr>\n",
       "      <th>86</th>\n",
       "      <td>SISTEMAS DE INFORMAÇÃO</td>\n",
       "      <td>Bacharelado</td>\n",
       "      <td>SÃO JOÃO EVANGELISTA</td>\n",
       "      <td>Turno Manhã e Tarde</td>\n",
       "      <td>Superior</td>\n",
       "      <td>0</td>\n",
       "      <td>0</td>\n",
       "      <td>0</td>\n",
       "      <td>0</td>\n",
       "      <td>Redação Online</td>\n",
       "    </tr>\n",
       "    <tr>\n",
       "      <th>87</th>\n",
       "      <td>ENGENHARIA DE CONTROLE E AUTOMAÇÃO</td>\n",
       "      <td>Bacharelado</td>\n",
       "      <td>IBIRITÉ</td>\n",
       "      <td>Turno Manhã e Tarde</td>\n",
       "      <td>Superior</td>\n",
       "      <td>9</td>\n",
       "      <td>3</td>\n",
       "      <td>0</td>\n",
       "      <td>3</td>\n",
       "      <td>Notas do Enem</td>\n",
       "    </tr>\n",
       "  </tbody>\n",
       "</table>\n",
       "<p>88 rows × 10 columns</p>\n",
       "</div>"
      ],
      "text/plain": [
       "                                 Curso    Modalidade                Campus  \\\n",
       "0                  ENGENHARIA MECÂNICA   Bacharelado                 ARCOS   \n",
       "1                        ADMINISTRAÇÃO   Bacharelado                BAMBUÍ   \n",
       "2                            AGRONOMIA   Bacharelado  SÃO JOÃO EVANGELISTA   \n",
       "3                  CIÊNCIAS BIOLÓGICAS  Licenciatura                BAMBUÍ   \n",
       "4                  CIÊNCIAS BIOLÓGICAS  Licenciatura                BAMBUÍ   \n",
       "..                                 ...           ...                   ...   \n",
       "83                          MATEMÁTICA  Licenciatura  SÃO JOÃO EVANGELISTA   \n",
       "84                          MATEMÁTICA  Licenciatura  SÃO JOÃO EVANGELISTA   \n",
       "85              SISTEMAS DE INFORMAÇÃO   Bacharelado  SÃO JOÃO EVANGELISTA   \n",
       "86              SISTEMAS DE INFORMAÇÃO   Bacharelado  SÃO JOÃO EVANGELISTA   \n",
       "87  ENGENHARIA DE CONTROLE E AUTOMAÇÃO   Bacharelado               IBIRITÉ   \n",
       "\n",
       "                  Turno     Nivel  Inscritos  Pagos  Deferidas  Homologadas  \\\n",
       "0           Turno Noite  Superior         15      6          0            6   \n",
       "1         Turno Noturno  Superior          6      1          0            1   \n",
       "2   Turno manhã e tarde  Superior          2      0          0            0   \n",
       "3         Turno Noturno  Superior          0      0          0            0   \n",
       "4         Turno Noturno  Superior          1      0          0            0   \n",
       "..                  ...       ...        ...    ...        ...          ...   \n",
       "83        Turno Noturno  Superior          1      0          0            0   \n",
       "84        Turno Noturno  Superior          0      0          0            0   \n",
       "85  Turno Manhã e Tarde  Superior          3      1          0            1   \n",
       "86  Turno Manhã e Tarde  Superior          0      0          0            0   \n",
       "87  Turno Manhã e Tarde  Superior          9      3          0            3   \n",
       "\n",
       "     FormaIngresso  \n",
       "0   Redação Online  \n",
       "1    Notas do Enem  \n",
       "2   Redação Online  \n",
       "3    Notas do Enem  \n",
       "4   Redação Online  \n",
       "..             ...  \n",
       "83   Notas do Enem  \n",
       "84  Redação Online  \n",
       "85   Notas do Enem  \n",
       "86  Redação Online  \n",
       "87   Notas do Enem  \n",
       "\n",
       "[88 rows x 10 columns]"
      ]
     },
     "execution_count": 98,
     "metadata": {},
     "output_type": "execute_result"
    }
   ],
   "source": [
    "process_file_for_grad(\"dados/2025-1_GestaoResultado_ResumoInscricoes_GRAD.xlsx\")"
   ]
  },
  {
   "cell_type": "code",
   "execution_count": 81,
   "metadata": {},
   "outputs": [],
   "source": [
    "df_tcc2024 = process_file_for_tec(\"dados/2024-1_GestaoResultado_ResumoInscricoes_TEC.xlsx\")\n",
    "df_tcc2025 = process_file_for_tec(\"dados/2025-1_GestaoResultado_ResumoInscricoes_TEC.xlsx\")"
   ]
  },
  {
   "cell_type": "code",
   "execution_count": 83,
   "metadata": {},
   "outputs": [
    {
     "data": {
      "text/html": [
       "<div>\n",
       "<style scoped>\n",
       "    .dataframe tbody tr th:only-of-type {\n",
       "        vertical-align: middle;\n",
       "    }\n",
       "\n",
       "    .dataframe tbody tr th {\n",
       "        vertical-align: top;\n",
       "    }\n",
       "\n",
       "    .dataframe thead th {\n",
       "        text-align: right;\n",
       "    }\n",
       "</style>\n",
       "<table border=\"1\" class=\"dataframe\">\n",
       "  <thead>\n",
       "    <tr style=\"text-align: right;\">\n",
       "      <th></th>\n",
       "      <th>Curso</th>\n",
       "      <th>Modalidade</th>\n",
       "      <th>Campus</th>\n",
       "      <th>Turno</th>\n",
       "      <th>Nivel</th>\n",
       "      <th>Inscritos</th>\n",
       "      <th>Pagos</th>\n",
       "      <th>Deferidas</th>\n",
       "      <th>Homologadas</th>\n",
       "      <th>Modalidade</th>\n",
       "      <th>FormaIngresso</th>\n",
       "    </tr>\n",
       "  </thead>\n",
       "  <tbody>\n",
       "    <tr>\n",
       "      <th>4</th>\n",
       "      <td>ADMINISTRAÇÃO</td>\n",
       "      <td>Curso Técnico Integrado</td>\n",
       "      <td>PONTE NOVA</td>\n",
       "      <td>Turno Integral</td>\n",
       "      <td>Nível Fundamental</td>\n",
       "      <td>339</td>\n",
       "      <td>282</td>\n",
       "      <td>28</td>\n",
       "      <td>310</td>\n",
       "      <td>Curso Técnico Integrado</td>\n",
       "      <td>Processo Seletivo</td>\n",
       "    </tr>\n",
       "    <tr>\n",
       "      <th>30</th>\n",
       "      <td>INFORMÁTICA</td>\n",
       "      <td>Curso Técnico Integrado</td>\n",
       "      <td>PONTE NOVA</td>\n",
       "      <td>Turno Integral</td>\n",
       "      <td>Nível Fundamental</td>\n",
       "      <td>291</td>\n",
       "      <td>241</td>\n",
       "      <td>26</td>\n",
       "      <td>267</td>\n",
       "      <td>Curso Técnico Integrado</td>\n",
       "      <td>Processo Seletivo</td>\n",
       "    </tr>\n",
       "  </tbody>\n",
       "</table>\n",
       "</div>"
      ],
      "text/plain": [
       "            Curso               Modalidade      Campus           Turno  \\\n",
       "4   ADMINISTRAÇÃO  Curso Técnico Integrado  PONTE NOVA  Turno Integral   \n",
       "30    INFORMÁTICA  Curso Técnico Integrado  PONTE NOVA  Turno Integral   \n",
       "\n",
       "                Nivel  Inscritos  Pagos  Deferidas  Homologadas  \\\n",
       "4   Nível Fundamental        339    282         28          310   \n",
       "30  Nível Fundamental        291    241         26          267   \n",
       "\n",
       "                 Modalidade      FormaIngresso  \n",
       "4   Curso Técnico Integrado  Processo Seletivo  \n",
       "30  Curso Técnico Integrado  Processo Seletivo  "
      ]
     },
     "execution_count": 83,
     "metadata": {},
     "output_type": "execute_result"
    }
   ],
   "source": [
    "df_tcc2024[df_tcc2024['Campus']==\"PONTE NOVA\"]\n"
   ]
  },
  {
   "cell_type": "code",
   "execution_count": 85,
   "metadata": {},
   "outputs": [
    {
     "data": {
      "text/html": [
       "<div>\n",
       "<style scoped>\n",
       "    .dataframe tbody tr th:only-of-type {\n",
       "        vertical-align: middle;\n",
       "    }\n",
       "\n",
       "    .dataframe tbody tr th {\n",
       "        vertical-align: top;\n",
       "    }\n",
       "\n",
       "    .dataframe thead th {\n",
       "        text-align: right;\n",
       "    }\n",
       "</style>\n",
       "<table border=\"1\" class=\"dataframe\">\n",
       "  <thead>\n",
       "    <tr style=\"text-align: right;\">\n",
       "      <th></th>\n",
       "      <th>Curso</th>\n",
       "      <th>Modalidade</th>\n",
       "      <th>Campus</th>\n",
       "      <th>Turno</th>\n",
       "      <th>Nivel</th>\n",
       "      <th>Inscritos</th>\n",
       "      <th>Pagos</th>\n",
       "      <th>Deferidas</th>\n",
       "      <th>Homologadas</th>\n",
       "      <th>Modalidade</th>\n",
       "      <th>FormaIngresso</th>\n",
       "    </tr>\n",
       "  </thead>\n",
       "  <tbody>\n",
       "    <tr>\n",
       "      <th>37</th>\n",
       "      <td>ADMINISTRAÇÃO</td>\n",
       "      <td>Curso Técnico Integrado</td>\n",
       "      <td>PONTE NOVA</td>\n",
       "      <td>Turnos Manhã e Tarde</td>\n",
       "      <td>médio</td>\n",
       "      <td>58</td>\n",
       "      <td>24</td>\n",
       "      <td>0</td>\n",
       "      <td>24</td>\n",
       "      <td>Curso Técnico Integrado</td>\n",
       "      <td>Processo Seletivo</td>\n",
       "    </tr>\n",
       "    <tr>\n",
       "      <th>38</th>\n",
       "      <td>INFORMÁTICA</td>\n",
       "      <td>Curso Técnico Integrado</td>\n",
       "      <td>PONTE NOVA</td>\n",
       "      <td>Turnos Manhã e Tarde</td>\n",
       "      <td>médio</td>\n",
       "      <td>73</td>\n",
       "      <td>24</td>\n",
       "      <td>0</td>\n",
       "      <td>24</td>\n",
       "      <td>Curso Técnico Integrado</td>\n",
       "      <td>Processo Seletivo</td>\n",
       "    </tr>\n",
       "  </tbody>\n",
       "</table>\n",
       "</div>"
      ],
      "text/plain": [
       "            Curso               Modalidade      Campus                 Turno  \\\n",
       "37  ADMINISTRAÇÃO  Curso Técnico Integrado  PONTE NOVA  Turnos Manhã e Tarde   \n",
       "38    INFORMÁTICA  Curso Técnico Integrado  PONTE NOVA  Turnos Manhã e Tarde   \n",
       "\n",
       "    Nivel  Inscritos  Pagos  Deferidas  Homologadas               Modalidade  \\\n",
       "37  médio         58     24          0           24  Curso Técnico Integrado   \n",
       "38  médio         73     24          0           24  Curso Técnico Integrado   \n",
       "\n",
       "        FormaIngresso  \n",
       "37  Processo Seletivo  \n",
       "38  Processo Seletivo  "
      ]
     },
     "execution_count": 85,
     "metadata": {},
     "output_type": "execute_result"
    }
   ],
   "source": [
    "df_tcc2025[df_tcc2025['Campus']==\"PONTE NOVA\"]"
   ]
  },
  {
   "cell_type": "code",
   "execution_count": null,
   "metadata": {},
   "outputs": [],
   "source": []
  },
  {
   "cell_type": "code",
   "execution_count": 90,
   "metadata": {},
   "outputs": [
    {
     "data": {
      "text/html": [
       "<div>\n",
       "<style scoped>\n",
       "    .dataframe tbody tr th:only-of-type {\n",
       "        vertical-align: middle;\n",
       "    }\n",
       "\n",
       "    .dataframe tbody tr th {\n",
       "        vertical-align: top;\n",
       "    }\n",
       "\n",
       "    .dataframe thead th {\n",
       "        text-align: right;\n",
       "    }\n",
       "</style>\n",
       "<table border=\"1\" class=\"dataframe\">\n",
       "  <thead>\n",
       "    <tr style=\"text-align: right;\">\n",
       "      <th></th>\n",
       "      <th>Campus</th>\n",
       "      <th>Inscritos</th>\n",
       "      <th>Pagos</th>\n",
       "      <th>Deferidas</th>\n",
       "      <th>Homologadas</th>\n",
       "    </tr>\n",
       "  </thead>\n",
       "  <tbody>\n",
       "    <tr>\n",
       "      <th>2</th>\n",
       "      <td>BETIM</td>\n",
       "      <td>-1963</td>\n",
       "      <td>-1629</td>\n",
       "      <td>-178</td>\n",
       "      <td>-1807</td>\n",
       "    </tr>\n",
       "    <tr>\n",
       "      <th>11</th>\n",
       "      <td>OURO PRETO</td>\n",
       "      <td>-1344</td>\n",
       "      <td>-1022</td>\n",
       "      <td>-136</td>\n",
       "      <td>-1158</td>\n",
       "    </tr>\n",
       "    <tr>\n",
       "      <th>16</th>\n",
       "      <td>SANTA LUZIA</td>\n",
       "      <td>-1039</td>\n",
       "      <td>-696</td>\n",
       "      <td>-145</td>\n",
       "      <td>-841</td>\n",
       "    </tr>\n",
       "    <tr>\n",
       "      <th>15</th>\n",
       "      <td>SABARÁ</td>\n",
       "      <td>-1024</td>\n",
       "      <td>-842</td>\n",
       "      <td>-116</td>\n",
       "      <td>-958</td>\n",
       "    </tr>\n",
       "    <tr>\n",
       "      <th>14</th>\n",
       "      <td>RIBEIRÃO DAS NEVES</td>\n",
       "      <td>-998</td>\n",
       "      <td>-761</td>\n",
       "      <td>-156</td>\n",
       "      <td>-917</td>\n",
       "    </tr>\n",
       "    <tr>\n",
       "      <th>17</th>\n",
       "      <td>SÃO JOÃO EVANGELISTA</td>\n",
       "      <td>-922</td>\n",
       "      <td>-699</td>\n",
       "      <td>-147</td>\n",
       "      <td>-846</td>\n",
       "    </tr>\n",
       "    <tr>\n",
       "      <th>7</th>\n",
       "      <td>IBIRITÉ</td>\n",
       "      <td>-849</td>\n",
       "      <td>-721</td>\n",
       "      <td>-91</td>\n",
       "      <td>-812</td>\n",
       "    </tr>\n",
       "    <tr>\n",
       "      <th>6</th>\n",
       "      <td>GOVERNADOR VALADARES</td>\n",
       "      <td>-811</td>\n",
       "      <td>-568</td>\n",
       "      <td>-124</td>\n",
       "      <td>-692</td>\n",
       "    </tr>\n",
       "    <tr>\n",
       "      <th>3</th>\n",
       "      <td>CONGONHAS</td>\n",
       "      <td>-668</td>\n",
       "      <td>-488</td>\n",
       "      <td>-110</td>\n",
       "      <td>-598</td>\n",
       "    </tr>\n",
       "    <tr>\n",
       "      <th>8</th>\n",
       "      <td>IPATINGA</td>\n",
       "      <td>-654</td>\n",
       "      <td>-536</td>\n",
       "      <td>-56</td>\n",
       "      <td>-592</td>\n",
       "    </tr>\n",
       "    <tr>\n",
       "      <th>4</th>\n",
       "      <td>CONSELHEIRO LAFAIETE</td>\n",
       "      <td>-569</td>\n",
       "      <td>-378</td>\n",
       "      <td>-58</td>\n",
       "      <td>-436</td>\n",
       "    </tr>\n",
       "    <tr>\n",
       "      <th>13</th>\n",
       "      <td>PONTE NOVA</td>\n",
       "      <td>-499</td>\n",
       "      <td>-475</td>\n",
       "      <td>-54</td>\n",
       "      <td>-529</td>\n",
       "    </tr>\n",
       "    <tr>\n",
       "      <th>10</th>\n",
       "      <td>OURO BRANCO</td>\n",
       "      <td>-481</td>\n",
       "      <td>-396</td>\n",
       "      <td>-62</td>\n",
       "      <td>-458</td>\n",
       "    </tr>\n",
       "    <tr>\n",
       "      <th>1</th>\n",
       "      <td>BAMBUÍ</td>\n",
       "      <td>-418</td>\n",
       "      <td>-317</td>\n",
       "      <td>-36</td>\n",
       "      <td>-353</td>\n",
       "    </tr>\n",
       "    <tr>\n",
       "      <th>9</th>\n",
       "      <td>ITABIRITO</td>\n",
       "      <td>-229</td>\n",
       "      <td>-203</td>\n",
       "      <td>-27</td>\n",
       "      <td>-230</td>\n",
       "    </tr>\n",
       "    <tr>\n",
       "      <th>5</th>\n",
       "      <td>FORMIGA</td>\n",
       "      <td>-144</td>\n",
       "      <td>-115</td>\n",
       "      <td>-33</td>\n",
       "      <td>-148</td>\n",
       "    </tr>\n",
       "    <tr>\n",
       "      <th>12</th>\n",
       "      <td>PIUMHI</td>\n",
       "      <td>-101</td>\n",
       "      <td>-85</td>\n",
       "      <td>-10</td>\n",
       "      <td>-95</td>\n",
       "    </tr>\n",
       "    <tr>\n",
       "      <th>0</th>\n",
       "      <td>ARCOS</td>\n",
       "      <td>-54</td>\n",
       "      <td>-43</td>\n",
       "      <td>-5</td>\n",
       "      <td>-48</td>\n",
       "    </tr>\n",
       "  </tbody>\n",
       "</table>\n",
       "</div>"
      ],
      "text/plain": [
       "                  Campus  Inscritos  Pagos  Deferidas  Homologadas\n",
       "2                  BETIM      -1963  -1629       -178        -1807\n",
       "11            OURO PRETO      -1344  -1022       -136        -1158\n",
       "16           SANTA LUZIA      -1039   -696       -145         -841\n",
       "15                SABARÁ      -1024   -842       -116         -958\n",
       "14    RIBEIRÃO DAS NEVES       -998   -761       -156         -917\n",
       "17  SÃO JOÃO EVANGELISTA       -922   -699       -147         -846\n",
       "7                IBIRITÉ       -849   -721        -91         -812\n",
       "6   GOVERNADOR VALADARES       -811   -568       -124         -692\n",
       "3              CONGONHAS       -668   -488       -110         -598\n",
       "8               IPATINGA       -654   -536        -56         -592\n",
       "4   CONSELHEIRO LAFAIETE       -569   -378        -58         -436\n",
       "13            PONTE NOVA       -499   -475        -54         -529\n",
       "10           OURO BRANCO       -481   -396        -62         -458\n",
       "1                 BAMBUÍ       -418   -317        -36         -353\n",
       "9              ITABIRITO       -229   -203        -27         -230\n",
       "5                FORMIGA       -144   -115        -33         -148\n",
       "12                PIUMHI       -101    -85        -10          -95\n",
       "0                  ARCOS        -54    -43         -5          -48"
      ]
     },
     "execution_count": 90,
     "metadata": {},
     "output_type": "execute_result"
    }
   ],
   "source": [
    "# Tecnicos\n",
    "diff(process_file_for_tec(\"dados/2024-1_GestaoResultado_ResumoInscricoes_TEC.xlsx\"),\n",
    "process_file_for_tec(\"dados/2025-1_GestaoResultado_ResumoInscricoes_TEC.xlsx\"), tipo=\"Campus\")\n"
   ]
  },
  {
   "cell_type": "code",
   "execution_count": 101,
   "metadata": {},
   "outputs": [
    {
     "data": {
      "text/html": [
       "<div>\n",
       "<style scoped>\n",
       "    .dataframe tbody tr th:only-of-type {\n",
       "        vertical-align: middle;\n",
       "    }\n",
       "\n",
       "    .dataframe tbody tr th {\n",
       "        vertical-align: top;\n",
       "    }\n",
       "\n",
       "    .dataframe thead th {\n",
       "        text-align: right;\n",
       "    }\n",
       "</style>\n",
       "<table border=\"1\" class=\"dataframe\">\n",
       "  <thead>\n",
       "    <tr style=\"text-align: right;\">\n",
       "      <th></th>\n",
       "      <th>Campus</th>\n",
       "      <th>Inscritos</th>\n",
       "      <th>Pagos</th>\n",
       "      <th>Deferidas</th>\n",
       "      <th>Homologadas</th>\n",
       "    </tr>\n",
       "  </thead>\n",
       "  <tbody>\n",
       "    <tr>\n",
       "      <th>15</th>\n",
       "      <td>SANTA LUZIA</td>\n",
       "      <td>-406.0</td>\n",
       "      <td>-178.0</td>\n",
       "      <td>-112.0</td>\n",
       "      <td>-290.0</td>\n",
       "    </tr>\n",
       "    <tr>\n",
       "      <th>1</th>\n",
       "      <td>BAMBUÍ</td>\n",
       "      <td>-363.0</td>\n",
       "      <td>-225.0</td>\n",
       "      <td>-82.0</td>\n",
       "      <td>-307.0</td>\n",
       "    </tr>\n",
       "    <tr>\n",
       "      <th>9</th>\n",
       "      <td>OURO BRANCO</td>\n",
       "      <td>-317.0</td>\n",
       "      <td>-189.0</td>\n",
       "      <td>-86.0</td>\n",
       "      <td>-275.0</td>\n",
       "    </tr>\n",
       "    <tr>\n",
       "      <th>14</th>\n",
       "      <td>SABARÁ</td>\n",
       "      <td>-295.0</td>\n",
       "      <td>-143.0</td>\n",
       "      <td>-66.0</td>\n",
       "      <td>-209.0</td>\n",
       "    </tr>\n",
       "    <tr>\n",
       "      <th>2</th>\n",
       "      <td>BETIM</td>\n",
       "      <td>-292.0</td>\n",
       "      <td>-151.0</td>\n",
       "      <td>-64.0</td>\n",
       "      <td>-215.0</td>\n",
       "    </tr>\n",
       "    <tr>\n",
       "      <th>16</th>\n",
       "      <td>SÃO JOÃO EVANGELISTA</td>\n",
       "      <td>-250.0</td>\n",
       "      <td>-127.0</td>\n",
       "      <td>-61.0</td>\n",
       "      <td>-188.0</td>\n",
       "    </tr>\n",
       "    <tr>\n",
       "      <th>5</th>\n",
       "      <td>GOVERNADOR VALADARES</td>\n",
       "      <td>-229.0</td>\n",
       "      <td>-100.0</td>\n",
       "      <td>-48.0</td>\n",
       "      <td>-148.0</td>\n",
       "    </tr>\n",
       "    <tr>\n",
       "      <th>3</th>\n",
       "      <td>CONGONHAS</td>\n",
       "      <td>-173.0</td>\n",
       "      <td>-87.0</td>\n",
       "      <td>-46.0</td>\n",
       "      <td>-133.0</td>\n",
       "    </tr>\n",
       "    <tr>\n",
       "      <th>0</th>\n",
       "      <td>ARCOS</td>\n",
       "      <td>-148.0</td>\n",
       "      <td>-119.0</td>\n",
       "      <td>-2.0</td>\n",
       "      <td>-121.0</td>\n",
       "    </tr>\n",
       "    <tr>\n",
       "      <th>13</th>\n",
       "      <td>RIBEIRÃO DAS NEVES</td>\n",
       "      <td>-135.0</td>\n",
       "      <td>-44.0</td>\n",
       "      <td>-32.0</td>\n",
       "      <td>-76.0</td>\n",
       "    </tr>\n",
       "    <tr>\n",
       "      <th>4</th>\n",
       "      <td>FORMIGA</td>\n",
       "      <td>-118.0</td>\n",
       "      <td>-84.0</td>\n",
       "      <td>-15.0</td>\n",
       "      <td>-99.0</td>\n",
       "    </tr>\n",
       "    <tr>\n",
       "      <th>8</th>\n",
       "      <td>ITABIRITO</td>\n",
       "      <td>-92.0</td>\n",
       "      <td>-48.0</td>\n",
       "      <td>-12.0</td>\n",
       "      <td>-60.0</td>\n",
       "    </tr>\n",
       "    <tr>\n",
       "      <th>7</th>\n",
       "      <td>IPATINGA</td>\n",
       "      <td>-72.0</td>\n",
       "      <td>-32.0</td>\n",
       "      <td>-19.0</td>\n",
       "      <td>-51.0</td>\n",
       "    </tr>\n",
       "    <tr>\n",
       "      <th>10</th>\n",
       "      <td>OURO PRETO</td>\n",
       "      <td>-66.0</td>\n",
       "      <td>-31.0</td>\n",
       "      <td>-23.0</td>\n",
       "      <td>-54.0</td>\n",
       "    </tr>\n",
       "    <tr>\n",
       "      <th>12</th>\n",
       "      <td>PONTE NOVA</td>\n",
       "      <td>-46.0</td>\n",
       "      <td>-17.0</td>\n",
       "      <td>-12.0</td>\n",
       "      <td>-29.0</td>\n",
       "    </tr>\n",
       "    <tr>\n",
       "      <th>6</th>\n",
       "      <td>IBIRITÉ</td>\n",
       "      <td>-37.0</td>\n",
       "      <td>-18.0</td>\n",
       "      <td>-12.0</td>\n",
       "      <td>-30.0</td>\n",
       "    </tr>\n",
       "    <tr>\n",
       "      <th>11</th>\n",
       "      <td>PIUMHI</td>\n",
       "      <td>-30.0</td>\n",
       "      <td>-21.0</td>\n",
       "      <td>-4.0</td>\n",
       "      <td>-25.0</td>\n",
       "    </tr>\n",
       "    <tr>\n",
       "      <th>17</th>\n",
       "      <td>TURNO NOTURNO</td>\n",
       "      <td>NaN</td>\n",
       "      <td>NaN</td>\n",
       "      <td>NaN</td>\n",
       "      <td>NaN</td>\n",
       "    </tr>\n",
       "  </tbody>\n",
       "</table>\n",
       "</div>"
      ],
      "text/plain": [
       "                  Campus  Inscritos  Pagos  Deferidas  Homologadas\n",
       "15           SANTA LUZIA     -406.0 -178.0     -112.0       -290.0\n",
       "1                 BAMBUÍ     -363.0 -225.0      -82.0       -307.0\n",
       "9            OURO BRANCO     -317.0 -189.0      -86.0       -275.0\n",
       "14                SABARÁ     -295.0 -143.0      -66.0       -209.0\n",
       "2                  BETIM     -292.0 -151.0      -64.0       -215.0\n",
       "16  SÃO JOÃO EVANGELISTA     -250.0 -127.0      -61.0       -188.0\n",
       "5   GOVERNADOR VALADARES     -229.0 -100.0      -48.0       -148.0\n",
       "3              CONGONHAS     -173.0  -87.0      -46.0       -133.0\n",
       "0                  ARCOS     -148.0 -119.0       -2.0       -121.0\n",
       "13    RIBEIRÃO DAS NEVES     -135.0  -44.0      -32.0        -76.0\n",
       "4                FORMIGA     -118.0  -84.0      -15.0        -99.0\n",
       "8              ITABIRITO      -92.0  -48.0      -12.0        -60.0\n",
       "7               IPATINGA      -72.0  -32.0      -19.0        -51.0\n",
       "10            OURO PRETO      -66.0  -31.0      -23.0        -54.0\n",
       "12            PONTE NOVA      -46.0  -17.0      -12.0        -29.0\n",
       "6                IBIRITÉ      -37.0  -18.0      -12.0        -30.0\n",
       "11                PIUMHI      -30.0  -21.0       -4.0        -25.0\n",
       "17         TURNO NOTURNO        NaN    NaN        NaN          NaN"
      ]
     },
     "execution_count": 101,
     "metadata": {},
     "output_type": "execute_result"
    }
   ],
   "source": [
    "# Superiores\n",
    "diff(process_file_for_grad(\"dados/2024-1_GestaoResultado_ResumoInscricoes_GRAD.xlsx\"),\n",
    "process_file_for_grad(\"dados/2025-1_GestaoResultado_ResumoInscricoes_GRAD.xlsx\"), tipo=[\"Campus\"])\n"
   ]
  },
  {
   "cell_type": "code",
   "execution_count": 108,
   "metadata": {},
   "outputs": [],
   "source": [
    "ano = \"2024-1\"\n",
    "\n",
    "dfMed = process_file_for_tec(f'dados/{ano}_GestaoResultado_ResumoInscricoes_TEC.xlsx')\n",
    "dfGra = process_file_for_grad(f'dados/{ano}_GestaoResultado_ResumoInscricoes_GRAD.xlsx')\n",
    "\n"
   ]
  },
  {
   "cell_type": "code",
   "execution_count": 109,
   "metadata": {},
   "outputs": [
    {
     "data": {
      "text/html": [
       "<div>\n",
       "<style scoped>\n",
       "    .dataframe tbody tr th:only-of-type {\n",
       "        vertical-align: middle;\n",
       "    }\n",
       "\n",
       "    .dataframe tbody tr th {\n",
       "        vertical-align: top;\n",
       "    }\n",
       "\n",
       "    .dataframe thead th {\n",
       "        text-align: right;\n",
       "    }\n",
       "</style>\n",
       "<table border=\"1\" class=\"dataframe\">\n",
       "  <thead>\n",
       "    <tr style=\"text-align: right;\">\n",
       "      <th></th>\n",
       "      <th>Curso</th>\n",
       "      <th>Modalidade</th>\n",
       "      <th>Campus</th>\n",
       "      <th>Turno</th>\n",
       "      <th>Nivel</th>\n",
       "      <th>Inscritos</th>\n",
       "      <th>Pagos</th>\n",
       "      <th>Deferidas</th>\n",
       "      <th>Homologadas</th>\n",
       "      <th>FormaIngresso</th>\n",
       "    </tr>\n",
       "  </thead>\n",
       "  <tbody>\n",
       "    <tr>\n",
       "      <th>0</th>\n",
       "      <td>ADMINISTRAÇÃO</td>\n",
       "      <td>Curso Técnico Integrado</td>\n",
       "      <td>FORMIGA</td>\n",
       "      <td>Turno Integral</td>\n",
       "      <td>Nível Fundamental</td>\n",
       "      <td>84</td>\n",
       "      <td>54</td>\n",
       "      <td>14</td>\n",
       "      <td>68</td>\n",
       "      <td>Processo Seletivo</td>\n",
       "    </tr>\n",
       "    <tr>\n",
       "      <th>1</th>\n",
       "      <td>ADMINISTRAÇÃO</td>\n",
       "      <td>Curso Técnico Integrado</td>\n",
       "      <td>BAMBUÍ</td>\n",
       "      <td>Turno Integral</td>\n",
       "      <td>Nível Fundamental</td>\n",
       "      <td>66</td>\n",
       "      <td>47</td>\n",
       "      <td>4</td>\n",
       "      <td>51</td>\n",
       "      <td>Processo Seletivo</td>\n",
       "    </tr>\n",
       "    <tr>\n",
       "      <th>2</th>\n",
       "      <td>ADMINISTRAÇÃO</td>\n",
       "      <td>Curso Técnico Integrado</td>\n",
       "      <td>OURO BRANCO</td>\n",
       "      <td>Turno Integral</td>\n",
       "      <td>Nível Fundamental</td>\n",
       "      <td>221</td>\n",
       "      <td>171</td>\n",
       "      <td>25</td>\n",
       "      <td>196</td>\n",
       "      <td>Processo Seletivo</td>\n",
       "    </tr>\n",
       "    <tr>\n",
       "      <th>3</th>\n",
       "      <td>ADMINISTRAÇÃO</td>\n",
       "      <td>Curso Técnico Integrado</td>\n",
       "      <td>OURO PRETO</td>\n",
       "      <td>Turno Integral</td>\n",
       "      <td>Nível Fundamental</td>\n",
       "      <td>273</td>\n",
       "      <td>223</td>\n",
       "      <td>22</td>\n",
       "      <td>245</td>\n",
       "      <td>Processo Seletivo</td>\n",
       "    </tr>\n",
       "    <tr>\n",
       "      <th>4</th>\n",
       "      <td>ADMINISTRAÇÃO</td>\n",
       "      <td>Curso Técnico Integrado</td>\n",
       "      <td>PONTE NOVA</td>\n",
       "      <td>Turno Integral</td>\n",
       "      <td>Nível Fundamental</td>\n",
       "      <td>339</td>\n",
       "      <td>282</td>\n",
       "      <td>28</td>\n",
       "      <td>310</td>\n",
       "      <td>Processo Seletivo</td>\n",
       "    </tr>\n",
       "  </tbody>\n",
       "</table>\n",
       "</div>"
      ],
      "text/plain": [
       "           Curso               Modalidade       Campus           Turno  \\\n",
       "0  ADMINISTRAÇÃO  Curso Técnico Integrado      FORMIGA  Turno Integral   \n",
       "1  ADMINISTRAÇÃO  Curso Técnico Integrado       BAMBUÍ  Turno Integral   \n",
       "2  ADMINISTRAÇÃO  Curso Técnico Integrado  OURO BRANCO  Turno Integral   \n",
       "3  ADMINISTRAÇÃO  Curso Técnico Integrado   OURO PRETO  Turno Integral   \n",
       "4  ADMINISTRAÇÃO  Curso Técnico Integrado   PONTE NOVA  Turno Integral   \n",
       "\n",
       "               Nivel  Inscritos  Pagos  Deferidas  Homologadas  \\\n",
       "0  Nível Fundamental         84     54         14           68   \n",
       "1  Nível Fundamental         66     47          4           51   \n",
       "2  Nível Fundamental        221    171         25          196   \n",
       "3  Nível Fundamental        273    223         22          245   \n",
       "4  Nível Fundamental        339    282         28          310   \n",
       "\n",
       "       FormaIngresso  \n",
       "0  Processo Seletivo  \n",
       "1  Processo Seletivo  \n",
       "2  Processo Seletivo  \n",
       "3  Processo Seletivo  \n",
       "4  Processo Seletivo  "
      ]
     },
     "execution_count": 109,
     "metadata": {},
     "output_type": "execute_result"
    }
   ],
   "source": [
    "dfMed.head()"
   ]
  },
  {
   "cell_type": "code",
   "execution_count": 110,
   "metadata": {},
   "outputs": [
    {
     "data": {
      "text/html": [
       "<div>\n",
       "<style scoped>\n",
       "    .dataframe tbody tr th:only-of-type {\n",
       "        vertical-align: middle;\n",
       "    }\n",
       "\n",
       "    .dataframe tbody tr th {\n",
       "        vertical-align: top;\n",
       "    }\n",
       "\n",
       "    .dataframe thead th {\n",
       "        text-align: right;\n",
       "    }\n",
       "</style>\n",
       "<table border=\"1\" class=\"dataframe\">\n",
       "  <thead>\n",
       "    <tr style=\"text-align: right;\">\n",
       "      <th></th>\n",
       "      <th>Curso</th>\n",
       "      <th>Modalidade</th>\n",
       "      <th>Campus</th>\n",
       "      <th>Turno</th>\n",
       "      <th>Nivel</th>\n",
       "      <th>Inscritos</th>\n",
       "      <th>Pagos</th>\n",
       "      <th>Deferidas</th>\n",
       "      <th>Homologadas</th>\n",
       "      <th>FormaIngresso</th>\n",
       "    </tr>\n",
       "  </thead>\n",
       "  <tbody>\n",
       "    <tr>\n",
       "      <th>0</th>\n",
       "      <td>ADMINISTRAÇÃO</td>\n",
       "      <td>Superior</td>\n",
       "      <td>BAMBUÍ</td>\n",
       "      <td>Turno Noturno</td>\n",
       "      <td>Nível Médio</td>\n",
       "      <td>44</td>\n",
       "      <td>24</td>\n",
       "      <td>4</td>\n",
       "      <td>28</td>\n",
       "      <td>Aproveitamento de notas obtidas no ENEM</td>\n",
       "    </tr>\n",
       "    <tr>\n",
       "      <th>1</th>\n",
       "      <td>ADMINISTRAÇÃO</td>\n",
       "      <td>Superior</td>\n",
       "      <td>FORMIGA</td>\n",
       "      <td>Turno Noturno</td>\n",
       "      <td>Nível Médio</td>\n",
       "      <td>68</td>\n",
       "      <td>40</td>\n",
       "      <td>4</td>\n",
       "      <td>44</td>\n",
       "      <td>Aproveitamento de notas obtidas no ENEM</td>\n",
       "    </tr>\n",
       "    <tr>\n",
       "      <th>2</th>\n",
       "      <td>ADMINISTRAÇÃO</td>\n",
       "      <td>Superior</td>\n",
       "      <td>OURO BRANCO</td>\n",
       "      <td>Turno Noturno</td>\n",
       "      <td>Nível Médio</td>\n",
       "      <td>133</td>\n",
       "      <td>74</td>\n",
       "      <td>26</td>\n",
       "      <td>100</td>\n",
       "      <td>Aproveitamento de notas obtidas no ENEM</td>\n",
       "    </tr>\n",
       "    <tr>\n",
       "      <th>3</th>\n",
       "      <td>ADMINISTRAÇÃO</td>\n",
       "      <td>Superior</td>\n",
       "      <td>RIBEIRÃO DAS NEVES</td>\n",
       "      <td>Turno Manhã</td>\n",
       "      <td>Nível Médio</td>\n",
       "      <td>72</td>\n",
       "      <td>22</td>\n",
       "      <td>15</td>\n",
       "      <td>37</td>\n",
       "      <td>Aproveitamento de notas obtidas no ENEM</td>\n",
       "    </tr>\n",
       "    <tr>\n",
       "      <th>4</th>\n",
       "      <td>ADMINISTRAÇÃO</td>\n",
       "      <td>Superior</td>\n",
       "      <td>SABARÁ</td>\n",
       "      <td>Turno Noturno</td>\n",
       "      <td>Nível Médio</td>\n",
       "      <td>88</td>\n",
       "      <td>27</td>\n",
       "      <td>21</td>\n",
       "      <td>48</td>\n",
       "      <td>Aproveitamento de notas obtidas no ENEM</td>\n",
       "    </tr>\n",
       "  </tbody>\n",
       "</table>\n",
       "</div>"
      ],
      "text/plain": [
       "           Curso Modalidade              Campus          Turno        Nivel  \\\n",
       "0  ADMINISTRAÇÃO   Superior              BAMBUÍ  Turno Noturno  Nível Médio   \n",
       "1  ADMINISTRAÇÃO   Superior             FORMIGA  Turno Noturno  Nível Médio   \n",
       "2  ADMINISTRAÇÃO   Superior         OURO BRANCO  Turno Noturno  Nível Médio   \n",
       "3  ADMINISTRAÇÃO   Superior  RIBEIRÃO DAS NEVES    Turno Manhã  Nível Médio   \n",
       "4  ADMINISTRAÇÃO   Superior              SABARÁ  Turno Noturno  Nível Médio   \n",
       "\n",
       "   Inscritos  Pagos  Deferidas  Homologadas  \\\n",
       "0         44     24          4           28   \n",
       "1         68     40          4           44   \n",
       "2        133     74         26          100   \n",
       "3         72     22         15           37   \n",
       "4         88     27         21           48   \n",
       "\n",
       "                             FormaIngresso  \n",
       "0  Aproveitamento de notas obtidas no ENEM  \n",
       "1  Aproveitamento de notas obtidas no ENEM  \n",
       "2  Aproveitamento de notas obtidas no ENEM  \n",
       "3  Aproveitamento de notas obtidas no ENEM  \n",
       "4  Aproveitamento de notas obtidas no ENEM  "
      ]
     },
     "execution_count": 110,
     "metadata": {},
     "output_type": "execute_result"
    }
   ],
   "source": [
    "dfGra.head()"
   ]
  },
  {
   "cell_type": "code",
   "execution_count": 113,
   "metadata": {},
   "outputs": [
    {
     "data": {
      "text/html": [
       "<div>\n",
       "<style scoped>\n",
       "    .dataframe tbody tr th:only-of-type {\n",
       "        vertical-align: middle;\n",
       "    }\n",
       "\n",
       "    .dataframe tbody tr th {\n",
       "        vertical-align: top;\n",
       "    }\n",
       "\n",
       "    .dataframe thead th {\n",
       "        text-align: right;\n",
       "    }\n",
       "</style>\n",
       "<table border=\"1\" class=\"dataframe\">\n",
       "  <thead>\n",
       "    <tr style=\"text-align: right;\">\n",
       "      <th></th>\n",
       "      <th>Curso</th>\n",
       "      <th>Modalidade</th>\n",
       "      <th>Campus</th>\n",
       "      <th>Turno</th>\n",
       "      <th>Nivel</th>\n",
       "      <th>Inscritos</th>\n",
       "      <th>Pagos</th>\n",
       "      <th>Deferidas</th>\n",
       "      <th>Homologadas</th>\n",
       "      <th>FormaIngresso</th>\n",
       "    </tr>\n",
       "  </thead>\n",
       "  <tbody>\n",
       "    <tr>\n",
       "      <th>0</th>\n",
       "      <td>ADMINISTRAÇÃO</td>\n",
       "      <td>Superior</td>\n",
       "      <td>BAMBUÍ</td>\n",
       "      <td>Turno Noturno</td>\n",
       "      <td>Nível Médio</td>\n",
       "      <td>44</td>\n",
       "      <td>24</td>\n",
       "      <td>4</td>\n",
       "      <td>28</td>\n",
       "      <td>Aproveitamento de notas obtidas no ENEM</td>\n",
       "    </tr>\n",
       "    <tr>\n",
       "      <th>1</th>\n",
       "      <td>ADMINISTRAÇÃO</td>\n",
       "      <td>Superior</td>\n",
       "      <td>FORMIGA</td>\n",
       "      <td>Turno Noturno</td>\n",
       "      <td>Nível Médio</td>\n",
       "      <td>68</td>\n",
       "      <td>40</td>\n",
       "      <td>4</td>\n",
       "      <td>44</td>\n",
       "      <td>Aproveitamento de notas obtidas no ENEM</td>\n",
       "    </tr>\n",
       "    <tr>\n",
       "      <th>2</th>\n",
       "      <td>ADMINISTRAÇÃO</td>\n",
       "      <td>Superior</td>\n",
       "      <td>OURO BRANCO</td>\n",
       "      <td>Turno Noturno</td>\n",
       "      <td>Nível Médio</td>\n",
       "      <td>133</td>\n",
       "      <td>74</td>\n",
       "      <td>26</td>\n",
       "      <td>100</td>\n",
       "      <td>Aproveitamento de notas obtidas no ENEM</td>\n",
       "    </tr>\n",
       "    <tr>\n",
       "      <th>3</th>\n",
       "      <td>ADMINISTRAÇÃO</td>\n",
       "      <td>Superior</td>\n",
       "      <td>RIBEIRÃO DAS NEVES</td>\n",
       "      <td>Turno Manhã</td>\n",
       "      <td>Nível Médio</td>\n",
       "      <td>72</td>\n",
       "      <td>22</td>\n",
       "      <td>15</td>\n",
       "      <td>37</td>\n",
       "      <td>Aproveitamento de notas obtidas no ENEM</td>\n",
       "    </tr>\n",
       "    <tr>\n",
       "      <th>4</th>\n",
       "      <td>ADMINISTRAÇÃO</td>\n",
       "      <td>Superior</td>\n",
       "      <td>SABARÁ</td>\n",
       "      <td>Turno Noturno</td>\n",
       "      <td>Nível Médio</td>\n",
       "      <td>88</td>\n",
       "      <td>27</td>\n",
       "      <td>21</td>\n",
       "      <td>48</td>\n",
       "      <td>Aproveitamento de notas obtidas no ENEM</td>\n",
       "    </tr>\n",
       "    <tr>\n",
       "      <th>...</th>\n",
       "      <td>...</td>\n",
       "      <td>...</td>\n",
       "      <td>...</td>\n",
       "      <td>...</td>\n",
       "      <td>...</td>\n",
       "      <td>...</td>\n",
       "      <td>...</td>\n",
       "      <td>...</td>\n",
       "      <td>...</td>\n",
       "      <td>...</td>\n",
       "    </tr>\n",
       "    <tr>\n",
       "      <th>66</th>\n",
       "      <td>SEGURANÇA DO TRABALHO</td>\n",
       "      <td>-1</td>\n",
       "      <td>GOVERNADOR VALADARES</td>\n",
       "      <td>Turno Noturno</td>\n",
       "      <td>Nível Médio</td>\n",
       "      <td>1</td>\n",
       "      <td>1</td>\n",
       "      <td>0</td>\n",
       "      <td>1</td>\n",
       "      <td>Processo Seletivo</td>\n",
       "    </tr>\n",
       "    <tr>\n",
       "      <th>67</th>\n",
       "      <td>SEGURANÇA DO TRABALHO</td>\n",
       "      <td>Curso Técnico Subsequente</td>\n",
       "      <td>GOVERNADOR VALADARES</td>\n",
       "      <td>Turno Noturno</td>\n",
       "      <td>Nível Médio</td>\n",
       "      <td>135</td>\n",
       "      <td>29</td>\n",
       "      <td>19</td>\n",
       "      <td>48</td>\n",
       "      <td>Processo Seletivo</td>\n",
       "    </tr>\n",
       "    <tr>\n",
       "      <th>68</th>\n",
       "      <td>SEGURANÇA DO TRABALHO</td>\n",
       "      <td>-1</td>\n",
       "      <td>OURO PRETO</td>\n",
       "      <td>Turno Noturno</td>\n",
       "      <td>Nível Médio</td>\n",
       "      <td>1</td>\n",
       "      <td>1</td>\n",
       "      <td>0</td>\n",
       "      <td>1</td>\n",
       "      <td>Processo Seletivo</td>\n",
       "    </tr>\n",
       "    <tr>\n",
       "      <th>69</th>\n",
       "      <td>SEGURANÇA DO TRABALHO</td>\n",
       "      <td>Curso Técnico Subsequente</td>\n",
       "      <td>OURO PRETO</td>\n",
       "      <td>Turno Noturno</td>\n",
       "      <td>Nível Médio</td>\n",
       "      <td>194</td>\n",
       "      <td>70</td>\n",
       "      <td>23</td>\n",
       "      <td>93</td>\n",
       "      <td>Processo Seletivo</td>\n",
       "    </tr>\n",
       "    <tr>\n",
       "      <th>70</th>\n",
       "      <td>SEGURANÇA DO TRABALHO</td>\n",
       "      <td>Curso Técnico Subsequente</td>\n",
       "      <td>SANTA LUZIA</td>\n",
       "      <td>Turno Noturno</td>\n",
       "      <td>Nível Médio</td>\n",
       "      <td>208</td>\n",
       "      <td>46</td>\n",
       "      <td>31</td>\n",
       "      <td>77</td>\n",
       "      <td>Processo Seletivo</td>\n",
       "    </tr>\n",
       "  </tbody>\n",
       "</table>\n",
       "<p>142 rows × 10 columns</p>\n",
       "</div>"
      ],
      "text/plain": [
       "                    Curso                 Modalidade                Campus  \\\n",
       "0           ADMINISTRAÇÃO                   Superior                BAMBUÍ   \n",
       "1           ADMINISTRAÇÃO                   Superior               FORMIGA   \n",
       "2           ADMINISTRAÇÃO                   Superior           OURO BRANCO   \n",
       "3           ADMINISTRAÇÃO                   Superior    RIBEIRÃO DAS NEVES   \n",
       "4           ADMINISTRAÇÃO                   Superior                SABARÁ   \n",
       "..                    ...                        ...                   ...   \n",
       "66  SEGURANÇA DO TRABALHO                         -1  GOVERNADOR VALADARES   \n",
       "67  SEGURANÇA DO TRABALHO  Curso Técnico Subsequente  GOVERNADOR VALADARES   \n",
       "68  SEGURANÇA DO TRABALHO                         -1            OURO PRETO   \n",
       "69  SEGURANÇA DO TRABALHO  Curso Técnico Subsequente            OURO PRETO   \n",
       "70  SEGURANÇA DO TRABALHO  Curso Técnico Subsequente           SANTA LUZIA   \n",
       "\n",
       "            Turno        Nivel  Inscritos  Pagos  Deferidas  Homologadas  \\\n",
       "0   Turno Noturno  Nível Médio         44     24          4           28   \n",
       "1   Turno Noturno  Nível Médio         68     40          4           44   \n",
       "2   Turno Noturno  Nível Médio        133     74         26          100   \n",
       "3     Turno Manhã  Nível Médio         72     22         15           37   \n",
       "4   Turno Noturno  Nível Médio         88     27         21           48   \n",
       "..            ...          ...        ...    ...        ...          ...   \n",
       "66  Turno Noturno  Nível Médio          1      1          0            1   \n",
       "67  Turno Noturno  Nível Médio        135     29         19           48   \n",
       "68  Turno Noturno  Nível Médio          1      1          0            1   \n",
       "69  Turno Noturno  Nível Médio        194     70         23           93   \n",
       "70  Turno Noturno  Nível Médio        208     46         31           77   \n",
       "\n",
       "                              FormaIngresso  \n",
       "0   Aproveitamento de notas obtidas no ENEM  \n",
       "1   Aproveitamento de notas obtidas no ENEM  \n",
       "2   Aproveitamento de notas obtidas no ENEM  \n",
       "3   Aproveitamento de notas obtidas no ENEM  \n",
       "4   Aproveitamento de notas obtidas no ENEM  \n",
       "..                                      ...  \n",
       "66                        Processo Seletivo  \n",
       "67                        Processo Seletivo  \n",
       "68                        Processo Seletivo  \n",
       "69                        Processo Seletivo  \n",
       "70                        Processo Seletivo  \n",
       "\n",
       "[142 rows x 10 columns]"
      ]
     },
     "execution_count": 113,
     "metadata": {},
     "output_type": "execute_result"
    }
   ],
   "source": [
    "df = pd.concat([dfGra, dfMed])\n",
    "df"
   ]
  },
  {
   "cell_type": "code",
   "execution_count": 114,
   "metadata": {},
   "outputs": [],
   "source": [
    "ano1 = \"2024-1\"\n",
    "ano2 = \"2025-1\"\n",
    "\n",
    "dffTC = diff(process_file_for_tec(f'dados/{ano1}_GestaoResultado_ResumoInscricoes_TEC.xlsx'), \n",
    "            process_file_for_tec(f'dados/{ano2}_GestaoResultado_ResumoInscricoes_TEC.xlsx'), \n",
    "            \"Campus\")\n",
    "\n",
    "dffGC = diff(process_file_for_grad(f'dados/{ano1}_GestaoResultado_ResumoInscricoes_GRAD.xlsx'), \n",
    "            process_file_for_grad(f'dados/{ano2}_GestaoResultado_ResumoInscricoes_GRAD.xlsx'), \n",
    "            \"Campus\")"
   ]
  },
  {
   "cell_type": "code",
   "execution_count": 119,
   "metadata": {},
   "outputs": [
    {
     "data": {
      "text/html": [
       "<div>\n",
       "<style scoped>\n",
       "    .dataframe tbody tr th:only-of-type {\n",
       "        vertical-align: middle;\n",
       "    }\n",
       "\n",
       "    .dataframe tbody tr th {\n",
       "        vertical-align: top;\n",
       "    }\n",
       "\n",
       "    .dataframe thead th {\n",
       "        text-align: right;\n",
       "    }\n",
       "</style>\n",
       "<table border=\"1\" class=\"dataframe\">\n",
       "  <thead>\n",
       "    <tr style=\"text-align: right;\">\n",
       "      <th></th>\n",
       "      <th>Campus</th>\n",
       "      <th>Inscritos</th>\n",
       "      <th>Pagos</th>\n",
       "      <th>Deferidas</th>\n",
       "      <th>Homologadas</th>\n",
       "    </tr>\n",
       "  </thead>\n",
       "  <tbody>\n",
       "    <tr>\n",
       "      <th>2</th>\n",
       "      <td>BETIM</td>\n",
       "      <td>-1963</td>\n",
       "      <td>-1629</td>\n",
       "      <td>-178</td>\n",
       "      <td>-1807</td>\n",
       "    </tr>\n",
       "    <tr>\n",
       "      <th>11</th>\n",
       "      <td>OURO PRETO</td>\n",
       "      <td>-1344</td>\n",
       "      <td>-1022</td>\n",
       "      <td>-136</td>\n",
       "      <td>-1158</td>\n",
       "    </tr>\n",
       "    <tr>\n",
       "      <th>16</th>\n",
       "      <td>SANTA LUZIA</td>\n",
       "      <td>-1039</td>\n",
       "      <td>-696</td>\n",
       "      <td>-145</td>\n",
       "      <td>-841</td>\n",
       "    </tr>\n",
       "    <tr>\n",
       "      <th>15</th>\n",
       "      <td>SABARÁ</td>\n",
       "      <td>-1024</td>\n",
       "      <td>-842</td>\n",
       "      <td>-116</td>\n",
       "      <td>-958</td>\n",
       "    </tr>\n",
       "    <tr>\n",
       "      <th>14</th>\n",
       "      <td>RIBEIRÃO DAS NEVES</td>\n",
       "      <td>-998</td>\n",
       "      <td>-761</td>\n",
       "      <td>-156</td>\n",
       "      <td>-917</td>\n",
       "    </tr>\n",
       "    <tr>\n",
       "      <th>17</th>\n",
       "      <td>SÃO JOÃO EVANGELISTA</td>\n",
       "      <td>-922</td>\n",
       "      <td>-699</td>\n",
       "      <td>-147</td>\n",
       "      <td>-846</td>\n",
       "    </tr>\n",
       "    <tr>\n",
       "      <th>7</th>\n",
       "      <td>IBIRITÉ</td>\n",
       "      <td>-849</td>\n",
       "      <td>-721</td>\n",
       "      <td>-91</td>\n",
       "      <td>-812</td>\n",
       "    </tr>\n",
       "    <tr>\n",
       "      <th>6</th>\n",
       "      <td>GOVERNADOR VALADARES</td>\n",
       "      <td>-811</td>\n",
       "      <td>-568</td>\n",
       "      <td>-124</td>\n",
       "      <td>-692</td>\n",
       "    </tr>\n",
       "    <tr>\n",
       "      <th>3</th>\n",
       "      <td>CONGONHAS</td>\n",
       "      <td>-668</td>\n",
       "      <td>-488</td>\n",
       "      <td>-110</td>\n",
       "      <td>-598</td>\n",
       "    </tr>\n",
       "    <tr>\n",
       "      <th>8</th>\n",
       "      <td>IPATINGA</td>\n",
       "      <td>-654</td>\n",
       "      <td>-536</td>\n",
       "      <td>-56</td>\n",
       "      <td>-592</td>\n",
       "    </tr>\n",
       "    <tr>\n",
       "      <th>4</th>\n",
       "      <td>CONSELHEIRO LAFAIETE</td>\n",
       "      <td>-569</td>\n",
       "      <td>-378</td>\n",
       "      <td>-58</td>\n",
       "      <td>-436</td>\n",
       "    </tr>\n",
       "    <tr>\n",
       "      <th>13</th>\n",
       "      <td>PONTE NOVA</td>\n",
       "      <td>-499</td>\n",
       "      <td>-475</td>\n",
       "      <td>-54</td>\n",
       "      <td>-529</td>\n",
       "    </tr>\n",
       "    <tr>\n",
       "      <th>10</th>\n",
       "      <td>OURO BRANCO</td>\n",
       "      <td>-481</td>\n",
       "      <td>-396</td>\n",
       "      <td>-62</td>\n",
       "      <td>-458</td>\n",
       "    </tr>\n",
       "    <tr>\n",
       "      <th>1</th>\n",
       "      <td>BAMBUÍ</td>\n",
       "      <td>-418</td>\n",
       "      <td>-317</td>\n",
       "      <td>-36</td>\n",
       "      <td>-353</td>\n",
       "    </tr>\n",
       "    <tr>\n",
       "      <th>9</th>\n",
       "      <td>ITABIRITO</td>\n",
       "      <td>-229</td>\n",
       "      <td>-203</td>\n",
       "      <td>-27</td>\n",
       "      <td>-230</td>\n",
       "    </tr>\n",
       "    <tr>\n",
       "      <th>5</th>\n",
       "      <td>FORMIGA</td>\n",
       "      <td>-144</td>\n",
       "      <td>-115</td>\n",
       "      <td>-33</td>\n",
       "      <td>-148</td>\n",
       "    </tr>\n",
       "    <tr>\n",
       "      <th>12</th>\n",
       "      <td>PIUMHI</td>\n",
       "      <td>-101</td>\n",
       "      <td>-85</td>\n",
       "      <td>-10</td>\n",
       "      <td>-95</td>\n",
       "    </tr>\n",
       "    <tr>\n",
       "      <th>0</th>\n",
       "      <td>ARCOS</td>\n",
       "      <td>-54</td>\n",
       "      <td>-43</td>\n",
       "      <td>-5</td>\n",
       "      <td>-48</td>\n",
       "    </tr>\n",
       "  </tbody>\n",
       "</table>\n",
       "</div>"
      ],
      "text/plain": [
       "                  Campus  Inscritos  Pagos  Deferidas  Homologadas\n",
       "2                  BETIM      -1963  -1629       -178        -1807\n",
       "11            OURO PRETO      -1344  -1022       -136        -1158\n",
       "16           SANTA LUZIA      -1039   -696       -145         -841\n",
       "15                SABARÁ      -1024   -842       -116         -958\n",
       "14    RIBEIRÃO DAS NEVES       -998   -761       -156         -917\n",
       "17  SÃO JOÃO EVANGELISTA       -922   -699       -147         -846\n",
       "7                IBIRITÉ       -849   -721        -91         -812\n",
       "6   GOVERNADOR VALADARES       -811   -568       -124         -692\n",
       "3              CONGONHAS       -668   -488       -110         -598\n",
       "8               IPATINGA       -654   -536        -56         -592\n",
       "4   CONSELHEIRO LAFAIETE       -569   -378        -58         -436\n",
       "13            PONTE NOVA       -499   -475        -54         -529\n",
       "10           OURO BRANCO       -481   -396        -62         -458\n",
       "1                 BAMBUÍ       -418   -317        -36         -353\n",
       "9              ITABIRITO       -229   -203        -27         -230\n",
       "5                FORMIGA       -144   -115        -33         -148\n",
       "12                PIUMHI       -101    -85        -10          -95\n",
       "0                  ARCOS        -54    -43         -5          -48"
      ]
     },
     "execution_count": 119,
     "metadata": {},
     "output_type": "execute_result"
    }
   ],
   "source": [
    "dffTC"
   ]
  },
  {
   "cell_type": "code",
   "execution_count": 120,
   "metadata": {},
   "outputs": [
    {
     "data": {
      "application/vnd.plotly.v1+json": {
       "config": {
        "plotlyServerURL": "https://plot.ly"
       },
       "data": [
        {
         "alignmentgroup": "True",
         "hovertemplate": "Campus=%{x}<br>value=%{y}<extra></extra>",
         "legendgroup": "BETIM",
         "marker": {
          "color": "#000001",
          "pattern": {
           "shape": ""
          }
         },
         "name": "BETIM",
         "offsetgroup": "BETIM",
         "orientation": "v",
         "showlegend": true,
         "textposition": "auto",
         "texttemplate": "%{y:.2s}",
         "type": "bar",
         "x": [
          "BETIM",
          "BETIM"
         ],
         "xaxis": "x",
         "y": [
          -1963,
          -1807
         ],
         "yaxis": "y"
        },
        {
         "alignmentgroup": "True",
         "hovertemplate": "Campus=%{x}<br>value=%{y}<extra></extra>",
         "legendgroup": "OURO PRETO",
         "marker": {
          "color": "#000002",
          "pattern": {
           "shape": ""
          }
         },
         "name": "OURO PRETO",
         "offsetgroup": "OURO PRETO",
         "orientation": "v",
         "showlegend": true,
         "textposition": "auto",
         "texttemplate": "%{y:.2s}",
         "type": "bar",
         "x": [
          "OURO PRETO",
          "OURO PRETO"
         ],
         "xaxis": "x",
         "y": [
          -1344,
          -1158
         ],
         "yaxis": "y"
        },
        {
         "alignmentgroup": "True",
         "hovertemplate": "Campus=%{x}<br>value=%{y}<extra></extra>",
         "legendgroup": "SANTA LUZIA",
         "marker": {
          "color": "#000003",
          "pattern": {
           "shape": ""
          }
         },
         "name": "SANTA LUZIA",
         "offsetgroup": "SANTA LUZIA",
         "orientation": "v",
         "showlegend": true,
         "textposition": "auto",
         "texttemplate": "%{y:.2s}",
         "type": "bar",
         "x": [
          "SANTA LUZIA",
          "SANTA LUZIA"
         ],
         "xaxis": "x",
         "y": [
          -1039,
          -841
         ],
         "yaxis": "y"
        },
        {
         "alignmentgroup": "True",
         "hovertemplate": "Campus=%{x}<br>value=%{y}<extra></extra>",
         "legendgroup": "SABARÁ",
         "marker": {
          "color": "#000004",
          "pattern": {
           "shape": ""
          }
         },
         "name": "SABARÁ",
         "offsetgroup": "SABARÁ",
         "orientation": "v",
         "showlegend": true,
         "textposition": "auto",
         "texttemplate": "%{y:.2s}",
         "type": "bar",
         "x": [
          "SABARÁ",
          "SABARÁ"
         ],
         "xaxis": "x",
         "y": [
          -1024,
          -958
         ],
         "yaxis": "y"
        },
        {
         "alignmentgroup": "True",
         "hovertemplate": "Campus=%{x}<br>value=%{y}<extra></extra>",
         "legendgroup": "RIBEIRÃO DAS NEVES",
         "marker": {
          "color": "#000005",
          "pattern": {
           "shape": ""
          }
         },
         "name": "RIBEIRÃO DAS NEVES",
         "offsetgroup": "RIBEIRÃO DAS NEVES",
         "orientation": "v",
         "showlegend": true,
         "textposition": "auto",
         "texttemplate": "%{y:.2s}",
         "type": "bar",
         "x": [
          "RIBEIRÃO DAS NEVES",
          "RIBEIRÃO DAS NEVES"
         ],
         "xaxis": "x",
         "y": [
          -998,
          -917
         ],
         "yaxis": "y"
        },
        {
         "alignmentgroup": "True",
         "hovertemplate": "Campus=%{x}<br>value=%{y}<extra></extra>",
         "legendgroup": "SÃO JOÃO EVANGELISTA",
         "marker": {
          "color": "#000006",
          "pattern": {
           "shape": ""
          }
         },
         "name": "SÃO JOÃO EVANGELISTA",
         "offsetgroup": "SÃO JOÃO EVANGELISTA",
         "orientation": "v",
         "showlegend": true,
         "textposition": "auto",
         "texttemplate": "%{y:.2s}",
         "type": "bar",
         "x": [
          "SÃO JOÃO EVANGELISTA",
          "SÃO JOÃO EVANGELISTA"
         ],
         "xaxis": "x",
         "y": [
          -922,
          -846
         ],
         "yaxis": "y"
        },
        {
         "alignmentgroup": "True",
         "hovertemplate": "Campus=%{x}<br>value=%{y}<extra></extra>",
         "legendgroup": "IBIRITÉ",
         "marker": {
          "color": "#000007",
          "pattern": {
           "shape": ""
          }
         },
         "name": "IBIRITÉ",
         "offsetgroup": "IBIRITÉ",
         "orientation": "v",
         "showlegend": true,
         "textposition": "auto",
         "texttemplate": "%{y:.2s}",
         "type": "bar",
         "x": [
          "IBIRITÉ",
          "IBIRITÉ"
         ],
         "xaxis": "x",
         "y": [
          -849,
          -812
         ],
         "yaxis": "y"
        },
        {
         "alignmentgroup": "True",
         "hovertemplate": "Campus=%{x}<br>value=%{y}<extra></extra>",
         "legendgroup": "GOVERNADOR VALADARES",
         "marker": {
          "color": "#000008",
          "pattern": {
           "shape": ""
          }
         },
         "name": "GOVERNADOR VALADARES",
         "offsetgroup": "GOVERNADOR VALADARES",
         "orientation": "v",
         "showlegend": true,
         "textposition": "auto",
         "texttemplate": "%{y:.2s}",
         "type": "bar",
         "x": [
          "GOVERNADOR VALADARES",
          "GOVERNADOR VALADARES"
         ],
         "xaxis": "x",
         "y": [
          -811,
          -692
         ],
         "yaxis": "y"
        },
        {
         "alignmentgroup": "True",
         "hovertemplate": "Campus=%{x}<br>value=%{y}<extra></extra>",
         "legendgroup": "CONGONHAS",
         "marker": {
          "color": "#000009",
          "pattern": {
           "shape": ""
          }
         },
         "name": "CONGONHAS",
         "offsetgroup": "CONGONHAS",
         "orientation": "v",
         "showlegend": true,
         "textposition": "auto",
         "texttemplate": "%{y:.2s}",
         "type": "bar",
         "x": [
          "CONGONHAS",
          "CONGONHAS"
         ],
         "xaxis": "x",
         "y": [
          -668,
          -598
         ],
         "yaxis": "y"
        },
        {
         "alignmentgroup": "True",
         "hovertemplate": "Campus=%{x}<br>value=%{y}<extra></extra>",
         "legendgroup": "IPATINGA",
         "marker": {
          "color": "#000010",
          "pattern": {
           "shape": ""
          }
         },
         "name": "IPATINGA",
         "offsetgroup": "IPATINGA",
         "orientation": "v",
         "showlegend": true,
         "textposition": "auto",
         "texttemplate": "%{y:.2s}",
         "type": "bar",
         "x": [
          "IPATINGA",
          "IPATINGA"
         ],
         "xaxis": "x",
         "y": [
          -654,
          -592
         ],
         "yaxis": "y"
        },
        {
         "alignmentgroup": "True",
         "hovertemplate": "Campus=%{x}<br>value=%{y}<extra></extra>",
         "legendgroup": "CONSELHEIRO LAFAIETE",
         "marker": {
          "color": "#000001",
          "pattern": {
           "shape": ""
          }
         },
         "name": "CONSELHEIRO LAFAIETE",
         "offsetgroup": "CONSELHEIRO LAFAIETE",
         "orientation": "v",
         "showlegend": true,
         "textposition": "auto",
         "texttemplate": "%{y:.2s}",
         "type": "bar",
         "x": [
          "CONSELHEIRO LAFAIETE",
          "CONSELHEIRO LAFAIETE"
         ],
         "xaxis": "x",
         "y": [
          -569,
          -436
         ],
         "yaxis": "y"
        },
        {
         "alignmentgroup": "True",
         "hovertemplate": "Campus=%{x}<br>value=%{y}<extra></extra>",
         "legendgroup": "PONTE NOVA",
         "marker": {
          "color": "#000002",
          "pattern": {
           "shape": ""
          }
         },
         "name": "PONTE NOVA",
         "offsetgroup": "PONTE NOVA",
         "orientation": "v",
         "showlegend": true,
         "textposition": "auto",
         "texttemplate": "%{y:.2s}",
         "type": "bar",
         "x": [
          "PONTE NOVA",
          "PONTE NOVA"
         ],
         "xaxis": "x",
         "y": [
          -499,
          -529
         ],
         "yaxis": "y"
        },
        {
         "alignmentgroup": "True",
         "hovertemplate": "Campus=%{x}<br>value=%{y}<extra></extra>",
         "legendgroup": "OURO BRANCO",
         "marker": {
          "color": "#000003",
          "pattern": {
           "shape": ""
          }
         },
         "name": "OURO BRANCO",
         "offsetgroup": "OURO BRANCO",
         "orientation": "v",
         "showlegend": true,
         "textposition": "auto",
         "texttemplate": "%{y:.2s}",
         "type": "bar",
         "x": [
          "OURO BRANCO",
          "OURO BRANCO"
         ],
         "xaxis": "x",
         "y": [
          -481,
          -458
         ],
         "yaxis": "y"
        },
        {
         "alignmentgroup": "True",
         "hovertemplate": "Campus=%{x}<br>value=%{y}<extra></extra>",
         "legendgroup": "BAMBUÍ",
         "marker": {
          "color": "#000004",
          "pattern": {
           "shape": ""
          }
         },
         "name": "BAMBUÍ",
         "offsetgroup": "BAMBUÍ",
         "orientation": "v",
         "showlegend": true,
         "textposition": "auto",
         "texttemplate": "%{y:.2s}",
         "type": "bar",
         "x": [
          "BAMBUÍ",
          "BAMBUÍ"
         ],
         "xaxis": "x",
         "y": [
          -418,
          -353
         ],
         "yaxis": "y"
        },
        {
         "alignmentgroup": "True",
         "hovertemplate": "Campus=%{x}<br>value=%{y}<extra></extra>",
         "legendgroup": "ITABIRITO",
         "marker": {
          "color": "#000005",
          "pattern": {
           "shape": ""
          }
         },
         "name": "ITABIRITO",
         "offsetgroup": "ITABIRITO",
         "orientation": "v",
         "showlegend": true,
         "textposition": "auto",
         "texttemplate": "%{y:.2s}",
         "type": "bar",
         "x": [
          "ITABIRITO",
          "ITABIRITO"
         ],
         "xaxis": "x",
         "y": [
          -229,
          -230
         ],
         "yaxis": "y"
        },
        {
         "alignmentgroup": "True",
         "hovertemplate": "Campus=%{x}<br>value=%{y}<extra></extra>",
         "legendgroup": "FORMIGA",
         "marker": {
          "color": "#000006",
          "pattern": {
           "shape": ""
          }
         },
         "name": "FORMIGA",
         "offsetgroup": "FORMIGA",
         "orientation": "v",
         "showlegend": true,
         "textposition": "auto",
         "texttemplate": "%{y:.2s}",
         "type": "bar",
         "x": [
          "FORMIGA",
          "FORMIGA"
         ],
         "xaxis": "x",
         "y": [
          -144,
          -148
         ],
         "yaxis": "y"
        },
        {
         "alignmentgroup": "True",
         "hovertemplate": "Campus=%{x}<br>value=%{y}<extra></extra>",
         "legendgroup": "PIUMHI",
         "marker": {
          "color": "#000007",
          "pattern": {
           "shape": ""
          }
         },
         "name": "PIUMHI",
         "offsetgroup": "PIUMHI",
         "orientation": "v",
         "showlegend": true,
         "textposition": "auto",
         "texttemplate": "%{y:.2s}",
         "type": "bar",
         "x": [
          "PIUMHI",
          "PIUMHI"
         ],
         "xaxis": "x",
         "y": [
          -101,
          -95
         ],
         "yaxis": "y"
        },
        {
         "alignmentgroup": "True",
         "hovertemplate": "Campus=%{x}<br>value=%{y}<extra></extra>",
         "legendgroup": "ARCOS",
         "marker": {
          "color": "#000008",
          "pattern": {
           "shape": ""
          }
         },
         "name": "ARCOS",
         "offsetgroup": "ARCOS",
         "orientation": "v",
         "showlegend": true,
         "textposition": "auto",
         "texttemplate": "%{y:.2s}",
         "type": "bar",
         "x": [
          "ARCOS",
          "ARCOS"
         ],
         "xaxis": "x",
         "y": [
          -54,
          -48
         ],
         "yaxis": "y"
        }
       ],
       "layout": {
        "barmode": "relative",
        "legend": {
         "title": {
          "text": "Campus"
         },
         "tracegroupgap": 0
        },
        "margin": {
         "t": 60
        },
        "template": {
         "data": {
          "candlestick": [
           {
            "decreasing": {
             "line": {
              "color": "#000033"
             }
            },
            "increasing": {
             "line": {
              "color": "#000032"
             }
            },
            "type": "candlestick"
           }
          ],
          "contour": [
           {
            "colorscale": [
             [
              0,
              "#000011"
             ],
             [
              0.1111111111111111,
              "#000012"
             ],
             [
              0.2222222222222222,
              "#000013"
             ],
             [
              0.3333333333333333,
              "#000014"
             ],
             [
              0.4444444444444444,
              "#000015"
             ],
             [
              0.5555555555555556,
              "#000016"
             ],
             [
              0.6666666666666666,
              "#000017"
             ],
             [
              0.7777777777777778,
              "#000018"
             ],
             [
              0.8888888888888888,
              "#000019"
             ],
             [
              1,
              "#000020"
             ]
            ],
            "type": "contour"
           }
          ],
          "contourcarpet": [
           {
            "colorscale": [
             [
              0,
              "#000011"
             ],
             [
              0.1111111111111111,
              "#000012"
             ],
             [
              0.2222222222222222,
              "#000013"
             ],
             [
              0.3333333333333333,
              "#000014"
             ],
             [
              0.4444444444444444,
              "#000015"
             ],
             [
              0.5555555555555556,
              "#000016"
             ],
             [
              0.6666666666666666,
              "#000017"
             ],
             [
              0.7777777777777778,
              "#000018"
             ],
             [
              0.8888888888888888,
              "#000019"
             ],
             [
              1,
              "#000020"
             ]
            ],
            "type": "contourcarpet"
           }
          ],
          "heatmap": [
           {
            "colorscale": [
             [
              0,
              "#000011"
             ],
             [
              0.1111111111111111,
              "#000012"
             ],
             [
              0.2222222222222222,
              "#000013"
             ],
             [
              0.3333333333333333,
              "#000014"
             ],
             [
              0.4444444444444444,
              "#000015"
             ],
             [
              0.5555555555555556,
              "#000016"
             ],
             [
              0.6666666666666666,
              "#000017"
             ],
             [
              0.7777777777777778,
              "#000018"
             ],
             [
              0.8888888888888888,
              "#000019"
             ],
             [
              1,
              "#000020"
             ]
            ],
            "type": "heatmap"
           }
          ],
          "histogram2d": [
           {
            "colorscale": [
             [
              0,
              "#000011"
             ],
             [
              0.1111111111111111,
              "#000012"
             ],
             [
              0.2222222222222222,
              "#000013"
             ],
             [
              0.3333333333333333,
              "#000014"
             ],
             [
              0.4444444444444444,
              "#000015"
             ],
             [
              0.5555555555555556,
              "#000016"
             ],
             [
              0.6666666666666666,
              "#000017"
             ],
             [
              0.7777777777777778,
              "#000018"
             ],
             [
              0.8888888888888888,
              "#000019"
             ],
             [
              1,
              "#000020"
             ]
            ],
            "type": "histogram2d"
           }
          ],
          "icicle": [
           {
            "textfont": {
             "color": "white"
            },
            "type": "icicle"
           }
          ],
          "sankey": [
           {
            "textfont": {
             "color": "#000036"
            },
            "type": "sankey"
           }
          ],
          "scatter": [
           {
            "marker": {
             "line": {
              "width": 0
             }
            },
            "type": "scatter"
           }
          ],
          "table": [
           {
            "cells": {
             "fill": {
              "color": "#000038"
             },
             "font": {
              "color": "#000037"
             },
             "line": {
              "color": "#000039"
             }
            },
            "header": {
             "fill": {
              "color": "#000040"
             },
             "font": {
              "color": "#000036"
             },
             "line": {
              "color": "#000039"
             }
            },
            "type": "table"
           }
          ],
          "waterfall": [
           {
            "connector": {
             "line": {
              "color": "#000036",
              "width": 2
             }
            },
            "decreasing": {
             "marker": {
              "color": "#000033"
             }
            },
            "increasing": {
             "marker": {
              "color": "#000032"
             }
            },
            "totals": {
             "marker": {
              "color": "#000034"
             }
            },
            "type": "waterfall"
           }
          ]
         },
         "layout": {
          "coloraxis": {
           "colorscale": [
            [
             0,
             "#000011"
            ],
            [
             0.1111111111111111,
             "#000012"
            ],
            [
             0.2222222222222222,
             "#000013"
            ],
            [
             0.3333333333333333,
             "#000014"
            ],
            [
             0.4444444444444444,
             "#000015"
            ],
            [
             0.5555555555555556,
             "#000016"
            ],
            [
             0.6666666666666666,
             "#000017"
            ],
            [
             0.7777777777777778,
             "#000018"
            ],
            [
             0.8888888888888888,
             "#000019"
            ],
            [
             1,
             "#000020"
            ]
           ]
          },
          "colorscale": {
           "diverging": [
            [
             0,
             "#000021"
            ],
            [
             0.1,
             "#000022"
            ],
            [
             0.2,
             "#000023"
            ],
            [
             0.3,
             "#000024"
            ],
            [
             0.4,
             "#000025"
            ],
            [
             0.5,
             "#000026"
            ],
            [
             0.6,
             "#000027"
            ],
            [
             0.7,
             "#000028"
            ],
            [
             0.8,
             "#000029"
            ],
            [
             0.9,
             "#000030"
            ],
            [
             1,
             "#000031"
            ]
           ],
           "sequential": [
            [
             0,
             "#000011"
            ],
            [
             0.1111111111111111,
             "#000012"
            ],
            [
             0.2222222222222222,
             "#000013"
            ],
            [
             0.3333333333333333,
             "#000014"
            ],
            [
             0.4444444444444444,
             "#000015"
            ],
            [
             0.5555555555555556,
             "#000016"
            ],
            [
             0.6666666666666666,
             "#000017"
            ],
            [
             0.7777777777777778,
             "#000018"
            ],
            [
             0.8888888888888888,
             "#000019"
            ],
            [
             1,
             "#000020"
            ]
           ],
           "sequentialminus": [
            [
             0,
             "#000011"
            ],
            [
             0.1111111111111111,
             "#000012"
            ],
            [
             0.2222222222222222,
             "#000013"
            ],
            [
             0.3333333333333333,
             "#000014"
            ],
            [
             0.4444444444444444,
             "#000015"
            ],
            [
             0.5555555555555556,
             "#000016"
            ],
            [
             0.6666666666666666,
             "#000017"
            ],
            [
             0.7777777777777778,
             "#000018"
            ],
            [
             0.8888888888888888,
             "#000019"
            ],
            [
             1,
             "#000020"
            ]
           ]
          },
          "colorway": [
           "#000001",
           "#000002",
           "#000003",
           "#000004",
           "#000005",
           "#000006",
           "#000007",
           "#000008",
           "#000009",
           "#000010"
          ]
         }
        },
        "xaxis": {
         "anchor": "y",
         "categoryarray": [
          "BETIM",
          "OURO PRETO",
          "SANTA LUZIA",
          "SABARÁ",
          "RIBEIRÃO DAS NEVES",
          "SÃO JOÃO EVANGELISTA",
          "IBIRITÉ",
          "GOVERNADOR VALADARES",
          "CONGONHAS",
          "IPATINGA",
          "CONSELHEIRO LAFAIETE",
          "PONTE NOVA",
          "OURO BRANCO",
          "BAMBUÍ",
          "ITABIRITO",
          "FORMIGA",
          "PIUMHI",
          "ARCOS"
         ],
         "categoryorder": "array",
         "domain": [
          0,
          1
         ],
         "title": {
          "text": "Campus"
         }
        },
        "yaxis": {
         "anchor": "x",
         "domain": [
          0,
          1
         ],
         "title": {
          "text": "value"
         }
        }
       }
      }
     },
     "metadata": {},
     "output_type": "display_data"
    }
   ],
   "source": [
    "fig7 = px.bar(dffTC, x=\"Campus\", y=[\"Inscritos\",\"Homologadas\"], color=\"Campus\",template={}, text_auto='.2s')\n",
    "fig7.show()"
   ]
  },
  {
   "cell_type": "code",
   "execution_count": 118,
   "metadata": {},
   "outputs": [
    {
     "data": {
      "application/vnd.plotly.v1+json": {
       "config": {
        "plotlyServerURL": "https://plot.ly"
       },
       "data": [
        {
         "alignmentgroup": "True",
         "hovertemplate": "Campus=%{x}<br>value=%{y}<extra></extra>",
         "legendgroup": "SANTA LUZIA",
         "marker": {
          "color": "#000001",
          "pattern": {
           "shape": ""
          }
         },
         "name": "SANTA LUZIA",
         "offsetgroup": "SANTA LUZIA",
         "orientation": "v",
         "showlegend": true,
         "textposition": "auto",
         "texttemplate": "%{y:.2s}",
         "type": "bar",
         "x": [
          "SANTA LUZIA"
         ],
         "xaxis": "x",
         "y": [
          -290
         ],
         "yaxis": "y"
        },
        {
         "alignmentgroup": "True",
         "hovertemplate": "Campus=%{x}<br>value=%{y}<extra></extra>",
         "legendgroup": "BAMBUÍ",
         "marker": {
          "color": "#000002",
          "pattern": {
           "shape": ""
          }
         },
         "name": "BAMBUÍ",
         "offsetgroup": "BAMBUÍ",
         "orientation": "v",
         "showlegend": true,
         "textposition": "auto",
         "texttemplate": "%{y:.2s}",
         "type": "bar",
         "x": [
          "BAMBUÍ"
         ],
         "xaxis": "x",
         "y": [
          -307
         ],
         "yaxis": "y"
        },
        {
         "alignmentgroup": "True",
         "hovertemplate": "Campus=%{x}<br>value=%{y}<extra></extra>",
         "legendgroup": "OURO BRANCO",
         "marker": {
          "color": "#000003",
          "pattern": {
           "shape": ""
          }
         },
         "name": "OURO BRANCO",
         "offsetgroup": "OURO BRANCO",
         "orientation": "v",
         "showlegend": true,
         "textposition": "auto",
         "texttemplate": "%{y:.2s}",
         "type": "bar",
         "x": [
          "OURO BRANCO"
         ],
         "xaxis": "x",
         "y": [
          -275
         ],
         "yaxis": "y"
        },
        {
         "alignmentgroup": "True",
         "hovertemplate": "Campus=%{x}<br>value=%{y}<extra></extra>",
         "legendgroup": "SABARÁ",
         "marker": {
          "color": "#000004",
          "pattern": {
           "shape": ""
          }
         },
         "name": "SABARÁ",
         "offsetgroup": "SABARÁ",
         "orientation": "v",
         "showlegend": true,
         "textposition": "auto",
         "texttemplate": "%{y:.2s}",
         "type": "bar",
         "x": [
          "SABARÁ"
         ],
         "xaxis": "x",
         "y": [
          -209
         ],
         "yaxis": "y"
        },
        {
         "alignmentgroup": "True",
         "hovertemplate": "Campus=%{x}<br>value=%{y}<extra></extra>",
         "legendgroup": "BETIM",
         "marker": {
          "color": "#000005",
          "pattern": {
           "shape": ""
          }
         },
         "name": "BETIM",
         "offsetgroup": "BETIM",
         "orientation": "v",
         "showlegend": true,
         "textposition": "auto",
         "texttemplate": "%{y:.2s}",
         "type": "bar",
         "x": [
          "BETIM"
         ],
         "xaxis": "x",
         "y": [
          -215
         ],
         "yaxis": "y"
        },
        {
         "alignmentgroup": "True",
         "hovertemplate": "Campus=%{x}<br>value=%{y}<extra></extra>",
         "legendgroup": "SÃO JOÃO EVANGELISTA",
         "marker": {
          "color": "#000006",
          "pattern": {
           "shape": ""
          }
         },
         "name": "SÃO JOÃO EVANGELISTA",
         "offsetgroup": "SÃO JOÃO EVANGELISTA",
         "orientation": "v",
         "showlegend": true,
         "textposition": "auto",
         "texttemplate": "%{y:.2s}",
         "type": "bar",
         "x": [
          "SÃO JOÃO EVANGELISTA"
         ],
         "xaxis": "x",
         "y": [
          -188
         ],
         "yaxis": "y"
        },
        {
         "alignmentgroup": "True",
         "hovertemplate": "Campus=%{x}<br>value=%{y}<extra></extra>",
         "legendgroup": "GOVERNADOR VALADARES",
         "marker": {
          "color": "#000007",
          "pattern": {
           "shape": ""
          }
         },
         "name": "GOVERNADOR VALADARES",
         "offsetgroup": "GOVERNADOR VALADARES",
         "orientation": "v",
         "showlegend": true,
         "textposition": "auto",
         "texttemplate": "%{y:.2s}",
         "type": "bar",
         "x": [
          "GOVERNADOR VALADARES"
         ],
         "xaxis": "x",
         "y": [
          -148
         ],
         "yaxis": "y"
        },
        {
         "alignmentgroup": "True",
         "hovertemplate": "Campus=%{x}<br>value=%{y}<extra></extra>",
         "legendgroup": "CONGONHAS",
         "marker": {
          "color": "#000008",
          "pattern": {
           "shape": ""
          }
         },
         "name": "CONGONHAS",
         "offsetgroup": "CONGONHAS",
         "orientation": "v",
         "showlegend": true,
         "textposition": "auto",
         "texttemplate": "%{y:.2s}",
         "type": "bar",
         "x": [
          "CONGONHAS"
         ],
         "xaxis": "x",
         "y": [
          -133
         ],
         "yaxis": "y"
        },
        {
         "alignmentgroup": "True",
         "hovertemplate": "Campus=%{x}<br>value=%{y}<extra></extra>",
         "legendgroup": "ARCOS",
         "marker": {
          "color": "#000009",
          "pattern": {
           "shape": ""
          }
         },
         "name": "ARCOS",
         "offsetgroup": "ARCOS",
         "orientation": "v",
         "showlegend": true,
         "textposition": "auto",
         "texttemplate": "%{y:.2s}",
         "type": "bar",
         "x": [
          "ARCOS"
         ],
         "xaxis": "x",
         "y": [
          -121
         ],
         "yaxis": "y"
        },
        {
         "alignmentgroup": "True",
         "hovertemplate": "Campus=%{x}<br>value=%{y}<extra></extra>",
         "legendgroup": "RIBEIRÃO DAS NEVES",
         "marker": {
          "color": "#000010",
          "pattern": {
           "shape": ""
          }
         },
         "name": "RIBEIRÃO DAS NEVES",
         "offsetgroup": "RIBEIRÃO DAS NEVES",
         "orientation": "v",
         "showlegend": true,
         "textposition": "auto",
         "texttemplate": "%{y:.2s}",
         "type": "bar",
         "x": [
          "RIBEIRÃO DAS NEVES"
         ],
         "xaxis": "x",
         "y": [
          -76
         ],
         "yaxis": "y"
        },
        {
         "alignmentgroup": "True",
         "hovertemplate": "Campus=%{x}<br>value=%{y}<extra></extra>",
         "legendgroup": "FORMIGA",
         "marker": {
          "color": "#000001",
          "pattern": {
           "shape": ""
          }
         },
         "name": "FORMIGA",
         "offsetgroup": "FORMIGA",
         "orientation": "v",
         "showlegend": true,
         "textposition": "auto",
         "texttemplate": "%{y:.2s}",
         "type": "bar",
         "x": [
          "FORMIGA"
         ],
         "xaxis": "x",
         "y": [
          -99
         ],
         "yaxis": "y"
        },
        {
         "alignmentgroup": "True",
         "hovertemplate": "Campus=%{x}<br>value=%{y}<extra></extra>",
         "legendgroup": "ITABIRITO",
         "marker": {
          "color": "#000002",
          "pattern": {
           "shape": ""
          }
         },
         "name": "ITABIRITO",
         "offsetgroup": "ITABIRITO",
         "orientation": "v",
         "showlegend": true,
         "textposition": "auto",
         "texttemplate": "%{y:.2s}",
         "type": "bar",
         "x": [
          "ITABIRITO"
         ],
         "xaxis": "x",
         "y": [
          -60
         ],
         "yaxis": "y"
        },
        {
         "alignmentgroup": "True",
         "hovertemplate": "Campus=%{x}<br>value=%{y}<extra></extra>",
         "legendgroup": "IPATINGA",
         "marker": {
          "color": "#000003",
          "pattern": {
           "shape": ""
          }
         },
         "name": "IPATINGA",
         "offsetgroup": "IPATINGA",
         "orientation": "v",
         "showlegend": true,
         "textposition": "auto",
         "texttemplate": "%{y:.2s}",
         "type": "bar",
         "x": [
          "IPATINGA"
         ],
         "xaxis": "x",
         "y": [
          -51
         ],
         "yaxis": "y"
        },
        {
         "alignmentgroup": "True",
         "hovertemplate": "Campus=%{x}<br>value=%{y}<extra></extra>",
         "legendgroup": "OURO PRETO",
         "marker": {
          "color": "#000004",
          "pattern": {
           "shape": ""
          }
         },
         "name": "OURO PRETO",
         "offsetgroup": "OURO PRETO",
         "orientation": "v",
         "showlegend": true,
         "textposition": "auto",
         "texttemplate": "%{y:.2s}",
         "type": "bar",
         "x": [
          "OURO PRETO"
         ],
         "xaxis": "x",
         "y": [
          -54
         ],
         "yaxis": "y"
        },
        {
         "alignmentgroup": "True",
         "hovertemplate": "Campus=%{x}<br>value=%{y}<extra></extra>",
         "legendgroup": "PONTE NOVA",
         "marker": {
          "color": "#000005",
          "pattern": {
           "shape": ""
          }
         },
         "name": "PONTE NOVA",
         "offsetgroup": "PONTE NOVA",
         "orientation": "v",
         "showlegend": true,
         "textposition": "auto",
         "texttemplate": "%{y:.2s}",
         "type": "bar",
         "x": [
          "PONTE NOVA"
         ],
         "xaxis": "x",
         "y": [
          -29
         ],
         "yaxis": "y"
        },
        {
         "alignmentgroup": "True",
         "hovertemplate": "Campus=%{x}<br>value=%{y}<extra></extra>",
         "legendgroup": "IBIRITÉ",
         "marker": {
          "color": "#000006",
          "pattern": {
           "shape": ""
          }
         },
         "name": "IBIRITÉ",
         "offsetgroup": "IBIRITÉ",
         "orientation": "v",
         "showlegend": true,
         "textposition": "auto",
         "texttemplate": "%{y:.2s}",
         "type": "bar",
         "x": [
          "IBIRITÉ"
         ],
         "xaxis": "x",
         "y": [
          -30
         ],
         "yaxis": "y"
        },
        {
         "alignmentgroup": "True",
         "hovertemplate": "Campus=%{x}<br>value=%{y}<extra></extra>",
         "legendgroup": "PIUMHI",
         "marker": {
          "color": "#000007",
          "pattern": {
           "shape": ""
          }
         },
         "name": "PIUMHI",
         "offsetgroup": "PIUMHI",
         "orientation": "v",
         "showlegend": true,
         "textposition": "auto",
         "texttemplate": "%{y:.2s}",
         "type": "bar",
         "x": [
          "PIUMHI"
         ],
         "xaxis": "x",
         "y": [
          -25
         ],
         "yaxis": "y"
        },
        {
         "alignmentgroup": "True",
         "hovertemplate": "Campus=%{x}<br>value=%{y}<extra></extra>",
         "legendgroup": "TURNO NOTURNO",
         "marker": {
          "color": "#000008",
          "pattern": {
           "shape": ""
          }
         },
         "name": "TURNO NOTURNO",
         "offsetgroup": "TURNO NOTURNO",
         "orientation": "v",
         "showlegend": true,
         "textposition": "auto",
         "texttemplate": "%{y:.2s}",
         "type": "bar",
         "x": [
          "TURNO NOTURNO"
         ],
         "xaxis": "x",
         "y": [
          null
         ],
         "yaxis": "y"
        }
       ],
       "layout": {
        "barmode": "relative",
        "legend": {
         "title": {
          "text": "Campus"
         },
         "tracegroupgap": 0
        },
        "margin": {
         "t": 60
        },
        "template": {
         "data": {
          "candlestick": [
           {
            "decreasing": {
             "line": {
              "color": "#000033"
             }
            },
            "increasing": {
             "line": {
              "color": "#000032"
             }
            },
            "type": "candlestick"
           }
          ],
          "contour": [
           {
            "colorscale": [
             [
              0,
              "#000011"
             ],
             [
              0.1111111111111111,
              "#000012"
             ],
             [
              0.2222222222222222,
              "#000013"
             ],
             [
              0.3333333333333333,
              "#000014"
             ],
             [
              0.4444444444444444,
              "#000015"
             ],
             [
              0.5555555555555556,
              "#000016"
             ],
             [
              0.6666666666666666,
              "#000017"
             ],
             [
              0.7777777777777778,
              "#000018"
             ],
             [
              0.8888888888888888,
              "#000019"
             ],
             [
              1,
              "#000020"
             ]
            ],
            "type": "contour"
           }
          ],
          "contourcarpet": [
           {
            "colorscale": [
             [
              0,
              "#000011"
             ],
             [
              0.1111111111111111,
              "#000012"
             ],
             [
              0.2222222222222222,
              "#000013"
             ],
             [
              0.3333333333333333,
              "#000014"
             ],
             [
              0.4444444444444444,
              "#000015"
             ],
             [
              0.5555555555555556,
              "#000016"
             ],
             [
              0.6666666666666666,
              "#000017"
             ],
             [
              0.7777777777777778,
              "#000018"
             ],
             [
              0.8888888888888888,
              "#000019"
             ],
             [
              1,
              "#000020"
             ]
            ],
            "type": "contourcarpet"
           }
          ],
          "heatmap": [
           {
            "colorscale": [
             [
              0,
              "#000011"
             ],
             [
              0.1111111111111111,
              "#000012"
             ],
             [
              0.2222222222222222,
              "#000013"
             ],
             [
              0.3333333333333333,
              "#000014"
             ],
             [
              0.4444444444444444,
              "#000015"
             ],
             [
              0.5555555555555556,
              "#000016"
             ],
             [
              0.6666666666666666,
              "#000017"
             ],
             [
              0.7777777777777778,
              "#000018"
             ],
             [
              0.8888888888888888,
              "#000019"
             ],
             [
              1,
              "#000020"
             ]
            ],
            "type": "heatmap"
           }
          ],
          "histogram2d": [
           {
            "colorscale": [
             [
              0,
              "#000011"
             ],
             [
              0.1111111111111111,
              "#000012"
             ],
             [
              0.2222222222222222,
              "#000013"
             ],
             [
              0.3333333333333333,
              "#000014"
             ],
             [
              0.4444444444444444,
              "#000015"
             ],
             [
              0.5555555555555556,
              "#000016"
             ],
             [
              0.6666666666666666,
              "#000017"
             ],
             [
              0.7777777777777778,
              "#000018"
             ],
             [
              0.8888888888888888,
              "#000019"
             ],
             [
              1,
              "#000020"
             ]
            ],
            "type": "histogram2d"
           }
          ],
          "icicle": [
           {
            "textfont": {
             "color": "white"
            },
            "type": "icicle"
           }
          ],
          "sankey": [
           {
            "textfont": {
             "color": "#000036"
            },
            "type": "sankey"
           }
          ],
          "scatter": [
           {
            "marker": {
             "line": {
              "width": 0
             }
            },
            "type": "scatter"
           }
          ],
          "table": [
           {
            "cells": {
             "fill": {
              "color": "#000038"
             },
             "font": {
              "color": "#000037"
             },
             "line": {
              "color": "#000039"
             }
            },
            "header": {
             "fill": {
              "color": "#000040"
             },
             "font": {
              "color": "#000036"
             },
             "line": {
              "color": "#000039"
             }
            },
            "type": "table"
           }
          ],
          "waterfall": [
           {
            "connector": {
             "line": {
              "color": "#000036",
              "width": 2
             }
            },
            "decreasing": {
             "marker": {
              "color": "#000033"
             }
            },
            "increasing": {
             "marker": {
              "color": "#000032"
             }
            },
            "totals": {
             "marker": {
              "color": "#000034"
             }
            },
            "type": "waterfall"
           }
          ]
         },
         "layout": {
          "coloraxis": {
           "colorscale": [
            [
             0,
             "#000011"
            ],
            [
             0.1111111111111111,
             "#000012"
            ],
            [
             0.2222222222222222,
             "#000013"
            ],
            [
             0.3333333333333333,
             "#000014"
            ],
            [
             0.4444444444444444,
             "#000015"
            ],
            [
             0.5555555555555556,
             "#000016"
            ],
            [
             0.6666666666666666,
             "#000017"
            ],
            [
             0.7777777777777778,
             "#000018"
            ],
            [
             0.8888888888888888,
             "#000019"
            ],
            [
             1,
             "#000020"
            ]
           ]
          },
          "colorscale": {
           "diverging": [
            [
             0,
             "#000021"
            ],
            [
             0.1,
             "#000022"
            ],
            [
             0.2,
             "#000023"
            ],
            [
             0.3,
             "#000024"
            ],
            [
             0.4,
             "#000025"
            ],
            [
             0.5,
             "#000026"
            ],
            [
             0.6,
             "#000027"
            ],
            [
             0.7,
             "#000028"
            ],
            [
             0.8,
             "#000029"
            ],
            [
             0.9,
             "#000030"
            ],
            [
             1,
             "#000031"
            ]
           ],
           "sequential": [
            [
             0,
             "#000011"
            ],
            [
             0.1111111111111111,
             "#000012"
            ],
            [
             0.2222222222222222,
             "#000013"
            ],
            [
             0.3333333333333333,
             "#000014"
            ],
            [
             0.4444444444444444,
             "#000015"
            ],
            [
             0.5555555555555556,
             "#000016"
            ],
            [
             0.6666666666666666,
             "#000017"
            ],
            [
             0.7777777777777778,
             "#000018"
            ],
            [
             0.8888888888888888,
             "#000019"
            ],
            [
             1,
             "#000020"
            ]
           ],
           "sequentialminus": [
            [
             0,
             "#000011"
            ],
            [
             0.1111111111111111,
             "#000012"
            ],
            [
             0.2222222222222222,
             "#000013"
            ],
            [
             0.3333333333333333,
             "#000014"
            ],
            [
             0.4444444444444444,
             "#000015"
            ],
            [
             0.5555555555555556,
             "#000016"
            ],
            [
             0.6666666666666666,
             "#000017"
            ],
            [
             0.7777777777777778,
             "#000018"
            ],
            [
             0.8888888888888888,
             "#000019"
            ],
            [
             1,
             "#000020"
            ]
           ]
          },
          "colorway": [
           "#000001",
           "#000002",
           "#000003",
           "#000004",
           "#000005",
           "#000006",
           "#000007",
           "#000008",
           "#000009",
           "#000010"
          ]
         }
        },
        "xaxis": {
         "anchor": "y",
         "categoryarray": [
          "SANTA LUZIA",
          "BAMBUÍ",
          "OURO BRANCO",
          "SABARÁ",
          "BETIM",
          "SÃO JOÃO EVANGELISTA",
          "GOVERNADOR VALADARES",
          "CONGONHAS",
          "ARCOS",
          "RIBEIRÃO DAS NEVES",
          "FORMIGA",
          "ITABIRITO",
          "IPATINGA",
          "OURO PRETO",
          "PONTE NOVA",
          "IBIRITÉ",
          "PIUMHI",
          "TURNO NOTURNO"
         ],
         "categoryorder": "array",
         "domain": [
          0,
          1
         ],
         "title": {
          "text": "Campus"
         }
        },
        "yaxis": {
         "anchor": "x",
         "domain": [
          0,
          1
         ],
         "title": {
          "text": "value"
         }
        }
       }
      }
     },
     "metadata": {},
     "output_type": "display_data"
    }
   ],
   "source": [
    "px.bar(dffGC, x=\"Campus\", y=[\"Homologadas\"], color=\"Campus\", text_auto='.2s').show()"
   ]
  }
 ],
 "metadata": {
  "kernelspec": {
   "display_name": "streamlit_env",
   "language": "python",
   "name": "python3"
  },
  "language_info": {
   "codemirror_mode": {
    "name": "ipython",
    "version": 3
   },
   "file_extension": ".py",
   "mimetype": "text/x-python",
   "name": "python",
   "nbconvert_exporter": "python",
   "pygments_lexer": "ipython3",
   "version": "3.8.19"
  }
 },
 "nbformat": 4,
 "nbformat_minor": 2
}
