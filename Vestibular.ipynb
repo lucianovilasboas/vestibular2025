{
 "cells": [
  {
   "cell_type": "code",
   "execution_count": 199,
   "id": "3fcbc0a0",
   "metadata": {},
   "outputs": [],
   "source": [
    "import pandas as pd\n",
    "import streamlit as st \n",
    "import plotly.express as px"
   ]
  },
  {
   "cell_type": "code",
   "execution_count": 72,
   "id": "ace098f9",
   "metadata": {},
   "outputs": [],
   "source": [
    "def ler_excel(excel):\n",
    "\n",
    "    df = pd.read_excel(excel)\n",
    "    df[['Curso','Campus','Turno']]  = df['Cargo'].str.split('-',expand=True)\n",
    "    df  = df[['Curso','Tipo de Vaga','Campus','Turno',\"Nivel\",\"Inscritos\",\"Pagos\", \"Isenções deferidas\",\"Inscrições homologadas\"]]\n",
    "    df.rename({\"Isenções deferidas\": 'Deferidas', \"Inscrições homologadas\": 'Homologadas'}, axis=1, inplace=True) \n",
    "    df['Campus'] = df['Campus'].apply(lambda r: r.replace(\"Campus\",\"\").replace(\"campus\",\"\").strip().upper() )\n",
    "    df['Curso'] = df['Curso'].apply(lambda r: r\n",
    "                                    .replace(\"Técnico Integrado em\",\"\")\n",
    "                                    .replace(\"Técnico Integrado\",\"\")\n",
    "                                    .replace(\"Técnico Subsequente em\",\"\").strip().upper())\n",
    "\n",
    "    return df "
   ]
  },
  {
   "cell_type": "code",
   "execution_count": 71,
   "id": "93ae6758",
   "metadata": {},
   "outputs": [
    {
     "data": {
      "text/plain": [
       "'CDDD'"
      ]
     },
     "execution_count": 71,
     "metadata": {},
     "output_type": "execute_result"
    }
   ],
   "source": [
    "\"  cddd  \".strip().upper()"
   ]
  },
  {
   "cell_type": "code",
   "execution_count": 222,
   "id": "edaf6ef9",
   "metadata": {},
   "outputs": [],
   "source": [
    "df2023 = ler_excel('dados/2023-1_GestaoResultado_ResumoInscricoes_TEC.xlsx')\n",
    "df2024 = ler_excel('dados/2024-1_GestaoResultado_ResumoInscricoes_TEC.xlsx')"
   ]
  },
  {
   "cell_type": "code",
   "execution_count": null,
   "id": "991b9d7f",
   "metadata": {},
   "outputs": [],
   "source": []
  },
  {
   "cell_type": "code",
   "execution_count": 223,
   "id": "20ff6d97",
   "metadata": {},
   "outputs": [
    {
     "data": {
      "text/plain": [
       "((66, 9), (71, 9))"
      ]
     },
     "execution_count": 223,
     "metadata": {},
     "output_type": "execute_result"
    }
   ],
   "source": [
    "df2023.shape, df2024.shape, "
   ]
  },
  {
   "cell_type": "code",
   "execution_count": 224,
   "id": "6fcf8c7c",
   "metadata": {},
   "outputs": [
    {
     "data": {
      "text/plain": [
       "0    -311.0\n",
       "1     -10.0\n",
       "2     105.0\n",
       "3      28.0\n",
       "4      10.0\n",
       "      ...  \n",
       "66      NaN\n",
       "67      NaN\n",
       "68      NaN\n",
       "69      NaN\n",
       "70      NaN\n",
       "Name: Inscritos, Length: 71, dtype: float64"
      ]
     },
     "execution_count": 224,
     "metadata": {},
     "output_type": "execute_result"
    }
   ],
   "source": [
    "df2024['Inscritos'] - df2023['Inscritos']"
   ]
  },
  {
   "cell_type": "code",
   "execution_count": 225,
   "id": "41577530",
   "metadata": {},
   "outputs": [
    {
     "data": {
      "text/html": [
       "<div>\n",
       "<style scoped>\n",
       "    .dataframe tbody tr th:only-of-type {\n",
       "        vertical-align: middle;\n",
       "    }\n",
       "\n",
       "    .dataframe tbody tr th {\n",
       "        vertical-align: top;\n",
       "    }\n",
       "\n",
       "    .dataframe thead th {\n",
       "        text-align: right;\n",
       "    }\n",
       "</style>\n",
       "<table border=\"1\" class=\"dataframe\">\n",
       "  <thead>\n",
       "    <tr style=\"text-align: right;\">\n",
       "      <th></th>\n",
       "      <th>Curso</th>\n",
       "      <th>Tipo de Vaga</th>\n",
       "      <th>Campus</th>\n",
       "      <th>Turno</th>\n",
       "      <th>Nivel</th>\n",
       "      <th>Inscritos</th>\n",
       "      <th>Pagos</th>\n",
       "      <th>Deferidas</th>\n",
       "      <th>Homologadas</th>\n",
       "    </tr>\n",
       "  </thead>\n",
       "  <tbody>\n",
       "    <tr>\n",
       "      <th>0</th>\n",
       "      <td>ADMINISTRAÇÃO</td>\n",
       "      <td>Aproveitamento de notas obtidas no ENEM</td>\n",
       "      <td>BAMBUÍ</td>\n",
       "      <td>Turno Noturno</td>\n",
       "      <td>Nível Médio</td>\n",
       "      <td>44</td>\n",
       "      <td>19</td>\n",
       "      <td>4</td>\n",
       "      <td>23</td>\n",
       "    </tr>\n",
       "    <tr>\n",
       "      <th>1</th>\n",
       "      <td>ADMINISTRAÇÃO</td>\n",
       "      <td>Aproveitamento de notas obtidas no ENEM</td>\n",
       "      <td>FORMIGA</td>\n",
       "      <td>Turno Noturno</td>\n",
       "      <td>Nível Médio</td>\n",
       "      <td>68</td>\n",
       "      <td>33</td>\n",
       "      <td>4</td>\n",
       "      <td>37</td>\n",
       "    </tr>\n",
       "    <tr>\n",
       "      <th>2</th>\n",
       "      <td>ADMINISTRAÇÃO</td>\n",
       "      <td>Aproveitamento de notas obtidas no ENEM</td>\n",
       "      <td>OURO BRANCO</td>\n",
       "      <td>Turno Noturno</td>\n",
       "      <td>Nível Médio</td>\n",
       "      <td>133</td>\n",
       "      <td>62</td>\n",
       "      <td>26</td>\n",
       "      <td>88</td>\n",
       "    </tr>\n",
       "    <tr>\n",
       "      <th>3</th>\n",
       "      <td>ADMINISTRAÇÃO</td>\n",
       "      <td>Aproveitamento de notas obtidas no ENEM</td>\n",
       "      <td>RIBEIRÃO DAS NEVES</td>\n",
       "      <td>Turno Manhã</td>\n",
       "      <td>Nível Médio</td>\n",
       "      <td>72</td>\n",
       "      <td>19</td>\n",
       "      <td>15</td>\n",
       "      <td>34</td>\n",
       "    </tr>\n",
       "    <tr>\n",
       "      <th>4</th>\n",
       "      <td>ADMINISTRAÇÃO</td>\n",
       "      <td>Aproveitamento de notas obtidas no ENEM</td>\n",
       "      <td>SABARÁ</td>\n",
       "      <td>Turno Noturno</td>\n",
       "      <td>Nível Médio</td>\n",
       "      <td>88</td>\n",
       "      <td>19</td>\n",
       "      <td>21</td>\n",
       "      <td>40</td>\n",
       "    </tr>\n",
       "    <tr>\n",
       "      <th>...</th>\n",
       "      <td>...</td>\n",
       "      <td>...</td>\n",
       "      <td>...</td>\n",
       "      <td>...</td>\n",
       "      <td>...</td>\n",
       "      <td>...</td>\n",
       "      <td>...</td>\n",
       "      <td>...</td>\n",
       "      <td>...</td>\n",
       "    </tr>\n",
       "    <tr>\n",
       "      <th>66</th>\n",
       "      <td>SISTEMAS DE INFORMAÇÃO</td>\n",
       "      <td>Aproveitamento de notas obtidas no ENEM</td>\n",
       "      <td>OURO BRANCO</td>\n",
       "      <td>Turno Noturno</td>\n",
       "      <td>Nível Médio</td>\n",
       "      <td>108</td>\n",
       "      <td>55</td>\n",
       "      <td>22</td>\n",
       "      <td>77</td>\n",
       "    </tr>\n",
       "    <tr>\n",
       "      <th>67</th>\n",
       "      <td>SISTEMAS DE INFORMAÇÃO</td>\n",
       "      <td>Aproveitamento de notas obtidas no ENEM</td>\n",
       "      <td>SABARÁ</td>\n",
       "      <td>Turno Matutino</td>\n",
       "      <td>Nível Médio</td>\n",
       "      <td>120</td>\n",
       "      <td>59</td>\n",
       "      <td>21</td>\n",
       "      <td>80</td>\n",
       "    </tr>\n",
       "    <tr>\n",
       "      <th>68</th>\n",
       "      <td>TECNOLOGIA EM PROCESSOS GERENCIAIS</td>\n",
       "      <td>Analise de Desempenho Escolar mais uma prova d...</td>\n",
       "      <td>PONTE NOVA</td>\n",
       "      <td>Turno Noturno</td>\n",
       "      <td>Nível Médio</td>\n",
       "      <td>23</td>\n",
       "      <td>7</td>\n",
       "      <td>4</td>\n",
       "      <td>11</td>\n",
       "    </tr>\n",
       "    <tr>\n",
       "      <th>69</th>\n",
       "      <td>TECNOLOGIA EM PROCESSOS GERENCIAIS</td>\n",
       "      <td>Aproveitamento de notas obtidas no ENEM</td>\n",
       "      <td>PONTE NOVA</td>\n",
       "      <td>Turno Noturno</td>\n",
       "      <td>Nível Médio</td>\n",
       "      <td>35</td>\n",
       "      <td>9</td>\n",
       "      <td>8</td>\n",
       "      <td>17</td>\n",
       "    </tr>\n",
       "    <tr>\n",
       "      <th>70</th>\n",
       "      <td>ZOOTECNIA</td>\n",
       "      <td>Aproveitamento de notas obtidas no ENEM</td>\n",
       "      <td>BAMBUÍ</td>\n",
       "      <td>Turno Integral</td>\n",
       "      <td>Nível Médio</td>\n",
       "      <td>26</td>\n",
       "      <td>11</td>\n",
       "      <td>9</td>\n",
       "      <td>20</td>\n",
       "    </tr>\n",
       "  </tbody>\n",
       "</table>\n",
       "<p>71 rows × 9 columns</p>\n",
       "</div>"
      ],
      "text/plain": [
       "                                 Curso  \\\n",
       "0                        ADMINISTRAÇÃO   \n",
       "1                        ADMINISTRAÇÃO   \n",
       "2                        ADMINISTRAÇÃO   \n",
       "3                        ADMINISTRAÇÃO   \n",
       "4                        ADMINISTRAÇÃO   \n",
       "..                                 ...   \n",
       "66              SISTEMAS DE INFORMAÇÃO   \n",
       "67              SISTEMAS DE INFORMAÇÃO   \n",
       "68  TECNOLOGIA EM PROCESSOS GERENCIAIS   \n",
       "69  TECNOLOGIA EM PROCESSOS GERENCIAIS   \n",
       "70                           ZOOTECNIA   \n",
       "\n",
       "                                         Tipo de Vaga              Campus  \\\n",
       "0             Aproveitamento de notas obtidas no ENEM              BAMBUÍ   \n",
       "1             Aproveitamento de notas obtidas no ENEM             FORMIGA   \n",
       "2             Aproveitamento de notas obtidas no ENEM         OURO BRANCO   \n",
       "3             Aproveitamento de notas obtidas no ENEM  RIBEIRÃO DAS NEVES   \n",
       "4             Aproveitamento de notas obtidas no ENEM              SABARÁ   \n",
       "..                                                ...                 ...   \n",
       "66            Aproveitamento de notas obtidas no ENEM         OURO BRANCO   \n",
       "67            Aproveitamento de notas obtidas no ENEM              SABARÁ   \n",
       "68  Analise de Desempenho Escolar mais uma prova d...          PONTE NOVA   \n",
       "69            Aproveitamento de notas obtidas no ENEM          PONTE NOVA   \n",
       "70            Aproveitamento de notas obtidas no ENEM              BAMBUÍ   \n",
       "\n",
       "              Turno        Nivel  Inscritos  Pagos  Deferidas  Homologadas  \n",
       "0     Turno Noturno  Nível Médio         44     19          4           23  \n",
       "1     Turno Noturno  Nível Médio         68     33          4           37  \n",
       "2     Turno Noturno  Nível Médio        133     62         26           88  \n",
       "3       Turno Manhã  Nível Médio         72     19         15           34  \n",
       "4     Turno Noturno  Nível Médio         88     19         21           40  \n",
       "..              ...          ...        ...    ...        ...          ...  \n",
       "66    Turno Noturno  Nível Médio        108     55         22           77  \n",
       "67   Turno Matutino  Nível Médio        120     59         21           80  \n",
       "68    Turno Noturno  Nível Médio         23      7          4           11  \n",
       "69    Turno Noturno  Nível Médio         35      9          8           17  \n",
       "70   Turno Integral  Nível Médio         26     11          9           20  \n",
       "\n",
       "[71 rows x 9 columns]"
      ]
     },
     "execution_count": 225,
     "metadata": {},
     "output_type": "execute_result"
    }
   ],
   "source": [
    "dfGrad = ler_excel('dados/2024-1_GestaoResultado_ResumoInscricoes_GRAD.xlsx')\n",
    "dfGrad"
   ]
  },
  {
   "cell_type": "code",
   "execution_count": 226,
   "id": "cacb4e13",
   "metadata": {},
   "outputs": [
    {
     "data": {
      "text/html": [
       "<div>\n",
       "<style scoped>\n",
       "    .dataframe tbody tr th:only-of-type {\n",
       "        vertical-align: middle;\n",
       "    }\n",
       "\n",
       "    .dataframe tbody tr th {\n",
       "        vertical-align: top;\n",
       "    }\n",
       "\n",
       "    .dataframe thead th {\n",
       "        text-align: right;\n",
       "    }\n",
       "</style>\n",
       "<table border=\"1\" class=\"dataframe\">\n",
       "  <thead>\n",
       "    <tr style=\"text-align: right;\">\n",
       "      <th></th>\n",
       "      <th>Curso</th>\n",
       "      <th>Tipo de Vaga</th>\n",
       "      <th>Campus</th>\n",
       "      <th>Turno</th>\n",
       "      <th>Nivel</th>\n",
       "      <th>Inscritos</th>\n",
       "      <th>Pagos</th>\n",
       "      <th>Deferidas</th>\n",
       "      <th>Homologadas</th>\n",
       "    </tr>\n",
       "  </thead>\n",
       "  <tbody>\n",
       "    <tr>\n",
       "      <th>0</th>\n",
       "      <td>ADMINISTRAÇÃO</td>\n",
       "      <td>Aproveitamento de notas obtidas no ENEM</td>\n",
       "      <td>BAMBUÍ</td>\n",
       "      <td>Turno Noturno</td>\n",
       "      <td>Nível Médio</td>\n",
       "      <td>44</td>\n",
       "      <td>19</td>\n",
       "      <td>4</td>\n",
       "      <td>23</td>\n",
       "    </tr>\n",
       "    <tr>\n",
       "      <th>1</th>\n",
       "      <td>ADMINISTRAÇÃO</td>\n",
       "      <td>Aproveitamento de notas obtidas no ENEM</td>\n",
       "      <td>FORMIGA</td>\n",
       "      <td>Turno Noturno</td>\n",
       "      <td>Nível Médio</td>\n",
       "      <td>68</td>\n",
       "      <td>33</td>\n",
       "      <td>4</td>\n",
       "      <td>37</td>\n",
       "    </tr>\n",
       "    <tr>\n",
       "      <th>2</th>\n",
       "      <td>ADMINISTRAÇÃO</td>\n",
       "      <td>Aproveitamento de notas obtidas no ENEM</td>\n",
       "      <td>OURO BRANCO</td>\n",
       "      <td>Turno Noturno</td>\n",
       "      <td>Nível Médio</td>\n",
       "      <td>133</td>\n",
       "      <td>62</td>\n",
       "      <td>26</td>\n",
       "      <td>88</td>\n",
       "    </tr>\n",
       "    <tr>\n",
       "      <th>3</th>\n",
       "      <td>ADMINISTRAÇÃO</td>\n",
       "      <td>Aproveitamento de notas obtidas no ENEM</td>\n",
       "      <td>RIBEIRÃO DAS NEVES</td>\n",
       "      <td>Turno Manhã</td>\n",
       "      <td>Nível Médio</td>\n",
       "      <td>72</td>\n",
       "      <td>19</td>\n",
       "      <td>15</td>\n",
       "      <td>34</td>\n",
       "    </tr>\n",
       "    <tr>\n",
       "      <th>4</th>\n",
       "      <td>ADMINISTRAÇÃO</td>\n",
       "      <td>Aproveitamento de notas obtidas no ENEM</td>\n",
       "      <td>SABARÁ</td>\n",
       "      <td>Turno Noturno</td>\n",
       "      <td>Nível Médio</td>\n",
       "      <td>88</td>\n",
       "      <td>19</td>\n",
       "      <td>21</td>\n",
       "      <td>40</td>\n",
       "    </tr>\n",
       "    <tr>\n",
       "      <th>...</th>\n",
       "      <td>...</td>\n",
       "      <td>...</td>\n",
       "      <td>...</td>\n",
       "      <td>...</td>\n",
       "      <td>...</td>\n",
       "      <td>...</td>\n",
       "      <td>...</td>\n",
       "      <td>...</td>\n",
       "      <td>...</td>\n",
       "    </tr>\n",
       "    <tr>\n",
       "      <th>66</th>\n",
       "      <td>Segurança do Trabalho</td>\n",
       "      <td>-1</td>\n",
       "      <td>Governador Valadares</td>\n",
       "      <td>Turno Noturno</td>\n",
       "      <td>Nível Médio</td>\n",
       "      <td>1</td>\n",
       "      <td>0</td>\n",
       "      <td>0</td>\n",
       "      <td>0</td>\n",
       "    </tr>\n",
       "    <tr>\n",
       "      <th>67</th>\n",
       "      <td>Segurança do Trabalho</td>\n",
       "      <td>Curso Técnico Subsequente</td>\n",
       "      <td>Governador Valadares</td>\n",
       "      <td>Turno Noturno</td>\n",
       "      <td>Nível Médio</td>\n",
       "      <td>100</td>\n",
       "      <td>5</td>\n",
       "      <td>19</td>\n",
       "      <td>24</td>\n",
       "    </tr>\n",
       "    <tr>\n",
       "      <th>68</th>\n",
       "      <td>Segurança do Trabalho</td>\n",
       "      <td>-1</td>\n",
       "      <td>Ouro Preto</td>\n",
       "      <td>Turno Noturno</td>\n",
       "      <td>Nível Médio</td>\n",
       "      <td>1</td>\n",
       "      <td>1</td>\n",
       "      <td>0</td>\n",
       "      <td>1</td>\n",
       "    </tr>\n",
       "    <tr>\n",
       "      <th>69</th>\n",
       "      <td>Segurança do Trabalho</td>\n",
       "      <td>Curso Técnico Subsequente</td>\n",
       "      <td>Ouro Preto</td>\n",
       "      <td>Turno Noturno</td>\n",
       "      <td>Nível Médio</td>\n",
       "      <td>150</td>\n",
       "      <td>22</td>\n",
       "      <td>23</td>\n",
       "      <td>45</td>\n",
       "    </tr>\n",
       "    <tr>\n",
       "      <th>70</th>\n",
       "      <td>Segurança do trabalho</td>\n",
       "      <td>Curso Técnico Subsequente</td>\n",
       "      <td>Santa Luzia</td>\n",
       "      <td>Turno Noturno</td>\n",
       "      <td>Nível Médio</td>\n",
       "      <td>157</td>\n",
       "      <td>8</td>\n",
       "      <td>31</td>\n",
       "      <td>39</td>\n",
       "    </tr>\n",
       "  </tbody>\n",
       "</table>\n",
       "<p>142 rows × 9 columns</p>\n",
       "</div>"
      ],
      "text/plain": [
       "                      Curso                             Tipo de Vaga  \\\n",
       "0             ADMINISTRAÇÃO  Aproveitamento de notas obtidas no ENEM   \n",
       "1             ADMINISTRAÇÃO  Aproveitamento de notas obtidas no ENEM   \n",
       "2             ADMINISTRAÇÃO  Aproveitamento de notas obtidas no ENEM   \n",
       "3             ADMINISTRAÇÃO  Aproveitamento de notas obtidas no ENEM   \n",
       "4             ADMINISTRAÇÃO  Aproveitamento de notas obtidas no ENEM   \n",
       "..                      ...                                      ...   \n",
       "66   Segurança do Trabalho                                        -1   \n",
       "67   Segurança do Trabalho                 Curso Técnico Subsequente   \n",
       "68   Segurança do Trabalho                                        -1   \n",
       "69   Segurança do Trabalho                 Curso Técnico Subsequente   \n",
       "70   Segurança do trabalho                 Curso Técnico Subsequente   \n",
       "\n",
       "                     Campus           Turno        Nivel  Inscritos  Pagos  \\\n",
       "0                    BAMBUÍ   Turno Noturno  Nível Médio         44     19   \n",
       "1                   FORMIGA   Turno Noturno  Nível Médio         68     33   \n",
       "2               OURO BRANCO   Turno Noturno  Nível Médio        133     62   \n",
       "3        RIBEIRÃO DAS NEVES     Turno Manhã  Nível Médio         72     19   \n",
       "4                    SABARÁ   Turno Noturno  Nível Médio         88     19   \n",
       "..                      ...             ...          ...        ...    ...   \n",
       "66    Governador Valadares    Turno Noturno  Nível Médio          1      0   \n",
       "67    Governador Valadares    Turno Noturno  Nível Médio        100      5   \n",
       "68              Ouro Preto    Turno Noturno  Nível Médio          1      1   \n",
       "69              Ouro Preto    Turno Noturno  Nível Médio        150     22   \n",
       "70             Santa Luzia    Turno Noturno  Nível Médio        157      8   \n",
       "\n",
       "    Deferidas  Homologadas  \n",
       "0           4           23  \n",
       "1           4           37  \n",
       "2          26           88  \n",
       "3          15           34  \n",
       "4          21           40  \n",
       "..        ...          ...  \n",
       "66          0            0  \n",
       "67         19           24  \n",
       "68          0            1  \n",
       "69         23           45  \n",
       "70         31           39  \n",
       "\n",
       "[142 rows x 9 columns]"
      ]
     },
     "execution_count": 226,
     "metadata": {},
     "output_type": "execute_result"
    }
   ],
   "source": [
    "df = pd.concat([dfGrad, dfMed])\n",
    "df"
   ]
  },
  {
   "cell_type": "code",
   "execution_count": 227,
   "id": "746ef423",
   "metadata": {},
   "outputs": [
    {
     "data": {
      "text/html": [
       "<div>\n",
       "<style scoped>\n",
       "    .dataframe tbody tr th:only-of-type {\n",
       "        vertical-align: middle;\n",
       "    }\n",
       "\n",
       "    .dataframe tbody tr th {\n",
       "        vertical-align: top;\n",
       "    }\n",
       "\n",
       "    .dataframe thead th {\n",
       "        text-align: right;\n",
       "    }\n",
       "</style>\n",
       "<table border=\"1\" class=\"dataframe\">\n",
       "  <thead>\n",
       "    <tr style=\"text-align: right;\">\n",
       "      <th></th>\n",
       "      <th>Curso</th>\n",
       "      <th>Campus</th>\n",
       "      <th>Tipo de Vaga</th>\n",
       "      <th>Turno</th>\n",
       "      <th>Nivel</th>\n",
       "      <th>2023</th>\n",
       "      <th>2024</th>\n",
       "      <th>diff_Inscritos</th>\n",
       "      <th>diff_Homologadas</th>\n",
       "    </tr>\n",
       "  </thead>\n",
       "  <tbody>\n",
       "    <tr>\n",
       "      <th>0</th>\n",
       "      <td>ADMINISTRAÇÃO</td>\n",
       "      <td>SABARÁ</td>\n",
       "      <td>Curso Técnico Integrado</td>\n",
       "      <td>Turno: Integral</td>\n",
       "      <td>Fundamental</td>\n",
       "      <td>395</td>\n",
       "      <td>84</td>\n",
       "      <td>-311.0</td>\n",
       "      <td>-273.0</td>\n",
       "    </tr>\n",
       "    <tr>\n",
       "      <th>1</th>\n",
       "      <td>ADMINISTRAÇÃO</td>\n",
       "      <td>BAMBUÍ</td>\n",
       "      <td>Curso Técnico Integrado</td>\n",
       "      <td>Turno: Integral</td>\n",
       "      <td>Fundamental</td>\n",
       "      <td>76</td>\n",
       "      <td>66</td>\n",
       "      <td>-10.0</td>\n",
       "      <td>-13.0</td>\n",
       "    </tr>\n",
       "    <tr>\n",
       "      <th>2</th>\n",
       "      <td>ADMINISTRAÇÃO</td>\n",
       "      <td>FORMIGA</td>\n",
       "      <td>Curso Técnico Integrado</td>\n",
       "      <td>Turno: Integral</td>\n",
       "      <td>Fundamental</td>\n",
       "      <td>116</td>\n",
       "      <td>221</td>\n",
       "      <td>105.0</td>\n",
       "      <td>74.0</td>\n",
       "    </tr>\n",
       "    <tr>\n",
       "      <th>3</th>\n",
       "      <td>ADMINISTRAÇÃO</td>\n",
       "      <td>OURO BRANCO</td>\n",
       "      <td>Curso Técnico Integrado</td>\n",
       "      <td>Turno: Integral</td>\n",
       "      <td>Fundamental</td>\n",
       "      <td>245</td>\n",
       "      <td>273</td>\n",
       "      <td>28.0</td>\n",
       "      <td>-8.0</td>\n",
       "    </tr>\n",
       "    <tr>\n",
       "      <th>4</th>\n",
       "      <td>ADMINISTRAÇÃO</td>\n",
       "      <td>OURO PRETO</td>\n",
       "      <td>Curso Técnico Integrado</td>\n",
       "      <td>Turno: Integral</td>\n",
       "      <td>Fundamental</td>\n",
       "      <td>329</td>\n",
       "      <td>339</td>\n",
       "      <td>10.0</td>\n",
       "      <td>3.0</td>\n",
       "    </tr>\n",
       "    <tr>\n",
       "      <th>...</th>\n",
       "      <td>...</td>\n",
       "      <td>...</td>\n",
       "      <td>...</td>\n",
       "      <td>...</td>\n",
       "      <td>...</td>\n",
       "      <td>...</td>\n",
       "      <td>...</td>\n",
       "      <td>...</td>\n",
       "      <td>...</td>\n",
       "    </tr>\n",
       "    <tr>\n",
       "      <th>61</th>\n",
       "      <td>PAISAGISMO</td>\n",
       "      <td>SANTA LUZIA</td>\n",
       "      <td>Curso Técnico Subsequente</td>\n",
       "      <td>Turno: Noturno</td>\n",
       "      <td>Médio</td>\n",
       "      <td>71</td>\n",
       "      <td>48</td>\n",
       "      <td>-23.0</td>\n",
       "      <td>-26.0</td>\n",
       "    </tr>\n",
       "    <tr>\n",
       "      <th>62</th>\n",
       "      <td>SEGURANÇA DO TRABALHO</td>\n",
       "      <td>GOVERNADOR VALADARES</td>\n",
       "      <td>Curso Técnico Subsequente</td>\n",
       "      <td>Turno: Noturno</td>\n",
       "      <td>Médio</td>\n",
       "      <td>78</td>\n",
       "      <td>9</td>\n",
       "      <td>-69.0</td>\n",
       "      <td>-35.0</td>\n",
       "    </tr>\n",
       "    <tr>\n",
       "      <th>63</th>\n",
       "      <td>SEGURANÇA DO TRABALHO</td>\n",
       "      <td>OURO PRETO</td>\n",
       "      <td>Curso Técnico Subsequente</td>\n",
       "      <td>Turno: Noturno</td>\n",
       "      <td>Médio</td>\n",
       "      <td>234</td>\n",
       "      <td>98</td>\n",
       "      <td>-136.0</td>\n",
       "      <td>-108.0</td>\n",
       "    </tr>\n",
       "    <tr>\n",
       "      <th>64</th>\n",
       "      <td>SEGURANÇA DO TRABALHO</td>\n",
       "      <td>SANTA LUZIA</td>\n",
       "      <td>Curso Técnico Integrado</td>\n",
       "      <td>Turno: Noturno</td>\n",
       "      <td>Médio</td>\n",
       "      <td>1</td>\n",
       "      <td>81</td>\n",
       "      <td>80.0</td>\n",
       "      <td>33.0</td>\n",
       "    </tr>\n",
       "    <tr>\n",
       "      <th>65</th>\n",
       "      <td>SEGURANÇA DO TRABALHO</td>\n",
       "      <td>SANTA LUZIA</td>\n",
       "      <td>Curso Técnico Subsequente</td>\n",
       "      <td>Turno: Noturno</td>\n",
       "      <td>Médio</td>\n",
       "      <td>168</td>\n",
       "      <td>63</td>\n",
       "      <td>-105.0</td>\n",
       "      <td>-57.0</td>\n",
       "    </tr>\n",
       "  </tbody>\n",
       "</table>\n",
       "<p>66 rows × 9 columns</p>\n",
       "</div>"
      ],
      "text/plain": [
       "                    Curso                Campus               Tipo de Vaga  \\\n",
       "0           ADMINISTRAÇÃO                SABARÁ    Curso Técnico Integrado   \n",
       "1           ADMINISTRAÇÃO                BAMBUÍ    Curso Técnico Integrado   \n",
       "2           ADMINISTRAÇÃO               FORMIGA    Curso Técnico Integrado   \n",
       "3           ADMINISTRAÇÃO           OURO BRANCO    Curso Técnico Integrado   \n",
       "4           ADMINISTRAÇÃO            OURO PRETO    Curso Técnico Integrado   \n",
       "..                    ...                   ...                        ...   \n",
       "61             PAISAGISMO           SANTA LUZIA  Curso Técnico Subsequente   \n",
       "62  SEGURANÇA DO TRABALHO  GOVERNADOR VALADARES  Curso Técnico Subsequente   \n",
       "63  SEGURANÇA DO TRABALHO            OURO PRETO  Curso Técnico Subsequente   \n",
       "64  SEGURANÇA DO TRABALHO           SANTA LUZIA    Curso Técnico Integrado   \n",
       "65  SEGURANÇA DO TRABALHO           SANTA LUZIA  Curso Técnico Subsequente   \n",
       "\n",
       "               Turno        Nivel  2023  2024  diff_Inscritos  \\\n",
       "0    Turno: Integral  Fundamental   395    84          -311.0   \n",
       "1    Turno: Integral  Fundamental    76    66           -10.0   \n",
       "2    Turno: Integral  Fundamental   116   221           105.0   \n",
       "3    Turno: Integral  Fundamental   245   273            28.0   \n",
       "4    Turno: Integral  Fundamental   329   339            10.0   \n",
       "..               ...          ...   ...   ...             ...   \n",
       "61    Turno: Noturno        Médio    71    48           -23.0   \n",
       "62    Turno: Noturno        Médio    78     9           -69.0   \n",
       "63    Turno: Noturno        Médio   234    98          -136.0   \n",
       "64    Turno: Noturno        Médio     1    81            80.0   \n",
       "65    Turno: Noturno        Médio   168    63          -105.0   \n",
       "\n",
       "    diff_Homologadas  \n",
       "0             -273.0  \n",
       "1              -13.0  \n",
       "2               74.0  \n",
       "3               -8.0  \n",
       "4                3.0  \n",
       "..               ...  \n",
       "61             -26.0  \n",
       "62             -35.0  \n",
       "63            -108.0  \n",
       "64              33.0  \n",
       "65             -57.0  \n",
       "\n",
       "[66 rows x 9 columns]"
      ]
     },
     "execution_count": 227,
     "metadata": {},
     "output_type": "execute_result"
    }
   ],
   "source": [
    "def diferenca(ano1,ano2):\n",
    "    dfMed_2023 = ler_excel(ano1)\n",
    "    dfMed_2024 = ler_excel(ano2)\n",
    "\n",
    "    dff = pd.DataFrame()\n",
    "\n",
    "    dff['Curso'] = dfMed_2023['Curso']\n",
    "    dff['Campus'] = dfMed_2023['Campus']\n",
    "    dff['Tipo de Vaga'] = dfMed_2023['Tipo de Vaga']\n",
    "    dff['Turno'] = dfMed_2023['Turno']\n",
    "    dff['Nivel'] = dfMed_2023['Nivel']\n",
    "    dff['2023'] = dfMed_2023['Inscritos']\n",
    "    dff['2024'] = dfMed_2024['Inscritos']\n",
    "    dff['diff_Inscritos'] = dfMed_2024['Inscritos'] - dfMed_2023['Inscritos']\n",
    "    dff['diff_Homologadas'] = dfMed_2024['Homologadas'] - dfMed_2023['Homologadas']\n",
    "\n",
    "    return dff\n",
    "\n",
    "dff = diferenca(\n",
    "    'dados/2023-1_GestaoResultado_ResumoInscricoes_TEC.xlsx', \n",
    "    'dados/2024-1_GestaoResultado_ResumoInscricoes_TEC.xlsx'\n",
    ")\n",
    "\n",
    "dff"
   ]
  },
  {
   "cell_type": "code",
   "execution_count": 228,
   "id": "cd128332",
   "metadata": {},
   "outputs": [
    {
     "data": {
      "text/html": [
       "<div>\n",
       "<style scoped>\n",
       "    .dataframe tbody tr th:only-of-type {\n",
       "        vertical-align: middle;\n",
       "    }\n",
       "\n",
       "    .dataframe tbody tr th {\n",
       "        vertical-align: top;\n",
       "    }\n",
       "\n",
       "    .dataframe thead th {\n",
       "        text-align: right;\n",
       "    }\n",
       "</style>\n",
       "<table border=\"1\" class=\"dataframe\">\n",
       "  <thead>\n",
       "    <tr style=\"text-align: right;\">\n",
       "      <th></th>\n",
       "      <th>Curso</th>\n",
       "      <th>Campus</th>\n",
       "      <th>Tipo de Vaga</th>\n",
       "      <th>Turno</th>\n",
       "      <th>Nivel</th>\n",
       "      <th>2023</th>\n",
       "      <th>2024</th>\n",
       "      <th>diff_Inscritos</th>\n",
       "      <th>diff_Homologadas</th>\n",
       "    </tr>\n",
       "  </thead>\n",
       "  <tbody>\n",
       "    <tr>\n",
       "      <th>5</th>\n",
       "      <td>ADMINISTRAÇÃO</td>\n",
       "      <td>PONTE NOVA</td>\n",
       "      <td>Curso Técnico Integrado</td>\n",
       "      <td>Turno: Integral</td>\n",
       "      <td>Fundamental</td>\n",
       "      <td>265</td>\n",
       "      <td>470</td>\n",
       "      <td>205.0</td>\n",
       "      <td>121.0</td>\n",
       "    </tr>\n",
       "    <tr>\n",
       "      <th>30</th>\n",
       "      <td>INFORMÁTICA</td>\n",
       "      <td>PONTE NOVA</td>\n",
       "      <td>Curso Técnico Integrado</td>\n",
       "      <td>Turno: Integral</td>\n",
       "      <td>Fundamental</td>\n",
       "      <td>438</td>\n",
       "      <td>291</td>\n",
       "      <td>-147.0</td>\n",
       "      <td>-174.0</td>\n",
       "    </tr>\n",
       "  </tbody>\n",
       "</table>\n",
       "</div>"
      ],
      "text/plain": [
       "            Curso      Campus             Tipo de Vaga             Turno  \\\n",
       "5   ADMINISTRAÇÃO  PONTE NOVA  Curso Técnico Integrado   Turno: Integral   \n",
       "30    INFORMÁTICA  PONTE NOVA  Curso Técnico Integrado   Turno: Integral   \n",
       "\n",
       "          Nivel  2023  2024  diff_Inscritos  diff_Homologadas  \n",
       "5   Fundamental   265   470           205.0             121.0  \n",
       "30  Fundamental   438   291          -147.0            -174.0  "
      ]
     },
     "execution_count": 228,
     "metadata": {},
     "output_type": "execute_result"
    }
   ],
   "source": [
    "dff[dff['Campus'] == \"PONTE NOVA\"]"
   ]
  },
  {
   "cell_type": "code",
   "execution_count": 229,
   "id": "b2db5796",
   "metadata": {},
   "outputs": [
    {
     "data": {
      "text/html": [
       "<div>\n",
       "<style scoped>\n",
       "    .dataframe tbody tr th:only-of-type {\n",
       "        vertical-align: middle;\n",
       "    }\n",
       "\n",
       "    .dataframe tbody tr th {\n",
       "        vertical-align: top;\n",
       "    }\n",
       "\n",
       "    .dataframe thead th {\n",
       "        text-align: right;\n",
       "    }\n",
       "</style>\n",
       "<table border=\"1\" class=\"dataframe\">\n",
       "  <thead>\n",
       "    <tr style=\"text-align: right;\">\n",
       "      <th></th>\n",
       "      <th>Campus</th>\n",
       "      <th>diff_Inscritos</th>\n",
       "      <th>diff_Homologadas</th>\n",
       "    </tr>\n",
       "  </thead>\n",
       "  <tbody>\n",
       "    <tr>\n",
       "      <th>15</th>\n",
       "      <td>SABARÁ</td>\n",
       "      <td>-347.0</td>\n",
       "      <td>-400.0</td>\n",
       "    </tr>\n",
       "    <tr>\n",
       "      <th>11</th>\n",
       "      <td>OURO PRETO</td>\n",
       "      <td>-308.0</td>\n",
       "      <td>-345.0</td>\n",
       "    </tr>\n",
       "    <tr>\n",
       "      <th>4</th>\n",
       "      <td>CONSELHEIRO LAFAIETE</td>\n",
       "      <td>-227.0</td>\n",
       "      <td>-194.0</td>\n",
       "    </tr>\n",
       "    <tr>\n",
       "      <th>12</th>\n",
       "      <td>PIUMHI</td>\n",
       "      <td>-133.0</td>\n",
       "      <td>-118.0</td>\n",
       "    </tr>\n",
       "    <tr>\n",
       "      <th>2</th>\n",
       "      <td>BETIM</td>\n",
       "      <td>-83.0</td>\n",
       "      <td>-412.0</td>\n",
       "    </tr>\n",
       "    <tr>\n",
       "      <th>8</th>\n",
       "      <td>IPATINGA</td>\n",
       "      <td>-39.0</td>\n",
       "      <td>-139.0</td>\n",
       "    </tr>\n",
       "    <tr>\n",
       "      <th>10</th>\n",
       "      <td>OURO BRANCO</td>\n",
       "      <td>-27.0</td>\n",
       "      <td>-85.0</td>\n",
       "    </tr>\n",
       "    <tr>\n",
       "      <th>16</th>\n",
       "      <td>SANTA LUZIA</td>\n",
       "      <td>-8.0</td>\n",
       "      <td>-105.0</td>\n",
       "    </tr>\n",
       "    <tr>\n",
       "      <th>1</th>\n",
       "      <td>BAMBUÍ</td>\n",
       "      <td>3.0</td>\n",
       "      <td>-23.0</td>\n",
       "    </tr>\n",
       "    <tr>\n",
       "      <th>0</th>\n",
       "      <td>ARCOS</td>\n",
       "      <td>4.0</td>\n",
       "      <td>-21.0</td>\n",
       "    </tr>\n",
       "    <tr>\n",
       "      <th>7</th>\n",
       "      <td>IBIRITÉ</td>\n",
       "      <td>13.0</td>\n",
       "      <td>-75.0</td>\n",
       "    </tr>\n",
       "    <tr>\n",
       "      <th>9</th>\n",
       "      <td>ITABIRITO</td>\n",
       "      <td>24.0</td>\n",
       "      <td>-7.0</td>\n",
       "    </tr>\n",
       "    <tr>\n",
       "      <th>14</th>\n",
       "      <td>RIBEIRÃO DAS NEVES</td>\n",
       "      <td>30.0</td>\n",
       "      <td>-83.0</td>\n",
       "    </tr>\n",
       "    <tr>\n",
       "      <th>5</th>\n",
       "      <td>FORMIGA</td>\n",
       "      <td>44.0</td>\n",
       "      <td>15.0</td>\n",
       "    </tr>\n",
       "    <tr>\n",
       "      <th>13</th>\n",
       "      <td>PONTE NOVA</td>\n",
       "      <td>58.0</td>\n",
       "      <td>-53.0</td>\n",
       "    </tr>\n",
       "    <tr>\n",
       "      <th>3</th>\n",
       "      <td>CONGONHAS</td>\n",
       "      <td>70.0</td>\n",
       "      <td>-20.0</td>\n",
       "    </tr>\n",
       "    <tr>\n",
       "      <th>17</th>\n",
       "      <td>SÃO JOÃO EVANGELISTA</td>\n",
       "      <td>111.0</td>\n",
       "      <td>-37.0</td>\n",
       "    </tr>\n",
       "    <tr>\n",
       "      <th>6</th>\n",
       "      <td>GOVERNADOR VALADARES</td>\n",
       "      <td>128.0</td>\n",
       "      <td>110.0</td>\n",
       "    </tr>\n",
       "  </tbody>\n",
       "</table>\n",
       "</div>"
      ],
      "text/plain": [
       "                  Campus  diff_Inscritos  diff_Homologadas\n",
       "15                SABARÁ          -347.0            -400.0\n",
       "11            OURO PRETO          -308.0            -345.0\n",
       "4   CONSELHEIRO LAFAIETE          -227.0            -194.0\n",
       "12                PIUMHI          -133.0            -118.0\n",
       "2                  BETIM           -83.0            -412.0\n",
       "8               IPATINGA           -39.0            -139.0\n",
       "10           OURO BRANCO           -27.0             -85.0\n",
       "16           SANTA LUZIA            -8.0            -105.0\n",
       "1                 BAMBUÍ             3.0             -23.0\n",
       "0                  ARCOS             4.0             -21.0\n",
       "7                IBIRITÉ            13.0             -75.0\n",
       "9              ITABIRITO            24.0              -7.0\n",
       "14    RIBEIRÃO DAS NEVES            30.0             -83.0\n",
       "5                FORMIGA            44.0              15.0\n",
       "13            PONTE NOVA            58.0             -53.0\n",
       "3              CONGONHAS            70.0             -20.0\n",
       "17  SÃO JOÃO EVANGELISTA           111.0             -37.0\n",
       "6   GOVERNADOR VALADARES           128.0             110.0"
      ]
     },
     "execution_count": 229,
     "metadata": {},
     "output_type": "execute_result"
    }
   ],
   "source": [
    "dffg1 = dff.groupby(\"Campus\")[[\"diff_Inscritos\",\"diff_Homologadas\"]].sum().reset_index().sort_values(by='diff_Inscritos', ascending=True)\n",
    "dffg1"
   ]
  },
  {
   "cell_type": "code",
   "execution_count": 230,
   "id": "1689a2c5",
   "metadata": {},
   "outputs": [
    {
     "data": {
      "application/vnd.plotly.v1+json": {
       "config": {
        "plotlyServerURL": "https://plot.ly"
       },
       "data": [
        {
         "alignmentgroup": "True",
         "hovertemplate": "Campus=%{x}<br>value=%{y}<extra></extra>",
         "legendgroup": "SABARÁ",
         "marker": {
          "color": "#000001",
          "pattern": {
           "shape": ""
          }
         },
         "name": "SABARÁ",
         "offsetgroup": "SABARÁ",
         "orientation": "v",
         "showlegend": true,
         "textposition": "auto",
         "texttemplate": "%{y:.2s}",
         "type": "bar",
         "x": [
          "SABARÁ",
          "SABARÁ"
         ],
         "xaxis": "x",
         "y": [
          -347,
          -400
         ],
         "yaxis": "y"
        },
        {
         "alignmentgroup": "True",
         "hovertemplate": "Campus=%{x}<br>value=%{y}<extra></extra>",
         "legendgroup": "OURO PRETO",
         "marker": {
          "color": "#000002",
          "pattern": {
           "shape": ""
          }
         },
         "name": "OURO PRETO",
         "offsetgroup": "OURO PRETO",
         "orientation": "v",
         "showlegend": true,
         "textposition": "auto",
         "texttemplate": "%{y:.2s}",
         "type": "bar",
         "x": [
          "OURO PRETO",
          "OURO PRETO"
         ],
         "xaxis": "x",
         "y": [
          -308,
          -345
         ],
         "yaxis": "y"
        },
        {
         "alignmentgroup": "True",
         "hovertemplate": "Campus=%{x}<br>value=%{y}<extra></extra>",
         "legendgroup": "CONSELHEIRO LAFAIETE",
         "marker": {
          "color": "#000003",
          "pattern": {
           "shape": ""
          }
         },
         "name": "CONSELHEIRO LAFAIETE",
         "offsetgroup": "CONSELHEIRO LAFAIETE",
         "orientation": "v",
         "showlegend": true,
         "textposition": "auto",
         "texttemplate": "%{y:.2s}",
         "type": "bar",
         "x": [
          "CONSELHEIRO LAFAIETE",
          "CONSELHEIRO LAFAIETE"
         ],
         "xaxis": "x",
         "y": [
          -227,
          -194
         ],
         "yaxis": "y"
        },
        {
         "alignmentgroup": "True",
         "hovertemplate": "Campus=%{x}<br>value=%{y}<extra></extra>",
         "legendgroup": "PIUMHI",
         "marker": {
          "color": "#000004",
          "pattern": {
           "shape": ""
          }
         },
         "name": "PIUMHI",
         "offsetgroup": "PIUMHI",
         "orientation": "v",
         "showlegend": true,
         "textposition": "auto",
         "texttemplate": "%{y:.2s}",
         "type": "bar",
         "x": [
          "PIUMHI",
          "PIUMHI"
         ],
         "xaxis": "x",
         "y": [
          -133,
          -118
         ],
         "yaxis": "y"
        },
        {
         "alignmentgroup": "True",
         "hovertemplate": "Campus=%{x}<br>value=%{y}<extra></extra>",
         "legendgroup": "BETIM",
         "marker": {
          "color": "#000005",
          "pattern": {
           "shape": ""
          }
         },
         "name": "BETIM",
         "offsetgroup": "BETIM",
         "orientation": "v",
         "showlegend": true,
         "textposition": "auto",
         "texttemplate": "%{y:.2s}",
         "type": "bar",
         "x": [
          "BETIM",
          "BETIM"
         ],
         "xaxis": "x",
         "y": [
          -83,
          -412
         ],
         "yaxis": "y"
        },
        {
         "alignmentgroup": "True",
         "hovertemplate": "Campus=%{x}<br>value=%{y}<extra></extra>",
         "legendgroup": "IPATINGA",
         "marker": {
          "color": "#000006",
          "pattern": {
           "shape": ""
          }
         },
         "name": "IPATINGA",
         "offsetgroup": "IPATINGA",
         "orientation": "v",
         "showlegend": true,
         "textposition": "auto",
         "texttemplate": "%{y:.2s}",
         "type": "bar",
         "x": [
          "IPATINGA",
          "IPATINGA"
         ],
         "xaxis": "x",
         "y": [
          -39,
          -139
         ],
         "yaxis": "y"
        },
        {
         "alignmentgroup": "True",
         "hovertemplate": "Campus=%{x}<br>value=%{y}<extra></extra>",
         "legendgroup": "OURO BRANCO",
         "marker": {
          "color": "#000007",
          "pattern": {
           "shape": ""
          }
         },
         "name": "OURO BRANCO",
         "offsetgroup": "OURO BRANCO",
         "orientation": "v",
         "showlegend": true,
         "textposition": "auto",
         "texttemplate": "%{y:.2s}",
         "type": "bar",
         "x": [
          "OURO BRANCO",
          "OURO BRANCO"
         ],
         "xaxis": "x",
         "y": [
          -27,
          -85
         ],
         "yaxis": "y"
        },
        {
         "alignmentgroup": "True",
         "hovertemplate": "Campus=%{x}<br>value=%{y}<extra></extra>",
         "legendgroup": "SANTA LUZIA",
         "marker": {
          "color": "#000008",
          "pattern": {
           "shape": ""
          }
         },
         "name": "SANTA LUZIA",
         "offsetgroup": "SANTA LUZIA",
         "orientation": "v",
         "showlegend": true,
         "textposition": "auto",
         "texttemplate": "%{y:.2s}",
         "type": "bar",
         "x": [
          "SANTA LUZIA",
          "SANTA LUZIA"
         ],
         "xaxis": "x",
         "y": [
          -8,
          -105
         ],
         "yaxis": "y"
        },
        {
         "alignmentgroup": "True",
         "hovertemplate": "Campus=%{x}<br>value=%{y}<extra></extra>",
         "legendgroup": "BAMBUÍ",
         "marker": {
          "color": "#000009",
          "pattern": {
           "shape": ""
          }
         },
         "name": "BAMBUÍ",
         "offsetgroup": "BAMBUÍ",
         "orientation": "v",
         "showlegend": true,
         "textposition": "auto",
         "texttemplate": "%{y:.2s}",
         "type": "bar",
         "x": [
          "BAMBUÍ",
          "BAMBUÍ"
         ],
         "xaxis": "x",
         "y": [
          3,
          -23
         ],
         "yaxis": "y"
        },
        {
         "alignmentgroup": "True",
         "hovertemplate": "Campus=%{x}<br>value=%{y}<extra></extra>",
         "legendgroup": "ARCOS",
         "marker": {
          "color": "#000010",
          "pattern": {
           "shape": ""
          }
         },
         "name": "ARCOS",
         "offsetgroup": "ARCOS",
         "orientation": "v",
         "showlegend": true,
         "textposition": "auto",
         "texttemplate": "%{y:.2s}",
         "type": "bar",
         "x": [
          "ARCOS",
          "ARCOS"
         ],
         "xaxis": "x",
         "y": [
          4,
          -21
         ],
         "yaxis": "y"
        },
        {
         "alignmentgroup": "True",
         "hovertemplate": "Campus=%{x}<br>value=%{y}<extra></extra>",
         "legendgroup": "IBIRITÉ",
         "marker": {
          "color": "#000001",
          "pattern": {
           "shape": ""
          }
         },
         "name": "IBIRITÉ",
         "offsetgroup": "IBIRITÉ",
         "orientation": "v",
         "showlegend": true,
         "textposition": "auto",
         "texttemplate": "%{y:.2s}",
         "type": "bar",
         "x": [
          "IBIRITÉ",
          "IBIRITÉ"
         ],
         "xaxis": "x",
         "y": [
          13,
          -75
         ],
         "yaxis": "y"
        },
        {
         "alignmentgroup": "True",
         "hovertemplate": "Campus=%{x}<br>value=%{y}<extra></extra>",
         "legendgroup": "ITABIRITO",
         "marker": {
          "color": "#000002",
          "pattern": {
           "shape": ""
          }
         },
         "name": "ITABIRITO",
         "offsetgroup": "ITABIRITO",
         "orientation": "v",
         "showlegend": true,
         "textposition": "auto",
         "texttemplate": "%{y:.2s}",
         "type": "bar",
         "x": [
          "ITABIRITO",
          "ITABIRITO"
         ],
         "xaxis": "x",
         "y": [
          24,
          -7
         ],
         "yaxis": "y"
        },
        {
         "alignmentgroup": "True",
         "hovertemplate": "Campus=%{x}<br>value=%{y}<extra></extra>",
         "legendgroup": "RIBEIRÃO DAS NEVES",
         "marker": {
          "color": "#000003",
          "pattern": {
           "shape": ""
          }
         },
         "name": "RIBEIRÃO DAS NEVES",
         "offsetgroup": "RIBEIRÃO DAS NEVES",
         "orientation": "v",
         "showlegend": true,
         "textposition": "auto",
         "texttemplate": "%{y:.2s}",
         "type": "bar",
         "x": [
          "RIBEIRÃO DAS NEVES",
          "RIBEIRÃO DAS NEVES"
         ],
         "xaxis": "x",
         "y": [
          30,
          -83
         ],
         "yaxis": "y"
        },
        {
         "alignmentgroup": "True",
         "hovertemplate": "Campus=%{x}<br>value=%{y}<extra></extra>",
         "legendgroup": "FORMIGA",
         "marker": {
          "color": "#000004",
          "pattern": {
           "shape": ""
          }
         },
         "name": "FORMIGA",
         "offsetgroup": "FORMIGA",
         "orientation": "v",
         "showlegend": true,
         "textposition": "auto",
         "texttemplate": "%{y:.2s}",
         "type": "bar",
         "x": [
          "FORMIGA",
          "FORMIGA"
         ],
         "xaxis": "x",
         "y": [
          44,
          15
         ],
         "yaxis": "y"
        },
        {
         "alignmentgroup": "True",
         "hovertemplate": "Campus=%{x}<br>value=%{y}<extra></extra>",
         "legendgroup": "PONTE NOVA",
         "marker": {
          "color": "#000005",
          "pattern": {
           "shape": ""
          }
         },
         "name": "PONTE NOVA",
         "offsetgroup": "PONTE NOVA",
         "orientation": "v",
         "showlegend": true,
         "textposition": "auto",
         "texttemplate": "%{y:.2s}",
         "type": "bar",
         "x": [
          "PONTE NOVA",
          "PONTE NOVA"
         ],
         "xaxis": "x",
         "y": [
          58,
          -53
         ],
         "yaxis": "y"
        },
        {
         "alignmentgroup": "True",
         "hovertemplate": "Campus=%{x}<br>value=%{y}<extra></extra>",
         "legendgroup": "CONGONHAS",
         "marker": {
          "color": "#000006",
          "pattern": {
           "shape": ""
          }
         },
         "name": "CONGONHAS",
         "offsetgroup": "CONGONHAS",
         "orientation": "v",
         "showlegend": true,
         "textposition": "auto",
         "texttemplate": "%{y:.2s}",
         "type": "bar",
         "x": [
          "CONGONHAS",
          "CONGONHAS"
         ],
         "xaxis": "x",
         "y": [
          70,
          -20
         ],
         "yaxis": "y"
        },
        {
         "alignmentgroup": "True",
         "hovertemplate": "Campus=%{x}<br>value=%{y}<extra></extra>",
         "legendgroup": "SÃO JOÃO EVANGELISTA",
         "marker": {
          "color": "#000007",
          "pattern": {
           "shape": ""
          }
         },
         "name": "SÃO JOÃO EVANGELISTA",
         "offsetgroup": "SÃO JOÃO EVANGELISTA",
         "orientation": "v",
         "showlegend": true,
         "textposition": "auto",
         "texttemplate": "%{y:.2s}",
         "type": "bar",
         "x": [
          "SÃO JOÃO EVANGELISTA",
          "SÃO JOÃO EVANGELISTA"
         ],
         "xaxis": "x",
         "y": [
          111,
          -37
         ],
         "yaxis": "y"
        },
        {
         "alignmentgroup": "True",
         "hovertemplate": "Campus=%{x}<br>value=%{y}<extra></extra>",
         "legendgroup": "GOVERNADOR VALADARES",
         "marker": {
          "color": "#000008",
          "pattern": {
           "shape": ""
          }
         },
         "name": "GOVERNADOR VALADARES",
         "offsetgroup": "GOVERNADOR VALADARES",
         "orientation": "v",
         "showlegend": true,
         "textposition": "auto",
         "texttemplate": "%{y:.2s}",
         "type": "bar",
         "x": [
          "GOVERNADOR VALADARES",
          "GOVERNADOR VALADARES"
         ],
         "xaxis": "x",
         "y": [
          128,
          110
         ],
         "yaxis": "y"
        }
       ],
       "layout": {
        "autosize": true,
        "barmode": "relative",
        "legend": {
         "title": {
          "text": "Campus"
         },
         "tracegroupgap": 0
        },
        "margin": {
         "t": 60
        },
        "template": {
         "data": {
          "candlestick": [
           {
            "decreasing": {
             "line": {
              "color": "#000033"
             }
            },
            "increasing": {
             "line": {
              "color": "#000032"
             }
            },
            "type": "candlestick"
           }
          ],
          "contour": [
           {
            "colorscale": [
             [
              0,
              "#000011"
             ],
             [
              0.1111111111111111,
              "#000012"
             ],
             [
              0.2222222222222222,
              "#000013"
             ],
             [
              0.3333333333333333,
              "#000014"
             ],
             [
              0.4444444444444444,
              "#000015"
             ],
             [
              0.5555555555555556,
              "#000016"
             ],
             [
              0.6666666666666666,
              "#000017"
             ],
             [
              0.7777777777777778,
              "#000018"
             ],
             [
              0.8888888888888888,
              "#000019"
             ],
             [
              1,
              "#000020"
             ]
            ],
            "type": "contour"
           }
          ],
          "contourcarpet": [
           {
            "colorscale": [
             [
              0,
              "#000011"
             ],
             [
              0.1111111111111111,
              "#000012"
             ],
             [
              0.2222222222222222,
              "#000013"
             ],
             [
              0.3333333333333333,
              "#000014"
             ],
             [
              0.4444444444444444,
              "#000015"
             ],
             [
              0.5555555555555556,
              "#000016"
             ],
             [
              0.6666666666666666,
              "#000017"
             ],
             [
              0.7777777777777778,
              "#000018"
             ],
             [
              0.8888888888888888,
              "#000019"
             ],
             [
              1,
              "#000020"
             ]
            ],
            "type": "contourcarpet"
           }
          ],
          "heatmap": [
           {
            "colorscale": [
             [
              0,
              "#000011"
             ],
             [
              0.1111111111111111,
              "#000012"
             ],
             [
              0.2222222222222222,
              "#000013"
             ],
             [
              0.3333333333333333,
              "#000014"
             ],
             [
              0.4444444444444444,
              "#000015"
             ],
             [
              0.5555555555555556,
              "#000016"
             ],
             [
              0.6666666666666666,
              "#000017"
             ],
             [
              0.7777777777777778,
              "#000018"
             ],
             [
              0.8888888888888888,
              "#000019"
             ],
             [
              1,
              "#000020"
             ]
            ],
            "type": "heatmap"
           }
          ],
          "histogram2d": [
           {
            "colorscale": [
             [
              0,
              "#000011"
             ],
             [
              0.1111111111111111,
              "#000012"
             ],
             [
              0.2222222222222222,
              "#000013"
             ],
             [
              0.3333333333333333,
              "#000014"
             ],
             [
              0.4444444444444444,
              "#000015"
             ],
             [
              0.5555555555555556,
              "#000016"
             ],
             [
              0.6666666666666666,
              "#000017"
             ],
             [
              0.7777777777777778,
              "#000018"
             ],
             [
              0.8888888888888888,
              "#000019"
             ],
             [
              1,
              "#000020"
             ]
            ],
            "type": "histogram2d"
           }
          ],
          "icicle": [
           {
            "textfont": {
             "color": "white"
            },
            "type": "icicle"
           }
          ],
          "sankey": [
           {
            "textfont": {
             "color": "#000036"
            },
            "type": "sankey"
           }
          ],
          "scatter": [
           {
            "marker": {
             "line": {
              "width": 0
             }
            },
            "type": "scatter"
           }
          ],
          "table": [
           {
            "cells": {
             "fill": {
              "color": "#000038"
             },
             "font": {
              "color": "#000037"
             },
             "line": {
              "color": "#000039"
             }
            },
            "header": {
             "fill": {
              "color": "#000040"
             },
             "font": {
              "color": "#000036"
             },
             "line": {
              "color": "#000039"
             }
            },
            "type": "table"
           }
          ],
          "waterfall": [
           {
            "connector": {
             "line": {
              "color": "#000036",
              "width": 2
             }
            },
            "decreasing": {
             "marker": {
              "color": "#000033"
             }
            },
            "increasing": {
             "marker": {
              "color": "#000032"
             }
            },
            "totals": {
             "marker": {
              "color": "#000034"
             }
            },
            "type": "waterfall"
           }
          ]
         },
         "layout": {
          "coloraxis": {
           "colorscale": [
            [
             0,
             "#000011"
            ],
            [
             0.1111111111111111,
             "#000012"
            ],
            [
             0.2222222222222222,
             "#000013"
            ],
            [
             0.3333333333333333,
             "#000014"
            ],
            [
             0.4444444444444444,
             "#000015"
            ],
            [
             0.5555555555555556,
             "#000016"
            ],
            [
             0.6666666666666666,
             "#000017"
            ],
            [
             0.7777777777777778,
             "#000018"
            ],
            [
             0.8888888888888888,
             "#000019"
            ],
            [
             1,
             "#000020"
            ]
           ]
          },
          "colorscale": {
           "diverging": [
            [
             0,
             "#000021"
            ],
            [
             0.1,
             "#000022"
            ],
            [
             0.2,
             "#000023"
            ],
            [
             0.3,
             "#000024"
            ],
            [
             0.4,
             "#000025"
            ],
            [
             0.5,
             "#000026"
            ],
            [
             0.6,
             "#000027"
            ],
            [
             0.7,
             "#000028"
            ],
            [
             0.8,
             "#000029"
            ],
            [
             0.9,
             "#000030"
            ],
            [
             1,
             "#000031"
            ]
           ],
           "sequential": [
            [
             0,
             "#000011"
            ],
            [
             0.1111111111111111,
             "#000012"
            ],
            [
             0.2222222222222222,
             "#000013"
            ],
            [
             0.3333333333333333,
             "#000014"
            ],
            [
             0.4444444444444444,
             "#000015"
            ],
            [
             0.5555555555555556,
             "#000016"
            ],
            [
             0.6666666666666666,
             "#000017"
            ],
            [
             0.7777777777777778,
             "#000018"
            ],
            [
             0.8888888888888888,
             "#000019"
            ],
            [
             1,
             "#000020"
            ]
           ],
           "sequentialminus": [
            [
             0,
             "#000011"
            ],
            [
             0.1111111111111111,
             "#000012"
            ],
            [
             0.2222222222222222,
             "#000013"
            ],
            [
             0.3333333333333333,
             "#000014"
            ],
            [
             0.4444444444444444,
             "#000015"
            ],
            [
             0.5555555555555556,
             "#000016"
            ],
            [
             0.6666666666666666,
             "#000017"
            ],
            [
             0.7777777777777778,
             "#000018"
            ],
            [
             0.8888888888888888,
             "#000019"
            ],
            [
             1,
             "#000020"
            ]
           ]
          },
          "colorway": [
           "#000001",
           "#000002",
           "#000003",
           "#000004",
           "#000005",
           "#000006",
           "#000007",
           "#000008",
           "#000009",
           "#000010"
          ]
         }
        },
        "xaxis": {
         "anchor": "y",
         "autorange": true,
         "categoryarray": [
          "SABARÁ",
          "OURO PRETO",
          "CONSELHEIRO LAFAIETE",
          "PIUMHI",
          "BETIM",
          "IPATINGA",
          "OURO BRANCO",
          "SANTA LUZIA",
          "BAMBUÍ",
          "ARCOS",
          "IBIRITÉ",
          "ITABIRITO",
          "RIBEIRÃO DAS NEVES",
          "FORMIGA",
          "PONTE NOVA",
          "CONGONHAS",
          "SÃO JOÃO EVANGELISTA",
          "GOVERNADOR VALADARES"
         ],
         "categoryorder": "array",
         "domain": [
          0,
          1
         ],
         "range": [
          -0.5,
          17.5
         ],
         "title": {
          "text": "Campus"
         },
         "type": "category"
        },
        "yaxis": {
         "anchor": "x",
         "autorange": true,
         "domain": [
          0,
          1
         ],
         "range": [
          -801.7222222222222,
          292.72222222222223
         ],
         "title": {
          "text": "value"
         },
         "type": "linear"
        }
       }
      },
      "image/png": "[encoded data removed]",
      "text/html": [
       "<div>                            <div id=\"8bdd1154-f7c1-429d-b6a8-b5e39f96ed64\" class=\"plotly-graph-div\" style=\"height:525px; width:100%;\"></div>            <script type=\"text/javascript\">                require([\"plotly\"], function(Plotly) {                    window.PLOTLYENV=window.PLOTLYENV || {};                                    if (document.getElementById(\"8bdd1154-f7c1-429d-b6a8-b5e39f96ed64\")) {                    Plotly.newPlot(                        \"8bdd1154-f7c1-429d-b6a8-b5e39f96ed64\",                        [{\"alignmentgroup\":\"True\",\"hovertemplate\":\"Campus=%{x}<br>value=%{y}<extra></extra>\",\"legendgroup\":\"SABAR\\u00c1\",\"marker\":{\"color\":\"#000001\",\"pattern\":{\"shape\":\"\"}},\"name\":\"SABAR\\u00c1\",\"offsetgroup\":\"SABAR\\u00c1\",\"orientation\":\"v\",\"showlegend\":true,\"textposition\":\"auto\",\"texttemplate\":\"%{y:.2s}\",\"x\":[\"SABAR\\u00c1\",\"SABAR\\u00c1\"],\"xaxis\":\"x\",\"y\":[-347.0,-400.0],\"yaxis\":\"y\",\"type\":\"bar\"},{\"alignmentgroup\":\"True\",\"hovertemplate\":\"Campus=%{x}<br>value=%{y}<extra></extra>\",\"legendgroup\":\"OURO PRETO\",\"marker\":{\"color\":\"#000002\",\"pattern\":{\"shape\":\"\"}},\"name\":\"OURO PRETO\",\"offsetgroup\":\"OURO PRETO\",\"orientation\":\"v\",\"showlegend\":true,\"textposition\":\"auto\",\"texttemplate\":\"%{y:.2s}\",\"x\":[\"OURO PRETO\",\"OURO PRETO\"],\"xaxis\":\"x\",\"y\":[-308.0,-345.0],\"yaxis\":\"y\",\"type\":\"bar\"},{\"alignmentgroup\":\"True\",\"hovertemplate\":\"Campus=%{x}<br>value=%{y}<extra></extra>\",\"legendgroup\":\"CONSELHEIRO LAFAIETE\",\"marker\":{\"color\":\"#000003\",\"pattern\":{\"shape\":\"\"}},\"name\":\"CONSELHEIRO LAFAIETE\",\"offsetgroup\":\"CONSELHEIRO LAFAIETE\",\"orientation\":\"v\",\"showlegend\":true,\"textposition\":\"auto\",\"texttemplate\":\"%{y:.2s}\",\"x\":[\"CONSELHEIRO LAFAIETE\",\"CONSELHEIRO LAFAIETE\"],\"xaxis\":\"x\",\"y\":[-227.0,-194.0],\"yaxis\":\"y\",\"type\":\"bar\"},{\"alignmentgroup\":\"True\",\"hovertemplate\":\"Campus=%{x}<br>value=%{y}<extra></extra>\",\"legendgroup\":\"PIUMHI\",\"marker\":{\"color\":\"#000004\",\"pattern\":{\"shape\":\"\"}},\"name\":\"PIUMHI\",\"offsetgroup\":\"PIUMHI\",\"orientation\":\"v\",\"showlegend\":true,\"textposition\":\"auto\",\"texttemplate\":\"%{y:.2s}\",\"x\":[\"PIUMHI\",\"PIUMHI\"],\"xaxis\":\"x\",\"y\":[-133.0,-118.0],\"yaxis\":\"y\",\"type\":\"bar\"},{\"alignmentgroup\":\"True\",\"hovertemplate\":\"Campus=%{x}<br>value=%{y}<extra></extra>\",\"legendgroup\":\"BETIM\",\"marker\":{\"color\":\"#000005\",\"pattern\":{\"shape\":\"\"}},\"name\":\"BETIM\",\"offsetgroup\":\"BETIM\",\"orientation\":\"v\",\"showlegend\":true,\"textposition\":\"auto\",\"texttemplate\":\"%{y:.2s}\",\"x\":[\"BETIM\",\"BETIM\"],\"xaxis\":\"x\",\"y\":[-83.0,-412.0],\"yaxis\":\"y\",\"type\":\"bar\"},{\"alignmentgroup\":\"True\",\"hovertemplate\":\"Campus=%{x}<br>value=%{y}<extra></extra>\",\"legendgroup\":\"IPATINGA\",\"marker\":{\"color\":\"#000006\",\"pattern\":{\"shape\":\"\"}},\"name\":\"IPATINGA\",\"offsetgroup\":\"IPATINGA\",\"orientation\":\"v\",\"showlegend\":true,\"textposition\":\"auto\",\"texttemplate\":\"%{y:.2s}\",\"x\":[\"IPATINGA\",\"IPATINGA\"],\"xaxis\":\"x\",\"y\":[-39.0,-139.0],\"yaxis\":\"y\",\"type\":\"bar\"},{\"alignmentgroup\":\"True\",\"hovertemplate\":\"Campus=%{x}<br>value=%{y}<extra></extra>\",\"legendgroup\":\"OURO BRANCO\",\"marker\":{\"color\":\"#000007\",\"pattern\":{\"shape\":\"\"}},\"name\":\"OURO BRANCO\",\"offsetgroup\":\"OURO BRANCO\",\"orientation\":\"v\",\"showlegend\":true,\"textposition\":\"auto\",\"texttemplate\":\"%{y:.2s}\",\"x\":[\"OURO BRANCO\",\"OURO BRANCO\"],\"xaxis\":\"x\",\"y\":[-27.0,-85.0],\"yaxis\":\"y\",\"type\":\"bar\"},{\"alignmentgroup\":\"True\",\"hovertemplate\":\"Campus=%{x}<br>value=%{y}<extra></extra>\",\"legendgroup\":\"SANTA LUZIA\",\"marker\":{\"color\":\"#000008\",\"pattern\":{\"shape\":\"\"}},\"name\":\"SANTA LUZIA\",\"offsetgroup\":\"SANTA LUZIA\",\"orientation\":\"v\",\"showlegend\":true,\"textposition\":\"auto\",\"texttemplate\":\"%{y:.2s}\",\"x\":[\"SANTA LUZIA\",\"SANTA LUZIA\"],\"xaxis\":\"x\",\"y\":[-8.0,-105.0],\"yaxis\":\"y\",\"type\":\"bar\"},{\"alignmentgroup\":\"True\",\"hovertemplate\":\"Campus=%{x}<br>value=%{y}<extra></extra>\",\"legendgroup\":\"BAMBU\\u00cd\",\"marker\":{\"color\":\"#000009\",\"pattern\":{\"shape\":\"\"}},\"name\":\"BAMBU\\u00cd\",\"offsetgroup\":\"BAMBU\\u00cd\",\"orientation\":\"v\",\"showlegend\":true,\"textposition\":\"auto\",\"texttemplate\":\"%{y:.2s}\",\"x\":[\"BAMBU\\u00cd\",\"BAMBU\\u00cd\"],\"xaxis\":\"x\",\"y\":[3.0,-23.0],\"yaxis\":\"y\",\"type\":\"bar\"},{\"alignmentgroup\":\"True\",\"hovertemplate\":\"Campus=%{x}<br>value=%{y}<extra></extra>\",\"legendgroup\":\"ARCOS\",\"marker\":{\"color\":\"#000010\",\"pattern\":{\"shape\":\"\"}},\"name\":\"ARCOS\",\"offsetgroup\":\"ARCOS\",\"orientation\":\"v\",\"showlegend\":true,\"textposition\":\"auto\",\"texttemplate\":\"%{y:.2s}\",\"x\":[\"ARCOS\",\"ARCOS\"],\"xaxis\":\"x\",\"y\":[4.0,-21.0],\"yaxis\":\"y\",\"type\":\"bar\"},{\"alignmentgroup\":\"True\",\"hovertemplate\":\"Campus=%{x}<br>value=%{y}<extra></extra>\",\"legendgroup\":\"IBIRIT\\u00c9\",\"marker\":{\"color\":\"#000001\",\"pattern\":{\"shape\":\"\"}},\"name\":\"IBIRIT\\u00c9\",\"offsetgroup\":\"IBIRIT\\u00c9\",\"orientation\":\"v\",\"showlegend\":true,\"textposition\":\"auto\",\"texttemplate\":\"%{y:.2s}\",\"x\":[\"IBIRIT\\u00c9\",\"IBIRIT\\u00c9\"],\"xaxis\":\"x\",\"y\":[13.0,-75.0],\"yaxis\":\"y\",\"type\":\"bar\"},{\"alignmentgroup\":\"True\",\"hovertemplate\":\"Campus=%{x}<br>value=%{y}<extra></extra>\",\"legendgroup\":\"ITABIRITO\",\"marker\":{\"color\":\"#000002\",\"pattern\":{\"shape\":\"\"}},\"name\":\"ITABIRITO\",\"offsetgroup\":\"ITABIRITO\",\"orientation\":\"v\",\"showlegend\":true,\"textposition\":\"auto\",\"texttemplate\":\"%{y:.2s}\",\"x\":[\"ITABIRITO\",\"ITABIRITO\"],\"xaxis\":\"x\",\"y\":[24.0,-7.0],\"yaxis\":\"y\",\"type\":\"bar\"},{\"alignmentgroup\":\"True\",\"hovertemplate\":\"Campus=%{x}<br>value=%{y}<extra></extra>\",\"legendgroup\":\"RIBEIR\\u00c3O DAS NEVES\",\"marker\":{\"color\":\"#000003\",\"pattern\":{\"shape\":\"\"}},\"name\":\"RIBEIR\\u00c3O DAS NEVES\",\"offsetgroup\":\"RIBEIR\\u00c3O DAS NEVES\",\"orientation\":\"v\",\"showlegend\":true,\"textposition\":\"auto\",\"texttemplate\":\"%{y:.2s}\",\"x\":[\"RIBEIR\\u00c3O DAS NEVES\",\"RIBEIR\\u00c3O DAS NEVES\"],\"xaxis\":\"x\",\"y\":[30.0,-83.0],\"yaxis\":\"y\",\"type\":\"bar\"},{\"alignmentgroup\":\"True\",\"hovertemplate\":\"Campus=%{x}<br>value=%{y}<extra></extra>\",\"legendgroup\":\"FORMIGA\",\"marker\":{\"color\":\"#000004\",\"pattern\":{\"shape\":\"\"}},\"name\":\"FORMIGA\",\"offsetgroup\":\"FORMIGA\",\"orientation\":\"v\",\"showlegend\":true,\"textposition\":\"auto\",\"texttemplate\":\"%{y:.2s}\",\"x\":[\"FORMIGA\",\"FORMIGA\"],\"xaxis\":\"x\",\"y\":[44.0,15.0],\"yaxis\":\"y\",\"type\":\"bar\"},{\"alignmentgroup\":\"True\",\"hovertemplate\":\"Campus=%{x}<br>value=%{y}<extra></extra>\",\"legendgroup\":\"PONTE NOVA\",\"marker\":{\"color\":\"#000005\",\"pattern\":{\"shape\":\"\"}},\"name\":\"PONTE NOVA\",\"offsetgroup\":\"PONTE NOVA\",\"orientation\":\"v\",\"showlegend\":true,\"textposition\":\"auto\",\"texttemplate\":\"%{y:.2s}\",\"x\":[\"PONTE NOVA\",\"PONTE NOVA\"],\"xaxis\":\"x\",\"y\":[58.0,-53.0],\"yaxis\":\"y\",\"type\":\"bar\"},{\"alignmentgroup\":\"True\",\"hovertemplate\":\"Campus=%{x}<br>value=%{y}<extra></extra>\",\"legendgroup\":\"CONGONHAS\",\"marker\":{\"color\":\"#000006\",\"pattern\":{\"shape\":\"\"}},\"name\":\"CONGONHAS\",\"offsetgroup\":\"CONGONHAS\",\"orientation\":\"v\",\"showlegend\":true,\"textposition\":\"auto\",\"texttemplate\":\"%{y:.2s}\",\"x\":[\"CONGONHAS\",\"CONGONHAS\"],\"xaxis\":\"x\",\"y\":[70.0,-20.0],\"yaxis\":\"y\",\"type\":\"bar\"},{\"alignmentgroup\":\"True\",\"hovertemplate\":\"Campus=%{x}<br>value=%{y}<extra></extra>\",\"legendgroup\":\"S\\u00c3O JO\\u00c3O EVANGELISTA\",\"marker\":{\"color\":\"#000007\",\"pattern\":{\"shape\":\"\"}},\"name\":\"S\\u00c3O JO\\u00c3O EVANGELISTA\",\"offsetgroup\":\"S\\u00c3O JO\\u00c3O EVANGELISTA\",\"orientation\":\"v\",\"showlegend\":true,\"textposition\":\"auto\",\"texttemplate\":\"%{y:.2s}\",\"x\":[\"S\\u00c3O JO\\u00c3O EVANGELISTA\",\"S\\u00c3O JO\\u00c3O EVANGELISTA\"],\"xaxis\":\"x\",\"y\":[111.0,-37.0],\"yaxis\":\"y\",\"type\":\"bar\"},{\"alignmentgroup\":\"True\",\"hovertemplate\":\"Campus=%{x}<br>value=%{y}<extra></extra>\",\"legendgroup\":\"GOVERNADOR VALADARES\",\"marker\":{\"color\":\"#000008\",\"pattern\":{\"shape\":\"\"}},\"name\":\"GOVERNADOR VALADARES\",\"offsetgroup\":\"GOVERNADOR VALADARES\",\"orientation\":\"v\",\"showlegend\":true,\"textposition\":\"auto\",\"texttemplate\":\"%{y:.2s}\",\"x\":[\"GOVERNADOR VALADARES\",\"GOVERNADOR VALADARES\"],\"xaxis\":\"x\",\"y\":[128.0,110.0],\"yaxis\":\"y\",\"type\":\"bar\"}],                        {\"template\":{\"data\":{\"candlestick\":[{\"decreasing\":{\"line\":{\"color\":\"#000033\"}},\"increasing\":{\"line\":{\"color\":\"#000032\"}},\"type\":\"candlestick\"}],\"contourcarpet\":[{\"colorscale\":[[0.0,\"#000011\"],[0.1111111111111111,\"#000012\"],[0.2222222222222222,\"#000013\"],[0.3333333333333333,\"#000014\"],[0.4444444444444444,\"#000015\"],[0.5555555555555556,\"#000016\"],[0.6666666666666666,\"#000017\"],[0.7777777777777778,\"#000018\"],[0.8888888888888888,\"#000019\"],[1.0,\"#000020\"]],\"type\":\"contourcarpet\"}],\"contour\":[{\"colorscale\":[[0.0,\"#000011\"],[0.1111111111111111,\"#000012\"],[0.2222222222222222,\"#000013\"],[0.3333333333333333,\"#000014\"],[0.4444444444444444,\"#000015\"],[0.5555555555555556,\"#000016\"],[0.6666666666666666,\"#000017\"],[0.7777777777777778,\"#000018\"],[0.8888888888888888,\"#000019\"],[1.0,\"#000020\"]],\"type\":\"contour\"}],\"heatmap\":[{\"colorscale\":[[0.0,\"#000011\"],[0.1111111111111111,\"#000012\"],[0.2222222222222222,\"#000013\"],[0.3333333333333333,\"#000014\"],[0.4444444444444444,\"#000015\"],[0.5555555555555556,\"#000016\"],[0.6666666666666666,\"#000017\"],[0.7777777777777778,\"#000018\"],[0.8888888888888888,\"#000019\"],[1.0,\"#000020\"]],\"type\":\"heatmap\"}],\"histogram2d\":[{\"colorscale\":[[0.0,\"#000011\"],[0.1111111111111111,\"#000012\"],[0.2222222222222222,\"#000013\"],[0.3333333333333333,\"#000014\"],[0.4444444444444444,\"#000015\"],[0.5555555555555556,\"#000016\"],[0.6666666666666666,\"#000017\"],[0.7777777777777778,\"#000018\"],[0.8888888888888888,\"#000019\"],[1.0,\"#000020\"]],\"type\":\"histogram2d\"}],\"icicle\":[{\"textfont\":{\"color\":\"white\"},\"type\":\"icicle\"}],\"sankey\":[{\"textfont\":{\"color\":\"#000036\"},\"type\":\"sankey\"}],\"scatter\":[{\"marker\":{\"line\":{\"width\":0}},\"type\":\"scatter\"}],\"table\":[{\"cells\":{\"fill\":{\"color\":\"#000038\"},\"font\":{\"color\":\"#000037\"},\"line\":{\"color\":\"#000039\"}},\"header\":{\"fill\":{\"color\":\"#000040\"},\"font\":{\"color\":\"#000036\"},\"line\":{\"color\":\"#000039\"}},\"type\":\"table\"}],\"waterfall\":[{\"connector\":{\"line\":{\"color\":\"#000036\",\"width\":2}},\"decreasing\":{\"marker\":{\"color\":\"#000033\"}},\"increasing\":{\"marker\":{\"color\":\"#000032\"}},\"totals\":{\"marker\":{\"color\":\"#000034\"}},\"type\":\"waterfall\"}]},\"layout\":{\"coloraxis\":{\"colorscale\":[[0.0,\"#000011\"],[0.1111111111111111,\"#000012\"],[0.2222222222222222,\"#000013\"],[0.3333333333333333,\"#000014\"],[0.4444444444444444,\"#000015\"],[0.5555555555555556,\"#000016\"],[0.6666666666666666,\"#000017\"],[0.7777777777777778,\"#000018\"],[0.8888888888888888,\"#000019\"],[1.0,\"#000020\"]]},\"colorscale\":{\"diverging\":[[0.0,\"#000021\"],[0.1,\"#000022\"],[0.2,\"#000023\"],[0.3,\"#000024\"],[0.4,\"#000025\"],[0.5,\"#000026\"],[0.6,\"#000027\"],[0.7,\"#000028\"],[0.8,\"#000029\"],[0.9,\"#000030\"],[1.0,\"#000031\"]],\"sequential\":[[0.0,\"#000011\"],[0.1111111111111111,\"#000012\"],[0.2222222222222222,\"#000013\"],[0.3333333333333333,\"#000014\"],[0.4444444444444444,\"#000015\"],[0.5555555555555556,\"#000016\"],[0.6666666666666666,\"#000017\"],[0.7777777777777778,\"#000018\"],[0.8888888888888888,\"#000019\"],[1.0,\"#000020\"]],\"sequentialminus\":[[0.0,\"#000011\"],[0.1111111111111111,\"#000012\"],[0.2222222222222222,\"#000013\"],[0.3333333333333333,\"#000014\"],[0.4444444444444444,\"#000015\"],[0.5555555555555556,\"#000016\"],[0.6666666666666666,\"#000017\"],[0.7777777777777778,\"#000018\"],[0.8888888888888888,\"#000019\"],[1.0,\"#000020\"]]},\"colorway\":[\"#000001\",\"#000002\",\"#000003\",\"#000004\",\"#000005\",\"#000006\",\"#000007\",\"#000008\",\"#000009\",\"#000010\"]}},\"xaxis\":{\"anchor\":\"y\",\"domain\":[0.0,1.0],\"title\":{\"text\":\"Campus\"},\"categoryorder\":\"array\",\"categoryarray\":[\"SABAR\\u00c1\",\"OURO PRETO\",\"CONSELHEIRO LAFAIETE\",\"PIUMHI\",\"BETIM\",\"IPATINGA\",\"OURO BRANCO\",\"SANTA LUZIA\",\"BAMBU\\u00cd\",\"ARCOS\",\"IBIRIT\\u00c9\",\"ITABIRITO\",\"RIBEIR\\u00c3O DAS NEVES\",\"FORMIGA\",\"PONTE NOVA\",\"CONGONHAS\",\"S\\u00c3O JO\\u00c3O EVANGELISTA\",\"GOVERNADOR VALADARES\"]},\"yaxis\":{\"anchor\":\"x\",\"domain\":[0.0,1.0],\"title\":{\"text\":\"value\"}},\"legend\":{\"title\":{\"text\":\"Campus\"},\"tracegroupgap\":0},\"margin\":{\"t\":60},\"barmode\":\"relative\"},                        {\"responsive\": true}                    ).then(function(){\n",
       "                            \n",
       "var gd = document.getElementById('8bdd1154-f7c1-429d-b6a8-b5e39f96ed64');\n",
       "var x = new MutationObserver(function (mutations, observer) {{\n",
       "        var display = window.getComputedStyle(gd).display;\n",
       "        if (!display || display === 'none') {{\n",
       "            console.log([gd, 'removed!']);\n",
       "            Plotly.purge(gd);\n",
       "            observer.disconnect();\n",
       "        }}\n",
       "}});\n",
       "\n",
       "// Listen for the removal of the full notebook cells\n",
       "var notebookContainer = gd.closest('#notebook-container');\n",
       "if (notebookContainer) {{\n",
       "    x.observe(notebookContainer, {childList: true});\n",
       "}}\n",
       "\n",
       "// Listen for the clearing of the current output cell\n",
       "var outputEl = gd.closest('.output');\n",
       "if (outputEl) {{\n",
       "    x.observe(outputEl, {childList: true});\n",
       "}}\n",
       "\n",
       "                        })                };                });            </script>        </div>"
      ]
     },
     "metadata": {},
     "output_type": "display_data"
    }
   ],
   "source": [
    "fig5 = px.bar(dffg1, x=\"Campus\", y=[\"diff_Inscritos\",\"diff_Homologadas\"], color=\"Campus\", text_auto='.2s')\n",
    "fig5.show()"
   ]
  },
  {
   "cell_type": "code",
   "execution_count": 231,
   "id": "55926faa",
   "metadata": {},
   "outputs": [
    {
     "data": {
      "text/html": [
       "<div>\n",
       "<style scoped>\n",
       "    .dataframe tbody tr th:only-of-type {\n",
       "        vertical-align: middle;\n",
       "    }\n",
       "\n",
       "    .dataframe tbody tr th {\n",
       "        vertical-align: top;\n",
       "    }\n",
       "\n",
       "    .dataframe thead th {\n",
       "        text-align: right;\n",
       "    }\n",
       "</style>\n",
       "<table border=\"1\" class=\"dataframe\">\n",
       "  <thead>\n",
       "    <tr style=\"text-align: right;\">\n",
       "      <th></th>\n",
       "      <th>Curso</th>\n",
       "      <th>diff_Inscritos</th>\n",
       "      <th>diff_Homologadas</th>\n",
       "    </tr>\n",
       "  </thead>\n",
       "  <tbody>\n",
       "    <tr>\n",
       "      <th>10</th>\n",
       "      <td>INFORMÁTICA</td>\n",
       "      <td>-278.0</td>\n",
       "      <td>-468.0</td>\n",
       "    </tr>\n",
       "    <tr>\n",
       "      <th>19</th>\n",
       "      <td>SEGURANÇA DO TRABALHO</td>\n",
       "      <td>-256.0</td>\n",
       "      <td>-196.0</td>\n",
       "    </tr>\n",
       "    <tr>\n",
       "      <th>8</th>\n",
       "      <td>ELETROTÉCNICA</td>\n",
       "      <td>-131.0</td>\n",
       "      <td>-161.0</td>\n",
       "    </tr>\n",
       "    <tr>\n",
       "      <th>11</th>\n",
       "      <td>MECATRÔNICA</td>\n",
       "      <td>-88.0</td>\n",
       "      <td>-98.0</td>\n",
       "    </tr>\n",
       "    <tr>\n",
       "      <th>13</th>\n",
       "      <td>MEIO AMBIENTE</td>\n",
       "      <td>-65.0</td>\n",
       "      <td>-56.0</td>\n",
       "    </tr>\n",
       "    <tr>\n",
       "      <th>20</th>\n",
       "      <td>SISTEMAS DE ENERGIA RENOVÁVEL</td>\n",
       "      <td>-36.0</td>\n",
       "      <td>-51.0</td>\n",
       "    </tr>\n",
       "    <tr>\n",
       "      <th>14</th>\n",
       "      <td>METALURGIA</td>\n",
       "      <td>-30.0</td>\n",
       "      <td>-40.0</td>\n",
       "    </tr>\n",
       "    <tr>\n",
       "      <th>3</th>\n",
       "      <td>AUTOMAÇÃO INDUSTRIAL</td>\n",
       "      <td>-26.0</td>\n",
       "      <td>-282.0</td>\n",
       "    </tr>\n",
       "    <tr>\n",
       "      <th>17</th>\n",
       "      <td>PAISAGISMO</td>\n",
       "      <td>-23.0</td>\n",
       "      <td>-26.0</td>\n",
       "    </tr>\n",
       "    <tr>\n",
       "      <th>15</th>\n",
       "      <td>MINERAÇÃO</td>\n",
       "      <td>-20.0</td>\n",
       "      <td>-91.0</td>\n",
       "    </tr>\n",
       "    <tr>\n",
       "      <th>18</th>\n",
       "      <td>QUÍMICA</td>\n",
       "      <td>-17.0</td>\n",
       "      <td>-155.0</td>\n",
       "    </tr>\n",
       "    <tr>\n",
       "      <th>1</th>\n",
       "      <td>AGRIMENSURA</td>\n",
       "      <td>-7.0</td>\n",
       "      <td>-11.0</td>\n",
       "    </tr>\n",
       "    <tr>\n",
       "      <th>12</th>\n",
       "      <td>MECÂNICA</td>\n",
       "      <td>-6.0</td>\n",
       "      <td>-143.0</td>\n",
       "    </tr>\n",
       "    <tr>\n",
       "      <th>4</th>\n",
       "      <td>BIOTECNOLOGIA</td>\n",
       "      <td>-5.0</td>\n",
       "      <td>-2.0</td>\n",
       "    </tr>\n",
       "    <tr>\n",
       "      <th>6</th>\n",
       "      <td>ELETROELETRÔNICA</td>\n",
       "      <td>9.0</td>\n",
       "      <td>1.0</td>\n",
       "    </tr>\n",
       "    <tr>\n",
       "      <th>7</th>\n",
       "      <td>ELETROMECÂNICA</td>\n",
       "      <td>10.0</td>\n",
       "      <td>3.0</td>\n",
       "    </tr>\n",
       "    <tr>\n",
       "      <th>0</th>\n",
       "      <td>ADMINISTRAÇÃO</td>\n",
       "      <td>10.0</td>\n",
       "      <td>-163.0</td>\n",
       "    </tr>\n",
       "    <tr>\n",
       "      <th>9</th>\n",
       "      <td>ELETRÔNICA</td>\n",
       "      <td>26.0</td>\n",
       "      <td>-7.0</td>\n",
       "    </tr>\n",
       "    <tr>\n",
       "      <th>16</th>\n",
       "      <td>NUTRIÇÃO E DIETÉTICA</td>\n",
       "      <td>53.0</td>\n",
       "      <td>-17.0</td>\n",
       "    </tr>\n",
       "    <tr>\n",
       "      <th>5</th>\n",
       "      <td>EDIFICAÇÕES</td>\n",
       "      <td>96.0</td>\n",
       "      <td>-65.0</td>\n",
       "    </tr>\n",
       "    <tr>\n",
       "      <th>2</th>\n",
       "      <td>AGROPECUÁRIA</td>\n",
       "      <td>97.0</td>\n",
       "      <td>36.0</td>\n",
       "    </tr>\n",
       "  </tbody>\n",
       "</table>\n",
       "</div>"
      ],
      "text/plain": [
       "                            Curso  diff_Inscritos  diff_Homologadas\n",
       "10                    INFORMÁTICA          -278.0            -468.0\n",
       "19          SEGURANÇA DO TRABALHO          -256.0            -196.0\n",
       "8                   ELETROTÉCNICA          -131.0            -161.0\n",
       "11                    MECATRÔNICA           -88.0             -98.0\n",
       "13                  MEIO AMBIENTE           -65.0             -56.0\n",
       "20  SISTEMAS DE ENERGIA RENOVÁVEL           -36.0             -51.0\n",
       "14                     METALURGIA           -30.0             -40.0\n",
       "3            AUTOMAÇÃO INDUSTRIAL           -26.0            -282.0\n",
       "17                     PAISAGISMO           -23.0             -26.0\n",
       "15                      MINERAÇÃO           -20.0             -91.0\n",
       "18                        QUÍMICA           -17.0            -155.0\n",
       "1                     AGRIMENSURA            -7.0             -11.0\n",
       "12                       MECÂNICA            -6.0            -143.0\n",
       "4                   BIOTECNOLOGIA            -5.0              -2.0\n",
       "6                ELETROELETRÔNICA             9.0               1.0\n",
       "7                  ELETROMECÂNICA            10.0               3.0\n",
       "0                   ADMINISTRAÇÃO            10.0            -163.0\n",
       "9                      ELETRÔNICA            26.0              -7.0\n",
       "16           NUTRIÇÃO E DIETÉTICA            53.0             -17.0\n",
       "5                     EDIFICAÇÕES            96.0             -65.0\n",
       "2                    AGROPECUÁRIA            97.0              36.0"
      ]
     },
     "execution_count": 231,
     "metadata": {},
     "output_type": "execute_result"
    }
   ],
   "source": [
    "dffg2 = dff.groupby(\"Curso\")[[\"diff_Inscritos\",\"diff_Homologadas\"]].sum().reset_index().sort_values(by='diff_Inscritos', ascending=True)\n",
    "dffg2"
   ]
  },
  {
   "cell_type": "code",
   "execution_count": 232,
   "id": "e97db3b7",
   "metadata": {},
   "outputs": [
    {
     "data": {
      "text/html": [
       "<div>\n",
       "<style scoped>\n",
       "    .dataframe tbody tr th:only-of-type {\n",
       "        vertical-align: middle;\n",
       "    }\n",
       "\n",
       "    .dataframe tbody tr th {\n",
       "        vertical-align: top;\n",
       "    }\n",
       "\n",
       "    .dataframe thead th {\n",
       "        text-align: right;\n",
       "    }\n",
       "</style>\n",
       "<table border=\"1\" class=\"dataframe\">\n",
       "  <thead>\n",
       "    <tr style=\"text-align: right;\">\n",
       "      <th></th>\n",
       "      <th>Curso</th>\n",
       "      <th>Campus</th>\n",
       "      <th>Tipo de Vaga</th>\n",
       "      <th>Turno</th>\n",
       "      <th>Nivel</th>\n",
       "      <th>2023</th>\n",
       "      <th>2024</th>\n",
       "      <th>diff_Inscritos</th>\n",
       "      <th>diff_Homologadas</th>\n",
       "    </tr>\n",
       "  </thead>\n",
       "  <tbody>\n",
       "    <tr>\n",
       "      <th>5</th>\n",
       "      <td>ADMINISTRAÇÃO</td>\n",
       "      <td>PONTE NOVA</td>\n",
       "      <td>Curso Técnico Integrado</td>\n",
       "      <td>Turno: Integral</td>\n",
       "      <td>Fundamental</td>\n",
       "      <td>265</td>\n",
       "      <td>470</td>\n",
       "      <td>205.0</td>\n",
       "      <td>121.0</td>\n",
       "    </tr>\n",
       "    <tr>\n",
       "      <th>30</th>\n",
       "      <td>INFORMÁTICA</td>\n",
       "      <td>PONTE NOVA</td>\n",
       "      <td>Curso Técnico Integrado</td>\n",
       "      <td>Turno: Integral</td>\n",
       "      <td>Fundamental</td>\n",
       "      <td>438</td>\n",
       "      <td>291</td>\n",
       "      <td>-147.0</td>\n",
       "      <td>-174.0</td>\n",
       "    </tr>\n",
       "  </tbody>\n",
       "</table>\n",
       "</div>"
      ],
      "text/plain": [
       "            Curso      Campus             Tipo de Vaga             Turno  \\\n",
       "5   ADMINISTRAÇÃO  PONTE NOVA  Curso Técnico Integrado   Turno: Integral   \n",
       "30    INFORMÁTICA  PONTE NOVA  Curso Técnico Integrado   Turno: Integral   \n",
       "\n",
       "          Nivel  2023  2024  diff_Inscritos  diff_Homologadas  \n",
       "5   Fundamental   265   470           205.0             121.0  \n",
       "30  Fundamental   438   291          -147.0            -174.0  "
      ]
     },
     "execution_count": 232,
     "metadata": {},
     "output_type": "execute_result"
    }
   ],
   "source": [
    "dff[ dff.Campus == \"PONTE NOVA\" ]"
   ]
  },
  {
   "cell_type": "code",
   "execution_count": 233,
   "id": "79e743b4",
   "metadata": {},
   "outputs": [
    {
     "data": {
      "application/vnd.plotly.v1+json": {
       "config": {
        "plotlyServerURL": "https://plot.ly"
       },
       "data": [
        {
         "alignmentgroup": "True",
         "hovertemplate": "Curso=%{x}<br>value=%{y}<extra></extra>",
         "legendgroup": "INFORMÁTICA",
         "marker": {
          "color": "#000001",
          "pattern": {
           "shape": ""
          }
         },
         "name": "INFORMÁTICA",
         "offsetgroup": "INFORMÁTICA",
         "orientation": "v",
         "showlegend": true,
         "textposition": "auto",
         "texttemplate": "%{y:.2s}",
         "type": "bar",
         "x": [
          "INFORMÁTICA"
         ],
         "xaxis": "x",
         "y": [
          -278
         ],
         "yaxis": "y"
        },
        {
         "alignmentgroup": "True",
         "hovertemplate": "Curso=%{x}<br>value=%{y}<extra></extra>",
         "legendgroup": "SEGURANÇA DO TRABALHO",
         "marker": {
          "color": "#000002",
          "pattern": {
           "shape": ""
          }
         },
         "name": "SEGURANÇA DO TRABALHO",
         "offsetgroup": "SEGURANÇA DO TRABALHO",
         "orientation": "v",
         "showlegend": true,
         "textposition": "auto",
         "texttemplate": "%{y:.2s}",
         "type": "bar",
         "x": [
          "SEGURANÇA DO TRABALHO"
         ],
         "xaxis": "x",
         "y": [
          -256
         ],
         "yaxis": "y"
        },
        {
         "alignmentgroup": "True",
         "hovertemplate": "Curso=%{x}<br>value=%{y}<extra></extra>",
         "legendgroup": "ELETROTÉCNICA",
         "marker": {
          "color": "#000003",
          "pattern": {
           "shape": ""
          }
         },
         "name": "ELETROTÉCNICA",
         "offsetgroup": "ELETROTÉCNICA",
         "orientation": "v",
         "showlegend": true,
         "textposition": "auto",
         "texttemplate": "%{y:.2s}",
         "type": "bar",
         "x": [
          "ELETROTÉCNICA"
         ],
         "xaxis": "x",
         "y": [
          -131
         ],
         "yaxis": "y"
        },
        {
         "alignmentgroup": "True",
         "hovertemplate": "Curso=%{x}<br>value=%{y}<extra></extra>",
         "legendgroup": "MECATRÔNICA",
         "marker": {
          "color": "#000004",
          "pattern": {
           "shape": ""
          }
         },
         "name": "MECATRÔNICA",
         "offsetgroup": "MECATRÔNICA",
         "orientation": "v",
         "showlegend": true,
         "textposition": "auto",
         "texttemplate": "%{y:.2s}",
         "type": "bar",
         "x": [
          "MECATRÔNICA"
         ],
         "xaxis": "x",
         "y": [
          -88
         ],
         "yaxis": "y"
        },
        {
         "alignmentgroup": "True",
         "hovertemplate": "Curso=%{x}<br>value=%{y}<extra></extra>",
         "legendgroup": "MEIO AMBIENTE",
         "marker": {
          "color": "#000005",
          "pattern": {
           "shape": ""
          }
         },
         "name": "MEIO AMBIENTE",
         "offsetgroup": "MEIO AMBIENTE",
         "orientation": "v",
         "showlegend": true,
         "textposition": "auto",
         "texttemplate": "%{y:.2s}",
         "type": "bar",
         "x": [
          "MEIO AMBIENTE"
         ],
         "xaxis": "x",
         "y": [
          -65
         ],
         "yaxis": "y"
        },
        {
         "alignmentgroup": "True",
         "hovertemplate": "Curso=%{x}<br>value=%{y}<extra></extra>",
         "legendgroup": "SISTEMAS DE ENERGIA RENOVÁVEL",
         "marker": {
          "color": "#000006",
          "pattern": {
           "shape": ""
          }
         },
         "name": "SISTEMAS DE ENERGIA RENOVÁVEL",
         "offsetgroup": "SISTEMAS DE ENERGIA RENOVÁVEL",
         "orientation": "v",
         "showlegend": true,
         "textposition": "auto",
         "texttemplate": "%{y:.2s}",
         "type": "bar",
         "x": [
          "SISTEMAS DE ENERGIA RENOVÁVEL"
         ],
         "xaxis": "x",
         "y": [
          -36
         ],
         "yaxis": "y"
        },
        {
         "alignmentgroup": "True",
         "hovertemplate": "Curso=%{x}<br>value=%{y}<extra></extra>",
         "legendgroup": "METALURGIA",
         "marker": {
          "color": "#000007",
          "pattern": {
           "shape": ""
          }
         },
         "name": "METALURGIA",
         "offsetgroup": "METALURGIA",
         "orientation": "v",
         "showlegend": true,
         "textposition": "auto",
         "texttemplate": "%{y:.2s}",
         "type": "bar",
         "x": [
          "METALURGIA"
         ],
         "xaxis": "x",
         "y": [
          -30
         ],
         "yaxis": "y"
        },
        {
         "alignmentgroup": "True",
         "hovertemplate": "Curso=%{x}<br>value=%{y}<extra></extra>",
         "legendgroup": "AUTOMAÇÃO INDUSTRIAL",
         "marker": {
          "color": "#000008",
          "pattern": {
           "shape": ""
          }
         },
         "name": "AUTOMAÇÃO INDUSTRIAL",
         "offsetgroup": "AUTOMAÇÃO INDUSTRIAL",
         "orientation": "v",
         "showlegend": true,
         "textposition": "auto",
         "texttemplate": "%{y:.2s}",
         "type": "bar",
         "x": [
          "AUTOMAÇÃO INDUSTRIAL"
         ],
         "xaxis": "x",
         "y": [
          -26
         ],
         "yaxis": "y"
        },
        {
         "alignmentgroup": "True",
         "hovertemplate": "Curso=%{x}<br>value=%{y}<extra></extra>",
         "legendgroup": "PAISAGISMO",
         "marker": {
          "color": "#000009",
          "pattern": {
           "shape": ""
          }
         },
         "name": "PAISAGISMO",
         "offsetgroup": "PAISAGISMO",
         "orientation": "v",
         "showlegend": true,
         "textposition": "auto",
         "texttemplate": "%{y:.2s}",
         "type": "bar",
         "x": [
          "PAISAGISMO"
         ],
         "xaxis": "x",
         "y": [
          -23
         ],
         "yaxis": "y"
        },
        {
         "alignmentgroup": "True",
         "hovertemplate": "Curso=%{x}<br>value=%{y}<extra></extra>",
         "legendgroup": "MINERAÇÃO",
         "marker": {
          "color": "#000010",
          "pattern": {
           "shape": ""
          }
         },
         "name": "MINERAÇÃO",
         "offsetgroup": "MINERAÇÃO",
         "orientation": "v",
         "showlegend": true,
         "textposition": "auto",
         "texttemplate": "%{y:.2s}",
         "type": "bar",
         "x": [
          "MINERAÇÃO"
         ],
         "xaxis": "x",
         "y": [
          -20
         ],
         "yaxis": "y"
        },
        {
         "alignmentgroup": "True",
         "hovertemplate": "Curso=%{x}<br>value=%{y}<extra></extra>",
         "legendgroup": "QUÍMICA",
         "marker": {
          "color": "#000001",
          "pattern": {
           "shape": ""
          }
         },
         "name": "QUÍMICA",
         "offsetgroup": "QUÍMICA",
         "orientation": "v",
         "showlegend": true,
         "textposition": "auto",
         "texttemplate": "%{y:.2s}",
         "type": "bar",
         "x": [
          "QUÍMICA"
         ],
         "xaxis": "x",
         "y": [
          -17
         ],
         "yaxis": "y"
        },
        {
         "alignmentgroup": "True",
         "hovertemplate": "Curso=%{x}<br>value=%{y}<extra></extra>",
         "legendgroup": "AGRIMENSURA",
         "marker": {
          "color": "#000002",
          "pattern": {
           "shape": ""
          }
         },
         "name": "AGRIMENSURA",
         "offsetgroup": "AGRIMENSURA",
         "orientation": "v",
         "showlegend": true,
         "textposition": "auto",
         "texttemplate": "%{y:.2s}",
         "type": "bar",
         "x": [
          "AGRIMENSURA"
         ],
         "xaxis": "x",
         "y": [
          -7
         ],
         "yaxis": "y"
        },
        {
         "alignmentgroup": "True",
         "hovertemplate": "Curso=%{x}<br>value=%{y}<extra></extra>",
         "legendgroup": "MECÂNICA",
         "marker": {
          "color": "#000003",
          "pattern": {
           "shape": ""
          }
         },
         "name": "MECÂNICA",
         "offsetgroup": "MECÂNICA",
         "orientation": "v",
         "showlegend": true,
         "textposition": "auto",
         "texttemplate": "%{y:.2s}",
         "type": "bar",
         "x": [
          "MECÂNICA"
         ],
         "xaxis": "x",
         "y": [
          -6
         ],
         "yaxis": "y"
        },
        {
         "alignmentgroup": "True",
         "hovertemplate": "Curso=%{x}<br>value=%{y}<extra></extra>",
         "legendgroup": "BIOTECNOLOGIA",
         "marker": {
          "color": "#000004",
          "pattern": {
           "shape": ""
          }
         },
         "name": "BIOTECNOLOGIA",
         "offsetgroup": "BIOTECNOLOGIA",
         "orientation": "v",
         "showlegend": true,
         "textposition": "auto",
         "texttemplate": "%{y:.2s}",
         "type": "bar",
         "x": [
          "BIOTECNOLOGIA"
         ],
         "xaxis": "x",
         "y": [
          -5
         ],
         "yaxis": "y"
        },
        {
         "alignmentgroup": "True",
         "hovertemplate": "Curso=%{x}<br>value=%{y}<extra></extra>",
         "legendgroup": "ELETROELETRÔNICA",
         "marker": {
          "color": "#000005",
          "pattern": {
           "shape": ""
          }
         },
         "name": "ELETROELETRÔNICA",
         "offsetgroup": "ELETROELETRÔNICA",
         "orientation": "v",
         "showlegend": true,
         "textposition": "auto",
         "texttemplate": "%{y:.2s}",
         "type": "bar",
         "x": [
          "ELETROELETRÔNICA"
         ],
         "xaxis": "x",
         "y": [
          9
         ],
         "yaxis": "y"
        },
        {
         "alignmentgroup": "True",
         "hovertemplate": "Curso=%{x}<br>value=%{y}<extra></extra>",
         "legendgroup": "ELETROMECÂNICA",
         "marker": {
          "color": "#000006",
          "pattern": {
           "shape": ""
          }
         },
         "name": "ELETROMECÂNICA",
         "offsetgroup": "ELETROMECÂNICA",
         "orientation": "v",
         "showlegend": true,
         "textposition": "auto",
         "texttemplate": "%{y:.2s}",
         "type": "bar",
         "x": [
          "ELETROMECÂNICA"
         ],
         "xaxis": "x",
         "y": [
          10
         ],
         "yaxis": "y"
        },
        {
         "alignmentgroup": "True",
         "hovertemplate": "Curso=%{x}<br>value=%{y}<extra></extra>",
         "legendgroup": "ADMINISTRAÇÃO",
         "marker": {
          "color": "#000007",
          "pattern": {
           "shape": ""
          }
         },
         "name": "ADMINISTRAÇÃO",
         "offsetgroup": "ADMINISTRAÇÃO",
         "orientation": "v",
         "showlegend": true,
         "textposition": "auto",
         "texttemplate": "%{y:.2s}",
         "type": "bar",
         "x": [
          "ADMINISTRAÇÃO"
         ],
         "xaxis": "x",
         "y": [
          10
         ],
         "yaxis": "y"
        },
        {
         "alignmentgroup": "True",
         "hovertemplate": "Curso=%{x}<br>value=%{y}<extra></extra>",
         "legendgroup": "ELETRÔNICA",
         "marker": {
          "color": "#000008",
          "pattern": {
           "shape": ""
          }
         },
         "name": "ELETRÔNICA",
         "offsetgroup": "ELETRÔNICA",
         "orientation": "v",
         "showlegend": true,
         "textposition": "auto",
         "texttemplate": "%{y:.2s}",
         "type": "bar",
         "x": [
          "ELETRÔNICA"
         ],
         "xaxis": "x",
         "y": [
          26
         ],
         "yaxis": "y"
        },
        {
         "alignmentgroup": "True",
         "hovertemplate": "Curso=%{x}<br>value=%{y}<extra></extra>",
         "legendgroup": "NUTRIÇÃO E DIETÉTICA",
         "marker": {
          "color": "#000009",
          "pattern": {
           "shape": ""
          }
         },
         "name": "NUTRIÇÃO E DIETÉTICA",
         "offsetgroup": "NUTRIÇÃO E DIETÉTICA",
         "orientation": "v",
         "showlegend": true,
         "textposition": "auto",
         "texttemplate": "%{y:.2s}",
         "type": "bar",
         "x": [
          "NUTRIÇÃO E DIETÉTICA"
         ],
         "xaxis": "x",
         "y": [
          53
         ],
         "yaxis": "y"
        },
        {
         "alignmentgroup": "True",
         "hovertemplate": "Curso=%{x}<br>value=%{y}<extra></extra>",
         "legendgroup": "EDIFICAÇÕES",
         "marker": {
          "color": "#000010",
          "pattern": {
           "shape": ""
          }
         },
         "name": "EDIFICAÇÕES",
         "offsetgroup": "EDIFICAÇÕES",
         "orientation": "v",
         "showlegend": true,
         "textposition": "auto",
         "texttemplate": "%{y:.2s}",
         "type": "bar",
         "x": [
          "EDIFICAÇÕES"
         ],
         "xaxis": "x",
         "y": [
          96
         ],
         "yaxis": "y"
        },
        {
         "alignmentgroup": "True",
         "hovertemplate": "Curso=%{x}<br>value=%{y}<extra></extra>",
         "legendgroup": "AGROPECUÁRIA",
         "marker": {
          "color": "#000001",
          "pattern": {
           "shape": ""
          }
         },
         "name": "AGROPECUÁRIA",
         "offsetgroup": "AGROPECUÁRIA",
         "orientation": "v",
         "showlegend": true,
         "textposition": "auto",
         "texttemplate": "%{y:.2s}",
         "type": "bar",
         "x": [
          "AGROPECUÁRIA"
         ],
         "xaxis": "x",
         "y": [
          97
         ],
         "yaxis": "y"
        }
       ],
       "layout": {
        "autosize": true,
        "barmode": "relative",
        "legend": {
         "title": {
          "text": "Curso"
         },
         "tracegroupgap": 0
        },
        "margin": {
         "t": 60
        },
        "template": {
         "data": {
          "candlestick": [
           {
            "decreasing": {
             "line": {
              "color": "#000033"
             }
            },
            "increasing": {
             "line": {
              "color": "#000032"
             }
            },
            "type": "candlestick"
           }
          ],
          "contour": [
           {
            "colorscale": [
             [
              0,
              "#000011"
             ],
             [
              0.1111111111111111,
              "#000012"
             ],
             [
              0.2222222222222222,
              "#000013"
             ],
             [
              0.3333333333333333,
              "#000014"
             ],
             [
              0.4444444444444444,
              "#000015"
             ],
             [
              0.5555555555555556,
              "#000016"
             ],
             [
              0.6666666666666666,
              "#000017"
             ],
             [
              0.7777777777777778,
              "#000018"
             ],
             [
              0.8888888888888888,
              "#000019"
             ],
             [
              1,
              "#000020"
             ]
            ],
            "type": "contour"
           }
          ],
          "contourcarpet": [
           {
            "colorscale": [
             [
              0,
              "#000011"
             ],
             [
              0.1111111111111111,
              "#000012"
             ],
             [
              0.2222222222222222,
              "#000013"
             ],
             [
              0.3333333333333333,
              "#000014"
             ],
             [
              0.4444444444444444,
              "#000015"
             ],
             [
              0.5555555555555556,
              "#000016"
             ],
             [
              0.6666666666666666,
              "#000017"
             ],
             [
              0.7777777777777778,
              "#000018"
             ],
             [
              0.8888888888888888,
              "#000019"
             ],
             [
              1,
              "#000020"
             ]
            ],
            "type": "contourcarpet"
           }
          ],
          "heatmap": [
           {
            "colorscale": [
             [
              0,
              "#000011"
             ],
             [
              0.1111111111111111,
              "#000012"
             ],
             [
              0.2222222222222222,
              "#000013"
             ],
             [
              0.3333333333333333,
              "#000014"
             ],
             [
              0.4444444444444444,
              "#000015"
             ],
             [
              0.5555555555555556,
              "#000016"
             ],
             [
              0.6666666666666666,
              "#000017"
             ],
             [
              0.7777777777777778,
              "#000018"
             ],
             [
              0.8888888888888888,
              "#000019"
             ],
             [
              1,
              "#000020"
             ]
            ],
            "type": "heatmap"
           }
          ],
          "histogram2d": [
           {
            "colorscale": [
             [
              0,
              "#000011"
             ],
             [
              0.1111111111111111,
              "#000012"
             ],
             [
              0.2222222222222222,
              "#000013"
             ],
             [
              0.3333333333333333,
              "#000014"
             ],
             [
              0.4444444444444444,
              "#000015"
             ],
             [
              0.5555555555555556,
              "#000016"
             ],
             [
              0.6666666666666666,
              "#000017"
             ],
             [
              0.7777777777777778,
              "#000018"
             ],
             [
              0.8888888888888888,
              "#000019"
             ],
             [
              1,
              "#000020"
             ]
            ],
            "type": "histogram2d"
           }
          ],
          "icicle": [
           {
            "textfont": {
             "color": "white"
            },
            "type": "icicle"
           }
          ],
          "sankey": [
           {
            "textfont": {
             "color": "#000036"
            },
            "type": "sankey"
           }
          ],
          "scatter": [
           {
            "marker": {
             "line": {
              "width": 0
             }
            },
            "type": "scatter"
           }
          ],
          "table": [
           {
            "cells": {
             "fill": {
              "color": "#000038"
             },
             "font": {
              "color": "#000037"
             },
             "line": {
              "color": "#000039"
             }
            },
            "header": {
             "fill": {
              "color": "#000040"
             },
             "font": {
              "color": "#000036"
             },
             "line": {
              "color": "#000039"
             }
            },
            "type": "table"
           }
          ],
          "waterfall": [
           {
            "connector": {
             "line": {
              "color": "#000036",
              "width": 2
             }
            },
            "decreasing": {
             "marker": {
              "color": "#000033"
             }
            },
            "increasing": {
             "marker": {
              "color": "#000032"
             }
            },
            "totals": {
             "marker": {
              "color": "#000034"
             }
            },
            "type": "waterfall"
           }
          ]
         },
         "layout": {
          "coloraxis": {
           "colorscale": [
            [
             0,
             "#000011"
            ],
            [
             0.1111111111111111,
             "#000012"
            ],
            [
             0.2222222222222222,
             "#000013"
            ],
            [
             0.3333333333333333,
             "#000014"
            ],
            [
             0.4444444444444444,
             "#000015"
            ],
            [
             0.5555555555555556,
             "#000016"
            ],
            [
             0.6666666666666666,
             "#000017"
            ],
            [
             0.7777777777777778,
             "#000018"
            ],
            [
             0.8888888888888888,
             "#000019"
            ],
            [
             1,
             "#000020"
            ]
           ]
          },
          "colorscale": {
           "diverging": [
            [
             0,
             "#000021"
            ],
            [
             0.1,
             "#000022"
            ],
            [
             0.2,
             "#000023"
            ],
            [
             0.3,
             "#000024"
            ],
            [
             0.4,
             "#000025"
            ],
            [
             0.5,
             "#000026"
            ],
            [
             0.6,
             "#000027"
            ],
            [
             0.7,
             "#000028"
            ],
            [
             0.8,
             "#000029"
            ],
            [
             0.9,
             "#000030"
            ],
            [
             1,
             "#000031"
            ]
           ],
           "sequential": [
            [
             0,
             "#000011"
            ],
            [
             0.1111111111111111,
             "#000012"
            ],
            [
             0.2222222222222222,
             "#000013"
            ],
            [
             0.3333333333333333,
             "#000014"
            ],
            [
             0.4444444444444444,
             "#000015"
            ],
            [
             0.5555555555555556,
             "#000016"
            ],
            [
             0.6666666666666666,
             "#000017"
            ],
            [
             0.7777777777777778,
             "#000018"
            ],
            [
             0.8888888888888888,
             "#000019"
            ],
            [
             1,
             "#000020"
            ]
           ],
           "sequentialminus": [
            [
             0,
             "#000011"
            ],
            [
             0.1111111111111111,
             "#000012"
            ],
            [
             0.2222222222222222,
             "#000013"
            ],
            [
             0.3333333333333333,
             "#000014"
            ],
            [
             0.4444444444444444,
             "#000015"
            ],
            [
             0.5555555555555556,
             "#000016"
            ],
            [
             0.6666666666666666,
             "#000017"
            ],
            [
             0.7777777777777778,
             "#000018"
            ],
            [
             0.8888888888888888,
             "#000019"
            ],
            [
             1,
             "#000020"
            ]
           ]
          },
          "colorway": [
           "#000001",
           "#000002",
           "#000003",
           "#000004",
           "#000005",
           "#000006",
           "#000007",
           "#000008",
           "#000009",
           "#000010"
          ]
         }
        },
        "xaxis": {
         "anchor": "y",
         "autorange": true,
         "categoryarray": [
          "INFORMÁTICA",
          "SEGURANÇA DO TRABALHO",
          "ELETROTÉCNICA",
          "MECATRÔNICA",
          "MEIO AMBIENTE",
          "SISTEMAS DE ENERGIA RENOVÁVEL",
          "METALURGIA",
          "AUTOMAÇÃO INDUSTRIAL",
          "PAISAGISMO",
          "MINERAÇÃO",
          "QUÍMICA",
          "AGRIMENSURA",
          "MECÂNICA",
          "BIOTECNOLOGIA",
          "ELETROELETRÔNICA",
          "ELETROMECÂNICA",
          "ADMINISTRAÇÃO",
          "ELETRÔNICA",
          "NUTRIÇÃO E DIETÉTICA",
          "EDIFICAÇÕES",
          "AGROPECUÁRIA"
         ],
         "categoryorder": "array",
         "domain": [
          0,
          1
         ],
         "range": [
          -0.5,
          20.5
         ],
         "title": {
          "text": "Curso"
         },
         "type": "category"
        },
        "yaxis": {
         "anchor": "x",
         "autorange": true,
         "domain": [
          0,
          1
         ],
         "range": [
          -298.8333333333333,
          117.83333333333334
         ],
         "title": {
          "text": "value"
         },
         "type": "linear"
        }
       }
      },
      "image/png": "[encoded data removed]",
      "text/html": [
       "<div>                            <div id=\"db8f5a12-cb64-42d6-9aa1-a672cbbe4804\" class=\"plotly-graph-div\" style=\"height:525px; width:100%;\"></div>            <script type=\"text/javascript\">                require([\"plotly\"], function(Plotly) {                    window.PLOTLYENV=window.PLOTLYENV || {};                                    if (document.getElementById(\"db8f5a12-cb64-42d6-9aa1-a672cbbe4804\")) {                    Plotly.newPlot(                        \"db8f5a12-cb64-42d6-9aa1-a672cbbe4804\",                        [{\"alignmentgroup\":\"True\",\"hovertemplate\":\"Curso=%{x}<br>value=%{y}<extra></extra>\",\"legendgroup\":\"INFORM\\u00c1TICA\",\"marker\":{\"color\":\"#000001\",\"pattern\":{\"shape\":\"\"}},\"name\":\"INFORM\\u00c1TICA\",\"offsetgroup\":\"INFORM\\u00c1TICA\",\"orientation\":\"v\",\"showlegend\":true,\"textposition\":\"auto\",\"texttemplate\":\"%{y:.2s}\",\"x\":[\"INFORM\\u00c1TICA\"],\"xaxis\":\"x\",\"y\":[-278.0],\"yaxis\":\"y\",\"type\":\"bar\"},{\"alignmentgroup\":\"True\",\"hovertemplate\":\"Curso=%{x}<br>value=%{y}<extra></extra>\",\"legendgroup\":\"SEGURAN\\u00c7A DO TRABALHO\",\"marker\":{\"color\":\"#000002\",\"pattern\":{\"shape\":\"\"}},\"name\":\"SEGURAN\\u00c7A DO TRABALHO\",\"offsetgroup\":\"SEGURAN\\u00c7A DO TRABALHO\",\"orientation\":\"v\",\"showlegend\":true,\"textposition\":\"auto\",\"texttemplate\":\"%{y:.2s}\",\"x\":[\"SEGURAN\\u00c7A DO TRABALHO\"],\"xaxis\":\"x\",\"y\":[-256.0],\"yaxis\":\"y\",\"type\":\"bar\"},{\"alignmentgroup\":\"True\",\"hovertemplate\":\"Curso=%{x}<br>value=%{y}<extra></extra>\",\"legendgroup\":\"ELETROT\\u00c9CNICA\",\"marker\":{\"color\":\"#000003\",\"pattern\":{\"shape\":\"\"}},\"name\":\"ELETROT\\u00c9CNICA\",\"offsetgroup\":\"ELETROT\\u00c9CNICA\",\"orientation\":\"v\",\"showlegend\":true,\"textposition\":\"auto\",\"texttemplate\":\"%{y:.2s}\",\"x\":[\"ELETROT\\u00c9CNICA\"],\"xaxis\":\"x\",\"y\":[-131.0],\"yaxis\":\"y\",\"type\":\"bar\"},{\"alignmentgroup\":\"True\",\"hovertemplate\":\"Curso=%{x}<br>value=%{y}<extra></extra>\",\"legendgroup\":\"MECATR\\u00d4NICA\",\"marker\":{\"color\":\"#000004\",\"pattern\":{\"shape\":\"\"}},\"name\":\"MECATR\\u00d4NICA\",\"offsetgroup\":\"MECATR\\u00d4NICA\",\"orientation\":\"v\",\"showlegend\":true,\"textposition\":\"auto\",\"texttemplate\":\"%{y:.2s}\",\"x\":[\"MECATR\\u00d4NICA\"],\"xaxis\":\"x\",\"y\":[-88.0],\"yaxis\":\"y\",\"type\":\"bar\"},{\"alignmentgroup\":\"True\",\"hovertemplate\":\"Curso=%{x}<br>value=%{y}<extra></extra>\",\"legendgroup\":\"MEIO AMBIENTE\",\"marker\":{\"color\":\"#000005\",\"pattern\":{\"shape\":\"\"}},\"name\":\"MEIO AMBIENTE\",\"offsetgroup\":\"MEIO AMBIENTE\",\"orientation\":\"v\",\"showlegend\":true,\"textposition\":\"auto\",\"texttemplate\":\"%{y:.2s}\",\"x\":[\"MEIO AMBIENTE\"],\"xaxis\":\"x\",\"y\":[-65.0],\"yaxis\":\"y\",\"type\":\"bar\"},{\"alignmentgroup\":\"True\",\"hovertemplate\":\"Curso=%{x}<br>value=%{y}<extra></extra>\",\"legendgroup\":\"SISTEMAS DE ENERGIA RENOV\\u00c1VEL\",\"marker\":{\"color\":\"#000006\",\"pattern\":{\"shape\":\"\"}},\"name\":\"SISTEMAS DE ENERGIA RENOV\\u00c1VEL\",\"offsetgroup\":\"SISTEMAS DE ENERGIA RENOV\\u00c1VEL\",\"orientation\":\"v\",\"showlegend\":true,\"textposition\":\"auto\",\"texttemplate\":\"%{y:.2s}\",\"x\":[\"SISTEMAS DE ENERGIA RENOV\\u00c1VEL\"],\"xaxis\":\"x\",\"y\":[-36.0],\"yaxis\":\"y\",\"type\":\"bar\"},{\"alignmentgroup\":\"True\",\"hovertemplate\":\"Curso=%{x}<br>value=%{y}<extra></extra>\",\"legendgroup\":\"METALURGIA\",\"marker\":{\"color\":\"#000007\",\"pattern\":{\"shape\":\"\"}},\"name\":\"METALURGIA\",\"offsetgroup\":\"METALURGIA\",\"orientation\":\"v\",\"showlegend\":true,\"textposition\":\"auto\",\"texttemplate\":\"%{y:.2s}\",\"x\":[\"METALURGIA\"],\"xaxis\":\"x\",\"y\":[-30.0],\"yaxis\":\"y\",\"type\":\"bar\"},{\"alignmentgroup\":\"True\",\"hovertemplate\":\"Curso=%{x}<br>value=%{y}<extra></extra>\",\"legendgroup\":\"AUTOMA\\u00c7\\u00c3O INDUSTRIAL\",\"marker\":{\"color\":\"#000008\",\"pattern\":{\"shape\":\"\"}},\"name\":\"AUTOMA\\u00c7\\u00c3O INDUSTRIAL\",\"offsetgroup\":\"AUTOMA\\u00c7\\u00c3O INDUSTRIAL\",\"orientation\":\"v\",\"showlegend\":true,\"textposition\":\"auto\",\"texttemplate\":\"%{y:.2s}\",\"x\":[\"AUTOMA\\u00c7\\u00c3O INDUSTRIAL\"],\"xaxis\":\"x\",\"y\":[-26.0],\"yaxis\":\"y\",\"type\":\"bar\"},{\"alignmentgroup\":\"True\",\"hovertemplate\":\"Curso=%{x}<br>value=%{y}<extra></extra>\",\"legendgroup\":\"PAISAGISMO\",\"marker\":{\"color\":\"#000009\",\"pattern\":{\"shape\":\"\"}},\"name\":\"PAISAGISMO\",\"offsetgroup\":\"PAISAGISMO\",\"orientation\":\"v\",\"showlegend\":true,\"textposition\":\"auto\",\"texttemplate\":\"%{y:.2s}\",\"x\":[\"PAISAGISMO\"],\"xaxis\":\"x\",\"y\":[-23.0],\"yaxis\":\"y\",\"type\":\"bar\"},{\"alignmentgroup\":\"True\",\"hovertemplate\":\"Curso=%{x}<br>value=%{y}<extra></extra>\",\"legendgroup\":\"MINERA\\u00c7\\u00c3O\",\"marker\":{\"color\":\"#000010\",\"pattern\":{\"shape\":\"\"}},\"name\":\"MINERA\\u00c7\\u00c3O\",\"offsetgroup\":\"MINERA\\u00c7\\u00c3O\",\"orientation\":\"v\",\"showlegend\":true,\"textposition\":\"auto\",\"texttemplate\":\"%{y:.2s}\",\"x\":[\"MINERA\\u00c7\\u00c3O\"],\"xaxis\":\"x\",\"y\":[-20.0],\"yaxis\":\"y\",\"type\":\"bar\"},{\"alignmentgroup\":\"True\",\"hovertemplate\":\"Curso=%{x}<br>value=%{y}<extra></extra>\",\"legendgroup\":\"QU\\u00cdMICA\",\"marker\":{\"color\":\"#000001\",\"pattern\":{\"shape\":\"\"}},\"name\":\"QU\\u00cdMICA\",\"offsetgroup\":\"QU\\u00cdMICA\",\"orientation\":\"v\",\"showlegend\":true,\"textposition\":\"auto\",\"texttemplate\":\"%{y:.2s}\",\"x\":[\"QU\\u00cdMICA\"],\"xaxis\":\"x\",\"y\":[-17.0],\"yaxis\":\"y\",\"type\":\"bar\"},{\"alignmentgroup\":\"True\",\"hovertemplate\":\"Curso=%{x}<br>value=%{y}<extra></extra>\",\"legendgroup\":\"AGRIMENSURA\",\"marker\":{\"color\":\"#000002\",\"pattern\":{\"shape\":\"\"}},\"name\":\"AGRIMENSURA\",\"offsetgroup\":\"AGRIMENSURA\",\"orientation\":\"v\",\"showlegend\":true,\"textposition\":\"auto\",\"texttemplate\":\"%{y:.2s}\",\"x\":[\"AGRIMENSURA\"],\"xaxis\":\"x\",\"y\":[-7.0],\"yaxis\":\"y\",\"type\":\"bar\"},{\"alignmentgroup\":\"True\",\"hovertemplate\":\"Curso=%{x}<br>value=%{y}<extra></extra>\",\"legendgroup\":\"MEC\\u00c2NICA\",\"marker\":{\"color\":\"#000003\",\"pattern\":{\"shape\":\"\"}},\"name\":\"MEC\\u00c2NICA\",\"offsetgroup\":\"MEC\\u00c2NICA\",\"orientation\":\"v\",\"showlegend\":true,\"textposition\":\"auto\",\"texttemplate\":\"%{y:.2s}\",\"x\":[\"MEC\\u00c2NICA\"],\"xaxis\":\"x\",\"y\":[-6.0],\"yaxis\":\"y\",\"type\":\"bar\"},{\"alignmentgroup\":\"True\",\"hovertemplate\":\"Curso=%{x}<br>value=%{y}<extra></extra>\",\"legendgroup\":\"BIOTECNOLOGIA\",\"marker\":{\"color\":\"#000004\",\"pattern\":{\"shape\":\"\"}},\"name\":\"BIOTECNOLOGIA\",\"offsetgroup\":\"BIOTECNOLOGIA\",\"orientation\":\"v\",\"showlegend\":true,\"textposition\":\"auto\",\"texttemplate\":\"%{y:.2s}\",\"x\":[\"BIOTECNOLOGIA\"],\"xaxis\":\"x\",\"y\":[-5.0],\"yaxis\":\"y\",\"type\":\"bar\"},{\"alignmentgroup\":\"True\",\"hovertemplate\":\"Curso=%{x}<br>value=%{y}<extra></extra>\",\"legendgroup\":\"ELETROELETR\\u00d4NICA\",\"marker\":{\"color\":\"#000005\",\"pattern\":{\"shape\":\"\"}},\"name\":\"ELETROELETR\\u00d4NICA\",\"offsetgroup\":\"ELETROELETR\\u00d4NICA\",\"orientation\":\"v\",\"showlegend\":true,\"textposition\":\"auto\",\"texttemplate\":\"%{y:.2s}\",\"x\":[\"ELETROELETR\\u00d4NICA\"],\"xaxis\":\"x\",\"y\":[9.0],\"yaxis\":\"y\",\"type\":\"bar\"},{\"alignmentgroup\":\"True\",\"hovertemplate\":\"Curso=%{x}<br>value=%{y}<extra></extra>\",\"legendgroup\":\"ELETROMEC\\u00c2NICA\",\"marker\":{\"color\":\"#000006\",\"pattern\":{\"shape\":\"\"}},\"name\":\"ELETROMEC\\u00c2NICA\",\"offsetgroup\":\"ELETROMEC\\u00c2NICA\",\"orientation\":\"v\",\"showlegend\":true,\"textposition\":\"auto\",\"texttemplate\":\"%{y:.2s}\",\"x\":[\"ELETROMEC\\u00c2NICA\"],\"xaxis\":\"x\",\"y\":[10.0],\"yaxis\":\"y\",\"type\":\"bar\"},{\"alignmentgroup\":\"True\",\"hovertemplate\":\"Curso=%{x}<br>value=%{y}<extra></extra>\",\"legendgroup\":\"ADMINISTRA\\u00c7\\u00c3O\",\"marker\":{\"color\":\"#000007\",\"pattern\":{\"shape\":\"\"}},\"name\":\"ADMINISTRA\\u00c7\\u00c3O\",\"offsetgroup\":\"ADMINISTRA\\u00c7\\u00c3O\",\"orientation\":\"v\",\"showlegend\":true,\"textposition\":\"auto\",\"texttemplate\":\"%{y:.2s}\",\"x\":[\"ADMINISTRA\\u00c7\\u00c3O\"],\"xaxis\":\"x\",\"y\":[10.0],\"yaxis\":\"y\",\"type\":\"bar\"},{\"alignmentgroup\":\"True\",\"hovertemplate\":\"Curso=%{x}<br>value=%{y}<extra></extra>\",\"legendgroup\":\"ELETR\\u00d4NICA\",\"marker\":{\"color\":\"#000008\",\"pattern\":{\"shape\":\"\"}},\"name\":\"ELETR\\u00d4NICA\",\"offsetgroup\":\"ELETR\\u00d4NICA\",\"orientation\":\"v\",\"showlegend\":true,\"textposition\":\"auto\",\"texttemplate\":\"%{y:.2s}\",\"x\":[\"ELETR\\u00d4NICA\"],\"xaxis\":\"x\",\"y\":[26.0],\"yaxis\":\"y\",\"type\":\"bar\"},{\"alignmentgroup\":\"True\",\"hovertemplate\":\"Curso=%{x}<br>value=%{y}<extra></extra>\",\"legendgroup\":\"NUTRI\\u00c7\\u00c3O E DIET\\u00c9TICA\",\"marker\":{\"color\":\"#000009\",\"pattern\":{\"shape\":\"\"}},\"name\":\"NUTRI\\u00c7\\u00c3O E DIET\\u00c9TICA\",\"offsetgroup\":\"NUTRI\\u00c7\\u00c3O E DIET\\u00c9TICA\",\"orientation\":\"v\",\"showlegend\":true,\"textposition\":\"auto\",\"texttemplate\":\"%{y:.2s}\",\"x\":[\"NUTRI\\u00c7\\u00c3O E DIET\\u00c9TICA\"],\"xaxis\":\"x\",\"y\":[53.0],\"yaxis\":\"y\",\"type\":\"bar\"},{\"alignmentgroup\":\"True\",\"hovertemplate\":\"Curso=%{x}<br>value=%{y}<extra></extra>\",\"legendgroup\":\"EDIFICA\\u00c7\\u00d5ES\",\"marker\":{\"color\":\"#000010\",\"pattern\":{\"shape\":\"\"}},\"name\":\"EDIFICA\\u00c7\\u00d5ES\",\"offsetgroup\":\"EDIFICA\\u00c7\\u00d5ES\",\"orientation\":\"v\",\"showlegend\":true,\"textposition\":\"auto\",\"texttemplate\":\"%{y:.2s}\",\"x\":[\"EDIFICA\\u00c7\\u00d5ES\"],\"xaxis\":\"x\",\"y\":[96.0],\"yaxis\":\"y\",\"type\":\"bar\"},{\"alignmentgroup\":\"True\",\"hovertemplate\":\"Curso=%{x}<br>value=%{y}<extra></extra>\",\"legendgroup\":\"AGROPECU\\u00c1RIA\",\"marker\":{\"color\":\"#000001\",\"pattern\":{\"shape\":\"\"}},\"name\":\"AGROPECU\\u00c1RIA\",\"offsetgroup\":\"AGROPECU\\u00c1RIA\",\"orientation\":\"v\",\"showlegend\":true,\"textposition\":\"auto\",\"texttemplate\":\"%{y:.2s}\",\"x\":[\"AGROPECU\\u00c1RIA\"],\"xaxis\":\"x\",\"y\":[97.0],\"yaxis\":\"y\",\"type\":\"bar\"}],                        {\"template\":{\"data\":{\"candlestick\":[{\"decreasing\":{\"line\":{\"color\":\"#000033\"}},\"increasing\":{\"line\":{\"color\":\"#000032\"}},\"type\":\"candlestick\"}],\"contourcarpet\":[{\"colorscale\":[[0.0,\"#000011\"],[0.1111111111111111,\"#000012\"],[0.2222222222222222,\"#000013\"],[0.3333333333333333,\"#000014\"],[0.4444444444444444,\"#000015\"],[0.5555555555555556,\"#000016\"],[0.6666666666666666,\"#000017\"],[0.7777777777777778,\"#000018\"],[0.8888888888888888,\"#000019\"],[1.0,\"#000020\"]],\"type\":\"contourcarpet\"}],\"contour\":[{\"colorscale\":[[0.0,\"#000011\"],[0.1111111111111111,\"#000012\"],[0.2222222222222222,\"#000013\"],[0.3333333333333333,\"#000014\"],[0.4444444444444444,\"#000015\"],[0.5555555555555556,\"#000016\"],[0.6666666666666666,\"#000017\"],[0.7777777777777778,\"#000018\"],[0.8888888888888888,\"#000019\"],[1.0,\"#000020\"]],\"type\":\"contour\"}],\"heatmap\":[{\"colorscale\":[[0.0,\"#000011\"],[0.1111111111111111,\"#000012\"],[0.2222222222222222,\"#000013\"],[0.3333333333333333,\"#000014\"],[0.4444444444444444,\"#000015\"],[0.5555555555555556,\"#000016\"],[0.6666666666666666,\"#000017\"],[0.7777777777777778,\"#000018\"],[0.8888888888888888,\"#000019\"],[1.0,\"#000020\"]],\"type\":\"heatmap\"}],\"histogram2d\":[{\"colorscale\":[[0.0,\"#000011\"],[0.1111111111111111,\"#000012\"],[0.2222222222222222,\"#000013\"],[0.3333333333333333,\"#000014\"],[0.4444444444444444,\"#000015\"],[0.5555555555555556,\"#000016\"],[0.6666666666666666,\"#000017\"],[0.7777777777777778,\"#000018\"],[0.8888888888888888,\"#000019\"],[1.0,\"#000020\"]],\"type\":\"histogram2d\"}],\"icicle\":[{\"textfont\":{\"color\":\"white\"},\"type\":\"icicle\"}],\"sankey\":[{\"textfont\":{\"color\":\"#000036\"},\"type\":\"sankey\"}],\"scatter\":[{\"marker\":{\"line\":{\"width\":0}},\"type\":\"scatter\"}],\"table\":[{\"cells\":{\"fill\":{\"color\":\"#000038\"},\"font\":{\"color\":\"#000037\"},\"line\":{\"color\":\"#000039\"}},\"header\":{\"fill\":{\"color\":\"#000040\"},\"font\":{\"color\":\"#000036\"},\"line\":{\"color\":\"#000039\"}},\"type\":\"table\"}],\"waterfall\":[{\"connector\":{\"line\":{\"color\":\"#000036\",\"width\":2}},\"decreasing\":{\"marker\":{\"color\":\"#000033\"}},\"increasing\":{\"marker\":{\"color\":\"#000032\"}},\"totals\":{\"marker\":{\"color\":\"#000034\"}},\"type\":\"waterfall\"}]},\"layout\":{\"coloraxis\":{\"colorscale\":[[0.0,\"#000011\"],[0.1111111111111111,\"#000012\"],[0.2222222222222222,\"#000013\"],[0.3333333333333333,\"#000014\"],[0.4444444444444444,\"#000015\"],[0.5555555555555556,\"#000016\"],[0.6666666666666666,\"#000017\"],[0.7777777777777778,\"#000018\"],[0.8888888888888888,\"#000019\"],[1.0,\"#000020\"]]},\"colorscale\":{\"diverging\":[[0.0,\"#000021\"],[0.1,\"#000022\"],[0.2,\"#000023\"],[0.3,\"#000024\"],[0.4,\"#000025\"],[0.5,\"#000026\"],[0.6,\"#000027\"],[0.7,\"#000028\"],[0.8,\"#000029\"],[0.9,\"#000030\"],[1.0,\"#000031\"]],\"sequential\":[[0.0,\"#000011\"],[0.1111111111111111,\"#000012\"],[0.2222222222222222,\"#000013\"],[0.3333333333333333,\"#000014\"],[0.4444444444444444,\"#000015\"],[0.5555555555555556,\"#000016\"],[0.6666666666666666,\"#000017\"],[0.7777777777777778,\"#000018\"],[0.8888888888888888,\"#000019\"],[1.0,\"#000020\"]],\"sequentialminus\":[[0.0,\"#000011\"],[0.1111111111111111,\"#000012\"],[0.2222222222222222,\"#000013\"],[0.3333333333333333,\"#000014\"],[0.4444444444444444,\"#000015\"],[0.5555555555555556,\"#000016\"],[0.6666666666666666,\"#000017\"],[0.7777777777777778,\"#000018\"],[0.8888888888888888,\"#000019\"],[1.0,\"#000020\"]]},\"colorway\":[\"#000001\",\"#000002\",\"#000003\",\"#000004\",\"#000005\",\"#000006\",\"#000007\",\"#000008\",\"#000009\",\"#000010\"]}},\"xaxis\":{\"anchor\":\"y\",\"domain\":[0.0,1.0],\"title\":{\"text\":\"Curso\"},\"categoryorder\":\"array\",\"categoryarray\":[\"INFORM\\u00c1TICA\",\"SEGURAN\\u00c7A DO TRABALHO\",\"ELETROT\\u00c9CNICA\",\"MECATR\\u00d4NICA\",\"MEIO AMBIENTE\",\"SISTEMAS DE ENERGIA RENOV\\u00c1VEL\",\"METALURGIA\",\"AUTOMA\\u00c7\\u00c3O INDUSTRIAL\",\"PAISAGISMO\",\"MINERA\\u00c7\\u00c3O\",\"QU\\u00cdMICA\",\"AGRIMENSURA\",\"MEC\\u00c2NICA\",\"BIOTECNOLOGIA\",\"ELETROELETR\\u00d4NICA\",\"ELETROMEC\\u00c2NICA\",\"ADMINISTRA\\u00c7\\u00c3O\",\"ELETR\\u00d4NICA\",\"NUTRI\\u00c7\\u00c3O E DIET\\u00c9TICA\",\"EDIFICA\\u00c7\\u00d5ES\",\"AGROPECU\\u00c1RIA\"]},\"yaxis\":{\"anchor\":\"x\",\"domain\":[0.0,1.0],\"title\":{\"text\":\"value\"}},\"legend\":{\"title\":{\"text\":\"Curso\"},\"tracegroupgap\":0},\"margin\":{\"t\":60},\"barmode\":\"relative\"},                        {\"responsive\": true}                    ).then(function(){\n",
       "                            \n",
       "var gd = document.getElementById('db8f5a12-cb64-42d6-9aa1-a672cbbe4804');\n",
       "var x = new MutationObserver(function (mutations, observer) {{\n",
       "        var display = window.getComputedStyle(gd).display;\n",
       "        if (!display || display === 'none') {{\n",
       "            console.log([gd, 'removed!']);\n",
       "            Plotly.purge(gd);\n",
       "            observer.disconnect();\n",
       "        }}\n",
       "}});\n",
       "\n",
       "// Listen for the removal of the full notebook cells\n",
       "var notebookContainer = gd.closest('#notebook-container');\n",
       "if (notebookContainer) {{\n",
       "    x.observe(notebookContainer, {childList: true});\n",
       "}}\n",
       "\n",
       "// Listen for the clearing of the current output cell\n",
       "var outputEl = gd.closest('.output');\n",
       "if (outputEl) {{\n",
       "    x.observe(outputEl, {childList: true});\n",
       "}}\n",
       "\n",
       "                        })                };                });            </script>        </div>"
      ]
     },
     "metadata": {},
     "output_type": "display_data"
    }
   ],
   "source": [
    "fig5 = px.bar(dffg2, x=\"Curso\", y=[\"diff_Inscritos\"], color=\"Curso\", text_auto='.2s')\n",
    "fig5.show()"
   ]
  },
  {
   "cell_type": "code",
   "execution_count": 234,
   "id": "69f8541b",
   "metadata": {},
   "outputs": [
    {
     "data": {
      "text/plain": [
       "0               ADMINISTRAÇÃO\n",
       "1               ADMINISTRAÇÃO\n",
       "2               ADMINISTRAÇÃO\n",
       "3               ADMINISTRAÇÃO\n",
       "4               ADMINISTRAÇÃO\n",
       "               ...           \n",
       "66     Segurança do Trabalho \n",
       "67     Segurança do Trabalho \n",
       "68     Segurança do Trabalho \n",
       "69     Segurança do Trabalho \n",
       "70     Segurança do trabalho \n",
       "Name: Curso, Length: 142, dtype: object"
      ]
     },
     "execution_count": 234,
     "metadata": {},
     "output_type": "execute_result"
    }
   ],
   "source": [
    "df['Curso'].apply(lambda r: r.replace(\"Técnico Integrado em\",\"\").replace(\"Técnico Integrado\",\"\") )"
   ]
  },
  {
   "cell_type": "code",
   "execution_count": 235,
   "id": "ab182639",
   "metadata": {},
   "outputs": [
    {
     "data": {
      "text/html": [
       "<div>\n",
       "<style scoped>\n",
       "    .dataframe tbody tr th:only-of-type {\n",
       "        vertical-align: middle;\n",
       "    }\n",
       "\n",
       "    .dataframe tbody tr th {\n",
       "        vertical-align: top;\n",
       "    }\n",
       "\n",
       "    .dataframe thead th {\n",
       "        text-align: right;\n",
       "    }\n",
       "</style>\n",
       "<table border=\"1\" class=\"dataframe\">\n",
       "  <thead>\n",
       "    <tr style=\"text-align: right;\">\n",
       "      <th></th>\n",
       "      <th>Campus</th>\n",
       "      <th>Inscritos</th>\n",
       "      <th>Pagos</th>\n",
       "      <th>Deferidas</th>\n",
       "      <th>Homologadas</th>\n",
       "    </tr>\n",
       "  </thead>\n",
       "  <tbody>\n",
       "    <tr>\n",
       "      <th>0</th>\n",
       "      <td>ARCOS</td>\n",
       "      <td>114</td>\n",
       "      <td>84</td>\n",
       "      <td>5</td>\n",
       "      <td>89</td>\n",
       "    </tr>\n",
       "    <tr>\n",
       "      <th>1</th>\n",
       "      <td>BAMBUÍ</td>\n",
       "      <td>463</td>\n",
       "      <td>347</td>\n",
       "      <td>19</td>\n",
       "      <td>366</td>\n",
       "    </tr>\n",
       "    <tr>\n",
       "      <th>2</th>\n",
       "      <td>BETIM</td>\n",
       "      <td>2328</td>\n",
       "      <td>1882</td>\n",
       "      <td>91</td>\n",
       "      <td>1973</td>\n",
       "    </tr>\n",
       "    <tr>\n",
       "      <th>3</th>\n",
       "      <td>CONGONHAS</td>\n",
       "      <td>762</td>\n",
       "      <td>577</td>\n",
       "      <td>47</td>\n",
       "      <td>624</td>\n",
       "    </tr>\n",
       "    <tr>\n",
       "      <th>4</th>\n",
       "      <td>CONSELHEIRO LAFAIETE</td>\n",
       "      <td>708</td>\n",
       "      <td>483</td>\n",
       "      <td>54</td>\n",
       "      <td>537</td>\n",
       "    </tr>\n",
       "    <tr>\n",
       "      <th>5</th>\n",
       "      <td>FORMIGA</td>\n",
       "      <td>281</td>\n",
       "      <td>228</td>\n",
       "      <td>11</td>\n",
       "      <td>239</td>\n",
       "    </tr>\n",
       "    <tr>\n",
       "      <th>6</th>\n",
       "      <td>GOVERNADOR VALADARES</td>\n",
       "      <td>902</td>\n",
       "      <td>619</td>\n",
       "      <td>79</td>\n",
       "      <td>698</td>\n",
       "    </tr>\n",
       "    <tr>\n",
       "      <th>7</th>\n",
       "      <td>IBIRITÉ</td>\n",
       "      <td>951</td>\n",
       "      <td>780</td>\n",
       "      <td>30</td>\n",
       "      <td>810</td>\n",
       "    </tr>\n",
       "    <tr>\n",
       "      <th>8</th>\n",
       "      <td>IPATINGA</td>\n",
       "      <td>804</td>\n",
       "      <td>621</td>\n",
       "      <td>39</td>\n",
       "      <td>660</td>\n",
       "    </tr>\n",
       "    <tr>\n",
       "      <th>9</th>\n",
       "      <td>ITABIRITO</td>\n",
       "      <td>248</td>\n",
       "      <td>216</td>\n",
       "      <td>7</td>\n",
       "      <td>223</td>\n",
       "    </tr>\n",
       "    <tr>\n",
       "      <th>10</th>\n",
       "      <td>OURO BRANCO</td>\n",
       "      <td>656</td>\n",
       "      <td>534</td>\n",
       "      <td>30</td>\n",
       "      <td>564</td>\n",
       "    </tr>\n",
       "    <tr>\n",
       "      <th>11</th>\n",
       "      <td>OURO PRETO</td>\n",
       "      <td>1624</td>\n",
       "      <td>1210</td>\n",
       "      <td>97</td>\n",
       "      <td>1307</td>\n",
       "    </tr>\n",
       "    <tr>\n",
       "      <th>12</th>\n",
       "      <td>PIUMHI</td>\n",
       "      <td>134</td>\n",
       "      <td>117</td>\n",
       "      <td>2</td>\n",
       "      <td>119</td>\n",
       "    </tr>\n",
       "    <tr>\n",
       "      <th>13</th>\n",
       "      <td>PONTE NOVA</td>\n",
       "      <td>703</td>\n",
       "      <td>584</td>\n",
       "      <td>46</td>\n",
       "      <td>630</td>\n",
       "    </tr>\n",
       "    <tr>\n",
       "      <th>14</th>\n",
       "      <td>RIBEIRÃO DAS NEVES</td>\n",
       "      <td>1151</td>\n",
       "      <td>889</td>\n",
       "      <td>50</td>\n",
       "      <td>939</td>\n",
       "    </tr>\n",
       "    <tr>\n",
       "      <th>15</th>\n",
       "      <td>SABARÁ</td>\n",
       "      <td>1151</td>\n",
       "      <td>944</td>\n",
       "      <td>44</td>\n",
       "      <td>988</td>\n",
       "    </tr>\n",
       "    <tr>\n",
       "      <th>16</th>\n",
       "      <td>SANTA LUZIA</td>\n",
       "      <td>1113</td>\n",
       "      <td>744</td>\n",
       "      <td>87</td>\n",
       "      <td>831</td>\n",
       "    </tr>\n",
       "    <tr>\n",
       "      <th>17</th>\n",
       "      <td>SÃO JOÃO EVANGELISTA</td>\n",
       "      <td>951</td>\n",
       "      <td>750</td>\n",
       "      <td>73</td>\n",
       "      <td>823</td>\n",
       "    </tr>\n",
       "  </tbody>\n",
       "</table>\n",
       "</div>"
      ],
      "text/plain": [
       "                  Campus  Inscritos  Pagos  Deferidas  Homologadas\n",
       "0                  ARCOS        114     84          5           89\n",
       "1                 BAMBUÍ        463    347         19          366\n",
       "2                  BETIM       2328   1882         91         1973\n",
       "3              CONGONHAS        762    577         47          624\n",
       "4   CONSELHEIRO LAFAIETE        708    483         54          537\n",
       "5                FORMIGA        281    228         11          239\n",
       "6   GOVERNADOR VALADARES        902    619         79          698\n",
       "7                IBIRITÉ        951    780         30          810\n",
       "8               IPATINGA        804    621         39          660\n",
       "9              ITABIRITO        248    216          7          223\n",
       "10           OURO BRANCO        656    534         30          564\n",
       "11            OURO PRETO       1624   1210         97         1307\n",
       "12                PIUMHI        134    117          2          119\n",
       "13            PONTE NOVA        703    584         46          630\n",
       "14    RIBEIRÃO DAS NEVES       1151    889         50          939\n",
       "15                SABARÁ       1151    944         44          988\n",
       "16           SANTA LUZIA       1113    744         87          831\n",
       "17  SÃO JOÃO EVANGELISTA        951    750         73          823"
      ]
     },
     "execution_count": 235,
     "metadata": {},
     "output_type": "execute_result"
    }
   ],
   "source": [
    "dfg2023 = df2023.groupby(\"Campus\")[[\"Inscritos\",\"Pagos\", \"Deferidas\",\"Homologadas\"]].sum().reset_index().sort_values(by='Inscritos', ascending=False)\n",
    "dfg2023.sort_values('Campus')"
   ]
  },
  {
   "cell_type": "code",
   "execution_count": 236,
   "id": "05c21516",
   "metadata": {},
   "outputs": [
    {
     "data": {
      "text/html": [
       "<div>\n",
       "<style scoped>\n",
       "    .dataframe tbody tr th:only-of-type {\n",
       "        vertical-align: middle;\n",
       "    }\n",
       "\n",
       "    .dataframe tbody tr th {\n",
       "        vertical-align: top;\n",
       "    }\n",
       "\n",
       "    .dataframe thead th {\n",
       "        text-align: right;\n",
       "    }\n",
       "</style>\n",
       "<table border=\"1\" class=\"dataframe\">\n",
       "  <thead>\n",
       "    <tr style=\"text-align: right;\">\n",
       "      <th></th>\n",
       "      <th>Campus</th>\n",
       "      <th>Inscritos</th>\n",
       "      <th>Pagos</th>\n",
       "      <th>Deferidas</th>\n",
       "      <th>Homologadas</th>\n",
       "    </tr>\n",
       "  </thead>\n",
       "  <tbody>\n",
       "    <tr>\n",
       "      <th>0</th>\n",
       "      <td>ARCOS</td>\n",
       "      <td>75</td>\n",
       "      <td>34</td>\n",
       "      <td>5</td>\n",
       "      <td>39</td>\n",
       "    </tr>\n",
       "    <tr>\n",
       "      <th>12</th>\n",
       "      <td>PIUMHI</td>\n",
       "      <td>92</td>\n",
       "      <td>45</td>\n",
       "      <td>10</td>\n",
       "      <td>55</td>\n",
       "    </tr>\n",
       "    <tr>\n",
       "      <th>5</th>\n",
       "      <td>FORMIGA</td>\n",
       "      <td>146</td>\n",
       "      <td>63</td>\n",
       "      <td>33</td>\n",
       "      <td>96</td>\n",
       "    </tr>\n",
       "    <tr>\n",
       "      <th>9</th>\n",
       "      <td>ITABIRITO</td>\n",
       "      <td>215</td>\n",
       "      <td>110</td>\n",
       "      <td>26</td>\n",
       "      <td>136</td>\n",
       "    </tr>\n",
       "    <tr>\n",
       "      <th>1</th>\n",
       "      <td>BAMBUÍ</td>\n",
       "      <td>378</td>\n",
       "      <td>168</td>\n",
       "      <td>36</td>\n",
       "      <td>204</td>\n",
       "    </tr>\n",
       "    <tr>\n",
       "      <th>10</th>\n",
       "      <td>OURO BRANCO</td>\n",
       "      <td>466</td>\n",
       "      <td>226</td>\n",
       "      <td>61</td>\n",
       "      <td>287</td>\n",
       "    </tr>\n",
       "    <tr>\n",
       "      <th>13</th>\n",
       "      <td>PONTE NOVA</td>\n",
       "      <td>469</td>\n",
       "      <td>217</td>\n",
       "      <td>50</td>\n",
       "      <td>267</td>\n",
       "    </tr>\n",
       "    <tr>\n",
       "      <th>4</th>\n",
       "      <td>CONSELHEIRO LAFAIETE</td>\n",
       "      <td>470</td>\n",
       "      <td>169</td>\n",
       "      <td>57</td>\n",
       "      <td>226</td>\n",
       "    </tr>\n",
       "    <tr>\n",
       "      <th>8</th>\n",
       "      <td>IPATINGA</td>\n",
       "      <td>510</td>\n",
       "      <td>199</td>\n",
       "      <td>54</td>\n",
       "      <td>253</td>\n",
       "    </tr>\n",
       "    <tr>\n",
       "      <th>3</th>\n",
       "      <td>CONGONHAS</td>\n",
       "      <td>614</td>\n",
       "      <td>243</td>\n",
       "      <td>109</td>\n",
       "      <td>352</td>\n",
       "    </tr>\n",
       "    <tr>\n",
       "      <th>6</th>\n",
       "      <td>GOVERNADOR VALADARES</td>\n",
       "      <td>704</td>\n",
       "      <td>274</td>\n",
       "      <td>120</td>\n",
       "      <td>394</td>\n",
       "    </tr>\n",
       "    <tr>\n",
       "      <th>7</th>\n",
       "      <td>IBIRITÉ</td>\n",
       "      <td>705</td>\n",
       "      <td>343</td>\n",
       "      <td>86</td>\n",
       "      <td>429</td>\n",
       "    </tr>\n",
       "    <tr>\n",
       "      <th>17</th>\n",
       "      <td>SÃO JOÃO EVANGELISTA</td>\n",
       "      <td>844</td>\n",
       "      <td>323</td>\n",
       "      <td>147</td>\n",
       "      <td>470</td>\n",
       "    </tr>\n",
       "    <tr>\n",
       "      <th>15</th>\n",
       "      <td>SABARÁ</td>\n",
       "      <td>850</td>\n",
       "      <td>365</td>\n",
       "      <td>113</td>\n",
       "      <td>478</td>\n",
       "    </tr>\n",
       "    <tr>\n",
       "      <th>16</th>\n",
       "      <td>SANTA LUZIA</td>\n",
       "      <td>864</td>\n",
       "      <td>274</td>\n",
       "      <td>143</td>\n",
       "      <td>417</td>\n",
       "    </tr>\n",
       "    <tr>\n",
       "      <th>14</th>\n",
       "      <td>RIBEIRÃO DAS NEVES</td>\n",
       "      <td>904</td>\n",
       "      <td>351</td>\n",
       "      <td>152</td>\n",
       "      <td>503</td>\n",
       "    </tr>\n",
       "    <tr>\n",
       "      <th>11</th>\n",
       "      <td>OURO PRETO</td>\n",
       "      <td>1160</td>\n",
       "      <td>492</td>\n",
       "      <td>135</td>\n",
       "      <td>627</td>\n",
       "    </tr>\n",
       "    <tr>\n",
       "      <th>2</th>\n",
       "      <td>BETIM</td>\n",
       "      <td>1555</td>\n",
       "      <td>685</td>\n",
       "      <td>175</td>\n",
       "      <td>860</td>\n",
       "    </tr>\n",
       "  </tbody>\n",
       "</table>\n",
       "</div>"
      ],
      "text/plain": [
       "                  Campus  Inscritos  Pagos  Deferidas  Homologadas\n",
       "0                  ARCOS         75     34          5           39\n",
       "12                PIUMHI         92     45         10           55\n",
       "5                FORMIGA        146     63         33           96\n",
       "9              ITABIRITO        215    110         26          136\n",
       "1                 BAMBUÍ        378    168         36          204\n",
       "10           OURO BRANCO        466    226         61          287\n",
       "13            PONTE NOVA        469    217         50          267\n",
       "4   CONSELHEIRO LAFAIETE        470    169         57          226\n",
       "8               IPATINGA        510    199         54          253\n",
       "3              CONGONHAS        614    243        109          352\n",
       "6   GOVERNADOR VALADARES        704    274        120          394\n",
       "7                IBIRITÉ        705    343         86          429\n",
       "17  SÃO JOÃO EVANGELISTA        844    323        147          470\n",
       "15                SABARÁ        850    365        113          478\n",
       "16           SANTA LUZIA        864    274        143          417\n",
       "14    RIBEIRÃO DAS NEVES        904    351        152          503\n",
       "11            OURO PRETO       1160    492        135          627\n",
       "2                  BETIM       1555    685        175          860"
      ]
     },
     "execution_count": 236,
     "metadata": {},
     "output_type": "execute_result"
    }
   ],
   "source": [
    "# dfg2024 = df2024.groupby(\"Campus\")[[\"Inscritos\",\"Pagos\", \"Deferidas\",\"Homologadas\"]].sum().reset_index().sort_values(by='Inscritos', ascending=False)\n",
    "dfg2024.sort_values('Inscritos')"
   ]
  },
  {
   "cell_type": "code",
   "execution_count": 237,
   "id": "69954e13",
   "metadata": {},
   "outputs": [
    {
     "data": {
      "text/plain": [
       "0     -39\n",
       "1     -85\n",
       "2    -773\n",
       "3    -148\n",
       "4    -238\n",
       "5    -135\n",
       "6    -198\n",
       "7    -246\n",
       "8    -294\n",
       "9     -33\n",
       "10   -190\n",
       "11   -464\n",
       "12    -42\n",
       "13   -234\n",
       "14   -247\n",
       "15   -301\n",
       "16   -249\n",
       "17   -107\n",
       "Name: Inscritos, dtype: int64"
      ]
     },
     "execution_count": 237,
     "metadata": {},
     "output_type": "execute_result"
    }
   ],
   "source": [
    "dfg2024.Inscritos - dfg2023.Inscritos"
   ]
  },
  {
   "cell_type": "code",
   "execution_count": 238,
   "id": "35e3d753",
   "metadata": {},
   "outputs": [
    {
     "data": {
      "text/plain": [
       "['ADMINISTRAÇÃO',\n",
       " 'AGROPECUÁRIA',\n",
       " 'AUTOMAÇÃO INDUSTRIAL',\n",
       " 'BIOTECNOLOGIA',\n",
       " 'EDIFICAÇÕES',\n",
       " 'ELETROELETRÔNICA',\n",
       " 'ELETROMECÂNICA',\n",
       " 'ELETRÔNICA',\n",
       " 'ELETROTÉCNICA',\n",
       " 'INFORMÁTICA',\n",
       " 'MECÂNICA',\n",
       " 'MECATRÔNICA',\n",
       " 'MEIO AMBIENTE',\n",
       " 'METALURGIA',\n",
       " 'MINERAÇÃO',\n",
       " 'NUTRIÇÃO E DIETÉTICA',\n",
       " 'QUÍMICA',\n",
       " 'SEGURANÇA DO TRABALHO',\n",
       " 'SISTEMAS DE ENERGIA RENOVÁVEL',\n",
       " 'AGRIMENSURA',\n",
       " 'PAISAGISMO']"
      ]
     },
     "execution_count": 238,
     "metadata": {},
     "output_type": "execute_result"
    }
   ],
   "source": [
    "df2023.Curso.unique().tolist()"
   ]
  },
  {
   "cell_type": "code",
   "execution_count": 240,
   "id": "7d282586",
   "metadata": {},
   "outputs": [
    {
     "data": {
      "text/plain": [
       "['ADMINISTRAÇÃO',\n",
       " 'AGROPECUÁRIA',\n",
       " 'AUTOMAÇÃO INDUSTRIAL',\n",
       " 'BIOTECNOLOGIA',\n",
       " 'EDIFICAÇÕES',\n",
       " 'ELETROELETRÔNICA',\n",
       " 'ELETROMECÂNICA',\n",
       " 'ELETRÔNICA',\n",
       " 'ELETROTÉCNICA',\n",
       " 'INFORMÁTICA',\n",
       " 'MECÂNICA',\n",
       " 'MECATRÔNICA',\n",
       " 'MEIO AMBIENTE',\n",
       " 'METALURGIA',\n",
       " 'MINERAÇÃO',\n",
       " 'NUTRIÇÃO E DIETÉTICA',\n",
       " 'QUÍMICA',\n",
       " 'SEGURANÇA DO TRABALHO',\n",
       " 'SISTEMAS DE ENERGIA RENOVÁVEL',\n",
       " 'AGRIMENSURA',\n",
       " 'JOALHERIA',\n",
       " 'MANUTENÇÃO AUTOMOTIVA',\n",
       " 'PAISAGISMO']"
      ]
     },
     "execution_count": 240,
     "metadata": {},
     "output_type": "execute_result"
    }
   ],
   "source": [
    "df2024.Curso.unique().tolist()"
   ]
  },
  {
   "cell_type": "code",
   "execution_count": 241,
   "id": "cb095d42",
   "metadata": {},
   "outputs": [
    {
     "data": {
      "text/plain": [
       "['MANUTENÇÃO AUTOMOTIVA', 'JOALHERIA']"
      ]
     },
     "execution_count": 241,
     "metadata": {},
     "output_type": "execute_result"
    }
   ],
   "source": [
    "filtrar = list(set(df2024.Curso.tolist()).difference(set(df2023.Curso.tolist())) )\n",
    "filtrar"
   ]
  },
  {
   "cell_type": "code",
   "execution_count": 242,
   "id": "d6a7429c",
   "metadata": {},
   "outputs": [
    {
     "data": {
      "text/plain": [
       "set()"
      ]
     },
     "execution_count": 242,
     "metadata": {},
     "output_type": "execute_result"
    }
   ],
   "source": [
    "set(df2024.Campus.tolist()).difference(set(df2023.Campus.tolist())) "
   ]
  },
  {
   "cell_type": "markdown",
   "id": "311158a0",
   "metadata": {},
   "source": [
    "### Group by -> Cursos"
   ]
  },
  {
   "cell_type": "code",
   "execution_count": 243,
   "id": "52302516",
   "metadata": {},
   "outputs": [],
   "source": [
    "def diff(df1, df2, campus):\n",
    "    \n",
    "    df11 = df1[df1['Campus']==campus].groupby(\"Curso\")[[\"Inscritos\",\"Pagos\", \"Deferidas\",\"Homologadas\"]].sum().reset_index().sort_values(by='Inscritos', ascending=False)\n",
    "    df11.set_index('Curso', inplace=True)\n",
    "\n",
    "    df22 = df2[df2['Campus']==campus].groupby(\"Curso\")[[\"Inscritos\",\"Pagos\", \"Deferidas\",\"Homologadas\"]].sum().reset_index().sort_values(by='Inscritos', ascending=False)\n",
    "    df22.set_index('Curso', inplace=True)\n",
    "\n",
    "    return (df22 - df11).reset_index()\n",
    "\n",
    "\n",
    "def diff2(df1, df2, group_by):\n",
    "    \n",
    "    df11 = df1.groupby(group_by)[[\"Inscritos\",\"Pagos\", \"Deferidas\",\"Homologadas\"]].sum().reset_index().sort_values(by='Inscritos', ascending=False)\n",
    "    df11.set_index(group_by, inplace=True)\n",
    "\n",
    "    df22 = df2.groupby(group_by)[[\"Inscritos\",\"Pagos\", \"Deferidas\",\"Homologadas\"]].sum().reset_index().sort_values(by='Inscritos', ascending=False)\n",
    "    df22.set_index(group_by, inplace=True)\n",
    "\n",
    "    return (df22 - df11).reset_index()\n",
    "    "
   ]
  },
  {
   "cell_type": "code",
   "execution_count": 244,
   "id": "0434dc12",
   "metadata": {
    "scrolled": true
   },
   "outputs": [
    {
     "data": {
      "text/html": [
       "<div>\n",
       "<style scoped>\n",
       "    .dataframe tbody tr th:only-of-type {\n",
       "        vertical-align: middle;\n",
       "    }\n",
       "\n",
       "    .dataframe tbody tr th {\n",
       "        vertical-align: top;\n",
       "    }\n",
       "\n",
       "    .dataframe thead th {\n",
       "        text-align: right;\n",
       "    }\n",
       "</style>\n",
       "<table border=\"1\" class=\"dataframe\">\n",
       "  <thead>\n",
       "    <tr style=\"text-align: right;\">\n",
       "      <th></th>\n",
       "      <th>Curso</th>\n",
       "      <th>Inscritos</th>\n",
       "      <th>Pagos</th>\n",
       "      <th>Deferidas</th>\n",
       "      <th>Homologadas</th>\n",
       "    </tr>\n",
       "  </thead>\n",
       "  <tbody>\n",
       "    <tr>\n",
       "      <th>1</th>\n",
       "      <td>CONSERVAÇÃO E RESTAURO</td>\n",
       "      <td>-47</td>\n",
       "      <td>-17</td>\n",
       "      <td>-4</td>\n",
       "      <td>-21</td>\n",
       "    </tr>\n",
       "    <tr>\n",
       "      <th>0</th>\n",
       "      <td>GEOGRAFIA</td>\n",
       "      <td>-33</td>\n",
       "      <td>-24</td>\n",
       "      <td>-2</td>\n",
       "      <td>-26</td>\n",
       "    </tr>\n",
       "    <tr>\n",
       "      <th>2</th>\n",
       "      <td>FÍSICA</td>\n",
       "      <td>-13</td>\n",
       "      <td>-3</td>\n",
       "      <td>-6</td>\n",
       "      <td>-9</td>\n",
       "    </tr>\n",
       "  </tbody>\n",
       "</table>\n",
       "</div>"
      ],
      "text/plain": [
       "                    Curso  Inscritos  Pagos  Deferidas  Homologadas\n",
       "1  CONSERVAÇÃO E RESTAURO        -47    -17         -4          -21\n",
       "0               GEOGRAFIA        -33    -24         -2          -26\n",
       "2                  FÍSICA        -13     -3         -6           -9"
      ]
     },
     "execution_count": 244,
     "metadata": {},
     "output_type": "execute_result"
    }
   ],
   "source": [
    "df2023 = ler_excel('dados/2023-1_GestaoResultado_ResumoInscricoes_GRAD.xlsx')\n",
    "df2024 = ler_excel('dados/2024-1_GestaoResultado_ResumoInscricoes_GRAD.xlsx')\n",
    "\n",
    "diff(df2023, df2024, \"OURO PRETO\").sort_values(\"Inscritos\")"
   ]
  },
  {
   "cell_type": "code",
   "execution_count": 245,
   "id": "23b162aa",
   "metadata": {},
   "outputs": [
    {
     "data": {
      "text/html": [
       "<div>\n",
       "<style scoped>\n",
       "    .dataframe tbody tr th:only-of-type {\n",
       "        vertical-align: middle;\n",
       "    }\n",
       "\n",
       "    .dataframe tbody tr th {\n",
       "        vertical-align: top;\n",
       "    }\n",
       "\n",
       "    .dataframe thead th {\n",
       "        text-align: right;\n",
       "    }\n",
       "</style>\n",
       "<table border=\"1\" class=\"dataframe\">\n",
       "  <thead>\n",
       "    <tr style=\"text-align: right;\">\n",
       "      <th></th>\n",
       "      <th>Campus</th>\n",
       "      <th>Curso</th>\n",
       "      <th>Inscritos</th>\n",
       "      <th>Pagos</th>\n",
       "      <th>Deferidas</th>\n",
       "      <th>Homologadas</th>\n",
       "    </tr>\n",
       "  </thead>\n",
       "  <tbody>\n",
       "    <tr>\n",
       "      <th>9</th>\n",
       "      <td>BAMBUÍ</td>\n",
       "      <td>MEDICINA VETERINÁRIA</td>\n",
       "      <td>-115.0</td>\n",
       "      <td>-82.0</td>\n",
       "      <td>-17.0</td>\n",
       "      <td>-99.0</td>\n",
       "    </tr>\n",
       "    <tr>\n",
       "      <th>43</th>\n",
       "      <td>SABARÁ</td>\n",
       "      <td>ADMINISTRAÇÃO</td>\n",
       "      <td>-120.0</td>\n",
       "      <td>-79.0</td>\n",
       "      <td>-9.0</td>\n",
       "      <td>-88.0</td>\n",
       "    </tr>\n",
       "    <tr>\n",
       "      <th>41</th>\n",
       "      <td>RIBEIRÃO DAS NEVES</td>\n",
       "      <td>ADMINISTRAÇÃO</td>\n",
       "      <td>-139.0</td>\n",
       "      <td>-62.0</td>\n",
       "      <td>-22.0</td>\n",
       "      <td>-84.0</td>\n",
       "    </tr>\n",
       "    <tr>\n",
       "      <th>11</th>\n",
       "      <td>BETIM</td>\n",
       "      <td>ENGENHARIA DE CONTROLE E AUTOMAÇÃO</td>\n",
       "      <td>-118.0</td>\n",
       "      <td>-72.0</td>\n",
       "      <td>-9.0</td>\n",
       "      <td>-81.0</td>\n",
       "    </tr>\n",
       "    <tr>\n",
       "      <th>46</th>\n",
       "      <td>SABARÁ</td>\n",
       "      <td>SISTEMAS DE INFORMAÇÃO</td>\n",
       "      <td>-92.0</td>\n",
       "      <td>-53.0</td>\n",
       "      <td>-17.0</td>\n",
       "      <td>-70.0</td>\n",
       "    </tr>\n",
       "    <tr>\n",
       "      <th>30</th>\n",
       "      <td>OURO BRANCO</td>\n",
       "      <td>ADMINISTRAÇÃO</td>\n",
       "      <td>-101.0</td>\n",
       "      <td>-54.0</td>\n",
       "      <td>-12.0</td>\n",
       "      <td>-66.0</td>\n",
       "    </tr>\n",
       "    <tr>\n",
       "      <th>12</th>\n",
       "      <td>BETIM</td>\n",
       "      <td>ENGENHARIA MECÂNICA</td>\n",
       "      <td>-94.0</td>\n",
       "      <td>-48.0</td>\n",
       "      <td>-17.0</td>\n",
       "      <td>-65.0</td>\n",
       "    </tr>\n",
       "    <tr>\n",
       "      <th>13</th>\n",
       "      <td>CONGONHAS</td>\n",
       "      <td>ENGENHARIA DE PRODUÇÃO</td>\n",
       "      <td>-75.0</td>\n",
       "      <td>-40.0</td>\n",
       "      <td>-14.0</td>\n",
       "      <td>-54.0</td>\n",
       "    </tr>\n",
       "    <tr>\n",
       "      <th>44</th>\n",
       "      <td>SABARÁ</td>\n",
       "      <td>ENGENHARIA DE CONTROLE E AUTOMAÇÃO</td>\n",
       "      <td>-53.0</td>\n",
       "      <td>-41.0</td>\n",
       "      <td>-12.0</td>\n",
       "      <td>-53.0</td>\n",
       "    </tr>\n",
       "    <tr>\n",
       "      <th>51</th>\n",
       "      <td>SÃO JOÃO EVANGELISTA</td>\n",
       "      <td>AGRONOMIA</td>\n",
       "      <td>-36.0</td>\n",
       "      <td>-42.0</td>\n",
       "      <td>-5.0</td>\n",
       "      <td>-47.0</td>\n",
       "    </tr>\n",
       "    <tr>\n",
       "      <th>27</th>\n",
       "      <td>IBIRITÉ</td>\n",
       "      <td>ENGENHARIA DE CONTROLE E AUTOMAÇÃO</td>\n",
       "      <td>-78.0</td>\n",
       "      <td>-42.0</td>\n",
       "      <td>-3.0</td>\n",
       "      <td>-45.0</td>\n",
       "    </tr>\n",
       "    <tr>\n",
       "      <th>47</th>\n",
       "      <td>SANTA LUZIA</td>\n",
       "      <td>ARQUITETURA E URBANISMO</td>\n",
       "      <td>-22.0</td>\n",
       "      <td>-34.0</td>\n",
       "      <td>-1.0</td>\n",
       "      <td>-35.0</td>\n",
       "    </tr>\n",
       "    <tr>\n",
       "      <th>18</th>\n",
       "      <td>FORMIGA</td>\n",
       "      <td>CIÊNCIA DA COMPUTAÇÃO</td>\n",
       "      <td>-26.0</td>\n",
       "      <td>-23.0</td>\n",
       "      <td>-8.0</td>\n",
       "      <td>-31.0</td>\n",
       "    </tr>\n",
       "    <tr>\n",
       "      <th>2</th>\n",
       "      <td>BAMBUÍ</td>\n",
       "      <td>AGRONOMIA</td>\n",
       "      <td>-53.0</td>\n",
       "      <td>-34.0</td>\n",
       "      <td>4.0</td>\n",
       "      <td>-30.0</td>\n",
       "    </tr>\n",
       "    <tr>\n",
       "      <th>28</th>\n",
       "      <td>IPATINGA</td>\n",
       "      <td>ENGENHARIA ELÉTRICA</td>\n",
       "      <td>-62.0</td>\n",
       "      <td>-19.0</td>\n",
       "      <td>-10.0</td>\n",
       "      <td>-29.0</td>\n",
       "    </tr>\n",
       "    <tr>\n",
       "      <th>17</th>\n",
       "      <td>FORMIGA</td>\n",
       "      <td>ADMINISTRAÇÃO</td>\n",
       "      <td>-30.0</td>\n",
       "      <td>-17.0</td>\n",
       "      <td>-10.0</td>\n",
       "      <td>-27.0</td>\n",
       "    </tr>\n",
       "    <tr>\n",
       "      <th>37</th>\n",
       "      <td>OURO PRETO</td>\n",
       "      <td>GEOGRAFIA</td>\n",
       "      <td>-33.0</td>\n",
       "      <td>-24.0</td>\n",
       "      <td>-2.0</td>\n",
       "      <td>-26.0</td>\n",
       "    </tr>\n",
       "    <tr>\n",
       "      <th>6</th>\n",
       "      <td>BAMBUÍ</td>\n",
       "      <td>ENGENHARIA DE COMPUTAÇÃO</td>\n",
       "      <td>-32.0</td>\n",
       "      <td>-21.0</td>\n",
       "      <td>-4.0</td>\n",
       "      <td>-25.0</td>\n",
       "    </tr>\n",
       "    <tr>\n",
       "      <th>29</th>\n",
       "      <td>ITABIRITO</td>\n",
       "      <td>ENGENHARIA ELÉTRICA</td>\n",
       "      <td>-15.0</td>\n",
       "      <td>-13.0</td>\n",
       "      <td>-9.0</td>\n",
       "      <td>-22.0</td>\n",
       "    </tr>\n",
       "    <tr>\n",
       "      <th>50</th>\n",
       "      <td>SÃO JOÃO EVANGELISTA</td>\n",
       "      <td>ADMINISTRAÇÃO</td>\n",
       "      <td>-29.0</td>\n",
       "      <td>-9.0</td>\n",
       "      <td>-13.0</td>\n",
       "      <td>-22.0</td>\n",
       "    </tr>\n",
       "    <tr>\n",
       "      <th>31</th>\n",
       "      <td>OURO BRANCO</td>\n",
       "      <td>ENGENHARIA METALÚRGICA</td>\n",
       "      <td>-25.0</td>\n",
       "      <td>-22.0</td>\n",
       "      <td>1.0</td>\n",
       "      <td>-21.0</td>\n",
       "    </tr>\n",
       "    <tr>\n",
       "      <th>35</th>\n",
       "      <td>OURO PRETO</td>\n",
       "      <td>CONSERVAÇÃO E RESTAURO</td>\n",
       "      <td>-47.0</td>\n",
       "      <td>-17.0</td>\n",
       "      <td>-4.0</td>\n",
       "      <td>-21.0</td>\n",
       "    </tr>\n",
       "    <tr>\n",
       "      <th>22</th>\n",
       "      <td>GOVERNADOR VALADARES</td>\n",
       "      <td>ENGENHARIA CIVIL</td>\n",
       "      <td>-19.0</td>\n",
       "      <td>-18.0</td>\n",
       "      <td>0.0</td>\n",
       "      <td>-18.0</td>\n",
       "    </tr>\n",
       "    <tr>\n",
       "      <th>1</th>\n",
       "      <td>BAMBUÍ</td>\n",
       "      <td>ADMINISTRAÇÃO</td>\n",
       "      <td>-16.0</td>\n",
       "      <td>-14.0</td>\n",
       "      <td>-1.0</td>\n",
       "      <td>-15.0</td>\n",
       "    </tr>\n",
       "    <tr>\n",
       "      <th>4</th>\n",
       "      <td>BAMBUÍ</td>\n",
       "      <td>EDUCAÇÃO FÍSICA</td>\n",
       "      <td>-16.0</td>\n",
       "      <td>-13.0</td>\n",
       "      <td>-2.0</td>\n",
       "      <td>-15.0</td>\n",
       "    </tr>\n",
       "    <tr>\n",
       "      <th>48</th>\n",
       "      <td>SANTA LUZIA</td>\n",
       "      <td>DESIGN DE INTERIORES</td>\n",
       "      <td>-22.0</td>\n",
       "      <td>-11.0</td>\n",
       "      <td>-1.0</td>\n",
       "      <td>-12.0</td>\n",
       "    </tr>\n",
       "    <tr>\n",
       "      <th>49</th>\n",
       "      <td>SANTA LUZIA</td>\n",
       "      <td>ENGENHARIA CIVIL</td>\n",
       "      <td>-3.0</td>\n",
       "      <td>-23.0</td>\n",
       "      <td>11.0</td>\n",
       "      <td>-12.0</td>\n",
       "    </tr>\n",
       "    <tr>\n",
       "      <th>5</th>\n",
       "      <td>BAMBUÍ</td>\n",
       "      <td>ENGENHARIA DE ALIMENTOS</td>\n",
       "      <td>-13.0</td>\n",
       "      <td>-6.0</td>\n",
       "      <td>-5.0</td>\n",
       "      <td>-11.0</td>\n",
       "    </tr>\n",
       "    <tr>\n",
       "      <th>42</th>\n",
       "      <td>RIBEIRÃO DAS NEVES</td>\n",
       "      <td>PROCESSOS GERENCIAIS</td>\n",
       "      <td>-23.0</td>\n",
       "      <td>-13.0</td>\n",
       "      <td>2.0</td>\n",
       "      <td>-11.0</td>\n",
       "    </tr>\n",
       "    <tr>\n",
       "      <th>52</th>\n",
       "      <td>SÃO JOÃO EVANGELISTA</td>\n",
       "      <td>CIÊNCIAS BIOLÓGICAS</td>\n",
       "      <td>-12.0</td>\n",
       "      <td>-7.0</td>\n",
       "      <td>-4.0</td>\n",
       "      <td>-11.0</td>\n",
       "    </tr>\n",
       "    <tr>\n",
       "      <th>36</th>\n",
       "      <td>OURO PRETO</td>\n",
       "      <td>FÍSICA</td>\n",
       "      <td>-13.0</td>\n",
       "      <td>-3.0</td>\n",
       "      <td>-6.0</td>\n",
       "      <td>-9.0</td>\n",
       "    </tr>\n",
       "    <tr>\n",
       "      <th>19</th>\n",
       "      <td>FORMIGA</td>\n",
       "      <td>ENGENHARIA ELÉTRICA</td>\n",
       "      <td>-12.0</td>\n",
       "      <td>-6.0</td>\n",
       "      <td>-2.0</td>\n",
       "      <td>-8.0</td>\n",
       "    </tr>\n",
       "    <tr>\n",
       "      <th>45</th>\n",
       "      <td>SABARÁ</td>\n",
       "      <td>LOGÍSTICA</td>\n",
       "      <td>16.0</td>\n",
       "      <td>-4.0</td>\n",
       "      <td>-4.0</td>\n",
       "      <td>-8.0</td>\n",
       "    </tr>\n",
       "    <tr>\n",
       "      <th>7</th>\n",
       "      <td>BAMBUÍ</td>\n",
       "      <td>ENGENHARIA DE PRODUÇÃO</td>\n",
       "      <td>-7.0</td>\n",
       "      <td>-4.0</td>\n",
       "      <td>-1.0</td>\n",
       "      <td>-5.0</td>\n",
       "    </tr>\n",
       "    <tr>\n",
       "      <th>24</th>\n",
       "      <td>GOVERNADOR VALADARES</td>\n",
       "      <td>ENGENHARIA DE PRODUÇÃO</td>\n",
       "      <td>0.0</td>\n",
       "      <td>0.0</td>\n",
       "      <td>-5.0</td>\n",
       "      <td>-5.0</td>\n",
       "    </tr>\n",
       "    <tr>\n",
       "      <th>8</th>\n",
       "      <td>BAMBUÍ</td>\n",
       "      <td>FÍSICA</td>\n",
       "      <td>-3.0</td>\n",
       "      <td>-3.0</td>\n",
       "      <td>-1.0</td>\n",
       "      <td>-4.0</td>\n",
       "    </tr>\n",
       "    <tr>\n",
       "      <th>20</th>\n",
       "      <td>FORMIGA</td>\n",
       "      <td>MATEMÁTICA</td>\n",
       "      <td>-9.0</td>\n",
       "      <td>-4.0</td>\n",
       "      <td>0.0</td>\n",
       "      <td>-4.0</td>\n",
       "    </tr>\n",
       "    <tr>\n",
       "      <th>3</th>\n",
       "      <td>BAMBUÍ</td>\n",
       "      <td>CIÊNCIAS BIOLÓGICAS</td>\n",
       "      <td>-7.0</td>\n",
       "      <td>1.0</td>\n",
       "      <td>-4.0</td>\n",
       "      <td>-3.0</td>\n",
       "    </tr>\n",
       "    <tr>\n",
       "      <th>10</th>\n",
       "      <td>BAMBUÍ</td>\n",
       "      <td>ZOOTECNIA</td>\n",
       "      <td>-6.0</td>\n",
       "      <td>-7.0</td>\n",
       "      <td>6.0</td>\n",
       "      <td>-1.0</td>\n",
       "    </tr>\n",
       "    <tr>\n",
       "      <th>38</th>\n",
       "      <td>PIUMHI</td>\n",
       "      <td>ENGENHARIA CIVIL</td>\n",
       "      <td>9.0</td>\n",
       "      <td>1.0</td>\n",
       "      <td>1.0</td>\n",
       "      <td>2.0</td>\n",
       "    </tr>\n",
       "    <tr>\n",
       "      <th>53</th>\n",
       "      <td>SÃO JOÃO EVANGELISTA</td>\n",
       "      <td>ENGENHARIA FLORESTAL</td>\n",
       "      <td>0.0</td>\n",
       "      <td>-5.0</td>\n",
       "      <td>7.0</td>\n",
       "      <td>2.0</td>\n",
       "    </tr>\n",
       "    <tr>\n",
       "      <th>54</th>\n",
       "      <td>SÃO JOÃO EVANGELISTA</td>\n",
       "      <td>MATEMÁTICA</td>\n",
       "      <td>2.0</td>\n",
       "      <td>3.0</td>\n",
       "      <td>-1.0</td>\n",
       "      <td>2.0</td>\n",
       "    </tr>\n",
       "    <tr>\n",
       "      <th>14</th>\n",
       "      <td>CONGONHAS</td>\n",
       "      <td>FÍSICA</td>\n",
       "      <td>10.0</td>\n",
       "      <td>4.0</td>\n",
       "      <td>5.0</td>\n",
       "      <td>9.0</td>\n",
       "    </tr>\n",
       "    <tr>\n",
       "      <th>32</th>\n",
       "      <td>OURO BRANCO</td>\n",
       "      <td>PEDAGOGIA</td>\n",
       "      <td>19.0</td>\n",
       "      <td>12.0</td>\n",
       "      <td>4.0</td>\n",
       "      <td>16.0</td>\n",
       "    </tr>\n",
       "    <tr>\n",
       "      <th>0</th>\n",
       "      <td>ARCOS</td>\n",
       "      <td>ENGENHARIA MECÂNICA</td>\n",
       "      <td>117.0</td>\n",
       "      <td>72.0</td>\n",
       "      <td>1.0</td>\n",
       "      <td>73.0</td>\n",
       "    </tr>\n",
       "    <tr>\n",
       "      <th>15</th>\n",
       "      <td>CONGONHAS</td>\n",
       "      <td>LETRAS</td>\n",
       "      <td>NaN</td>\n",
       "      <td>NaN</td>\n",
       "      <td>NaN</td>\n",
       "      <td>NaN</td>\n",
       "    </tr>\n",
       "    <tr>\n",
       "      <th>16</th>\n",
       "      <td>CONGONHAS</td>\n",
       "      <td>LETRAS (PORTUGUÊS INGLÊS)</td>\n",
       "      <td>NaN</td>\n",
       "      <td>NaN</td>\n",
       "      <td>NaN</td>\n",
       "      <td>NaN</td>\n",
       "    </tr>\n",
       "    <tr>\n",
       "      <th>21</th>\n",
       "      <td>GOVERNADOR VALADARES</td>\n",
       "      <td>ENGENHARIA AMBIENTAL E SANITÁRIA</td>\n",
       "      <td>NaN</td>\n",
       "      <td>NaN</td>\n",
       "      <td>NaN</td>\n",
       "      <td>NaN</td>\n",
       "    </tr>\n",
       "    <tr>\n",
       "      <th>23</th>\n",
       "      <td>GOVERNADOR VALADARES</td>\n",
       "      <td>ENGENHARIA DE AMBIENTAL E SANITÁRIA</td>\n",
       "      <td>NaN</td>\n",
       "      <td>NaN</td>\n",
       "      <td>NaN</td>\n",
       "      <td>NaN</td>\n",
       "    </tr>\n",
       "    <tr>\n",
       "      <th>25</th>\n",
       "      <td>GOVERNADOR VALADARES</td>\n",
       "      <td>GESTÃO AMBIENTAL</td>\n",
       "      <td>NaN</td>\n",
       "      <td>NaN</td>\n",
       "      <td>NaN</td>\n",
       "      <td>NaN</td>\n",
       "    </tr>\n",
       "    <tr>\n",
       "      <th>26</th>\n",
       "      <td>GOVERNADOR VALADARES</td>\n",
       "      <td>TECNOLOGIA EM GESTÃO AMBIENTAL</td>\n",
       "      <td>NaN</td>\n",
       "      <td>NaN</td>\n",
       "      <td>NaN</td>\n",
       "      <td>NaN</td>\n",
       "    </tr>\n",
       "    <tr>\n",
       "      <th>33</th>\n",
       "      <td>OURO BRANCO</td>\n",
       "      <td>SISTEMA DE INFORMAÇÃO</td>\n",
       "      <td>NaN</td>\n",
       "      <td>NaN</td>\n",
       "      <td>NaN</td>\n",
       "      <td>NaN</td>\n",
       "    </tr>\n",
       "    <tr>\n",
       "      <th>34</th>\n",
       "      <td>OURO BRANCO</td>\n",
       "      <td>SISTEMAS DE INFORMAÇÃO</td>\n",
       "      <td>NaN</td>\n",
       "      <td>NaN</td>\n",
       "      <td>NaN</td>\n",
       "      <td>NaN</td>\n",
       "    </tr>\n",
       "    <tr>\n",
       "      <th>39</th>\n",
       "      <td>PONTE NOVA</td>\n",
       "      <td>PROCESSOS GERENCIAIS</td>\n",
       "      <td>NaN</td>\n",
       "      <td>NaN</td>\n",
       "      <td>NaN</td>\n",
       "      <td>NaN</td>\n",
       "    </tr>\n",
       "    <tr>\n",
       "      <th>40</th>\n",
       "      <td>PONTE NOVA</td>\n",
       "      <td>TECNOLOGIA EM PROCESSOS GERENCIAIS</td>\n",
       "      <td>NaN</td>\n",
       "      <td>NaN</td>\n",
       "      <td>NaN</td>\n",
       "      <td>NaN</td>\n",
       "    </tr>\n",
       "    <tr>\n",
       "      <th>55</th>\n",
       "      <td>SÃO JOÃO EVANGELISTA</td>\n",
       "      <td>SISTEMA DE INFORMAÇÃO</td>\n",
       "      <td>NaN</td>\n",
       "      <td>NaN</td>\n",
       "      <td>NaN</td>\n",
       "      <td>NaN</td>\n",
       "    </tr>\n",
       "    <tr>\n",
       "      <th>56</th>\n",
       "      <td>SÃO JOÃO EVANGELISTA</td>\n",
       "      <td>SISTEMAS DE INFORMAÇÃO</td>\n",
       "      <td>NaN</td>\n",
       "      <td>NaN</td>\n",
       "      <td>NaN</td>\n",
       "      <td>NaN</td>\n",
       "    </tr>\n",
       "  </tbody>\n",
       "</table>\n",
       "</div>"
      ],
      "text/plain": [
       "                  Campus                                Curso  Inscritos  \\\n",
       "9                 BAMBUÍ                 MEDICINA VETERINÁRIA     -115.0   \n",
       "43                SABARÁ                        ADMINISTRAÇÃO     -120.0   \n",
       "41    RIBEIRÃO DAS NEVES                        ADMINISTRAÇÃO     -139.0   \n",
       "11                 BETIM   ENGENHARIA DE CONTROLE E AUTOMAÇÃO     -118.0   \n",
       "46                SABARÁ               SISTEMAS DE INFORMAÇÃO      -92.0   \n",
       "30           OURO BRANCO                        ADMINISTRAÇÃO     -101.0   \n",
       "12                 BETIM                  ENGENHARIA MECÂNICA      -94.0   \n",
       "13             CONGONHAS               ENGENHARIA DE PRODUÇÃO      -75.0   \n",
       "44                SABARÁ   ENGENHARIA DE CONTROLE E AUTOMAÇÃO      -53.0   \n",
       "51  SÃO JOÃO EVANGELISTA                            AGRONOMIA      -36.0   \n",
       "27               IBIRITÉ   ENGENHARIA DE CONTROLE E AUTOMAÇÃO      -78.0   \n",
       "47           SANTA LUZIA              ARQUITETURA E URBANISMO      -22.0   \n",
       "18               FORMIGA                CIÊNCIA DA COMPUTAÇÃO      -26.0   \n",
       "2                 BAMBUÍ                            AGRONOMIA      -53.0   \n",
       "28              IPATINGA                  ENGENHARIA ELÉTRICA      -62.0   \n",
       "17               FORMIGA                        ADMINISTRAÇÃO      -30.0   \n",
       "37            OURO PRETO                            GEOGRAFIA      -33.0   \n",
       "6                 BAMBUÍ             ENGENHARIA DE COMPUTAÇÃO      -32.0   \n",
       "29             ITABIRITO                  ENGENHARIA ELÉTRICA      -15.0   \n",
       "50  SÃO JOÃO EVANGELISTA                        ADMINISTRAÇÃO      -29.0   \n",
       "31           OURO BRANCO               ENGENHARIA METALÚRGICA      -25.0   \n",
       "35            OURO PRETO               CONSERVAÇÃO E RESTAURO      -47.0   \n",
       "22  GOVERNADOR VALADARES                     ENGENHARIA CIVIL      -19.0   \n",
       "1                 BAMBUÍ                        ADMINISTRAÇÃO      -16.0   \n",
       "4                 BAMBUÍ                      EDUCAÇÃO FÍSICA      -16.0   \n",
       "48           SANTA LUZIA                 DESIGN DE INTERIORES      -22.0   \n",
       "49           SANTA LUZIA                     ENGENHARIA CIVIL       -3.0   \n",
       "5                 BAMBUÍ              ENGENHARIA DE ALIMENTOS      -13.0   \n",
       "42    RIBEIRÃO DAS NEVES                 PROCESSOS GERENCIAIS      -23.0   \n",
       "52  SÃO JOÃO EVANGELISTA                  CIÊNCIAS BIOLÓGICAS      -12.0   \n",
       "36            OURO PRETO                               FÍSICA      -13.0   \n",
       "19               FORMIGA                  ENGENHARIA ELÉTRICA      -12.0   \n",
       "45                SABARÁ                            LOGÍSTICA       16.0   \n",
       "7                 BAMBUÍ               ENGENHARIA DE PRODUÇÃO       -7.0   \n",
       "24  GOVERNADOR VALADARES               ENGENHARIA DE PRODUÇÃO        0.0   \n",
       "8                 BAMBUÍ                               FÍSICA       -3.0   \n",
       "20               FORMIGA                           MATEMÁTICA       -9.0   \n",
       "3                 BAMBUÍ                  CIÊNCIAS BIOLÓGICAS       -7.0   \n",
       "10                BAMBUÍ                            ZOOTECNIA       -6.0   \n",
       "38                PIUMHI                     ENGENHARIA CIVIL        9.0   \n",
       "53  SÃO JOÃO EVANGELISTA                 ENGENHARIA FLORESTAL        0.0   \n",
       "54  SÃO JOÃO EVANGELISTA                           MATEMÁTICA        2.0   \n",
       "14             CONGONHAS                               FÍSICA       10.0   \n",
       "32           OURO BRANCO                            PEDAGOGIA       19.0   \n",
       "0                  ARCOS                  ENGENHARIA MECÂNICA      117.0   \n",
       "15             CONGONHAS                               LETRAS        NaN   \n",
       "16             CONGONHAS            LETRAS (PORTUGUÊS INGLÊS)        NaN   \n",
       "21  GOVERNADOR VALADARES     ENGENHARIA AMBIENTAL E SANITÁRIA        NaN   \n",
       "23  GOVERNADOR VALADARES  ENGENHARIA DE AMBIENTAL E SANITÁRIA        NaN   \n",
       "25  GOVERNADOR VALADARES                     GESTÃO AMBIENTAL        NaN   \n",
       "26  GOVERNADOR VALADARES       TECNOLOGIA EM GESTÃO AMBIENTAL        NaN   \n",
       "33           OURO BRANCO                SISTEMA DE INFORMAÇÃO        NaN   \n",
       "34           OURO BRANCO               SISTEMAS DE INFORMAÇÃO        NaN   \n",
       "39            PONTE NOVA                 PROCESSOS GERENCIAIS        NaN   \n",
       "40            PONTE NOVA   TECNOLOGIA EM PROCESSOS GERENCIAIS        NaN   \n",
       "55  SÃO JOÃO EVANGELISTA                SISTEMA DE INFORMAÇÃO        NaN   \n",
       "56  SÃO JOÃO EVANGELISTA               SISTEMAS DE INFORMAÇÃO        NaN   \n",
       "\n",
       "    Pagos  Deferidas  Homologadas  \n",
       "9   -82.0      -17.0        -99.0  \n",
       "43  -79.0       -9.0        -88.0  \n",
       "41  -62.0      -22.0        -84.0  \n",
       "11  -72.0       -9.0        -81.0  \n",
       "46  -53.0      -17.0        -70.0  \n",
       "30  -54.0      -12.0        -66.0  \n",
       "12  -48.0      -17.0        -65.0  \n",
       "13  -40.0      -14.0        -54.0  \n",
       "44  -41.0      -12.0        -53.0  \n",
       "51  -42.0       -5.0        -47.0  \n",
       "27  -42.0       -3.0        -45.0  \n",
       "47  -34.0       -1.0        -35.0  \n",
       "18  -23.0       -8.0        -31.0  \n",
       "2   -34.0        4.0        -30.0  \n",
       "28  -19.0      -10.0        -29.0  \n",
       "17  -17.0      -10.0        -27.0  \n",
       "37  -24.0       -2.0        -26.0  \n",
       "6   -21.0       -4.0        -25.0  \n",
       "29  -13.0       -9.0        -22.0  \n",
       "50   -9.0      -13.0        -22.0  \n",
       "31  -22.0        1.0        -21.0  \n",
       "35  -17.0       -4.0        -21.0  \n",
       "22  -18.0        0.0        -18.0  \n",
       "1   -14.0       -1.0        -15.0  \n",
       "4   -13.0       -2.0        -15.0  \n",
       "48  -11.0       -1.0        -12.0  \n",
       "49  -23.0       11.0        -12.0  \n",
       "5    -6.0       -5.0        -11.0  \n",
       "42  -13.0        2.0        -11.0  \n",
       "52   -7.0       -4.0        -11.0  \n",
       "36   -3.0       -6.0         -9.0  \n",
       "19   -6.0       -2.0         -8.0  \n",
       "45   -4.0       -4.0         -8.0  \n",
       "7    -4.0       -1.0         -5.0  \n",
       "24    0.0       -5.0         -5.0  \n",
       "8    -3.0       -1.0         -4.0  \n",
       "20   -4.0        0.0         -4.0  \n",
       "3     1.0       -4.0         -3.0  \n",
       "10   -7.0        6.0         -1.0  \n",
       "38    1.0        1.0          2.0  \n",
       "53   -5.0        7.0          2.0  \n",
       "54    3.0       -1.0          2.0  \n",
       "14    4.0        5.0          9.0  \n",
       "32   12.0        4.0         16.0  \n",
       "0    72.0        1.0         73.0  \n",
       "15    NaN        NaN          NaN  \n",
       "16    NaN        NaN          NaN  \n",
       "21    NaN        NaN          NaN  \n",
       "23    NaN        NaN          NaN  \n",
       "25    NaN        NaN          NaN  \n",
       "26    NaN        NaN          NaN  \n",
       "33    NaN        NaN          NaN  \n",
       "34    NaN        NaN          NaN  \n",
       "39    NaN        NaN          NaN  \n",
       "40    NaN        NaN          NaN  \n",
       "55    NaN        NaN          NaN  \n",
       "56    NaN        NaN          NaN  "
      ]
     },
     "execution_count": 245,
     "metadata": {},
     "output_type": "execute_result"
    }
   ],
   "source": [
    "diff2(df2023, df2024, [\"Campus\",\"Curso\"]).sort_values([\"Homologadas\",\"Campus\"])"
   ]
  },
  {
   "cell_type": "code",
   "execution_count": 246,
   "id": "a908cc4d",
   "metadata": {},
   "outputs": [
    {
     "data": {
      "text/html": [
       "<div>\n",
       "<style scoped>\n",
       "    .dataframe tbody tr th:only-of-type {\n",
       "        vertical-align: middle;\n",
       "    }\n",
       "\n",
       "    .dataframe tbody tr th {\n",
       "        vertical-align: top;\n",
       "    }\n",
       "\n",
       "    .dataframe thead th {\n",
       "        text-align: right;\n",
       "    }\n",
       "</style>\n",
       "<table border=\"1\" class=\"dataframe\">\n",
       "  <thead>\n",
       "    <tr style=\"text-align: right;\">\n",
       "      <th></th>\n",
       "      <th>Curso</th>\n",
       "      <th>Tipo de Vaga</th>\n",
       "      <th>Campus</th>\n",
       "      <th>Turno</th>\n",
       "      <th>Nivel</th>\n",
       "      <th>Inscritos</th>\n",
       "      <th>Pagos</th>\n",
       "      <th>Deferidas</th>\n",
       "      <th>Homologadas</th>\n",
       "    </tr>\n",
       "  </thead>\n",
       "  <tbody>\n",
       "    <tr>\n",
       "      <th>16</th>\n",
       "      <td>CONSERVAÇÃO E RESTAURO</td>\n",
       "      <td>Analise de Desempenho Escolar mais uma prova d...</td>\n",
       "      <td>OURO PRETO</td>\n",
       "      <td>Turno Noturno</td>\n",
       "      <td>Nível Médio</td>\n",
       "      <td>1</td>\n",
       "      <td>1</td>\n",
       "      <td>0</td>\n",
       "      <td>1</td>\n",
       "    </tr>\n",
       "    <tr>\n",
       "      <th>17</th>\n",
       "      <td>CONSERVAÇÃO E RESTAURO</td>\n",
       "      <td>Aproveitamento de notas obtidas no ENEM</td>\n",
       "      <td>OURO PRETO</td>\n",
       "      <td>Turno Noturno</td>\n",
       "      <td>Nível Médio</td>\n",
       "      <td>30</td>\n",
       "      <td>16</td>\n",
       "      <td>5</td>\n",
       "      <td>21</td>\n",
       "    </tr>\n",
       "    <tr>\n",
       "      <th>48</th>\n",
       "      <td>FÍSICA</td>\n",
       "      <td>Analise de Desempenho Escolar mais uma prova d...</td>\n",
       "      <td>OURO PRETO</td>\n",
       "      <td>Turno Noturno</td>\n",
       "      <td>Nível Médio</td>\n",
       "      <td>5</td>\n",
       "      <td>1</td>\n",
       "      <td>0</td>\n",
       "      <td>1</td>\n",
       "    </tr>\n",
       "    <tr>\n",
       "      <th>49</th>\n",
       "      <td>FÍSICA</td>\n",
       "      <td>Aproveitamento de notas obtidas no ENEM</td>\n",
       "      <td>OURO PRETO</td>\n",
       "      <td>Turno Noturno</td>\n",
       "      <td>Nível Médio</td>\n",
       "      <td>9</td>\n",
       "      <td>4</td>\n",
       "      <td>1</td>\n",
       "      <td>5</td>\n",
       "    </tr>\n",
       "    <tr>\n",
       "      <th>50</th>\n",
       "      <td>GEOGRAFIA</td>\n",
       "      <td>Analise de Desempenho Escolar mais uma prova d...</td>\n",
       "      <td>OURO PRETO</td>\n",
       "      <td>Turno Noturno</td>\n",
       "      <td>Nível Médio</td>\n",
       "      <td>21</td>\n",
       "      <td>3</td>\n",
       "      <td>11</td>\n",
       "      <td>14</td>\n",
       "    </tr>\n",
       "    <tr>\n",
       "      <th>51</th>\n",
       "      <td>GEOGRAFIA</td>\n",
       "      <td>Aproveitamento de notas obtidas no ENEM</td>\n",
       "      <td>OURO PRETO</td>\n",
       "      <td>Turno Noturno</td>\n",
       "      <td>Nível Médio</td>\n",
       "      <td>31</td>\n",
       "      <td>5</td>\n",
       "      <td>6</td>\n",
       "      <td>11</td>\n",
       "    </tr>\n",
       "  </tbody>\n",
       "</table>\n",
       "</div>"
      ],
      "text/plain": [
       "                     Curso                                       Tipo de Vaga  \\\n",
       "16  CONSERVAÇÃO E RESTAURO  Analise de Desempenho Escolar mais uma prova d...   \n",
       "17  CONSERVAÇÃO E RESTAURO            Aproveitamento de notas obtidas no ENEM   \n",
       "48                  FÍSICA  Analise de Desempenho Escolar mais uma prova d...   \n",
       "49                  FÍSICA            Aproveitamento de notas obtidas no ENEM   \n",
       "50               GEOGRAFIA  Analise de Desempenho Escolar mais uma prova d...   \n",
       "51               GEOGRAFIA            Aproveitamento de notas obtidas no ENEM   \n",
       "\n",
       "        Campus           Turno        Nivel  Inscritos  Pagos  Deferidas  \\\n",
       "16  OURO PRETO   Turno Noturno  Nível Médio          1      1          0   \n",
       "17  OURO PRETO   Turno Noturno  Nível Médio         30     16          5   \n",
       "48  OURO PRETO   Turno Noturno  Nível Médio          5      1          0   \n",
       "49  OURO PRETO   Turno Noturno  Nível Médio          9      4          1   \n",
       "50  OURO PRETO   Turno Noturno  Nível Médio         21      3         11   \n",
       "51  OURO PRETO   Turno Noturno  Nível Médio         31      5          6   \n",
       "\n",
       "    Homologadas  \n",
       "16            1  \n",
       "17           21  \n",
       "48            1  \n",
       "49            5  \n",
       "50           14  \n",
       "51           11  "
      ]
     },
     "execution_count": 246,
     "metadata": {},
     "output_type": "execute_result"
    }
   ],
   "source": [
    "df2024[df2024['Campus'] == \"OURO PRETO\"]"
   ]
  },
  {
   "cell_type": "code",
   "execution_count": 247,
   "id": "1fc5c849",
   "metadata": {},
   "outputs": [],
   "source": [
    "campus = \"PONTE NOVA\""
   ]
  },
  {
   "cell_type": "code",
   "execution_count": 248,
   "id": "0cb51814",
   "metadata": {},
   "outputs": [
    {
     "data": {
      "text/plain": [
       "'PONTE NOVA'"
      ]
     },
     "execution_count": 248,
     "metadata": {},
     "output_type": "execute_result"
    }
   ],
   "source": [
    "campus"
   ]
  },
  {
   "cell_type": "code",
   "execution_count": 249,
   "id": "32198b79",
   "metadata": {},
   "outputs": [
    {
     "data": {
      "text/html": [
       "<div>\n",
       "<style scoped>\n",
       "    .dataframe tbody tr th:only-of-type {\n",
       "        vertical-align: middle;\n",
       "    }\n",
       "\n",
       "    .dataframe tbody tr th {\n",
       "        vertical-align: top;\n",
       "    }\n",
       "\n",
       "    .dataframe thead th {\n",
       "        text-align: right;\n",
       "    }\n",
       "</style>\n",
       "<table border=\"1\" class=\"dataframe\">\n",
       "  <thead>\n",
       "    <tr style=\"text-align: right;\">\n",
       "      <th></th>\n",
       "      <th>Curso</th>\n",
       "      <th>Inscritos</th>\n",
       "      <th>Pagos</th>\n",
       "      <th>Deferidas</th>\n",
       "      <th>Homologadas</th>\n",
       "    </tr>\n",
       "  </thead>\n",
       "  <tbody>\n",
       "    <tr>\n",
       "      <th>0</th>\n",
       "      <td>PROCESSOS GERENCIAIS</td>\n",
       "      <td>NaN</td>\n",
       "      <td>NaN</td>\n",
       "      <td>NaN</td>\n",
       "      <td>NaN</td>\n",
       "    </tr>\n",
       "    <tr>\n",
       "      <th>1</th>\n",
       "      <td>TECNOLOGIA EM PROCESSOS GERENCIAIS</td>\n",
       "      <td>NaN</td>\n",
       "      <td>NaN</td>\n",
       "      <td>NaN</td>\n",
       "      <td>NaN</td>\n",
       "    </tr>\n",
       "  </tbody>\n",
       "</table>\n",
       "</div>"
      ],
      "text/plain": [
       "                                Curso  Inscritos  Pagos  Deferidas  \\\n",
       "0                PROCESSOS GERENCIAIS        NaN    NaN        NaN   \n",
       "1  TECNOLOGIA EM PROCESSOS GERENCIAIS        NaN    NaN        NaN   \n",
       "\n",
       "   Homologadas  \n",
       "0          NaN  \n",
       "1          NaN  "
      ]
     },
     "execution_count": 249,
     "metadata": {},
     "output_type": "execute_result"
    }
   ],
   "source": [
    "diff(df2023, df2024, campus)"
   ]
  },
  {
   "cell_type": "code",
   "execution_count": 250,
   "id": "f16f9c4d",
   "metadata": {},
   "outputs": [
    {
     "data": {
      "text/html": [
       "<div>\n",
       "<style scoped>\n",
       "    .dataframe tbody tr th:only-of-type {\n",
       "        vertical-align: middle;\n",
       "    }\n",
       "\n",
       "    .dataframe tbody tr th {\n",
       "        vertical-align: top;\n",
       "    }\n",
       "\n",
       "    .dataframe thead th {\n",
       "        text-align: right;\n",
       "    }\n",
       "</style>\n",
       "<table border=\"1\" class=\"dataframe\">\n",
       "  <thead>\n",
       "    <tr style=\"text-align: right;\">\n",
       "      <th></th>\n",
       "      <th>Curso</th>\n",
       "      <th>Inscritos</th>\n",
       "      <th>Pagos</th>\n",
       "      <th>Deferidas</th>\n",
       "      <th>Homologadas</th>\n",
       "    </tr>\n",
       "  </thead>\n",
       "  <tbody>\n",
       "    <tr>\n",
       "      <th>0</th>\n",
       "      <td>PROCESSOS GERENCIAIS</td>\n",
       "      <td>91</td>\n",
       "      <td>33</td>\n",
       "      <td>15</td>\n",
       "      <td>48</td>\n",
       "    </tr>\n",
       "  </tbody>\n",
       "</table>\n",
       "</div>"
      ],
      "text/plain": [
       "                  Curso  Inscritos  Pagos  Deferidas  Homologadas\n",
       "0  PROCESSOS GERENCIAIS         91     33         15           48"
      ]
     },
     "execution_count": 250,
     "metadata": {},
     "output_type": "execute_result"
    }
   ],
   "source": [
    "dfg2023Curso = df2023[df2023[\"Campus\"] == campus].groupby(\"Curso\")[[\"Inscritos\",\"Pagos\", \"Deferidas\",\"Homologadas\"]].sum().reset_index().sort_values(by='Inscritos', ascending=False)\n",
    "dfg2023Curso"
   ]
  },
  {
   "cell_type": "code",
   "execution_count": 220,
   "id": "0b14861c",
   "metadata": {},
   "outputs": [
    {
     "data": {
      "text/html": [
       "<div>\n",
       "<style scoped>\n",
       "    .dataframe tbody tr th:only-of-type {\n",
       "        vertical-align: middle;\n",
       "    }\n",
       "\n",
       "    .dataframe tbody tr th {\n",
       "        vertical-align: top;\n",
       "    }\n",
       "\n",
       "    .dataframe thead th {\n",
       "        text-align: right;\n",
       "    }\n",
       "</style>\n",
       "<table border=\"1\" class=\"dataframe\">\n",
       "  <thead>\n",
       "    <tr style=\"text-align: right;\">\n",
       "      <th></th>\n",
       "      <th>Curso</th>\n",
       "      <th>Inscritos</th>\n",
       "      <th>Pagos</th>\n",
       "      <th>Deferidas</th>\n",
       "      <th>Homologadas</th>\n",
       "    </tr>\n",
       "  </thead>\n",
       "  <tbody>\n",
       "    <tr>\n",
       "      <th>0</th>\n",
       "      <td>TECNOLOGIA EM PROCESSOS GERENCIAIS</td>\n",
       "      <td>58</td>\n",
       "      <td>16</td>\n",
       "      <td>12</td>\n",
       "      <td>28</td>\n",
       "    </tr>\n",
       "  </tbody>\n",
       "</table>\n",
       "</div>"
      ],
      "text/plain": [
       "                                Curso  Inscritos  Pagos  Deferidas  \\\n",
       "0  TECNOLOGIA EM PROCESSOS GERENCIAIS         58     16         12   \n",
       "\n",
       "   Homologadas  \n",
       "0           28  "
      ]
     },
     "execution_count": 220,
     "metadata": {},
     "output_type": "execute_result"
    }
   ],
   "source": [
    "dfg2024Curso = df2024[df2024[\"Campus\"] == campus].groupby(\"Curso\")[[\"Inscritos\",\"Pagos\", \"Deferidas\",\"Homologadas\"]].sum().reset_index().sort_values(by='Inscritos', ascending=False)\n",
    "dfg2024Curso"
   ]
  },
  {
   "cell_type": "code",
   "execution_count": 221,
   "id": "0c8e3d51",
   "metadata": {},
   "outputs": [
    {
     "data": {
      "text/html": [
       "<div>\n",
       "<style scoped>\n",
       "    .dataframe tbody tr th:only-of-type {\n",
       "        vertical-align: middle;\n",
       "    }\n",
       "\n",
       "    .dataframe tbody tr th {\n",
       "        vertical-align: top;\n",
       "    }\n",
       "\n",
       "    .dataframe thead th {\n",
       "        text-align: right;\n",
       "    }\n",
       "</style>\n",
       "<table border=\"1\" class=\"dataframe\">\n",
       "  <thead>\n",
       "    <tr style=\"text-align: right;\">\n",
       "      <th></th>\n",
       "      <th>Inscritos</th>\n",
       "      <th>Pagos</th>\n",
       "      <th>Deferidas</th>\n",
       "      <th>Homologadas</th>\n",
       "    </tr>\n",
       "    <tr>\n",
       "      <th>Curso</th>\n",
       "      <th></th>\n",
       "      <th></th>\n",
       "      <th></th>\n",
       "      <th></th>\n",
       "    </tr>\n",
       "  </thead>\n",
       "  <tbody>\n",
       "    <tr>\n",
       "      <th>PROCESSOS GERENCIAIS</th>\n",
       "      <td>91</td>\n",
       "      <td>33</td>\n",
       "      <td>15</td>\n",
       "      <td>48</td>\n",
       "    </tr>\n",
       "  </tbody>\n",
       "</table>\n",
       "</div>"
      ],
      "text/plain": [
       "                      Inscritos  Pagos  Deferidas  Homologadas\n",
       "Curso                                                         \n",
       "PROCESSOS GERENCIAIS         91     33         15           48"
      ]
     },
     "execution_count": 221,
     "metadata": {},
     "output_type": "execute_result"
    }
   ],
   "source": [
    "dfg2023CursoX = dfg2023Curso.set_index('Curso')\n",
    "dfg2023CursoX"
   ]
  },
  {
   "cell_type": "code",
   "execution_count": 197,
   "id": "8453e4a0",
   "metadata": {},
   "outputs": [
    {
     "data": {
      "text/html": [
       "<div>\n",
       "<style scoped>\n",
       "    .dataframe tbody tr th:only-of-type {\n",
       "        vertical-align: middle;\n",
       "    }\n",
       "\n",
       "    .dataframe tbody tr th {\n",
       "        vertical-align: top;\n",
       "    }\n",
       "\n",
       "    .dataframe thead th {\n",
       "        text-align: right;\n",
       "    }\n",
       "</style>\n",
       "<table border=\"1\" class=\"dataframe\">\n",
       "  <thead>\n",
       "    <tr style=\"text-align: right;\">\n",
       "      <th></th>\n",
       "      <th>Inscritos</th>\n",
       "      <th>Pagos</th>\n",
       "      <th>Deferidas</th>\n",
       "      <th>Homologadas</th>\n",
       "    </tr>\n",
       "    <tr>\n",
       "      <th>Curso</th>\n",
       "      <th></th>\n",
       "      <th></th>\n",
       "      <th></th>\n",
       "      <th></th>\n",
       "    </tr>\n",
       "  </thead>\n",
       "  <tbody>\n",
       "    <tr>\n",
       "      <th>ADMINISTRAÇÃO</th>\n",
       "      <td>339</td>\n",
       "      <td>247</td>\n",
       "      <td>28</td>\n",
       "      <td>275</td>\n",
       "    </tr>\n",
       "    <tr>\n",
       "      <th>INFORMÁTICA</th>\n",
       "      <td>291</td>\n",
       "      <td>205</td>\n",
       "      <td>26</td>\n",
       "      <td>231</td>\n",
       "    </tr>\n",
       "  </tbody>\n",
       "</table>\n",
       "</div>"
      ],
      "text/plain": [
       "               Inscritos  Pagos  Deferidas  Homologadas\n",
       "Curso                                                  \n",
       "ADMINISTRAÇÃO        339    247         28          275\n",
       "INFORMÁTICA          291    205         26          231"
      ]
     },
     "execution_count": 197,
     "metadata": {},
     "output_type": "execute_result"
    }
   ],
   "source": [
    "dfg2024CursoX = dfg2024Curso[~dfg2024Curso['Curso'].isin(filtrar) ].set_index('Curso')\n",
    "dfg2024CursoX"
   ]
  },
  {
   "cell_type": "code",
   "execution_count": 198,
   "id": "9430db8a",
   "metadata": {},
   "outputs": [
    {
     "data": {
      "text/html": [
       "<div>\n",
       "<style scoped>\n",
       "    .dataframe tbody tr th:only-of-type {\n",
       "        vertical-align: middle;\n",
       "    }\n",
       "\n",
       "    .dataframe tbody tr th {\n",
       "        vertical-align: top;\n",
       "    }\n",
       "\n",
       "    .dataframe thead th {\n",
       "        text-align: right;\n",
       "    }\n",
       "</style>\n",
       "<table border=\"1\" class=\"dataframe\">\n",
       "  <thead>\n",
       "    <tr style=\"text-align: right;\">\n",
       "      <th></th>\n",
       "      <th>Inscritos</th>\n",
       "      <th>Pagos</th>\n",
       "      <th>Deferidas</th>\n",
       "      <th>Homologadas</th>\n",
       "    </tr>\n",
       "    <tr>\n",
       "      <th>Curso</th>\n",
       "      <th></th>\n",
       "      <th></th>\n",
       "      <th></th>\n",
       "      <th></th>\n",
       "    </tr>\n",
       "  </thead>\n",
       "  <tbody>\n",
       "    <tr>\n",
       "      <th>ADMINISTRAÇÃO</th>\n",
       "      <td>74</td>\n",
       "      <td>36</td>\n",
       "      <td>14</td>\n",
       "      <td>50</td>\n",
       "    </tr>\n",
       "    <tr>\n",
       "      <th>INFORMÁTICA</th>\n",
       "      <td>-147</td>\n",
       "      <td>-168</td>\n",
       "      <td>-6</td>\n",
       "      <td>-174</td>\n",
       "    </tr>\n",
       "  </tbody>\n",
       "</table>\n",
       "</div>"
      ],
      "text/plain": [
       "               Inscritos  Pagos  Deferidas  Homologadas\n",
       "Curso                                                  \n",
       "ADMINISTRAÇÃO         74     36         14           50\n",
       "INFORMÁTICA         -147   -168         -6         -174"
      ]
     },
     "execution_count": 198,
     "metadata": {},
     "output_type": "execute_result"
    }
   ],
   "source": [
    "dfg2024CursoX - dfg2023CursoX"
   ]
  },
  {
   "cell_type": "code",
   "execution_count": null,
   "id": "b045ccbb",
   "metadata": {},
   "outputs": [],
   "source": []
  }
 ],
 "metadata": {
  "kernelspec": {
   "display_name": "Python 3 (ipykernel)",
   "language": "python",
   "name": "python3"
  },
  "language_info": {
   "codemirror_mode": {
    "name": "ipython",
    "version": 3
   },
   "file_extension": ".py",
   "mimetype": "text/x-python",
   "name": "python",
   "nbconvert_exporter": "python",
   "pygments_lexer": "ipython3",
   "version": "3.8.19"
  }
 },
 "nbformat": 4,
 "nbformat_minor": 5
}
